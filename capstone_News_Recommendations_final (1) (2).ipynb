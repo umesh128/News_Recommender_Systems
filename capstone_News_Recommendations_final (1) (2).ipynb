{
 "cells": [
  {
   "cell_type": "markdown",
   "metadata": {},
   "source": [
    "# Capstone: News Recommendation System"
   ]
  },
  {
   "cell_type": "code",
   "execution_count": null,
   "metadata": {},
   "outputs": [],
   "source": []
  },
  {
   "cell_type": "code",
   "execution_count": 1,
   "metadata": {},
   "outputs": [],
   "source": [
    "import pandas as pd\n",
    "import numpy as np"
   ]
  },
  {
   "cell_type": "code",
   "execution_count": 2,
   "metadata": {},
   "outputs": [
    {
     "name": "stderr",
     "output_type": "stream",
     "text": [
      "/Users/300013714/opt/anaconda3/lib/python3.8/site-packages/IPython/core/interactiveshell.py:3146: DtypeWarning: Columns (4) have mixed types.Specify dtype option on import or set low_memory=False.\n",
      "  has_raised = await self.run_ast_nodes(code_ast.body, cell_name,\n"
     ]
    }
   ],
   "source": [
    "consumer_data = pd.read_csv('data/consumer_transanctions.csv')"
   ]
  },
  {
   "cell_type": "code",
   "execution_count": 3,
   "metadata": {},
   "outputs": [
    {
     "data": {
      "text/html": [
       "<div>\n",
       "<style scoped>\n",
       "    .dataframe tbody tr th:only-of-type {\n",
       "        vertical-align: middle;\n",
       "    }\n",
       "\n",
       "    .dataframe tbody tr th {\n",
       "        vertical-align: top;\n",
       "    }\n",
       "\n",
       "    .dataframe thead th {\n",
       "        text-align: right;\n",
       "    }\n",
       "</style>\n",
       "<table border=\"1\" class=\"dataframe\">\n",
       "  <thead>\n",
       "    <tr style=\"text-align: right;\">\n",
       "      <th></th>\n",
       "      <th>event_timestamp</th>\n",
       "      <th>interaction_type</th>\n",
       "      <th>item_id</th>\n",
       "      <th>consumer_id</th>\n",
       "      <th>consumer_session_id</th>\n",
       "      <th>consumer_device_info</th>\n",
       "      <th>consumer_location</th>\n",
       "      <th>country</th>\n",
       "    </tr>\n",
       "  </thead>\n",
       "  <tbody>\n",
       "    <tr>\n",
       "      <th>0</th>\n",
       "      <td>1465413032</td>\n",
       "      <td>content_watched</td>\n",
       "      <td>-3499919498720038879</td>\n",
       "      <td>-8845298781299428018</td>\n",
       "      <td>1264196770339959068</td>\n",
       "      <td>NaN</td>\n",
       "      <td>NaN</td>\n",
       "      <td>NaN</td>\n",
       "    </tr>\n",
       "    <tr>\n",
       "      <th>1</th>\n",
       "      <td>1465412560</td>\n",
       "      <td>content_watched</td>\n",
       "      <td>8890720798209849691</td>\n",
       "      <td>-1032019229384696495</td>\n",
       "      <td>3621737643587579081</td>\n",
       "      <td>Mozilla/5.0 (Macintosh; Intel Mac OS X 10_11_2...</td>\n",
       "      <td>NY</td>\n",
       "      <td>US</td>\n",
       "    </tr>\n",
       "    <tr>\n",
       "      <th>2</th>\n",
       "      <td>1465416190</td>\n",
       "      <td>content_watched</td>\n",
       "      <td>310515487419366995</td>\n",
       "      <td>-1130272294246983140</td>\n",
       "      <td>2631864456530402479</td>\n",
       "      <td>NaN</td>\n",
       "      <td>NaN</td>\n",
       "      <td>NaN</td>\n",
       "    </tr>\n",
       "    <tr>\n",
       "      <th>3</th>\n",
       "      <td>1465413895</td>\n",
       "      <td>content_followed</td>\n",
       "      <td>310515487419366995</td>\n",
       "      <td>344280948527967603</td>\n",
       "      <td>-3167637573980064150</td>\n",
       "      <td>NaN</td>\n",
       "      <td>NaN</td>\n",
       "      <td>NaN</td>\n",
       "    </tr>\n",
       "    <tr>\n",
       "      <th>4</th>\n",
       "      <td>1465412290</td>\n",
       "      <td>content_watched</td>\n",
       "      <td>-7820640624231356730</td>\n",
       "      <td>-445337111692715325</td>\n",
       "      <td>561148 1178424124714</td>\n",
       "      <td>NaN</td>\n",
       "      <td>NaN</td>\n",
       "      <td>NaN</td>\n",
       "    </tr>\n",
       "  </tbody>\n",
       "</table>\n",
       "</div>"
      ],
      "text/plain": [
       "   event_timestamp  interaction_type              item_id  \\\n",
       "0       1465413032   content_watched -3499919498720038879   \n",
       "1       1465412560   content_watched  8890720798209849691   \n",
       "2       1465416190   content_watched   310515487419366995   \n",
       "3       1465413895  content_followed   310515487419366995   \n",
       "4       1465412290   content_watched -7820640624231356730   \n",
       "\n",
       "           consumer_id   consumer_session_id  \\\n",
       "0 -8845298781299428018   1264196770339959068   \n",
       "1 -1032019229384696495   3621737643587579081   \n",
       "2 -1130272294246983140   2631864456530402479   \n",
       "3   344280948527967603  -3167637573980064150   \n",
       "4  -445337111692715325  561148 1178424124714   \n",
       "\n",
       "                                consumer_device_info consumer_location country  \n",
       "0                                                NaN               NaN     NaN  \n",
       "1  Mozilla/5.0 (Macintosh; Intel Mac OS X 10_11_2...                NY      US  \n",
       "2                                                NaN               NaN     NaN  \n",
       "3                                                NaN               NaN     NaN  \n",
       "4                                                NaN               NaN     NaN  "
      ]
     },
     "execution_count": 3,
     "metadata": {},
     "output_type": "execute_result"
    }
   ],
   "source": [
    "consumer_data.head()"
   ]
  },
  {
   "cell_type": "code",
   "execution_count": null,
   "metadata": {},
   "outputs": [],
   "source": []
  },
  {
   "cell_type": "code",
   "execution_count": null,
   "metadata": {},
   "outputs": [],
   "source": []
  },
  {
   "cell_type": "code",
   "execution_count": 4,
   "metadata": {},
   "outputs": [
    {
     "data": {
      "text/html": [
       "<div>\n",
       "<style scoped>\n",
       "    .dataframe tbody tr th:only-of-type {\n",
       "        vertical-align: middle;\n",
       "    }\n",
       "\n",
       "    .dataframe tbody tr th {\n",
       "        vertical-align: top;\n",
       "    }\n",
       "\n",
       "    .dataframe thead th {\n",
       "        text-align: right;\n",
       "    }\n",
       "</style>\n",
       "<table border=\"1\" class=\"dataframe\">\n",
       "  <thead>\n",
       "    <tr style=\"text-align: right;\">\n",
       "      <th></th>\n",
       "      <th>event_timestamp</th>\n",
       "      <th>item_id</th>\n",
       "      <th>consumer_id</th>\n",
       "    </tr>\n",
       "  </thead>\n",
       "  <tbody>\n",
       "    <tr>\n",
       "      <th>count</th>\n",
       "      <td>7.231200e+04</td>\n",
       "      <td>7.231200e+04</td>\n",
       "      <td>7.231200e+04</td>\n",
       "    </tr>\n",
       "    <tr>\n",
       "      <th>mean</th>\n",
       "      <td>1.470103e+09</td>\n",
       "      <td>-3.033423e+16</td>\n",
       "      <td>1.252026e+16</td>\n",
       "    </tr>\n",
       "    <tr>\n",
       "      <th>std</th>\n",
       "      <td>7.258130e+06</td>\n",
       "      <td>5.344755e+18</td>\n",
       "      <td>5.022333e+18</td>\n",
       "    </tr>\n",
       "    <tr>\n",
       "      <th>min</th>\n",
       "      <td>1.457964e+09</td>\n",
       "      <td>-9.222795e+18</td>\n",
       "      <td>-9.223122e+18</td>\n",
       "    </tr>\n",
       "    <tr>\n",
       "      <th>25%</th>\n",
       "      <td>1.464876e+09</td>\n",
       "      <td>-4.726309e+18</td>\n",
       "      <td>-3.596627e+18</td>\n",
       "    </tr>\n",
       "    <tr>\n",
       "      <th>50%</th>\n",
       "      <td>1.468343e+09</td>\n",
       "      <td>1.893099e+16</td>\n",
       "      <td>-1.088422e+17</td>\n",
       "    </tr>\n",
       "    <tr>\n",
       "      <th>75%</th>\n",
       "      <td>1.474461e+09</td>\n",
       "      <td>4.441012e+18</td>\n",
       "      <td>3.766319e+18</td>\n",
       "    </tr>\n",
       "    <tr>\n",
       "      <th>max</th>\n",
       "      <td>1.488310e+09</td>\n",
       "      <td>9.222265e+18</td>\n",
       "      <td>9.210531e+18</td>\n",
       "    </tr>\n",
       "  </tbody>\n",
       "</table>\n",
       "</div>"
      ],
      "text/plain": [
       "       event_timestamp       item_id   consumer_id\n",
       "count     7.231200e+04  7.231200e+04  7.231200e+04\n",
       "mean      1.470103e+09 -3.033423e+16  1.252026e+16\n",
       "std       7.258130e+06  5.344755e+18  5.022333e+18\n",
       "min       1.457964e+09 -9.222795e+18 -9.223122e+18\n",
       "25%       1.464876e+09 -4.726309e+18 -3.596627e+18\n",
       "50%       1.468343e+09  1.893099e+16 -1.088422e+17\n",
       "75%       1.474461e+09  4.441012e+18  3.766319e+18\n",
       "max       1.488310e+09  9.222265e+18  9.210531e+18"
      ]
     },
     "execution_count": 4,
     "metadata": {},
     "output_type": "execute_result"
    }
   ],
   "source": [
    "consumer_data.describe()"
   ]
  },
  {
   "cell_type": "code",
   "execution_count": 5,
   "metadata": {
    "scrolled": true
   },
   "outputs": [
    {
     "data": {
      "text/plain": [
       "(72312, 8)"
      ]
     },
     "execution_count": 5,
     "metadata": {},
     "output_type": "execute_result"
    }
   ],
   "source": [
    "consumer_data.shape"
   ]
  },
  {
   "cell_type": "code",
   "execution_count": null,
   "metadata": {},
   "outputs": [],
   "source": []
  },
  {
   "cell_type": "code",
   "execution_count": null,
   "metadata": {},
   "outputs": [],
   "source": []
  },
  {
   "cell_type": "code",
   "execution_count": 6,
   "metadata": {},
   "outputs": [
    {
     "data": {
      "text/plain": [
       "content_watched         61086\n",
       "content_liked            5745\n",
       "content_saved            2463\n",
       "content_commented_on     1611\n",
       "content_followed         1407\n",
       "Name: interaction_type, dtype: int64"
      ]
     },
     "execution_count": 6,
     "metadata": {},
     "output_type": "execute_result"
    }
   ],
   "source": [
    "consumer_data['interaction_type'].value_counts()"
   ]
  },
  {
   "cell_type": "code",
   "execution_count": 7,
   "metadata": {},
   "outputs": [
    {
     "data": {
      "text/plain": [
       "72312"
      ]
     },
     "execution_count": 7,
     "metadata": {},
     "output_type": "execute_result"
    }
   ],
   "source": [
    "consumer_data.shape[0]"
   ]
  },
  {
   "cell_type": "code",
   "execution_count": 8,
   "metadata": {},
   "outputs": [
    {
     "data": {
      "text/plain": [
       "content_watched         84.475606\n",
       "content_liked            7.944739\n",
       "content_saved            3.406074\n",
       "content_commented_on     2.227846\n",
       "content_followed         1.945735\n",
       "Name: interaction_type, dtype: float64"
      ]
     },
     "execution_count": 8,
     "metadata": {},
     "output_type": "execute_result"
    }
   ],
   "source": [
    "consumer_data['interaction_type'].value_counts()*100/consumer_data.shape[0]"
   ]
  },
  {
   "cell_type": "code",
   "execution_count": null,
   "metadata": {},
   "outputs": [],
   "source": []
  },
  {
   "cell_type": "code",
   "execution_count": 9,
   "metadata": {},
   "outputs": [],
   "source": [
    "interaction_stats = consumer_data['interaction_type'].value_counts()*100/consumer_data.shape[0]"
   ]
  },
  {
   "cell_type": "code",
   "execution_count": 10,
   "metadata": {},
   "outputs": [
    {
     "data": {
      "text/plain": [
       "content_watched         84.475606\n",
       "content_liked            7.944739\n",
       "content_saved            3.406074\n",
       "content_commented_on     2.227846\n",
       "content_followed         1.945735\n",
       "Name: interaction_type, dtype: float64"
      ]
     },
     "execution_count": 10,
     "metadata": {},
     "output_type": "execute_result"
    }
   ],
   "source": [
    "interaction_stats"
   ]
  },
  {
   "cell_type": "code",
   "execution_count": 11,
   "metadata": {},
   "outputs": [
    {
     "data": {
      "text/plain": [
       "<AxesSubplot:ylabel='interaction_type'>"
      ]
     },
     "execution_count": 11,
     "metadata": {},
     "output_type": "execute_result"
    },
    {
     "data": {
      "image/png": "[encoded data removed]",
      "text/plain": [
       "<Figure size 432x288 with 1 Axes>"
      ]
     },
     "metadata": {},
     "output_type": "display_data"
    }
   ],
   "source": [
    "interaction_stats.plot.pie()"
   ]
  },
  {
   "cell_type": "code",
   "execution_count": null,
   "metadata": {},
   "outputs": [],
   "source": []
  },
  {
   "cell_type": "code",
   "execution_count": null,
   "metadata": {},
   "outputs": [],
   "source": []
  },
  {
   "cell_type": "code",
   "execution_count": null,
   "metadata": {},
   "outputs": [],
   "source": []
  },
  {
   "cell_type": "markdown",
   "metadata": {},
   "source": [
    "# EDA"
   ]
  },
  {
   "cell_type": "code",
   "execution_count": 12,
   "metadata": {},
   "outputs": [
    {
     "data": {
      "text/plain": [
       "2987"
      ]
     },
     "execution_count": 12,
     "metadata": {},
     "output_type": "execute_result"
    }
   ],
   "source": [
    "consumer_data['item_id'].nunique()"
   ]
  },
  {
   "cell_type": "code",
   "execution_count": null,
   "metadata": {},
   "outputs": [],
   "source": []
  },
  {
   "cell_type": "code",
   "execution_count": 13,
   "metadata": {},
   "outputs": [
    {
     "data": {
      "text/plain": [
       "1895"
      ]
     },
     "execution_count": 13,
     "metadata": {},
     "output_type": "execute_result"
    }
   ],
   "source": [
    "consumer_data['consumer_id'].nunique()"
   ]
  },
  {
   "cell_type": "code",
   "execution_count": null,
   "metadata": {},
   "outputs": [],
   "source": []
  },
  {
   "cell_type": "code",
   "execution_count": 14,
   "metadata": {},
   "outputs": [
    {
     "data": {
      "text/plain": [
       "28909"
      ]
     },
     "execution_count": 14,
     "metadata": {},
     "output_type": "execute_result"
    }
   ],
   "source": [
    "consumer_data['consumer_session_id'].nunique()"
   ]
  },
  {
   "cell_type": "code",
   "execution_count": 15,
   "metadata": {},
   "outputs": [
    {
     "data": {
      "text/plain": [
       "(72312, 8)"
      ]
     },
     "execution_count": 15,
     "metadata": {},
     "output_type": "execute_result"
    }
   ],
   "source": [
    "consumer_data.shape"
   ]
  },
  {
   "cell_type": "code",
   "execution_count": null,
   "metadata": {},
   "outputs": [],
   "source": []
  },
  {
   "cell_type": "code",
   "execution_count": 16,
   "metadata": {},
   "outputs": [
    {
     "data": {
      "text/plain": [
       "Android - Native Mobile App                                                                                                                         6761\n",
       "Mozilla/5.0 (Windows NT 10.0; WOW64) AppleWebKit/537.36 (KHTML, like Gecko) Chrome/51.0.2704.103 Safari/537.36                                      1823\n",
       "Mozilla/5.0 (Windows NT 10.0; WOW64) AppleWebKit/537.36 (KHTML, like Gecko) Chrome/52.0.2743.116 Safari/537.36                                      1146\n",
       "Mozilla/5.0 (X11; Linux x86_64) AppleWebKit/537.36 (KHTML, like Gecko) Chrome/52.0.2743.116 Safari/537.36                                           1076\n",
       "Mozilla/5.0 (Windows NT 6.1; WOW64) AppleWebKit/537.36 (KHTML, like Gecko) Chrome/51.0.2704.103 Safari/537.36                                       1059\n",
       "                                                                                                                                                    ... \n",
       "Mozilla/5.0 (Windows NT 6.1; Win64; x64) AppleWebKit/537.36 (KHTML, like Gecko) Chrome/53.0.2781.0 Safari/537.36                                       1\n",
       "Mozilla/5.0 (Windows NT 6.1; WOW64) AppleWebKit/537.36 (KHTML, like Gecko) Chrome/53.0.2785.113 Safari/537.36                                          1\n",
       "Mozilla/5.0 (iPhone; CPU iPhone OS 10_0_2 like Mac OS X) AppleWebKit/601.1 (KHTML, like Gecko) CriOS/53.0.2785.109 Mobile/14A456 Safari/601.1.46       1\n",
       "Mozilla/5.0 (X11; Linux x86_64) AppleWebKit/537.36 (KHTML, like Gecko) Chrome/49.0.2623.105 Safari/537.36                                              1\n",
       "Mozilla/5.0 (Macintosh; Intel Mac OS X 10_11_4) AppleWebKit/537.36 (KHTML, like Gecko) Chrome/50.0.2661.57 Safari/537.36                               1\n",
       "Name: consumer_device_info, Length: 1090, dtype: int64"
      ]
     },
     "execution_count": 16,
     "metadata": {},
     "output_type": "execute_result"
    }
   ],
   "source": [
    "consumer_data['consumer_device_info'].value_counts()"
   ]
  },
  {
   "cell_type": "code",
   "execution_count": null,
   "metadata": {},
   "outputs": [],
   "source": []
  },
  {
   "cell_type": "code",
   "execution_count": 17,
   "metadata": {},
   "outputs": [
    {
     "data": {
      "text/plain": [
       "Android - Native Mobile App                                                                                                                         9.349762\n",
       "Mozilla/5.0 (Windows NT 10.0; WOW64) AppleWebKit/537.36 (KHTML, like Gecko) Chrome/51.0.2704.103 Safari/537.36                                      2.521020\n",
       "Mozilla/5.0 (Windows NT 10.0; WOW64) AppleWebKit/537.36 (KHTML, like Gecko) Chrome/52.0.2743.116 Safari/537.36                                      1.584799\n",
       "Mozilla/5.0 (X11; Linux x86_64) AppleWebKit/537.36 (KHTML, like Gecko) Chrome/52.0.2743.116 Safari/537.36                                           1.487996\n",
       "Mozilla/5.0 (Windows NT 6.1; WOW64) AppleWebKit/537.36 (KHTML, like Gecko) Chrome/51.0.2704.103 Safari/537.36                                       1.464487\n",
       "                                                                                                                                                      ...   \n",
       "Mozilla/5.0 (Windows NT 6.1; Win64; x64) AppleWebKit/537.36 (KHTML, like Gecko) Chrome/53.0.2781.0 Safari/537.36                                    0.001383\n",
       "Mozilla/5.0 (Windows NT 6.1; WOW64) AppleWebKit/537.36 (KHTML, like Gecko) Chrome/53.0.2785.113 Safari/537.36                                       0.001383\n",
       "Mozilla/5.0 (iPhone; CPU iPhone OS 10_0_2 like Mac OS X) AppleWebKit/601.1 (KHTML, like Gecko) CriOS/53.0.2785.109 Mobile/14A456 Safari/601.1.46    0.001383\n",
       "Mozilla/5.0 (X11; Linux x86_64) AppleWebKit/537.36 (KHTML, like Gecko) Chrome/49.0.2623.105 Safari/537.36                                           0.001383\n",
       "Mozilla/5.0 (Macintosh; Intel Mac OS X 10_11_4) AppleWebKit/537.36 (KHTML, like Gecko) Chrome/50.0.2661.57 Safari/537.36                            0.001383\n",
       "Name: consumer_device_info, Length: 1090, dtype: float64"
      ]
     },
     "execution_count": 17,
     "metadata": {},
     "output_type": "execute_result"
    }
   ],
   "source": [
    "consumer_data['consumer_device_info'].value_counts()*100/consumer_data.shape[0]"
   ]
  },
  {
   "cell_type": "code",
   "execution_count": null,
   "metadata": {},
   "outputs": [],
   "source": []
  },
  {
   "cell_type": "code",
   "execution_count": 18,
   "metadata": {},
   "outputs": [
    {
     "data": {
      "text/plain": [
       "SP    55.542649\n",
       "MG    14.145647\n",
       "NY     1.738301\n",
       "TX     1.276413\n",
       "GA     1.258436\n",
       "        ...    \n",
       "CE     0.001383\n",
       "OR     0.001383\n",
       "33     0.001383\n",
       "MN     0.001383\n",
       "MT     0.001383\n",
       "Name: consumer_location, Length: 71, dtype: float64"
      ]
     },
     "execution_count": 18,
     "metadata": {},
     "output_type": "execute_result"
    }
   ],
   "source": [
    "consumer_data['consumer_location'].value_counts()*100/consumer_data.shape[0]"
   ]
  },
  {
   "cell_type": "code",
   "execution_count": null,
   "metadata": {},
   "outputs": [],
   "source": []
  },
  {
   "cell_type": "code",
   "execution_count": 19,
   "metadata": {},
   "outputs": [],
   "source": [
    "location_stats = consumer_data['consumer_location'].value_counts()*100/consumer_data.shape[0]"
   ]
  },
  {
   "cell_type": "code",
   "execution_count": 20,
   "metadata": {},
   "outputs": [
    {
     "data": {
      "text/plain": [
       "<AxesSubplot:ylabel='consumer_location'>"
      ]
     },
     "execution_count": 20,
     "metadata": {},
     "output_type": "execute_result"
    },
    {
     "data": {
      "image/png": "[encoded data removed]",
      "text/plain": [
       "<Figure size 432x288 with 1 Axes>"
      ]
     },
     "metadata": {},
     "output_type": "display_data"
    }
   ],
   "source": [
    "location_stats.plot.pie()"
   ]
  },
  {
   "cell_type": "code",
   "execution_count": null,
   "metadata": {},
   "outputs": [],
   "source": []
  },
  {
   "cell_type": "code",
   "execution_count": 21,
   "metadata": {},
   "outputs": [
    {
     "data": {
      "text/plain": [
       "BR    71.075340\n",
       "US     6.440148\n",
       "KR     0.330512\n",
       "CA     0.312535\n",
       "JP     0.199137\n",
       "AU     0.190840\n",
       "GB     0.030424\n",
       "DE     0.026275\n",
       "IE     0.019361\n",
       "IS     0.017978\n",
       "SG     0.015212\n",
       "ZZ     0.015212\n",
       "AR     0.009680\n",
       "PT     0.008297\n",
       "ES     0.004149\n",
       "IN     0.004149\n",
       "MY     0.002766\n",
       "IT     0.002766\n",
       "CL     0.001383\n",
       "CO     0.001383\n",
       "NL     0.001383\n",
       "CH     0.001383\n",
       "CN     0.001383\n",
       "Name: country, dtype: float64"
      ]
     },
     "execution_count": 21,
     "metadata": {},
     "output_type": "execute_result"
    }
   ],
   "source": [
    "consumer_data['country'].value_counts()*100/consumer_data.shape[0]"
   ]
  },
  {
   "cell_type": "code",
   "execution_count": 22,
   "metadata": {},
   "outputs": [],
   "source": [
    "country_stats = consumer_data['country'].value_counts()*100/consumer_data.shape[0]"
   ]
  },
  {
   "cell_type": "code",
   "execution_count": 23,
   "metadata": {},
   "outputs": [
    {
     "data": {
      "text/plain": [
       "<AxesSubplot:>"
      ]
     },
     "execution_count": 23,
     "metadata": {},
     "output_type": "execute_result"
    },
    {
     "data": {
      "image/png": "[encoded data removed]",
      "text/plain": [
       "<Figure size 432x288 with 1 Axes>"
      ]
     },
     "metadata": {
      "needs_background": "light"
     },
     "output_type": "display_data"
    }
   ],
   "source": [
    "country_stats.plot()"
   ]
  },
  {
   "cell_type": "code",
   "execution_count": 24,
   "metadata": {},
   "outputs": [
    {
     "data": {
      "text/plain": [
       "<AxesSubplot:ylabel='country'>"
      ]
     },
     "execution_count": 24,
     "metadata": {},
     "output_type": "execute_result"
    },
    {
     "data": {
      "image/png": "[encoded data removed]",
      "text/plain": [
       "<Figure size 432x288 with 1 Axes>"
      ]
     },
     "metadata": {},
     "output_type": "display_data"
    }
   ],
   "source": [
    "country_stats.plot.pie()"
   ]
  },
  {
   "cell_type": "code",
   "execution_count": 25,
   "metadata": {},
   "outputs": [
    {
     "data": {
      "text/plain": [
       "Index(['event_timestamp', 'interaction_type', 'item_id', 'consumer_id',\n",
       "       'consumer_session_id', 'consumer_device_info', 'consumer_location',\n",
       "       'country'],\n",
       "      dtype='object')"
      ]
     },
     "execution_count": 25,
     "metadata": {},
     "output_type": "execute_result"
    }
   ],
   "source": [
    "consumer_data.columns"
   ]
  },
  {
   "cell_type": "code",
   "execution_count": null,
   "metadata": {},
   "outputs": [],
   "source": []
  },
  {
   "cell_type": "code",
   "execution_count": 26,
   "metadata": {},
   "outputs": [],
   "source": [
    "consumer_data = consumer_data[['consumer_id', 'item_id', 'interaction_type']]"
   ]
  },
  {
   "cell_type": "code",
   "execution_count": 27,
   "metadata": {},
   "outputs": [
    {
     "data": {
      "text/html": [
       "<div>\n",
       "<style scoped>\n",
       "    .dataframe tbody tr th:only-of-type {\n",
       "        vertical-align: middle;\n",
       "    }\n",
       "\n",
       "    .dataframe tbody tr th {\n",
       "        vertical-align: top;\n",
       "    }\n",
       "\n",
       "    .dataframe thead th {\n",
       "        text-align: right;\n",
       "    }\n",
       "</style>\n",
       "<table border=\"1\" class=\"dataframe\">\n",
       "  <thead>\n",
       "    <tr style=\"text-align: right;\">\n",
       "      <th></th>\n",
       "      <th>consumer_id</th>\n",
       "      <th>item_id</th>\n",
       "      <th>interaction_type</th>\n",
       "    </tr>\n",
       "  </thead>\n",
       "  <tbody>\n",
       "    <tr>\n",
       "      <th>0</th>\n",
       "      <td>-8845298781299428018</td>\n",
       "      <td>-3499919498720038879</td>\n",
       "      <td>content_watched</td>\n",
       "    </tr>\n",
       "    <tr>\n",
       "      <th>1</th>\n",
       "      <td>-1032019229384696495</td>\n",
       "      <td>8890720798209849691</td>\n",
       "      <td>content_watched</td>\n",
       "    </tr>\n",
       "    <tr>\n",
       "      <th>2</th>\n",
       "      <td>-1130272294246983140</td>\n",
       "      <td>310515487419366995</td>\n",
       "      <td>content_watched</td>\n",
       "    </tr>\n",
       "    <tr>\n",
       "      <th>3</th>\n",
       "      <td>344280948527967603</td>\n",
       "      <td>310515487419366995</td>\n",
       "      <td>content_followed</td>\n",
       "    </tr>\n",
       "    <tr>\n",
       "      <th>4</th>\n",
       "      <td>-445337111692715325</td>\n",
       "      <td>-7820640624231356730</td>\n",
       "      <td>content_watched</td>\n",
       "    </tr>\n",
       "    <tr>\n",
       "      <th>...</th>\n",
       "      <td>...</td>\n",
       "      <td>...</td>\n",
       "      <td>...</td>\n",
       "    </tr>\n",
       "    <tr>\n",
       "      <th>72307</th>\n",
       "      <td>-9016528795238256703</td>\n",
       "      <td>-6590819806697898649</td>\n",
       "      <td>content_liked</td>\n",
       "    </tr>\n",
       "    <tr>\n",
       "      <th>72308</th>\n",
       "      <td>102305705598210278</td>\n",
       "      <td>-5813211845057621660</td>\n",
       "      <td>content_watched</td>\n",
       "    </tr>\n",
       "    <tr>\n",
       "      <th>72309</th>\n",
       "      <td>-9196668942822132778</td>\n",
       "      <td>-1999468346928419252</td>\n",
       "      <td>content_watched</td>\n",
       "    </tr>\n",
       "    <tr>\n",
       "      <th>72310</th>\n",
       "      <td>-9016528795238256703</td>\n",
       "      <td>-6590819806697898649</td>\n",
       "      <td>content_watched</td>\n",
       "    </tr>\n",
       "    <tr>\n",
       "      <th>72311</th>\n",
       "      <td>5713241217519616260</td>\n",
       "      <td>5669290109546991426</td>\n",
       "      <td>content_watched</td>\n",
       "    </tr>\n",
       "  </tbody>\n",
       "</table>\n",
       "<p>72312 rows × 3 columns</p>\n",
       "</div>"
      ],
      "text/plain": [
       "               consumer_id              item_id  interaction_type\n",
       "0     -8845298781299428018 -3499919498720038879   content_watched\n",
       "1     -1032019229384696495  8890720798209849691   content_watched\n",
       "2     -1130272294246983140   310515487419366995   content_watched\n",
       "3       344280948527967603   310515487419366995  content_followed\n",
       "4      -445337111692715325 -7820640624231356730   content_watched\n",
       "...                    ...                  ...               ...\n",
       "72307 -9016528795238256703 -6590819806697898649     content_liked\n",
       "72308   102305705598210278 -5813211845057621660   content_watched\n",
       "72309 -9196668942822132778 -1999468346928419252   content_watched\n",
       "72310 -9016528795238256703 -6590819806697898649   content_watched\n",
       "72311  5713241217519616260  5669290109546991426   content_watched\n",
       "\n",
       "[72312 rows x 3 columns]"
      ]
     },
     "execution_count": 27,
     "metadata": {},
     "output_type": "execute_result"
    }
   ],
   "source": [
    "consumer_data"
   ]
  },
  {
   "cell_type": "code",
   "execution_count": null,
   "metadata": {},
   "outputs": [],
   "source": []
  },
  {
   "cell_type": "code",
   "execution_count": 28,
   "metadata": {},
   "outputs": [
    {
     "data": {
      "text/plain": [
       "content_watched         84.475606\n",
       "content_liked            7.944739\n",
       "content_saved            3.406074\n",
       "content_commented_on     2.227846\n",
       "content_followed         1.945735\n",
       "Name: interaction_type, dtype: float64"
      ]
     },
     "execution_count": 28,
     "metadata": {},
     "output_type": "execute_result"
    }
   ],
   "source": [
    "consumer_data['interaction_type'].value_counts()*100/consumer_data.shape[0]"
   ]
  },
  {
   "cell_type": "code",
   "execution_count": 29,
   "metadata": {},
   "outputs": [],
   "source": [
    "interactions = consumer_data['interaction_type'].value_counts()*100/consumer_data.shape[0]"
   ]
  },
  {
   "cell_type": "code",
   "execution_count": 30,
   "metadata": {},
   "outputs": [
    {
     "data": {
      "text/plain": [
       "pandas.core.series.Series"
      ]
     },
     "execution_count": 30,
     "metadata": {},
     "output_type": "execute_result"
    }
   ],
   "source": [
    "type(interactions)"
   ]
  },
  {
   "cell_type": "code",
   "execution_count": null,
   "metadata": {},
   "outputs": [],
   "source": []
  },
  {
   "cell_type": "code",
   "execution_count": 31,
   "metadata": {},
   "outputs": [],
   "source": [
    "interactions_df = pd.DataFrame(interactions)"
   ]
  },
  {
   "cell_type": "code",
   "execution_count": 32,
   "metadata": {},
   "outputs": [
    {
     "data": {
      "text/html": [
       "<div>\n",
       "<style scoped>\n",
       "    .dataframe tbody tr th:only-of-type {\n",
       "        vertical-align: middle;\n",
       "    }\n",
       "\n",
       "    .dataframe tbody tr th {\n",
       "        vertical-align: top;\n",
       "    }\n",
       "\n",
       "    .dataframe thead th {\n",
       "        text-align: right;\n",
       "    }\n",
       "</style>\n",
       "<table border=\"1\" class=\"dataframe\">\n",
       "  <thead>\n",
       "    <tr style=\"text-align: right;\">\n",
       "      <th></th>\n",
       "      <th>interaction_type</th>\n",
       "    </tr>\n",
       "  </thead>\n",
       "  <tbody>\n",
       "    <tr>\n",
       "      <th>content_watched</th>\n",
       "      <td>84.475606</td>\n",
       "    </tr>\n",
       "    <tr>\n",
       "      <th>content_liked</th>\n",
       "      <td>7.944739</td>\n",
       "    </tr>\n",
       "    <tr>\n",
       "      <th>content_saved</th>\n",
       "      <td>3.406074</td>\n",
       "    </tr>\n",
       "    <tr>\n",
       "      <th>content_commented_on</th>\n",
       "      <td>2.227846</td>\n",
       "    </tr>\n",
       "    <tr>\n",
       "      <th>content_followed</th>\n",
       "      <td>1.945735</td>\n",
       "    </tr>\n",
       "  </tbody>\n",
       "</table>\n",
       "</div>"
      ],
      "text/plain": [
       "                      interaction_type\n",
       "content_watched              84.475606\n",
       "content_liked                 7.944739\n",
       "content_saved                 3.406074\n",
       "content_commented_on          2.227846\n",
       "content_followed              1.945735"
      ]
     },
     "execution_count": 32,
     "metadata": {},
     "output_type": "execute_result"
    }
   ],
   "source": [
    "interactions_df"
   ]
  },
  {
   "cell_type": "code",
   "execution_count": 33,
   "metadata": {},
   "outputs": [],
   "source": [
    "interactions_df.reset_index(inplace=True)"
   ]
  },
  {
   "cell_type": "code",
   "execution_count": 34,
   "metadata": {},
   "outputs": [
    {
     "data": {
      "text/html": [
       "<div>\n",
       "<style scoped>\n",
       "    .dataframe tbody tr th:only-of-type {\n",
       "        vertical-align: middle;\n",
       "    }\n",
       "\n",
       "    .dataframe tbody tr th {\n",
       "        vertical-align: top;\n",
       "    }\n",
       "\n",
       "    .dataframe thead th {\n",
       "        text-align: right;\n",
       "    }\n",
       "</style>\n",
       "<table border=\"1\" class=\"dataframe\">\n",
       "  <thead>\n",
       "    <tr style=\"text-align: right;\">\n",
       "      <th></th>\n",
       "      <th>index</th>\n",
       "      <th>interaction_type</th>\n",
       "    </tr>\n",
       "  </thead>\n",
       "  <tbody>\n",
       "    <tr>\n",
       "      <th>0</th>\n",
       "      <td>content_watched</td>\n",
       "      <td>84.475606</td>\n",
       "    </tr>\n",
       "    <tr>\n",
       "      <th>1</th>\n",
       "      <td>content_liked</td>\n",
       "      <td>7.944739</td>\n",
       "    </tr>\n",
       "    <tr>\n",
       "      <th>2</th>\n",
       "      <td>content_saved</td>\n",
       "      <td>3.406074</td>\n",
       "    </tr>\n",
       "    <tr>\n",
       "      <th>3</th>\n",
       "      <td>content_commented_on</td>\n",
       "      <td>2.227846</td>\n",
       "    </tr>\n",
       "    <tr>\n",
       "      <th>4</th>\n",
       "      <td>content_followed</td>\n",
       "      <td>1.945735</td>\n",
       "    </tr>\n",
       "  </tbody>\n",
       "</table>\n",
       "</div>"
      ],
      "text/plain": [
       "                  index  interaction_type\n",
       "0       content_watched         84.475606\n",
       "1         content_liked          7.944739\n",
       "2         content_saved          3.406074\n",
       "3  content_commented_on          2.227846\n",
       "4      content_followed          1.945735"
      ]
     },
     "execution_count": 34,
     "metadata": {},
     "output_type": "execute_result"
    }
   ],
   "source": [
    "interactions_df"
   ]
  },
  {
   "cell_type": "code",
   "execution_count": 35,
   "metadata": {},
   "outputs": [],
   "source": [
    "interactions_df.columns = ['interaction_type', 'value']"
   ]
  },
  {
   "cell_type": "code",
   "execution_count": 36,
   "metadata": {},
   "outputs": [
    {
     "data": {
      "text/html": [
       "<div>\n",
       "<style scoped>\n",
       "    .dataframe tbody tr th:only-of-type {\n",
       "        vertical-align: middle;\n",
       "    }\n",
       "\n",
       "    .dataframe tbody tr th {\n",
       "        vertical-align: top;\n",
       "    }\n",
       "\n",
       "    .dataframe thead th {\n",
       "        text-align: right;\n",
       "    }\n",
       "</style>\n",
       "<table border=\"1\" class=\"dataframe\">\n",
       "  <thead>\n",
       "    <tr style=\"text-align: right;\">\n",
       "      <th></th>\n",
       "      <th>interaction_type</th>\n",
       "      <th>value</th>\n",
       "    </tr>\n",
       "  </thead>\n",
       "  <tbody>\n",
       "    <tr>\n",
       "      <th>0</th>\n",
       "      <td>content_watched</td>\n",
       "      <td>84.475606</td>\n",
       "    </tr>\n",
       "    <tr>\n",
       "      <th>1</th>\n",
       "      <td>content_liked</td>\n",
       "      <td>7.944739</td>\n",
       "    </tr>\n",
       "    <tr>\n",
       "      <th>2</th>\n",
       "      <td>content_saved</td>\n",
       "      <td>3.406074</td>\n",
       "    </tr>\n",
       "    <tr>\n",
       "      <th>3</th>\n",
       "      <td>content_commented_on</td>\n",
       "      <td>2.227846</td>\n",
       "    </tr>\n",
       "    <tr>\n",
       "      <th>4</th>\n",
       "      <td>content_followed</td>\n",
       "      <td>1.945735</td>\n",
       "    </tr>\n",
       "  </tbody>\n",
       "</table>\n",
       "</div>"
      ],
      "text/plain": [
       "       interaction_type      value\n",
       "0       content_watched  84.475606\n",
       "1         content_liked   7.944739\n",
       "2         content_saved   3.406074\n",
       "3  content_commented_on   2.227846\n",
       "4      content_followed   1.945735"
      ]
     },
     "execution_count": 36,
     "metadata": {},
     "output_type": "execute_result"
    }
   ],
   "source": [
    "interactions_df"
   ]
  },
  {
   "cell_type": "code",
   "execution_count": null,
   "metadata": {},
   "outputs": [],
   "source": []
  },
  {
   "cell_type": "markdown",
   "metadata": {},
   "source": [
    "### Imputing Rating Value"
   ]
  },
  {
   "cell_type": "markdown",
   "metadata": {},
   "source": [
    "Youtube Example: 10:1 proportional, rating = 1/10 = 0.1 watch, 1/1 = 1 like"
   ]
  },
  {
   "cell_type": "markdown",
   "metadata": {},
   "source": [
    "100/84, 100/7.9, 100/3.4, 100/2.2, 100/1.9"
   ]
  },
  {
   "cell_type": "code",
   "execution_count": 38,
   "metadata": {},
   "outputs": [],
   "source": [
    "interactions_df['rating'] = 100/interactions_df['value']"
   ]
  },
  {
   "cell_type": "code",
   "execution_count": 39,
   "metadata": {},
   "outputs": [
    {
     "data": {
      "text/html": [
       "<div>\n",
       "<style scoped>\n",
       "    .dataframe tbody tr th:only-of-type {\n",
       "        vertical-align: middle;\n",
       "    }\n",
       "\n",
       "    .dataframe tbody tr th {\n",
       "        vertical-align: top;\n",
       "    }\n",
       "\n",
       "    .dataframe thead th {\n",
       "        text-align: right;\n",
       "    }\n",
       "</style>\n",
       "<table border=\"1\" class=\"dataframe\">\n",
       "  <thead>\n",
       "    <tr style=\"text-align: right;\">\n",
       "      <th></th>\n",
       "      <th>interaction_type</th>\n",
       "      <th>value</th>\n",
       "      <th>rating</th>\n",
       "    </tr>\n",
       "  </thead>\n",
       "  <tbody>\n",
       "    <tr>\n",
       "      <th>0</th>\n",
       "      <td>content_watched</td>\n",
       "      <td>84.475606</td>\n",
       "      <td>1.183774</td>\n",
       "    </tr>\n",
       "    <tr>\n",
       "      <th>1</th>\n",
       "      <td>content_liked</td>\n",
       "      <td>7.944739</td>\n",
       "      <td>12.586945</td>\n",
       "    </tr>\n",
       "    <tr>\n",
       "      <th>2</th>\n",
       "      <td>content_saved</td>\n",
       "      <td>3.406074</td>\n",
       "      <td>29.359318</td>\n",
       "    </tr>\n",
       "    <tr>\n",
       "      <th>3</th>\n",
       "      <td>content_commented_on</td>\n",
       "      <td>2.227846</td>\n",
       "      <td>44.886406</td>\n",
       "    </tr>\n",
       "    <tr>\n",
       "      <th>4</th>\n",
       "      <td>content_followed</td>\n",
       "      <td>1.945735</td>\n",
       "      <td>51.394456</td>\n",
       "    </tr>\n",
       "  </tbody>\n",
       "</table>\n",
       "</div>"
      ],
      "text/plain": [
       "       interaction_type      value     rating\n",
       "0       content_watched  84.475606   1.183774\n",
       "1         content_liked   7.944739  12.586945\n",
       "2         content_saved   3.406074  29.359318\n",
       "3  content_commented_on   2.227846  44.886406\n",
       "4      content_followed   1.945735  51.394456"
      ]
     },
     "execution_count": 39,
     "metadata": {},
     "output_type": "execute_result"
    }
   ],
   "source": [
    "interactions_df"
   ]
  },
  {
   "cell_type": "code",
   "execution_count": null,
   "metadata": {},
   "outputs": [],
   "source": []
  },
  {
   "cell_type": "code",
   "execution_count": 40,
   "metadata": {},
   "outputs": [],
   "source": [
    "consumer_rating = pd.merge(consumer_data, interactions_df, on='interaction_type', how='left')"
   ]
  },
  {
   "cell_type": "code",
   "execution_count": 41,
   "metadata": {},
   "outputs": [
    {
     "data": {
      "text/html": [
       "<div>\n",
       "<style scoped>\n",
       "    .dataframe tbody tr th:only-of-type {\n",
       "        vertical-align: middle;\n",
       "    }\n",
       "\n",
       "    .dataframe tbody tr th {\n",
       "        vertical-align: top;\n",
       "    }\n",
       "\n",
       "    .dataframe thead th {\n",
       "        text-align: right;\n",
       "    }\n",
       "</style>\n",
       "<table border=\"1\" class=\"dataframe\">\n",
       "  <thead>\n",
       "    <tr style=\"text-align: right;\">\n",
       "      <th></th>\n",
       "      <th>consumer_id</th>\n",
       "      <th>item_id</th>\n",
       "      <th>interaction_type</th>\n",
       "      <th>value</th>\n",
       "      <th>rating</th>\n",
       "    </tr>\n",
       "  </thead>\n",
       "  <tbody>\n",
       "    <tr>\n",
       "      <th>0</th>\n",
       "      <td>-8845298781299428018</td>\n",
       "      <td>-3499919498720038879</td>\n",
       "      <td>content_watched</td>\n",
       "      <td>84.475606</td>\n",
       "      <td>1.183774</td>\n",
       "    </tr>\n",
       "    <tr>\n",
       "      <th>1</th>\n",
       "      <td>-1032019229384696495</td>\n",
       "      <td>8890720798209849691</td>\n",
       "      <td>content_watched</td>\n",
       "      <td>84.475606</td>\n",
       "      <td>1.183774</td>\n",
       "    </tr>\n",
       "    <tr>\n",
       "      <th>2</th>\n",
       "      <td>-1130272294246983140</td>\n",
       "      <td>310515487419366995</td>\n",
       "      <td>content_watched</td>\n",
       "      <td>84.475606</td>\n",
       "      <td>1.183774</td>\n",
       "    </tr>\n",
       "    <tr>\n",
       "      <th>3</th>\n",
       "      <td>344280948527967603</td>\n",
       "      <td>310515487419366995</td>\n",
       "      <td>content_followed</td>\n",
       "      <td>1.945735</td>\n",
       "      <td>51.394456</td>\n",
       "    </tr>\n",
       "    <tr>\n",
       "      <th>4</th>\n",
       "      <td>-445337111692715325</td>\n",
       "      <td>-7820640624231356730</td>\n",
       "      <td>content_watched</td>\n",
       "      <td>84.475606</td>\n",
       "      <td>1.183774</td>\n",
       "    </tr>\n",
       "  </tbody>\n",
       "</table>\n",
       "</div>"
      ],
      "text/plain": [
       "           consumer_id              item_id  interaction_type      value  \\\n",
       "0 -8845298781299428018 -3499919498720038879   content_watched  84.475606   \n",
       "1 -1032019229384696495  8890720798209849691   content_watched  84.475606   \n",
       "2 -1130272294246983140   310515487419366995   content_watched  84.475606   \n",
       "3   344280948527967603   310515487419366995  content_followed   1.945735   \n",
       "4  -445337111692715325 -7820640624231356730   content_watched  84.475606   \n",
       "\n",
       "      rating  \n",
       "0   1.183774  \n",
       "1   1.183774  \n",
       "2   1.183774  \n",
       "3  51.394456  \n",
       "4   1.183774  "
      ]
     },
     "execution_count": 41,
     "metadata": {},
     "output_type": "execute_result"
    }
   ],
   "source": [
    "consumer_rating.head()"
   ]
  },
  {
   "cell_type": "code",
   "execution_count": null,
   "metadata": {},
   "outputs": [],
   "source": []
  },
  {
   "cell_type": "code",
   "execution_count": 42,
   "metadata": {},
   "outputs": [],
   "source": [
    "consumer_rating = consumer_rating[['consumer_id', 'item_id', 'rating']]"
   ]
  },
  {
   "cell_type": "code",
   "execution_count": 43,
   "metadata": {},
   "outputs": [
    {
     "data": {
      "text/html": [
       "<div>\n",
       "<style scoped>\n",
       "    .dataframe tbody tr th:only-of-type {\n",
       "        vertical-align: middle;\n",
       "    }\n",
       "\n",
       "    .dataframe tbody tr th {\n",
       "        vertical-align: top;\n",
       "    }\n",
       "\n",
       "    .dataframe thead th {\n",
       "        text-align: right;\n",
       "    }\n",
       "</style>\n",
       "<table border=\"1\" class=\"dataframe\">\n",
       "  <thead>\n",
       "    <tr style=\"text-align: right;\">\n",
       "      <th></th>\n",
       "      <th>consumer_id</th>\n",
       "      <th>item_id</th>\n",
       "      <th>rating</th>\n",
       "    </tr>\n",
       "  </thead>\n",
       "  <tbody>\n",
       "    <tr>\n",
       "      <th>0</th>\n",
       "      <td>-8845298781299428018</td>\n",
       "      <td>-3499919498720038879</td>\n",
       "      <td>1.183774</td>\n",
       "    </tr>\n",
       "    <tr>\n",
       "      <th>1</th>\n",
       "      <td>-1032019229384696495</td>\n",
       "      <td>8890720798209849691</td>\n",
       "      <td>1.183774</td>\n",
       "    </tr>\n",
       "    <tr>\n",
       "      <th>2</th>\n",
       "      <td>-1130272294246983140</td>\n",
       "      <td>310515487419366995</td>\n",
       "      <td>1.183774</td>\n",
       "    </tr>\n",
       "    <tr>\n",
       "      <th>3</th>\n",
       "      <td>344280948527967603</td>\n",
       "      <td>310515487419366995</td>\n",
       "      <td>51.394456</td>\n",
       "    </tr>\n",
       "    <tr>\n",
       "      <th>4</th>\n",
       "      <td>-445337111692715325</td>\n",
       "      <td>-7820640624231356730</td>\n",
       "      <td>1.183774</td>\n",
       "    </tr>\n",
       "  </tbody>\n",
       "</table>\n",
       "</div>"
      ],
      "text/plain": [
       "           consumer_id              item_id     rating\n",
       "0 -8845298781299428018 -3499919498720038879   1.183774\n",
       "1 -1032019229384696495  8890720798209849691   1.183774\n",
       "2 -1130272294246983140   310515487419366995   1.183774\n",
       "3   344280948527967603   310515487419366995  51.394456\n",
       "4  -445337111692715325 -7820640624231356730   1.183774"
      ]
     },
     "execution_count": 43,
     "metadata": {},
     "output_type": "execute_result"
    }
   ],
   "source": [
    "consumer_rating.head()"
   ]
  },
  {
   "cell_type": "code",
   "execution_count": 45,
   "metadata": {},
   "outputs": [
    {
     "data": {
      "text/plain": [
       "(72312, 3)"
      ]
     },
     "execution_count": 45,
     "metadata": {},
     "output_type": "execute_result"
    }
   ],
   "source": [
    "consumer_rating.shape"
   ]
  },
  {
   "cell_type": "code",
   "execution_count": null,
   "metadata": {},
   "outputs": [],
   "source": []
  },
  {
   "cell_type": "code",
   "execution_count": 46,
   "metadata": {},
   "outputs": [],
   "source": [
    "consumer_rating.drop_duplicates(inplace=True)"
   ]
  },
  {
   "cell_type": "code",
   "execution_count": 47,
   "metadata": {},
   "outputs": [
    {
     "data": {
      "text/plain": [
       "(50938, 3)"
      ]
     },
     "execution_count": 47,
     "metadata": {},
     "output_type": "execute_result"
    }
   ],
   "source": [
    "consumer_rating.shape"
   ]
  },
  {
   "cell_type": "code",
   "execution_count": 48,
   "metadata": {},
   "outputs": [
    {
     "data": {
      "text/html": [
       "<div>\n",
       "<style scoped>\n",
       "    .dataframe tbody tr th:only-of-type {\n",
       "        vertical-align: middle;\n",
       "    }\n",
       "\n",
       "    .dataframe tbody tr th {\n",
       "        vertical-align: top;\n",
       "    }\n",
       "\n",
       "    .dataframe thead th {\n",
       "        text-align: right;\n",
       "    }\n",
       "</style>\n",
       "<table border=\"1\" class=\"dataframe\">\n",
       "  <thead>\n",
       "    <tr style=\"text-align: right;\">\n",
       "      <th></th>\n",
       "      <th>consumer_id</th>\n",
       "      <th>item_id</th>\n",
       "      <th>rating</th>\n",
       "    </tr>\n",
       "  </thead>\n",
       "  <tbody>\n",
       "    <tr>\n",
       "      <th>0</th>\n",
       "      <td>-8845298781299428018</td>\n",
       "      <td>-3499919498720038879</td>\n",
       "      <td>1.183774</td>\n",
       "    </tr>\n",
       "    <tr>\n",
       "      <th>1</th>\n",
       "      <td>-1032019229384696495</td>\n",
       "      <td>8890720798209849691</td>\n",
       "      <td>1.183774</td>\n",
       "    </tr>\n",
       "    <tr>\n",
       "      <th>2</th>\n",
       "      <td>-1130272294246983140</td>\n",
       "      <td>310515487419366995</td>\n",
       "      <td>1.183774</td>\n",
       "    </tr>\n",
       "    <tr>\n",
       "      <th>3</th>\n",
       "      <td>344280948527967603</td>\n",
       "      <td>310515487419366995</td>\n",
       "      <td>51.394456</td>\n",
       "    </tr>\n",
       "    <tr>\n",
       "      <th>4</th>\n",
       "      <td>-445337111692715325</td>\n",
       "      <td>-7820640624231356730</td>\n",
       "      <td>1.183774</td>\n",
       "    </tr>\n",
       "  </tbody>\n",
       "</table>\n",
       "</div>"
      ],
      "text/plain": [
       "           consumer_id              item_id     rating\n",
       "0 -8845298781299428018 -3499919498720038879   1.183774\n",
       "1 -1032019229384696495  8890720798209849691   1.183774\n",
       "2 -1130272294246983140   310515487419366995   1.183774\n",
       "3   344280948527967603   310515487419366995  51.394456\n",
       "4  -445337111692715325 -7820640624231356730   1.183774"
      ]
     },
     "execution_count": 48,
     "metadata": {},
     "output_type": "execute_result"
    }
   ],
   "source": [
    "consumer_rating.head()"
   ]
  },
  {
   "cell_type": "code",
   "execution_count": null,
   "metadata": {},
   "outputs": [],
   "source": []
  },
  {
   "cell_type": "code",
   "execution_count": 49,
   "metadata": {},
   "outputs": [
    {
     "data": {
      "text/plain": [
       "1895"
      ]
     },
     "execution_count": 49,
     "metadata": {},
     "output_type": "execute_result"
    }
   ],
   "source": [
    "consumer_rating['consumer_id'].nunique()"
   ]
  },
  {
   "cell_type": "code",
   "execution_count": null,
   "metadata": {},
   "outputs": [],
   "source": []
  },
  {
   "cell_type": "code",
   "execution_count": 50,
   "metadata": {},
   "outputs": [
    {
     "data": {
      "text/plain": [
       "2987"
      ]
     },
     "execution_count": 50,
     "metadata": {},
     "output_type": "execute_result"
    }
   ],
   "source": [
    "consumer_rating['item_id'].nunique()"
   ]
  },
  {
   "cell_type": "code",
   "execution_count": null,
   "metadata": {},
   "outputs": [],
   "source": []
  },
  {
   "cell_type": "code",
   "execution_count": 51,
   "metadata": {},
   "outputs": [],
   "source": [
    "consumer_rating['news_id'] = consumer_rating.groupby(['item_id']).ngroup()"
   ]
  },
  {
   "cell_type": "code",
   "execution_count": 53,
   "metadata": {},
   "outputs": [
    {
     "data": {
      "text/html": [
       "<div>\n",
       "<style scoped>\n",
       "    .dataframe tbody tr th:only-of-type {\n",
       "        vertical-align: middle;\n",
       "    }\n",
       "\n",
       "    .dataframe tbody tr th {\n",
       "        vertical-align: top;\n",
       "    }\n",
       "\n",
       "    .dataframe thead th {\n",
       "        text-align: right;\n",
       "    }\n",
       "</style>\n",
       "<table border=\"1\" class=\"dataframe\">\n",
       "  <thead>\n",
       "    <tr style=\"text-align: right;\">\n",
       "      <th></th>\n",
       "      <th>consumer_id</th>\n",
       "      <th>item_id</th>\n",
       "      <th>rating</th>\n",
       "      <th>news_id</th>\n",
       "    </tr>\n",
       "  </thead>\n",
       "  <tbody>\n",
       "    <tr>\n",
       "      <th>0</th>\n",
       "      <td>-8845298781299428018</td>\n",
       "      <td>-3499919498720038879</td>\n",
       "      <td>1.183774</td>\n",
       "      <td>933</td>\n",
       "    </tr>\n",
       "    <tr>\n",
       "      <th>1</th>\n",
       "      <td>-1032019229384696495</td>\n",
       "      <td>8890720798209849691</td>\n",
       "      <td>1.183774</td>\n",
       "      <td>2933</td>\n",
       "    </tr>\n",
       "    <tr>\n",
       "      <th>2</th>\n",
       "      <td>-1130272294246983140</td>\n",
       "      <td>310515487419366995</td>\n",
       "      <td>1.183774</td>\n",
       "      <td>1537</td>\n",
       "    </tr>\n",
       "    <tr>\n",
       "      <th>3</th>\n",
       "      <td>344280948527967603</td>\n",
       "      <td>310515487419366995</td>\n",
       "      <td>51.394456</td>\n",
       "      <td>1537</td>\n",
       "    </tr>\n",
       "    <tr>\n",
       "      <th>4</th>\n",
       "      <td>-445337111692715325</td>\n",
       "      <td>-7820640624231356730</td>\n",
       "      <td>1.183774</td>\n",
       "      <td>246</td>\n",
       "    </tr>\n",
       "  </tbody>\n",
       "</table>\n",
       "</div>"
      ],
      "text/plain": [
       "           consumer_id              item_id     rating  news_id\n",
       "0 -8845298781299428018 -3499919498720038879   1.183774      933\n",
       "1 -1032019229384696495  8890720798209849691   1.183774     2933\n",
       "2 -1130272294246983140   310515487419366995   1.183774     1537\n",
       "3   344280948527967603   310515487419366995  51.394456     1537\n",
       "4  -445337111692715325 -7820640624231356730   1.183774      246"
      ]
     },
     "execution_count": 53,
     "metadata": {},
     "output_type": "execute_result"
    }
   ],
   "source": [
    "consumer_rating.head()"
   ]
  },
  {
   "cell_type": "code",
   "execution_count": null,
   "metadata": {},
   "outputs": [],
   "source": []
  },
  {
   "cell_type": "code",
   "execution_count": 54,
   "metadata": {},
   "outputs": [],
   "source": [
    "consumer_rating['user_id'] = consumer_rating.groupby(['consumer_id']).ngroup()"
   ]
  },
  {
   "cell_type": "code",
   "execution_count": 55,
   "metadata": {},
   "outputs": [
    {
     "data": {
      "text/html": [
       "<div>\n",
       "<style scoped>\n",
       "    .dataframe tbody tr th:only-of-type {\n",
       "        vertical-align: middle;\n",
       "    }\n",
       "\n",
       "    .dataframe tbody tr th {\n",
       "        vertical-align: top;\n",
       "    }\n",
       "\n",
       "    .dataframe thead th {\n",
       "        text-align: right;\n",
       "    }\n",
       "</style>\n",
       "<table border=\"1\" class=\"dataframe\">\n",
       "  <thead>\n",
       "    <tr style=\"text-align: right;\">\n",
       "      <th></th>\n",
       "      <th>consumer_id</th>\n",
       "      <th>item_id</th>\n",
       "      <th>rating</th>\n",
       "      <th>news_id</th>\n",
       "      <th>user_id</th>\n",
       "    </tr>\n",
       "  </thead>\n",
       "  <tbody>\n",
       "    <tr>\n",
       "      <th>0</th>\n",
       "      <td>-8845298781299428018</td>\n",
       "      <td>-3499919498720038879</td>\n",
       "      <td>1.183774</td>\n",
       "      <td>933</td>\n",
       "      <td>33</td>\n",
       "    </tr>\n",
       "    <tr>\n",
       "      <th>1</th>\n",
       "      <td>-1032019229384696495</td>\n",
       "      <td>8890720798209849691</td>\n",
       "      <td>1.183774</td>\n",
       "      <td>2933</td>\n",
       "      <td>831</td>\n",
       "    </tr>\n",
       "    <tr>\n",
       "      <th>2</th>\n",
       "      <td>-1130272294246983140</td>\n",
       "      <td>310515487419366995</td>\n",
       "      <td>1.183774</td>\n",
       "      <td>1537</td>\n",
       "      <td>826</td>\n",
       "    </tr>\n",
       "    <tr>\n",
       "      <th>3</th>\n",
       "      <td>344280948527967603</td>\n",
       "      <td>310515487419366995</td>\n",
       "      <td>51.394456</td>\n",
       "      <td>1537</td>\n",
       "      <td>974</td>\n",
       "    </tr>\n",
       "    <tr>\n",
       "      <th>4</th>\n",
       "      <td>-445337111692715325</td>\n",
       "      <td>-7820640624231356730</td>\n",
       "      <td>1.183774</td>\n",
       "      <td>246</td>\n",
       "      <td>887</td>\n",
       "    </tr>\n",
       "  </tbody>\n",
       "</table>\n",
       "</div>"
      ],
      "text/plain": [
       "           consumer_id              item_id     rating  news_id  user_id\n",
       "0 -8845298781299428018 -3499919498720038879   1.183774      933       33\n",
       "1 -1032019229384696495  8890720798209849691   1.183774     2933      831\n",
       "2 -1130272294246983140   310515487419366995   1.183774     1537      826\n",
       "3   344280948527967603   310515487419366995  51.394456     1537      974\n",
       "4  -445337111692715325 -7820640624231356730   1.183774      246      887"
      ]
     },
     "execution_count": 55,
     "metadata": {},
     "output_type": "execute_result"
    }
   ],
   "source": [
    "consumer_rating.head()"
   ]
  },
  {
   "cell_type": "code",
   "execution_count": 56,
   "metadata": {},
   "outputs": [
    {
     "data": {
      "text/plain": [
       "(50938, 5)"
      ]
     },
     "execution_count": 56,
     "metadata": {},
     "output_type": "execute_result"
    }
   ],
   "source": [
    "consumer_rating.shape"
   ]
  },
  {
   "cell_type": "code",
   "execution_count": null,
   "metadata": {},
   "outputs": [],
   "source": []
  },
  {
   "cell_type": "code",
   "execution_count": 57,
   "metadata": {},
   "outputs": [],
   "source": [
    "ratings = consumer_rating[['user_id','news_id','rating']]"
   ]
  },
  {
   "cell_type": "code",
   "execution_count": 59,
   "metadata": {},
   "outputs": [
    {
     "data": {
      "text/html": [
       "<div>\n",
       "<style scoped>\n",
       "    .dataframe tbody tr th:only-of-type {\n",
       "        vertical-align: middle;\n",
       "    }\n",
       "\n",
       "    .dataframe tbody tr th {\n",
       "        vertical-align: top;\n",
       "    }\n",
       "\n",
       "    .dataframe thead th {\n",
       "        text-align: right;\n",
       "    }\n",
       "</style>\n",
       "<table border=\"1\" class=\"dataframe\">\n",
       "  <thead>\n",
       "    <tr style=\"text-align: right;\">\n",
       "      <th></th>\n",
       "      <th>user_id</th>\n",
       "      <th>news_id</th>\n",
       "      <th>rating</th>\n",
       "    </tr>\n",
       "  </thead>\n",
       "  <tbody>\n",
       "    <tr>\n",
       "      <th>0</th>\n",
       "      <td>33</td>\n",
       "      <td>933</td>\n",
       "      <td>1.183774</td>\n",
       "    </tr>\n",
       "    <tr>\n",
       "      <th>1</th>\n",
       "      <td>831</td>\n",
       "      <td>2933</td>\n",
       "      <td>1.183774</td>\n",
       "    </tr>\n",
       "    <tr>\n",
       "      <th>2</th>\n",
       "      <td>826</td>\n",
       "      <td>1537</td>\n",
       "      <td>1.183774</td>\n",
       "    </tr>\n",
       "    <tr>\n",
       "      <th>3</th>\n",
       "      <td>974</td>\n",
       "      <td>1537</td>\n",
       "      <td>51.394456</td>\n",
       "    </tr>\n",
       "    <tr>\n",
       "      <th>4</th>\n",
       "      <td>887</td>\n",
       "      <td>246</td>\n",
       "      <td>1.183774</td>\n",
       "    </tr>\n",
       "  </tbody>\n",
       "</table>\n",
       "</div>"
      ],
      "text/plain": [
       "   user_id  news_id     rating\n",
       "0       33      933   1.183774\n",
       "1      831     2933   1.183774\n",
       "2      826     1537   1.183774\n",
       "3      974     1537  51.394456\n",
       "4      887      246   1.183774"
      ]
     },
     "execution_count": 59,
     "metadata": {},
     "output_type": "execute_result"
    }
   ],
   "source": [
    "ratings.head()"
   ]
  },
  {
   "cell_type": "code",
   "execution_count": null,
   "metadata": {},
   "outputs": [],
   "source": []
  },
  {
   "cell_type": "code",
   "execution_count": 60,
   "metadata": {},
   "outputs": [],
   "source": [
    "n_users = ratings.user_id.nunique()\n",
    "\n",
    "\n",
    "n_items = ratings.news_id.nunique()"
   ]
  },
  {
   "cell_type": "code",
   "execution_count": 61,
   "metadata": {},
   "outputs": [
    {
     "data": {
      "text/plain": [
       "1895"
      ]
     },
     "execution_count": 61,
     "metadata": {},
     "output_type": "execute_result"
    }
   ],
   "source": [
    "n_users"
   ]
  },
  {
   "cell_type": "code",
   "execution_count": 62,
   "metadata": {},
   "outputs": [
    {
     "data": {
      "text/plain": [
       "2987"
      ]
     },
     "execution_count": 62,
     "metadata": {},
     "output_type": "execute_result"
    }
   ],
   "source": [
    "n_items"
   ]
  },
  {
   "cell_type": "code",
   "execution_count": null,
   "metadata": {},
   "outputs": [],
   "source": []
  },
  {
   "cell_type": "code",
   "execution_count": null,
   "metadata": {},
   "outputs": [],
   "source": []
  },
  {
   "cell_type": "code",
   "execution_count": null,
   "metadata": {},
   "outputs": [],
   "source": []
  },
  {
   "cell_type": "markdown",
   "metadata": {},
   "source": [
    "# Collaborative Filtering: User Based"
   ]
  },
  {
   "cell_type": "markdown",
   "metadata": {},
   "source": [
    "## Create empty data matrix: user*news"
   ]
  },
  {
   "cell_type": "code",
   "execution_count": 63,
   "metadata": {},
   "outputs": [],
   "source": [
    "data_matrix = np.zeros((n_users, n_items))\n"
   ]
  },
  {
   "cell_type": "code",
   "execution_count": 64,
   "metadata": {},
   "outputs": [
    {
     "data": {
      "text/plain": [
       "array([[0., 0., 0., ..., 0., 0., 0.],\n",
       "       [0., 0., 0., ..., 0., 0., 0.],\n",
       "       [0., 0., 0., ..., 0., 0., 0.],\n",
       "       ...,\n",
       "       [0., 0., 0., ..., 0., 0., 0.],\n",
       "       [0., 0., 0., ..., 0., 0., 0.],\n",
       "       [0., 0., 0., ..., 0., 0., 0.]])"
      ]
     },
     "execution_count": 64,
     "metadata": {},
     "output_type": "execute_result"
    }
   ],
   "source": [
    "data_matrix"
   ]
  },
  {
   "cell_type": "code",
   "execution_count": 65,
   "metadata": {},
   "outputs": [
    {
     "data": {
      "text/plain": [
       "(1895, 2987)"
      ]
     },
     "execution_count": 65,
     "metadata": {},
     "output_type": "execute_result"
    }
   ],
   "source": [
    "data_matrix.shape   "
   ]
  },
  {
   "cell_type": "code",
   "execution_count": null,
   "metadata": {},
   "outputs": [],
   "source": []
  },
  {
   "cell_type": "code",
   "execution_count": null,
   "metadata": {},
   "outputs": [],
   "source": []
  },
  {
   "cell_type": "markdown",
   "metadata": {},
   "source": [
    "## Fill user*news matrix with rating values"
   ]
  },
  {
   "cell_type": "code",
   "execution_count": 66,
   "metadata": {},
   "outputs": [],
   "source": [
    "for line in ratings.itertuples():\n",
    "    data_matrix[line[1]-1, line[2]-1] = line[3]\n"
   ]
  },
  {
   "cell_type": "code",
   "execution_count": 67,
   "metadata": {},
   "outputs": [
    {
     "data": {
      "text/plain": [
       "array([[0.       , 0.       , 0.       , ..., 0.       , 0.       ,\n",
       "        0.       ],\n",
       "       [1.1837737, 0.       , 0.       , ..., 0.       , 0.       ,\n",
       "        0.       ],\n",
       "       [0.       , 0.       , 0.       , ..., 0.       , 0.       ,\n",
       "        0.       ],\n",
       "       ...,\n",
       "       [0.       , 0.       , 0.       , ..., 0.       , 0.       ,\n",
       "        0.       ],\n",
       "       [0.       , 0.       , 0.       , ..., 0.       , 0.       ,\n",
       "        0.       ],\n",
       "       [0.       , 0.       , 0.       , ..., 0.       , 0.       ,\n",
       "        0.       ]])"
      ]
     },
     "execution_count": 67,
     "metadata": {},
     "output_type": "execute_result"
    }
   ],
   "source": [
    "data_matrix"
   ]
  },
  {
   "cell_type": "code",
   "execution_count": 68,
   "metadata": {},
   "outputs": [
    {
     "data": {
      "text/plain": [
       "(1895, 2987)"
      ]
     },
     "execution_count": 68,
     "metadata": {},
     "output_type": "execute_result"
    }
   ],
   "source": [
    "data_matrix.shape"
   ]
  },
  {
   "cell_type": "code",
   "execution_count": null,
   "metadata": {},
   "outputs": [],
   "source": []
  },
  {
   "cell_type": "code",
   "execution_count": null,
   "metadata": {},
   "outputs": [],
   "source": []
  },
  {
   "cell_type": "markdown",
   "metadata": {},
   "source": [
    "# Pairwise Distance"
   ]
  },
  {
   "cell_type": "code",
   "execution_count": 69,
   "metadata": {},
   "outputs": [],
   "source": [
    "from sklearn.metrics.pairwise import pairwise_distances "
   ]
  },
  {
   "cell_type": "code",
   "execution_count": 70,
   "metadata": {},
   "outputs": [],
   "source": [
    "\n",
    "user_similarity = 1 - pairwise_distances(data_matrix, metric='cosine')\n"
   ]
  },
  {
   "cell_type": "code",
   "execution_count": null,
   "metadata": {},
   "outputs": [],
   "source": []
  },
  {
   "cell_type": "code",
   "execution_count": 71,
   "metadata": {},
   "outputs": [
    {
     "data": {
      "text/plain": [
       "array([[1.        , 0.02414109, 0.        , ..., 0.        , 0.        ,\n",
       "        0.        ],\n",
       "       [0.02414109, 1.        , 0.        , ..., 0.15340145, 0.        ,\n",
       "        0.        ],\n",
       "       [0.        , 0.        , 1.        , ..., 0.        , 0.        ,\n",
       "        0.04842681],\n",
       "       ...,\n",
       "       [0.        , 0.15340145, 0.        , ..., 1.        , 0.        ,\n",
       "        0.02146289],\n",
       "       [0.        , 0.        , 0.        , ..., 0.        , 1.        ,\n",
       "        0.00385051],\n",
       "       [0.        , 0.        , 0.04842681, ..., 0.02146289, 0.00385051,\n",
       "        1.        ]])"
      ]
     },
     "execution_count": 71,
     "metadata": {},
     "output_type": "execute_result"
    }
   ],
   "source": [
    "user_similarity"
   ]
  },
  {
   "cell_type": "code",
   "execution_count": 72,
   "metadata": {
    "scrolled": true
   },
   "outputs": [
    {
     "data": {
      "text/plain": [
       "(1895, 1895)"
      ]
     },
     "execution_count": 72,
     "metadata": {},
     "output_type": "execute_result"
    }
   ],
   "source": [
    "user_similarity.shape"
   ]
  },
  {
   "cell_type": "code",
   "execution_count": null,
   "metadata": {},
   "outputs": [],
   "source": []
  },
  {
   "cell_type": "code",
   "execution_count": null,
   "metadata": {},
   "outputs": [],
   "source": []
  },
  {
   "cell_type": "markdown",
   "metadata": {},
   "source": [
    "## Dot product of Data Matrix with Item similarity"
   ]
  },
  {
   "cell_type": "code",
   "execution_count": 73,
   "metadata": {},
   "outputs": [],
   "source": [
    "item_prediction = np.dot(user_similarity, data_matrix)"
   ]
  },
  {
   "cell_type": "code",
   "execution_count": 74,
   "metadata": {},
   "outputs": [
    {
     "data": {
      "text/plain": [
       "array([[1.83459373e+00, 3.68777315e-02, 1.14255017e+00, ...,\n",
       "        8.82600585e-02, 9.35840161e-02, 6.60403747e-01],\n",
       "       [2.93685864e+00, 1.61545239e-01, 3.05004144e+00, ...,\n",
       "        2.89711573e-01, 1.15790479e-01, 1.62356806e-01],\n",
       "       [7.93356422e-03, 2.44448697e-02, 3.08748166e-01, ...,\n",
       "        2.17376280e-01, 7.41728538e-03, 6.93588672e+00],\n",
       "       ...,\n",
       "       [6.31590587e-01, 4.28149928e-01, 3.48626730e+00, ...,\n",
       "        4.79898799e-01, 1.30658931e-01, 2.98978192e+00],\n",
       "       [1.18436118e-02, 8.84601250e-01, 4.23208344e+00, ...,\n",
       "        6.61418198e-01, 8.98505071e-02, 5.39549384e-01],\n",
       "       [7.15359786e-02, 7.67765450e-01, 2.69613012e+00, ...,\n",
       "        6.31536138e-01, 1.01985431e-01, 8.08338273e+00]])"
      ]
     },
     "execution_count": 74,
     "metadata": {},
     "output_type": "execute_result"
    }
   ],
   "source": [
    "item_prediction"
   ]
  },
  {
   "cell_type": "code",
   "execution_count": 75,
   "metadata": {},
   "outputs": [
    {
     "data": {
      "text/plain": [
       "(1895, 2987)"
      ]
     },
     "execution_count": 75,
     "metadata": {},
     "output_type": "execute_result"
    }
   ],
   "source": [
    "item_prediction.shape"
   ]
  },
  {
   "cell_type": "code",
   "execution_count": null,
   "metadata": {},
   "outputs": [],
   "source": []
  },
  {
   "cell_type": "code",
   "execution_count": 76,
   "metadata": {},
   "outputs": [],
   "source": [
    "prediction_df = pd.DataFrame(item_prediction)"
   ]
  },
  {
   "cell_type": "code",
   "execution_count": 77,
   "metadata": {},
   "outputs": [
    {
     "data": {
      "text/html": [
       "<div>\n",
       "<style scoped>\n",
       "    .dataframe tbody tr th:only-of-type {\n",
       "        vertical-align: middle;\n",
       "    }\n",
       "\n",
       "    .dataframe tbody tr th {\n",
       "        vertical-align: top;\n",
       "    }\n",
       "\n",
       "    .dataframe thead th {\n",
       "        text-align: right;\n",
       "    }\n",
       "</style>\n",
       "<table border=\"1\" class=\"dataframe\">\n",
       "  <thead>\n",
       "    <tr style=\"text-align: right;\">\n",
       "      <th></th>\n",
       "      <th>0</th>\n",
       "      <th>1</th>\n",
       "      <th>2</th>\n",
       "      <th>3</th>\n",
       "      <th>4</th>\n",
       "      <th>5</th>\n",
       "      <th>6</th>\n",
       "      <th>7</th>\n",
       "      <th>8</th>\n",
       "      <th>9</th>\n",
       "      <th>...</th>\n",
       "      <th>2977</th>\n",
       "      <th>2978</th>\n",
       "      <th>2979</th>\n",
       "      <th>2980</th>\n",
       "      <th>2981</th>\n",
       "      <th>2982</th>\n",
       "      <th>2983</th>\n",
       "      <th>2984</th>\n",
       "      <th>2985</th>\n",
       "      <th>2986</th>\n",
       "    </tr>\n",
       "  </thead>\n",
       "  <tbody>\n",
       "    <tr>\n",
       "      <th>0</th>\n",
       "      <td>1.834594</td>\n",
       "      <td>0.036878</td>\n",
       "      <td>1.142550</td>\n",
       "      <td>0.000000</td>\n",
       "      <td>0.847369</td>\n",
       "      <td>0.000000</td>\n",
       "      <td>0.401340</td>\n",
       "      <td>0.222077</td>\n",
       "      <td>0.000000</td>\n",
       "      <td>0.230748</td>\n",
       "      <td>...</td>\n",
       "      <td>0.324378</td>\n",
       "      <td>0.031024</td>\n",
       "      <td>0.015211</td>\n",
       "      <td>0.257113</td>\n",
       "      <td>0.022023</td>\n",
       "      <td>0.035775</td>\n",
       "      <td>0.018079</td>\n",
       "      <td>0.088260</td>\n",
       "      <td>0.093584</td>\n",
       "      <td>0.660404</td>\n",
       "    </tr>\n",
       "    <tr>\n",
       "      <th>1</th>\n",
       "      <td>2.936859</td>\n",
       "      <td>0.161545</td>\n",
       "      <td>3.050041</td>\n",
       "      <td>0.154531</td>\n",
       "      <td>0.542205</td>\n",
       "      <td>0.000000</td>\n",
       "      <td>1.048162</td>\n",
       "      <td>0.005746</td>\n",
       "      <td>0.212572</td>\n",
       "      <td>0.159210</td>\n",
       "      <td>...</td>\n",
       "      <td>0.256118</td>\n",
       "      <td>0.064520</td>\n",
       "      <td>0.004038</td>\n",
       "      <td>0.119351</td>\n",
       "      <td>0.182423</td>\n",
       "      <td>0.297769</td>\n",
       "      <td>0.295278</td>\n",
       "      <td>0.289712</td>\n",
       "      <td>0.115790</td>\n",
       "      <td>0.162357</td>\n",
       "    </tr>\n",
       "    <tr>\n",
       "      <th>2</th>\n",
       "      <td>0.007934</td>\n",
       "      <td>0.024445</td>\n",
       "      <td>0.308748</td>\n",
       "      <td>0.100403</td>\n",
       "      <td>0.109791</td>\n",
       "      <td>0.000000</td>\n",
       "      <td>0.733792</td>\n",
       "      <td>0.000000</td>\n",
       "      <td>0.111665</td>\n",
       "      <td>0.000000</td>\n",
       "      <td>...</td>\n",
       "      <td>0.369046</td>\n",
       "      <td>0.236964</td>\n",
       "      <td>0.171107</td>\n",
       "      <td>0.044028</td>\n",
       "      <td>0.017402</td>\n",
       "      <td>0.068311</td>\n",
       "      <td>0.176068</td>\n",
       "      <td>0.217376</td>\n",
       "      <td>0.007417</td>\n",
       "      <td>6.935887</td>\n",
       "    </tr>\n",
       "    <tr>\n",
       "      <th>3</th>\n",
       "      <td>0.000000</td>\n",
       "      <td>4.683629</td>\n",
       "      <td>2.543885</td>\n",
       "      <td>0.021112</td>\n",
       "      <td>0.351363</td>\n",
       "      <td>0.003107</td>\n",
       "      <td>0.067228</td>\n",
       "      <td>0.003784</td>\n",
       "      <td>0.003225</td>\n",
       "      <td>0.059524</td>\n",
       "      <td>...</td>\n",
       "      <td>0.057723</td>\n",
       "      <td>0.012797</td>\n",
       "      <td>0.004533</td>\n",
       "      <td>0.613159</td>\n",
       "      <td>0.404978</td>\n",
       "      <td>0.032977</td>\n",
       "      <td>0.009078</td>\n",
       "      <td>0.115796</td>\n",
       "      <td>0.011678</td>\n",
       "      <td>0.196789</td>\n",
       "    </tr>\n",
       "    <tr>\n",
       "      <th>4</th>\n",
       "      <td>0.038039</td>\n",
       "      <td>0.039096</td>\n",
       "      <td>0.707659</td>\n",
       "      <td>0.016496</td>\n",
       "      <td>0.130117</td>\n",
       "      <td>0.000747</td>\n",
       "      <td>0.112174</td>\n",
       "      <td>0.032241</td>\n",
       "      <td>0.328094</td>\n",
       "      <td>0.033122</td>\n",
       "      <td>...</td>\n",
       "      <td>0.032499</td>\n",
       "      <td>0.017534</td>\n",
       "      <td>0.000531</td>\n",
       "      <td>0.143672</td>\n",
       "      <td>0.191928</td>\n",
       "      <td>0.113903</td>\n",
       "      <td>0.302240</td>\n",
       "      <td>0.167244</td>\n",
       "      <td>0.013098</td>\n",
       "      <td>0.040921</td>\n",
       "    </tr>\n",
       "  </tbody>\n",
       "</table>\n",
       "<p>5 rows × 2987 columns</p>\n",
       "</div>"
      ],
      "text/plain": [
       "       0         1         2         3         4         5         6     \\\n",
       "0  1.834594  0.036878  1.142550  0.000000  0.847369  0.000000  0.401340   \n",
       "1  2.936859  0.161545  3.050041  0.154531  0.542205  0.000000  1.048162   \n",
       "2  0.007934  0.024445  0.308748  0.100403  0.109791  0.000000  0.733792   \n",
       "3  0.000000  4.683629  2.543885  0.021112  0.351363  0.003107  0.067228   \n",
       "4  0.038039  0.039096  0.707659  0.016496  0.130117  0.000747  0.112174   \n",
       "\n",
       "       7         8         9     ...      2977      2978      2979      2980  \\\n",
       "0  0.222077  0.000000  0.230748  ...  0.324378  0.031024  0.015211  0.257113   \n",
       "1  0.005746  0.212572  0.159210  ...  0.256118  0.064520  0.004038  0.119351   \n",
       "2  0.000000  0.111665  0.000000  ...  0.369046  0.236964  0.171107  0.044028   \n",
       "3  0.003784  0.003225  0.059524  ...  0.057723  0.012797  0.004533  0.613159   \n",
       "4  0.032241  0.328094  0.033122  ...  0.032499  0.017534  0.000531  0.143672   \n",
       "\n",
       "       2981      2982      2983      2984      2985      2986  \n",
       "0  0.022023  0.035775  0.018079  0.088260  0.093584  0.660404  \n",
       "1  0.182423  0.297769  0.295278  0.289712  0.115790  0.162357  \n",
       "2  0.017402  0.068311  0.176068  0.217376  0.007417  6.935887  \n",
       "3  0.404978  0.032977  0.009078  0.115796  0.011678  0.196789  \n",
       "4  0.191928  0.113903  0.302240  0.167244  0.013098  0.040921  \n",
       "\n",
       "[5 rows x 2987 columns]"
      ]
     },
     "execution_count": 77,
     "metadata": {},
     "output_type": "execute_result"
    }
   ],
   "source": [
    "prediction_df.head()"
   ]
  },
  {
   "cell_type": "code",
   "execution_count": 78,
   "metadata": {},
   "outputs": [
    {
     "data": {
      "text/plain": [
       "(1895, 2987)"
      ]
     },
     "execution_count": 78,
     "metadata": {},
     "output_type": "execute_result"
    }
   ],
   "source": [
    "prediction_df.shape"
   ]
  },
  {
   "cell_type": "code",
   "execution_count": null,
   "metadata": {},
   "outputs": [],
   "source": []
  },
  {
   "cell_type": "code",
   "execution_count": null,
   "metadata": {},
   "outputs": [],
   "source": []
  },
  {
   "cell_type": "markdown",
   "metadata": {},
   "source": [
    "## Get recommended News for user 17"
   ]
  },
  {
   "cell_type": "code",
   "execution_count": 79,
   "metadata": {},
   "outputs": [
    {
     "data": {
      "text/plain": [
       "104     38.437199\n",
       "575     29.147798\n",
       "1540    27.983292\n",
       "1095     7.841106\n",
       "1745     7.756659\n",
       "870      7.742801\n",
       "1632     6.853349\n",
       "2188     6.853349\n",
       "2552     6.853349\n",
       "1495     6.853349\n",
       "Name: 17, dtype: float64"
      ]
     },
     "execution_count": 79,
     "metadata": {},
     "output_type": "execute_result"
    }
   ],
   "source": [
    "prediction_df.iloc[17].sort_values(ascending=False)[:10]"
   ]
  },
  {
   "cell_type": "code",
   "execution_count": null,
   "metadata": {},
   "outputs": [],
   "source": []
  },
  {
   "cell_type": "code",
   "execution_count": 80,
   "metadata": {},
   "outputs": [],
   "source": [
    "recommended_news_df = pd.DataFrame(prediction_df.iloc[17].sort_values(ascending=False))"
   ]
  },
  {
   "cell_type": "code",
   "execution_count": 81,
   "metadata": {},
   "outputs": [
    {
     "data": {
      "text/html": [
       "<div>\n",
       "<style scoped>\n",
       "    .dataframe tbody tr th:only-of-type {\n",
       "        vertical-align: middle;\n",
       "    }\n",
       "\n",
       "    .dataframe tbody tr th {\n",
       "        vertical-align: top;\n",
       "    }\n",
       "\n",
       "    .dataframe thead th {\n",
       "        text-align: right;\n",
       "    }\n",
       "</style>\n",
       "<table border=\"1\" class=\"dataframe\">\n",
       "  <thead>\n",
       "    <tr style=\"text-align: right;\">\n",
       "      <th></th>\n",
       "      <th>17</th>\n",
       "    </tr>\n",
       "  </thead>\n",
       "  <tbody>\n",
       "    <tr>\n",
       "      <th>104</th>\n",
       "      <td>38.437199</td>\n",
       "    </tr>\n",
       "    <tr>\n",
       "      <th>575</th>\n",
       "      <td>29.147798</td>\n",
       "    </tr>\n",
       "    <tr>\n",
       "      <th>1540</th>\n",
       "      <td>27.983292</td>\n",
       "    </tr>\n",
       "    <tr>\n",
       "      <th>1095</th>\n",
       "      <td>7.841106</td>\n",
       "    </tr>\n",
       "    <tr>\n",
       "      <th>1745</th>\n",
       "      <td>7.756659</td>\n",
       "    </tr>\n",
       "  </tbody>\n",
       "</table>\n",
       "</div>"
      ],
      "text/plain": [
       "             17\n",
       "104   38.437199\n",
       "575   29.147798\n",
       "1540  27.983292\n",
       "1095   7.841106\n",
       "1745   7.756659"
      ]
     },
     "execution_count": 81,
     "metadata": {},
     "output_type": "execute_result"
    }
   ],
   "source": [
    "recommended_news_df.head()"
   ]
  },
  {
   "cell_type": "code",
   "execution_count": null,
   "metadata": {},
   "outputs": [],
   "source": []
  },
  {
   "cell_type": "code",
   "execution_count": 82,
   "metadata": {},
   "outputs": [],
   "source": [
    "recommended_news_df.reset_index(inplace=True)"
   ]
  },
  {
   "cell_type": "code",
   "execution_count": 83,
   "metadata": {},
   "outputs": [
    {
     "data": {
      "text/html": [
       "<div>\n",
       "<style scoped>\n",
       "    .dataframe tbody tr th:only-of-type {\n",
       "        vertical-align: middle;\n",
       "    }\n",
       "\n",
       "    .dataframe tbody tr th {\n",
       "        vertical-align: top;\n",
       "    }\n",
       "\n",
       "    .dataframe thead th {\n",
       "        text-align: right;\n",
       "    }\n",
       "</style>\n",
       "<table border=\"1\" class=\"dataframe\">\n",
       "  <thead>\n",
       "    <tr style=\"text-align: right;\">\n",
       "      <th></th>\n",
       "      <th>index</th>\n",
       "      <th>17</th>\n",
       "    </tr>\n",
       "  </thead>\n",
       "  <tbody>\n",
       "    <tr>\n",
       "      <th>0</th>\n",
       "      <td>104</td>\n",
       "      <td>38.437199</td>\n",
       "    </tr>\n",
       "    <tr>\n",
       "      <th>1</th>\n",
       "      <td>575</td>\n",
       "      <td>29.147798</td>\n",
       "    </tr>\n",
       "    <tr>\n",
       "      <th>2</th>\n",
       "      <td>1540</td>\n",
       "      <td>27.983292</td>\n",
       "    </tr>\n",
       "    <tr>\n",
       "      <th>3</th>\n",
       "      <td>1095</td>\n",
       "      <td>7.841106</td>\n",
       "    </tr>\n",
       "    <tr>\n",
       "      <th>4</th>\n",
       "      <td>1745</td>\n",
       "      <td>7.756659</td>\n",
       "    </tr>\n",
       "  </tbody>\n",
       "</table>\n",
       "</div>"
      ],
      "text/plain": [
       "   index         17\n",
       "0    104  38.437199\n",
       "1    575  29.147798\n",
       "2   1540  27.983292\n",
       "3   1095   7.841106\n",
       "4   1745   7.756659"
      ]
     },
     "execution_count": 83,
     "metadata": {},
     "output_type": "execute_result"
    }
   ],
   "source": [
    "recommended_news_df.head()"
   ]
  },
  {
   "cell_type": "code",
   "execution_count": null,
   "metadata": {},
   "outputs": [],
   "source": []
  },
  {
   "cell_type": "code",
   "execution_count": 84,
   "metadata": {},
   "outputs": [],
   "source": [
    "recommended_news_df.columns = ['news_id', 'score']"
   ]
  },
  {
   "cell_type": "code",
   "execution_count": 87,
   "metadata": {},
   "outputs": [
    {
     "data": {
      "text/html": [
       "<div>\n",
       "<style scoped>\n",
       "    .dataframe tbody tr th:only-of-type {\n",
       "        vertical-align: middle;\n",
       "    }\n",
       "\n",
       "    .dataframe tbody tr th {\n",
       "        vertical-align: top;\n",
       "    }\n",
       "\n",
       "    .dataframe thead th {\n",
       "        text-align: right;\n",
       "    }\n",
       "</style>\n",
       "<table border=\"1\" class=\"dataframe\">\n",
       "  <thead>\n",
       "    <tr style=\"text-align: right;\">\n",
       "      <th></th>\n",
       "      <th>news_id</th>\n",
       "      <th>score</th>\n",
       "    </tr>\n",
       "  </thead>\n",
       "  <tbody>\n",
       "    <tr>\n",
       "      <th>0</th>\n",
       "      <td>104</td>\n",
       "      <td>38.437199</td>\n",
       "    </tr>\n",
       "    <tr>\n",
       "      <th>1</th>\n",
       "      <td>575</td>\n",
       "      <td>29.147798</td>\n",
       "    </tr>\n",
       "    <tr>\n",
       "      <th>2</th>\n",
       "      <td>1540</td>\n",
       "      <td>27.983292</td>\n",
       "    </tr>\n",
       "    <tr>\n",
       "      <th>3</th>\n",
       "      <td>1095</td>\n",
       "      <td>7.841106</td>\n",
       "    </tr>\n",
       "    <tr>\n",
       "      <th>4</th>\n",
       "      <td>1745</td>\n",
       "      <td>7.756659</td>\n",
       "    </tr>\n",
       "    <tr>\n",
       "      <th>5</th>\n",
       "      <td>870</td>\n",
       "      <td>7.742801</td>\n",
       "    </tr>\n",
       "    <tr>\n",
       "      <th>6</th>\n",
       "      <td>1632</td>\n",
       "      <td>6.853349</td>\n",
       "    </tr>\n",
       "    <tr>\n",
       "      <th>7</th>\n",
       "      <td>2188</td>\n",
       "      <td>6.853349</td>\n",
       "    </tr>\n",
       "    <tr>\n",
       "      <th>8</th>\n",
       "      <td>2552</td>\n",
       "      <td>6.853349</td>\n",
       "    </tr>\n",
       "    <tr>\n",
       "      <th>9</th>\n",
       "      <td>1495</td>\n",
       "      <td>6.853349</td>\n",
       "    </tr>\n",
       "  </tbody>\n",
       "</table>\n",
       "</div>"
      ],
      "text/plain": [
       "   news_id      score\n",
       "0      104  38.437199\n",
       "1      575  29.147798\n",
       "2     1540  27.983292\n",
       "3     1095   7.841106\n",
       "4     1745   7.756659\n",
       "5      870   7.742801\n",
       "6     1632   6.853349\n",
       "7     2188   6.853349\n",
       "8     2552   6.853349\n",
       "9     1495   6.853349"
      ]
     },
     "execution_count": 87,
     "metadata": {},
     "output_type": "execute_result"
    }
   ],
   "source": [
    "recommended_news_df.head(10)"
   ]
  },
  {
   "cell_type": "code",
   "execution_count": 86,
   "metadata": {},
   "outputs": [
    {
     "data": {
      "text/plain": [
       "(2987, 2)"
      ]
     },
     "execution_count": 86,
     "metadata": {},
     "output_type": "execute_result"
    }
   ],
   "source": [
    "recommended_news_df.shape"
   ]
  },
  {
   "cell_type": "markdown",
   "metadata": {},
   "source": [
    "### merge with news_rating data"
   ]
  },
  {
   "cell_type": "code",
   "execution_count": 88,
   "metadata": {},
   "outputs": [
    {
     "data": {
      "text/html": [
       "<div>\n",
       "<style scoped>\n",
       "    .dataframe tbody tr th:only-of-type {\n",
       "        vertical-align: middle;\n",
       "    }\n",
       "\n",
       "    .dataframe tbody tr th {\n",
       "        vertical-align: top;\n",
       "    }\n",
       "\n",
       "    .dataframe thead th {\n",
       "        text-align: right;\n",
       "    }\n",
       "</style>\n",
       "<table border=\"1\" class=\"dataframe\">\n",
       "  <thead>\n",
       "    <tr style=\"text-align: right;\">\n",
       "      <th></th>\n",
       "      <th>consumer_id</th>\n",
       "      <th>item_id</th>\n",
       "      <th>rating</th>\n",
       "      <th>news_id</th>\n",
       "      <th>user_id</th>\n",
       "    </tr>\n",
       "  </thead>\n",
       "  <tbody>\n",
       "    <tr>\n",
       "      <th>0</th>\n",
       "      <td>-8845298781299428018</td>\n",
       "      <td>-3499919498720038879</td>\n",
       "      <td>1.183774</td>\n",
       "      <td>933</td>\n",
       "      <td>33</td>\n",
       "    </tr>\n",
       "    <tr>\n",
       "      <th>1</th>\n",
       "      <td>-1032019229384696495</td>\n",
       "      <td>8890720798209849691</td>\n",
       "      <td>1.183774</td>\n",
       "      <td>2933</td>\n",
       "      <td>831</td>\n",
       "    </tr>\n",
       "    <tr>\n",
       "      <th>2</th>\n",
       "      <td>-1130272294246983140</td>\n",
       "      <td>310515487419366995</td>\n",
       "      <td>1.183774</td>\n",
       "      <td>1537</td>\n",
       "      <td>826</td>\n",
       "    </tr>\n",
       "    <tr>\n",
       "      <th>3</th>\n",
       "      <td>344280948527967603</td>\n",
       "      <td>310515487419366995</td>\n",
       "      <td>51.394456</td>\n",
       "      <td>1537</td>\n",
       "      <td>974</td>\n",
       "    </tr>\n",
       "    <tr>\n",
       "      <th>4</th>\n",
       "      <td>-445337111692715325</td>\n",
       "      <td>-7820640624231356730</td>\n",
       "      <td>1.183774</td>\n",
       "      <td>246</td>\n",
       "      <td>887</td>\n",
       "    </tr>\n",
       "  </tbody>\n",
       "</table>\n",
       "</div>"
      ],
      "text/plain": [
       "           consumer_id              item_id     rating  news_id  user_id\n",
       "0 -8845298781299428018 -3499919498720038879   1.183774      933       33\n",
       "1 -1032019229384696495  8890720798209849691   1.183774     2933      831\n",
       "2 -1130272294246983140   310515487419366995   1.183774     1537      826\n",
       "3   344280948527967603   310515487419366995  51.394456     1537      974\n",
       "4  -445337111692715325 -7820640624231356730   1.183774      246      887"
      ]
     },
     "execution_count": 88,
     "metadata": {},
     "output_type": "execute_result"
    }
   ],
   "source": [
    "consumer_rating.head()"
   ]
  },
  {
   "cell_type": "code",
   "execution_count": null,
   "metadata": {},
   "outputs": [],
   "source": []
  },
  {
   "cell_type": "code",
   "execution_count": 89,
   "metadata": {},
   "outputs": [],
   "source": [
    "item_mapping = consumer_rating[['item_id', 'news_id']]"
   ]
  },
  {
   "cell_type": "code",
   "execution_count": 90,
   "metadata": {},
   "outputs": [
    {
     "data": {
      "text/html": [
       "<div>\n",
       "<style scoped>\n",
       "    .dataframe tbody tr th:only-of-type {\n",
       "        vertical-align: middle;\n",
       "    }\n",
       "\n",
       "    .dataframe tbody tr th {\n",
       "        vertical-align: top;\n",
       "    }\n",
       "\n",
       "    .dataframe thead th {\n",
       "        text-align: right;\n",
       "    }\n",
       "</style>\n",
       "<table border=\"1\" class=\"dataframe\">\n",
       "  <thead>\n",
       "    <tr style=\"text-align: right;\">\n",
       "      <th></th>\n",
       "      <th>item_id</th>\n",
       "      <th>news_id</th>\n",
       "    </tr>\n",
       "  </thead>\n",
       "  <tbody>\n",
       "    <tr>\n",
       "      <th>0</th>\n",
       "      <td>-3499919498720038879</td>\n",
       "      <td>933</td>\n",
       "    </tr>\n",
       "    <tr>\n",
       "      <th>1</th>\n",
       "      <td>8890720798209849691</td>\n",
       "      <td>2933</td>\n",
       "    </tr>\n",
       "    <tr>\n",
       "      <th>2</th>\n",
       "      <td>310515487419366995</td>\n",
       "      <td>1537</td>\n",
       "    </tr>\n",
       "    <tr>\n",
       "      <th>3</th>\n",
       "      <td>310515487419366995</td>\n",
       "      <td>1537</td>\n",
       "    </tr>\n",
       "    <tr>\n",
       "      <th>4</th>\n",
       "      <td>-7820640624231356730</td>\n",
       "      <td>246</td>\n",
       "    </tr>\n",
       "  </tbody>\n",
       "</table>\n",
       "</div>"
      ],
      "text/plain": [
       "               item_id  news_id\n",
       "0 -3499919498720038879      933\n",
       "1  8890720798209849691     2933\n",
       "2   310515487419366995     1537\n",
       "3   310515487419366995     1537\n",
       "4 -7820640624231356730      246"
      ]
     },
     "execution_count": 90,
     "metadata": {},
     "output_type": "execute_result"
    }
   ],
   "source": [
    "item_mapping.head()"
   ]
  },
  {
   "cell_type": "code",
   "execution_count": 91,
   "metadata": {},
   "outputs": [
    {
     "data": {
      "text/plain": [
       "(50938, 2)"
      ]
     },
     "execution_count": 91,
     "metadata": {},
     "output_type": "execute_result"
    }
   ],
   "source": [
    "item_mapping.shape"
   ]
  },
  {
   "cell_type": "code",
   "execution_count": null,
   "metadata": {},
   "outputs": [],
   "source": []
  },
  {
   "cell_type": "code",
   "execution_count": 92,
   "metadata": {},
   "outputs": [],
   "source": [
    "item_mapping_final = item_mapping.drop_duplicates()"
   ]
  },
  {
   "cell_type": "code",
   "execution_count": 93,
   "metadata": {},
   "outputs": [
    {
     "data": {
      "text/plain": [
       "(2987, 2)"
      ]
     },
     "execution_count": 93,
     "metadata": {},
     "output_type": "execute_result"
    }
   ],
   "source": [
    "item_mapping_final.shape"
   ]
  },
  {
   "cell_type": "code",
   "execution_count": 94,
   "metadata": {},
   "outputs": [
    {
     "data": {
      "text/html": [
       "<div>\n",
       "<style scoped>\n",
       "    .dataframe tbody tr th:only-of-type {\n",
       "        vertical-align: middle;\n",
       "    }\n",
       "\n",
       "    .dataframe tbody tr th {\n",
       "        vertical-align: top;\n",
       "    }\n",
       "\n",
       "    .dataframe thead th {\n",
       "        text-align: right;\n",
       "    }\n",
       "</style>\n",
       "<table border=\"1\" class=\"dataframe\">\n",
       "  <thead>\n",
       "    <tr style=\"text-align: right;\">\n",
       "      <th></th>\n",
       "      <th>item_id</th>\n",
       "      <th>news_id</th>\n",
       "    </tr>\n",
       "  </thead>\n",
       "  <tbody>\n",
       "    <tr>\n",
       "      <th>0</th>\n",
       "      <td>-3499919498720038879</td>\n",
       "      <td>933</td>\n",
       "    </tr>\n",
       "    <tr>\n",
       "      <th>1</th>\n",
       "      <td>8890720798209849691</td>\n",
       "      <td>2933</td>\n",
       "    </tr>\n",
       "    <tr>\n",
       "      <th>2</th>\n",
       "      <td>310515487419366995</td>\n",
       "      <td>1537</td>\n",
       "    </tr>\n",
       "    <tr>\n",
       "      <th>4</th>\n",
       "      <td>-7820640624231356730</td>\n",
       "      <td>246</td>\n",
       "    </tr>\n",
       "    <tr>\n",
       "      <th>6</th>\n",
       "      <td>-8864073373672512525</td>\n",
       "      <td>82</td>\n",
       "    </tr>\n",
       "  </tbody>\n",
       "</table>\n",
       "</div>"
      ],
      "text/plain": [
       "               item_id  news_id\n",
       "0 -3499919498720038879      933\n",
       "1  8890720798209849691     2933\n",
       "2   310515487419366995     1537\n",
       "4 -7820640624231356730      246\n",
       "6 -8864073373672512525       82"
      ]
     },
     "execution_count": 94,
     "metadata": {},
     "output_type": "execute_result"
    }
   ],
   "source": [
    "item_mapping_final.head()"
   ]
  },
  {
   "cell_type": "code",
   "execution_count": null,
   "metadata": {},
   "outputs": [],
   "source": []
  },
  {
   "cell_type": "code",
   "execution_count": null,
   "metadata": {},
   "outputs": [],
   "source": []
  },
  {
   "cell_type": "code",
   "execution_count": 95,
   "metadata": {},
   "outputs": [],
   "source": [
    "recommended_merged = pd.merge(recommended_news_df, item_mapping_final, how='left', on='news_id')"
   ]
  },
  {
   "cell_type": "code",
   "execution_count": 96,
   "metadata": {},
   "outputs": [
    {
     "data": {
      "text/html": [
       "<div>\n",
       "<style scoped>\n",
       "    .dataframe tbody tr th:only-of-type {\n",
       "        vertical-align: middle;\n",
       "    }\n",
       "\n",
       "    .dataframe tbody tr th {\n",
       "        vertical-align: top;\n",
       "    }\n",
       "\n",
       "    .dataframe thead th {\n",
       "        text-align: right;\n",
       "    }\n",
       "</style>\n",
       "<table border=\"1\" class=\"dataframe\">\n",
       "  <thead>\n",
       "    <tr style=\"text-align: right;\">\n",
       "      <th></th>\n",
       "      <th>news_id</th>\n",
       "      <th>score</th>\n",
       "      <th>item_id</th>\n",
       "    </tr>\n",
       "  </thead>\n",
       "  <tbody>\n",
       "    <tr>\n",
       "      <th>0</th>\n",
       "      <td>104</td>\n",
       "      <td>38.437199</td>\n",
       "      <td>-8722526817358894474</td>\n",
       "    </tr>\n",
       "    <tr>\n",
       "      <th>1</th>\n",
       "      <td>575</td>\n",
       "      <td>29.147798</td>\n",
       "      <td>-5750828394349042089</td>\n",
       "    </tr>\n",
       "    <tr>\n",
       "      <th>2</th>\n",
       "      <td>1540</td>\n",
       "      <td>27.983292</td>\n",
       "      <td>335910242745901755</td>\n",
       "    </tr>\n",
       "    <tr>\n",
       "      <th>3</th>\n",
       "      <td>1095</td>\n",
       "      <td>7.841106</td>\n",
       "      <td>-2373876979584952849</td>\n",
       "    </tr>\n",
       "    <tr>\n",
       "      <th>4</th>\n",
       "      <td>1745</td>\n",
       "      <td>7.756659</td>\n",
       "      <td>1632166079091127830</td>\n",
       "    </tr>\n",
       "  </tbody>\n",
       "</table>\n",
       "</div>"
      ],
      "text/plain": [
       "   news_id      score              item_id\n",
       "0      104  38.437199 -8722526817358894474\n",
       "1      575  29.147798 -5750828394349042089\n",
       "2     1540  27.983292   335910242745901755\n",
       "3     1095   7.841106 -2373876979584952849\n",
       "4     1745   7.756659  1632166079091127830"
      ]
     },
     "execution_count": 96,
     "metadata": {},
     "output_type": "execute_result"
    }
   ],
   "source": [
    "recommended_merged.head()"
   ]
  },
  {
   "cell_type": "code",
   "execution_count": 98,
   "metadata": {},
   "outputs": [
    {
     "data": {
      "text/plain": [
       "(2987, 3)"
      ]
     },
     "execution_count": 98,
     "metadata": {},
     "output_type": "execute_result"
    }
   ],
   "source": [
    "recommended_merged.shape"
   ]
  },
  {
   "cell_type": "code",
   "execution_count": null,
   "metadata": {},
   "outputs": [],
   "source": []
  },
  {
   "cell_type": "code",
   "execution_count": 99,
   "metadata": {},
   "outputs": [],
   "source": [
    "content = pd.read_csv('data/platform_content.csv')"
   ]
  },
  {
   "cell_type": "code",
   "execution_count": 101,
   "metadata": {},
   "outputs": [
    {
     "data": {
      "text/html": [
       "<div>\n",
       "<style scoped>\n",
       "    .dataframe tbody tr th:only-of-type {\n",
       "        vertical-align: middle;\n",
       "    }\n",
       "\n",
       "    .dataframe tbody tr th {\n",
       "        vertical-align: top;\n",
       "    }\n",
       "\n",
       "    .dataframe thead th {\n",
       "        text-align: right;\n",
       "    }\n",
       "</style>\n",
       "<table border=\"1\" class=\"dataframe\">\n",
       "  <thead>\n",
       "    <tr style=\"text-align: right;\">\n",
       "      <th></th>\n",
       "      <th>event_timestamp</th>\n",
       "      <th>interaction_type</th>\n",
       "      <th>item_id</th>\n",
       "      <th>producer_id</th>\n",
       "      <th>producer_session_id</th>\n",
       "      <th>producer_device_info</th>\n",
       "      <th>producer_location</th>\n",
       "      <th>producer_country</th>\n",
       "      <th>item_type</th>\n",
       "      <th>item_url</th>\n",
       "      <th>title</th>\n",
       "      <th>text_description</th>\n",
       "      <th>language</th>\n",
       "    </tr>\n",
       "  </thead>\n",
       "  <tbody>\n",
       "    <tr>\n",
       "      <th>0</th>\n",
       "      <td>1459192779</td>\n",
       "      <td>content_pulled_out</td>\n",
       "      <td>-6451309518266745024</td>\n",
       "      <td>4340306774493623681</td>\n",
       "      <td>8940341205206233829</td>\n",
       "      <td>NaN</td>\n",
       "      <td>NaN</td>\n",
       "      <td>NaN</td>\n",
       "      <td>HTML</td>\n",
       "      <td>http://www.nytimes.com/2016/03/28/business/dea...</td>\n",
       "      <td>Ethereum, a Virtual Currency, Enables Transact...</td>\n",
       "      <td>All of this work is still very early. The firs...</td>\n",
       "      <td>en</td>\n",
       "    </tr>\n",
       "    <tr>\n",
       "      <th>1</th>\n",
       "      <td>1459193988</td>\n",
       "      <td>content_present</td>\n",
       "      <td>-4110354420726924665</td>\n",
       "      <td>4340306774493623681</td>\n",
       "      <td>8940341205206233829</td>\n",
       "      <td>NaN</td>\n",
       "      <td>NaN</td>\n",
       "      <td>NaN</td>\n",
       "      <td>HTML</td>\n",
       "      <td>http://www.nytimes.com/2016/03/28/business/dea...</td>\n",
       "      <td>Ethereum, a Virtual Currency, Enables Transact...</td>\n",
       "      <td>All of this work is still very early. The firs...</td>\n",
       "      <td>en</td>\n",
       "    </tr>\n",
       "    <tr>\n",
       "      <th>2</th>\n",
       "      <td>1459194146</td>\n",
       "      <td>content_present</td>\n",
       "      <td>-7292285110016212249</td>\n",
       "      <td>4340306774493623681</td>\n",
       "      <td>8940341205206233829</td>\n",
       "      <td>NaN</td>\n",
       "      <td>NaN</td>\n",
       "      <td>NaN</td>\n",
       "      <td>HTML</td>\n",
       "      <td>http://cointelegraph.com/news/bitcoin-future-w...</td>\n",
       "      <td>Bitcoin Future: When GBPcoin of Branson Wins O...</td>\n",
       "      <td>The alarm clock wakes me at 8:00 with stream o...</td>\n",
       "      <td>en</td>\n",
       "    </tr>\n",
       "    <tr>\n",
       "      <th>3</th>\n",
       "      <td>1459194474</td>\n",
       "      <td>content_present</td>\n",
       "      <td>-6151852268067518688</td>\n",
       "      <td>3891637997717104548</td>\n",
       "      <td>-1457532940883382585</td>\n",
       "      <td>NaN</td>\n",
       "      <td>NaN</td>\n",
       "      <td>NaN</td>\n",
       "      <td>HTML</td>\n",
       "      <td>https://cloudplatform.googleblog.com/2016/03/G...</td>\n",
       "      <td>Google Data Center 360° Tour</td>\n",
       "      <td>We're excited to share the Google Data Center ...</td>\n",
       "      <td>en</td>\n",
       "    </tr>\n",
       "    <tr>\n",
       "      <th>4</th>\n",
       "      <td>1459194497</td>\n",
       "      <td>content_present</td>\n",
       "      <td>2448026894306402386</td>\n",
       "      <td>4340306774493623681</td>\n",
       "      <td>8940341205206233829</td>\n",
       "      <td>NaN</td>\n",
       "      <td>NaN</td>\n",
       "      <td>NaN</td>\n",
       "      <td>HTML</td>\n",
       "      <td>https://bitcoinmagazine.com/articles/ibm-wants...</td>\n",
       "      <td>IBM Wants to \"Evolve the Internet\" With Blockc...</td>\n",
       "      <td>The Aite Group projects the blockchain market ...</td>\n",
       "      <td>en</td>\n",
       "    </tr>\n",
       "  </tbody>\n",
       "</table>\n",
       "</div>"
      ],
      "text/plain": [
       "   event_timestamp    interaction_type              item_id  \\\n",
       "0       1459192779  content_pulled_out -6451309518266745024   \n",
       "1       1459193988     content_present -4110354420726924665   \n",
       "2       1459194146     content_present -7292285110016212249   \n",
       "3       1459194474     content_present -6151852268067518688   \n",
       "4       1459194497     content_present  2448026894306402386   \n",
       "\n",
       "           producer_id  producer_session_id producer_device_info  \\\n",
       "0  4340306774493623681  8940341205206233829                  NaN   \n",
       "1  4340306774493623681  8940341205206233829                  NaN   \n",
       "2  4340306774493623681  8940341205206233829                  NaN   \n",
       "3  3891637997717104548 -1457532940883382585                  NaN   \n",
       "4  4340306774493623681  8940341205206233829                  NaN   \n",
       "\n",
       "  producer_location producer_country item_type  \\\n",
       "0               NaN              NaN      HTML   \n",
       "1               NaN              NaN      HTML   \n",
       "2               NaN              NaN      HTML   \n",
       "3               NaN              NaN      HTML   \n",
       "4               NaN              NaN      HTML   \n",
       "\n",
       "                                            item_url  \\\n",
       "0  http://www.nytimes.com/2016/03/28/business/dea...   \n",
       "1  http://www.nytimes.com/2016/03/28/business/dea...   \n",
       "2  http://cointelegraph.com/news/bitcoin-future-w...   \n",
       "3  https://cloudplatform.googleblog.com/2016/03/G...   \n",
       "4  https://bitcoinmagazine.com/articles/ibm-wants...   \n",
       "\n",
       "                                               title  \\\n",
       "0  Ethereum, a Virtual Currency, Enables Transact...   \n",
       "1  Ethereum, a Virtual Currency, Enables Transact...   \n",
       "2  Bitcoin Future: When GBPcoin of Branson Wins O...   \n",
       "3                       Google Data Center 360° Tour   \n",
       "4  IBM Wants to \"Evolve the Internet\" With Blockc...   \n",
       "\n",
       "                                    text_description language  \n",
       "0  All of this work is still very early. The firs...       en  \n",
       "1  All of this work is still very early. The firs...       en  \n",
       "2  The alarm clock wakes me at 8:00 with stream o...       en  \n",
       "3  We're excited to share the Google Data Center ...       en  \n",
       "4  The Aite Group projects the blockchain market ...       en  "
      ]
     },
     "execution_count": 101,
     "metadata": {},
     "output_type": "execute_result"
    }
   ],
   "source": [
    "content.head()"
   ]
  },
  {
   "cell_type": "code",
   "execution_count": 102,
   "metadata": {},
   "outputs": [
    {
     "data": {
      "text/plain": [
       "(3122, 13)"
      ]
     },
     "execution_count": 102,
     "metadata": {},
     "output_type": "execute_result"
    }
   ],
   "source": [
    "content.shape"
   ]
  },
  {
   "cell_type": "code",
   "execution_count": null,
   "metadata": {},
   "outputs": [],
   "source": []
  },
  {
   "cell_type": "code",
   "execution_count": 103,
   "metadata": {},
   "outputs": [],
   "source": [
    "news_title = content[['item_id','title']]"
   ]
  },
  {
   "cell_type": "code",
   "execution_count": 104,
   "metadata": {},
   "outputs": [
    {
     "data": {
      "text/html": [
       "<div>\n",
       "<style scoped>\n",
       "    .dataframe tbody tr th:only-of-type {\n",
       "        vertical-align: middle;\n",
       "    }\n",
       "\n",
       "    .dataframe tbody tr th {\n",
       "        vertical-align: top;\n",
       "    }\n",
       "\n",
       "    .dataframe thead th {\n",
       "        text-align: right;\n",
       "    }\n",
       "</style>\n",
       "<table border=\"1\" class=\"dataframe\">\n",
       "  <thead>\n",
       "    <tr style=\"text-align: right;\">\n",
       "      <th></th>\n",
       "      <th>item_id</th>\n",
       "      <th>title</th>\n",
       "    </tr>\n",
       "  </thead>\n",
       "  <tbody>\n",
       "    <tr>\n",
       "      <th>0</th>\n",
       "      <td>-6451309518266745024</td>\n",
       "      <td>Ethereum, a Virtual Currency, Enables Transact...</td>\n",
       "    </tr>\n",
       "    <tr>\n",
       "      <th>1</th>\n",
       "      <td>-4110354420726924665</td>\n",
       "      <td>Ethereum, a Virtual Currency, Enables Transact...</td>\n",
       "    </tr>\n",
       "    <tr>\n",
       "      <th>2</th>\n",
       "      <td>-7292285110016212249</td>\n",
       "      <td>Bitcoin Future: When GBPcoin of Branson Wins O...</td>\n",
       "    </tr>\n",
       "    <tr>\n",
       "      <th>3</th>\n",
       "      <td>-6151852268067518688</td>\n",
       "      <td>Google Data Center 360° Tour</td>\n",
       "    </tr>\n",
       "    <tr>\n",
       "      <th>4</th>\n",
       "      <td>2448026894306402386</td>\n",
       "      <td>IBM Wants to \"Evolve the Internet\" With Blockc...</td>\n",
       "    </tr>\n",
       "  </tbody>\n",
       "</table>\n",
       "</div>"
      ],
      "text/plain": [
       "               item_id                                              title\n",
       "0 -6451309518266745024  Ethereum, a Virtual Currency, Enables Transact...\n",
       "1 -4110354420726924665  Ethereum, a Virtual Currency, Enables Transact...\n",
       "2 -7292285110016212249  Bitcoin Future: When GBPcoin of Branson Wins O...\n",
       "3 -6151852268067518688                       Google Data Center 360° Tour\n",
       "4  2448026894306402386  IBM Wants to \"Evolve the Internet\" With Blockc..."
      ]
     },
     "execution_count": 104,
     "metadata": {},
     "output_type": "execute_result"
    }
   ],
   "source": [
    "news_title.head()"
   ]
  },
  {
   "cell_type": "code",
   "execution_count": 105,
   "metadata": {},
   "outputs": [
    {
     "data": {
      "text/plain": [
       "(3122, 2)"
      ]
     },
     "execution_count": 105,
     "metadata": {},
     "output_type": "execute_result"
    }
   ],
   "source": [
    "news_title.shape"
   ]
  },
  {
   "cell_type": "code",
   "execution_count": null,
   "metadata": {},
   "outputs": [],
   "source": []
  },
  {
   "cell_type": "code",
   "execution_count": null,
   "metadata": {},
   "outputs": [],
   "source": []
  },
  {
   "cell_type": "markdown",
   "metadata": {},
   "source": [
    "### Merge with News data"
   ]
  },
  {
   "cell_type": "code",
   "execution_count": 106,
   "metadata": {},
   "outputs": [],
   "source": [
    "news_output = pd.merge(recommended_merged,news_title,how='left', on='item_id')"
   ]
  },
  {
   "cell_type": "code",
   "execution_count": 107,
   "metadata": {},
   "outputs": [
    {
     "data": {
      "text/plain": [
       "pandas.core.frame.DataFrame"
      ]
     },
     "execution_count": 107,
     "metadata": {},
     "output_type": "execute_result"
    }
   ],
   "source": [
    "type(news_output)"
   ]
  },
  {
   "cell_type": "code",
   "execution_count": 108,
   "metadata": {},
   "outputs": [
    {
     "data": {
      "text/plain": [
       "(3049, 4)"
      ]
     },
     "execution_count": 108,
     "metadata": {},
     "output_type": "execute_result"
    }
   ],
   "source": [
    "news_output.shape"
   ]
  },
  {
   "cell_type": "code",
   "execution_count": 109,
   "metadata": {},
   "outputs": [
    {
     "data": {
      "text/html": [
       "<div>\n",
       "<style scoped>\n",
       "    .dataframe tbody tr th:only-of-type {\n",
       "        vertical-align: middle;\n",
       "    }\n",
       "\n",
       "    .dataframe tbody tr th {\n",
       "        vertical-align: top;\n",
       "    }\n",
       "\n",
       "    .dataframe thead th {\n",
       "        text-align: right;\n",
       "    }\n",
       "</style>\n",
       "<table border=\"1\" class=\"dataframe\">\n",
       "  <thead>\n",
       "    <tr style=\"text-align: right;\">\n",
       "      <th></th>\n",
       "      <th>news_id</th>\n",
       "      <th>score</th>\n",
       "      <th>item_id</th>\n",
       "      <th>title</th>\n",
       "    </tr>\n",
       "  </thead>\n",
       "  <tbody>\n",
       "    <tr>\n",
       "      <th>0</th>\n",
       "      <td>104</td>\n",
       "      <td>38.437199</td>\n",
       "      <td>-8722526817358894474</td>\n",
       "      <td>VR possibilities at Google I/O 2016: Four thin...</td>\n",
       "    </tr>\n",
       "    <tr>\n",
       "      <th>1</th>\n",
       "      <td>575</td>\n",
       "      <td>29.147798</td>\n",
       "      <td>-5750828394349042089</td>\n",
       "      <td>Artificial Intelligence Software Is Booming. B...</td>\n",
       "    </tr>\n",
       "    <tr>\n",
       "      <th>2</th>\n",
       "      <td>1540</td>\n",
       "      <td>27.983292</td>\n",
       "      <td>335910242745901755</td>\n",
       "      <td>Inbox by Gmail ganha integração com Trello, Gi...</td>\n",
       "    </tr>\n",
       "    <tr>\n",
       "      <th>3</th>\n",
       "      <td>1095</td>\n",
       "      <td>7.841106</td>\n",
       "      <td>-2373876979584952849</td>\n",
       "      <td>OpenVpn rodando com Docker no Raspberry Pi</td>\n",
       "    </tr>\n",
       "    <tr>\n",
       "      <th>4</th>\n",
       "      <td>1745</td>\n",
       "      <td>7.756659</td>\n",
       "      <td>1632166079091127830</td>\n",
       "      <td>Cinco dicas de executivos de sucesso para se d...</td>\n",
       "    </tr>\n",
       "  </tbody>\n",
       "</table>\n",
       "</div>"
      ],
      "text/plain": [
       "   news_id      score              item_id  \\\n",
       "0      104  38.437199 -8722526817358894474   \n",
       "1      575  29.147798 -5750828394349042089   \n",
       "2     1540  27.983292   335910242745901755   \n",
       "3     1095   7.841106 -2373876979584952849   \n",
       "4     1745   7.756659  1632166079091127830   \n",
       "\n",
       "                                               title  \n",
       "0  VR possibilities at Google I/O 2016: Four thin...  \n",
       "1  Artificial Intelligence Software Is Booming. B...  \n",
       "2  Inbox by Gmail ganha integração com Trello, Gi...  \n",
       "3         OpenVpn rodando com Docker no Raspberry Pi  \n",
       "4  Cinco dicas de executivos de sucesso para se d...  "
      ]
     },
     "execution_count": 109,
     "metadata": {},
     "output_type": "execute_result"
    }
   ],
   "source": [
    "news_output.head()"
   ]
  },
  {
   "cell_type": "code",
   "execution_count": null,
   "metadata": {},
   "outputs": [],
   "source": []
  },
  {
   "cell_type": "code",
   "execution_count": 110,
   "metadata": {},
   "outputs": [],
   "source": [
    "news_output['collaborative_score_normalized'] = (news_output['score']-min(news_output['score']))/(max(news_output['score'])-min(news_output['score']))"
   ]
  },
  {
   "cell_type": "code",
   "execution_count": 111,
   "metadata": {},
   "outputs": [
    {
     "data": {
      "text/html": [
       "<div>\n",
       "<style scoped>\n",
       "    .dataframe tbody tr th:only-of-type {\n",
       "        vertical-align: middle;\n",
       "    }\n",
       "\n",
       "    .dataframe tbody tr th {\n",
       "        vertical-align: top;\n",
       "    }\n",
       "\n",
       "    .dataframe thead th {\n",
       "        text-align: right;\n",
       "    }\n",
       "</style>\n",
       "<table border=\"1\" class=\"dataframe\">\n",
       "  <thead>\n",
       "    <tr style=\"text-align: right;\">\n",
       "      <th></th>\n",
       "      <th>news_id</th>\n",
       "      <th>score</th>\n",
       "      <th>item_id</th>\n",
       "      <th>title</th>\n",
       "      <th>collaborative_score_normalized</th>\n",
       "    </tr>\n",
       "  </thead>\n",
       "  <tbody>\n",
       "    <tr>\n",
       "      <th>0</th>\n",
       "      <td>104</td>\n",
       "      <td>38.437199</td>\n",
       "      <td>-8722526817358894474</td>\n",
       "      <td>VR possibilities at Google I/O 2016: Four thin...</td>\n",
       "      <td>1.000000</td>\n",
       "    </tr>\n",
       "    <tr>\n",
       "      <th>1</th>\n",
       "      <td>575</td>\n",
       "      <td>29.147798</td>\n",
       "      <td>-5750828394349042089</td>\n",
       "      <td>Artificial Intelligence Software Is Booming. B...</td>\n",
       "      <td>0.758323</td>\n",
       "    </tr>\n",
       "    <tr>\n",
       "      <th>2</th>\n",
       "      <td>1540</td>\n",
       "      <td>27.983292</td>\n",
       "      <td>335910242745901755</td>\n",
       "      <td>Inbox by Gmail ganha integração com Trello, Gi...</td>\n",
       "      <td>0.728026</td>\n",
       "    </tr>\n",
       "    <tr>\n",
       "      <th>3</th>\n",
       "      <td>1095</td>\n",
       "      <td>7.841106</td>\n",
       "      <td>-2373876979584952849</td>\n",
       "      <td>OpenVpn rodando com Docker no Raspberry Pi</td>\n",
       "      <td>0.203998</td>\n",
       "    </tr>\n",
       "    <tr>\n",
       "      <th>4</th>\n",
       "      <td>1745</td>\n",
       "      <td>7.756659</td>\n",
       "      <td>1632166079091127830</td>\n",
       "      <td>Cinco dicas de executivos de sucesso para se d...</td>\n",
       "      <td>0.201801</td>\n",
       "    </tr>\n",
       "  </tbody>\n",
       "</table>\n",
       "</div>"
      ],
      "text/plain": [
       "   news_id      score              item_id  \\\n",
       "0      104  38.437199 -8722526817358894474   \n",
       "1      575  29.147798 -5750828394349042089   \n",
       "2     1540  27.983292   335910242745901755   \n",
       "3     1095   7.841106 -2373876979584952849   \n",
       "4     1745   7.756659  1632166079091127830   \n",
       "\n",
       "                                               title  \\\n",
       "0  VR possibilities at Google I/O 2016: Four thin...   \n",
       "1  Artificial Intelligence Software Is Booming. B...   \n",
       "2  Inbox by Gmail ganha integração com Trello, Gi...   \n",
       "3         OpenVpn rodando com Docker no Raspberry Pi   \n",
       "4  Cinco dicas de executivos de sucesso para se d...   \n",
       "\n",
       "   collaborative_score_normalized  \n",
       "0                        1.000000  \n",
       "1                        0.758323  \n",
       "2                        0.728026  \n",
       "3                        0.203998  \n",
       "4                        0.201801  "
      ]
     },
     "execution_count": 111,
     "metadata": {},
     "output_type": "execute_result"
    }
   ],
   "source": [
    "news_output.head()"
   ]
  },
  {
   "cell_type": "code",
   "execution_count": 112,
   "metadata": {},
   "outputs": [
    {
     "data": {
      "text/plain": [
       "pandas.core.frame.DataFrame"
      ]
     },
     "execution_count": 112,
     "metadata": {},
     "output_type": "execute_result"
    }
   ],
   "source": [
    "type(news_output)"
   ]
  },
  {
   "cell_type": "code",
   "execution_count": null,
   "metadata": {},
   "outputs": [],
   "source": []
  },
  {
   "cell_type": "code",
   "execution_count": 113,
   "metadata": {},
   "outputs": [
    {
     "data": {
      "text/html": [
       "<div>\n",
       "<style scoped>\n",
       "    .dataframe tbody tr th:only-of-type {\n",
       "        vertical-align: middle;\n",
       "    }\n",
       "\n",
       "    .dataframe tbody tr th {\n",
       "        vertical-align: top;\n",
       "    }\n",
       "\n",
       "    .dataframe thead th {\n",
       "        text-align: right;\n",
       "    }\n",
       "</style>\n",
       "<table border=\"1\" class=\"dataframe\">\n",
       "  <thead>\n",
       "    <tr style=\"text-align: right;\">\n",
       "      <th></th>\n",
       "      <th>news_id</th>\n",
       "      <th>score</th>\n",
       "      <th>item_id</th>\n",
       "      <th>title</th>\n",
       "      <th>collaborative_score_normalized</th>\n",
       "    </tr>\n",
       "  </thead>\n",
       "  <tbody>\n",
       "    <tr>\n",
       "      <th>0</th>\n",
       "      <td>104</td>\n",
       "      <td>38.437199</td>\n",
       "      <td>-8722526817358894474</td>\n",
       "      <td>VR possibilities at Google I/O 2016: Four thin...</td>\n",
       "      <td>1.000000</td>\n",
       "    </tr>\n",
       "    <tr>\n",
       "      <th>1</th>\n",
       "      <td>575</td>\n",
       "      <td>29.147798</td>\n",
       "      <td>-5750828394349042089</td>\n",
       "      <td>Artificial Intelligence Software Is Booming. B...</td>\n",
       "      <td>0.758323</td>\n",
       "    </tr>\n",
       "    <tr>\n",
       "      <th>2</th>\n",
       "      <td>1540</td>\n",
       "      <td>27.983292</td>\n",
       "      <td>335910242745901755</td>\n",
       "      <td>Inbox by Gmail ganha integração com Trello, Gi...</td>\n",
       "      <td>0.728026</td>\n",
       "    </tr>\n",
       "    <tr>\n",
       "      <th>3</th>\n",
       "      <td>1095</td>\n",
       "      <td>7.841106</td>\n",
       "      <td>-2373876979584952849</td>\n",
       "      <td>OpenVpn rodando com Docker no Raspberry Pi</td>\n",
       "      <td>0.203998</td>\n",
       "    </tr>\n",
       "    <tr>\n",
       "      <th>4</th>\n",
       "      <td>1745</td>\n",
       "      <td>7.756659</td>\n",
       "      <td>1632166079091127830</td>\n",
       "      <td>Cinco dicas de executivos de sucesso para se d...</td>\n",
       "      <td>0.201801</td>\n",
       "    </tr>\n",
       "    <tr>\n",
       "      <th>...</th>\n",
       "      <td>...</td>\n",
       "      <td>...</td>\n",
       "      <td>...</td>\n",
       "      <td>...</td>\n",
       "      <td>...</td>\n",
       "    </tr>\n",
       "    <tr>\n",
       "      <th>1416</th>\n",
       "      <td>621</td>\n",
       "      <td>0.000000</td>\n",
       "      <td>-5521549171704079872</td>\n",
       "      <td>Introducing Google Cloud Search: Bringing the ...</td>\n",
       "      <td>0.000000</td>\n",
       "    </tr>\n",
       "    <tr>\n",
       "      <th>1417</th>\n",
       "      <td>620</td>\n",
       "      <td>0.000000</td>\n",
       "      <td>-5522643017727334716</td>\n",
       "      <td>Introducing the Startup Battlefield companies ...</td>\n",
       "      <td>0.000000</td>\n",
       "    </tr>\n",
       "    <tr>\n",
       "      <th>1418</th>\n",
       "      <td>619</td>\n",
       "      <td>0.000000</td>\n",
       "      <td>-5525441367600219076</td>\n",
       "      <td>April Fools - Introducing Gmail Mic Drop</td>\n",
       "      <td>0.000000</td>\n",
       "    </tr>\n",
       "    <tr>\n",
       "      <th>1419</th>\n",
       "      <td>618</td>\n",
       "      <td>0.000000</td>\n",
       "      <td>-5527182266336855540</td>\n",
       "      <td>40 Basic Japanese conversations</td>\n",
       "      <td>0.000000</td>\n",
       "    </tr>\n",
       "    <tr>\n",
       "      <th>3048</th>\n",
       "      <td>0</td>\n",
       "      <td>0.000000</td>\n",
       "      <td>-9222795471790223670</td>\n",
       "      <td>Uber lança serviço de helicóptero em SP com pr...</td>\n",
       "      <td>0.000000</td>\n",
       "    </tr>\n",
       "  </tbody>\n",
       "</table>\n",
       "<p>3049 rows × 5 columns</p>\n",
       "</div>"
      ],
      "text/plain": [
       "      news_id      score              item_id  \\\n",
       "0         104  38.437199 -8722526817358894474   \n",
       "1         575  29.147798 -5750828394349042089   \n",
       "2        1540  27.983292   335910242745901755   \n",
       "3        1095   7.841106 -2373876979584952849   \n",
       "4        1745   7.756659  1632166079091127830   \n",
       "...       ...        ...                  ...   \n",
       "1416      621   0.000000 -5521549171704079872   \n",
       "1417      620   0.000000 -5522643017727334716   \n",
       "1418      619   0.000000 -5525441367600219076   \n",
       "1419      618   0.000000 -5527182266336855540   \n",
       "3048        0   0.000000 -9222795471790223670   \n",
       "\n",
       "                                                  title  \\\n",
       "0     VR possibilities at Google I/O 2016: Four thin...   \n",
       "1     Artificial Intelligence Software Is Booming. B...   \n",
       "2     Inbox by Gmail ganha integração com Trello, Gi...   \n",
       "3            OpenVpn rodando com Docker no Raspberry Pi   \n",
       "4     Cinco dicas de executivos de sucesso para se d...   \n",
       "...                                                 ...   \n",
       "1416  Introducing Google Cloud Search: Bringing the ...   \n",
       "1417  Introducing the Startup Battlefield companies ...   \n",
       "1418           April Fools - Introducing Gmail Mic Drop   \n",
       "1419                    40 Basic Japanese conversations   \n",
       "3048  Uber lança serviço de helicóptero em SP com pr...   \n",
       "\n",
       "      collaborative_score_normalized  \n",
       "0                           1.000000  \n",
       "1                           0.758323  \n",
       "2                           0.728026  \n",
       "3                           0.203998  \n",
       "4                           0.201801  \n",
       "...                              ...  \n",
       "1416                        0.000000  \n",
       "1417                        0.000000  \n",
       "1418                        0.000000  \n",
       "1419                        0.000000  \n",
       "3048                        0.000000  \n",
       "\n",
       "[3049 rows x 5 columns]"
      ]
     },
     "execution_count": 113,
     "metadata": {},
     "output_type": "execute_result"
    }
   ],
   "source": [
    "news_output.sort_values(by='collaborative_score_normalized', ascending=False)"
   ]
  },
  {
   "cell_type": "code",
   "execution_count": null,
   "metadata": {},
   "outputs": [],
   "source": []
  },
  {
   "cell_type": "code",
   "execution_count": 115,
   "metadata": {},
   "outputs": [
    {
     "data": {
      "text/html": [
       "<div>\n",
       "<style scoped>\n",
       "    .dataframe tbody tr th:only-of-type {\n",
       "        vertical-align: middle;\n",
       "    }\n",
       "\n",
       "    .dataframe tbody tr th {\n",
       "        vertical-align: top;\n",
       "    }\n",
       "\n",
       "    .dataframe thead th {\n",
       "        text-align: right;\n",
       "    }\n",
       "</style>\n",
       "<table border=\"1\" class=\"dataframe\">\n",
       "  <thead>\n",
       "    <tr style=\"text-align: right;\">\n",
       "      <th></th>\n",
       "      <th>news_id</th>\n",
       "      <th>score</th>\n",
       "      <th>item_id</th>\n",
       "      <th>title</th>\n",
       "      <th>collaborative_score_normalized</th>\n",
       "    </tr>\n",
       "  </thead>\n",
       "  <tbody>\n",
       "    <tr>\n",
       "      <th>0</th>\n",
       "      <td>104</td>\n",
       "      <td>38.437199</td>\n",
       "      <td>-8722526817358894474</td>\n",
       "      <td>VR possibilities at Google I/O 2016: Four thin...</td>\n",
       "      <td>1.000000</td>\n",
       "    </tr>\n",
       "    <tr>\n",
       "      <th>1</th>\n",
       "      <td>575</td>\n",
       "      <td>29.147798</td>\n",
       "      <td>-5750828394349042089</td>\n",
       "      <td>Artificial Intelligence Software Is Booming. B...</td>\n",
       "      <td>0.758323</td>\n",
       "    </tr>\n",
       "    <tr>\n",
       "      <th>2</th>\n",
       "      <td>1540</td>\n",
       "      <td>27.983292</td>\n",
       "      <td>335910242745901755</td>\n",
       "      <td>Inbox by Gmail ganha integração com Trello, Gi...</td>\n",
       "      <td>0.728026</td>\n",
       "    </tr>\n",
       "    <tr>\n",
       "      <th>3</th>\n",
       "      <td>1095</td>\n",
       "      <td>7.841106</td>\n",
       "      <td>-2373876979584952849</td>\n",
       "      <td>OpenVpn rodando com Docker no Raspberry Pi</td>\n",
       "      <td>0.203998</td>\n",
       "    </tr>\n",
       "    <tr>\n",
       "      <th>4</th>\n",
       "      <td>1745</td>\n",
       "      <td>7.756659</td>\n",
       "      <td>1632166079091127830</td>\n",
       "      <td>Cinco dicas de executivos de sucesso para se d...</td>\n",
       "      <td>0.201801</td>\n",
       "    </tr>\n",
       "  </tbody>\n",
       "</table>\n",
       "</div>"
      ],
      "text/plain": [
       "   news_id      score              item_id  \\\n",
       "0      104  38.437199 -8722526817358894474   \n",
       "1      575  29.147798 -5750828394349042089   \n",
       "2     1540  27.983292   335910242745901755   \n",
       "3     1095   7.841106 -2373876979584952849   \n",
       "4     1745   7.756659  1632166079091127830   \n",
       "\n",
       "                                               title  \\\n",
       "0  VR possibilities at Google I/O 2016: Four thin...   \n",
       "1  Artificial Intelligence Software Is Booming. B...   \n",
       "2  Inbox by Gmail ganha integração com Trello, Gi...   \n",
       "3         OpenVpn rodando com Docker no Raspberry Pi   \n",
       "4  Cinco dicas de executivos de sucesso para se d...   \n",
       "\n",
       "   collaborative_score_normalized  \n",
       "0                        1.000000  \n",
       "1                        0.758323  \n",
       "2                        0.728026  \n",
       "3                        0.203998  \n",
       "4                        0.201801  "
      ]
     },
     "execution_count": 115,
     "metadata": {},
     "output_type": "execute_result"
    }
   ],
   "source": [
    "news_output.head()"
   ]
  },
  {
   "cell_type": "code",
   "execution_count": 116,
   "metadata": {},
   "outputs": [
    {
     "data": {
      "text/plain": [
       "0    VR possibilities at Google I/O 2016: Four thin...\n",
       "1    Artificial Intelligence Software Is Booming. B...\n",
       "2    Inbox by Gmail ganha integração com Trello, Gi...\n",
       "3           OpenVpn rodando com Docker no Raspberry Pi\n",
       "4    Cinco dicas de executivos de sucesso para se d...\n",
       "5    13 Killer SEO Copywriting Tips (With Examples ...\n",
       "6    Pixelated photos and licence plates can be unb...\n",
       "7     Building an Angular 2 Application for Production\n",
       "8          Introduction to Spring REST Docs | Baeldung\n",
       "9                   Sympathy for Lady Vengeance (2005)\n",
       "Name: title, dtype: object"
      ]
     },
     "execution_count": 116,
     "metadata": {},
     "output_type": "execute_result"
    }
   ],
   "source": [
    "news_output['title'][:10]"
   ]
  },
  {
   "cell_type": "code",
   "execution_count": null,
   "metadata": {},
   "outputs": [],
   "source": []
  },
  {
   "cell_type": "code",
   "execution_count": null,
   "metadata": {},
   "outputs": [],
   "source": []
  },
  {
   "cell_type": "markdown",
   "metadata": {},
   "source": [
    "# Evaluation"
   ]
  },
  {
   "cell_type": "code",
   "execution_count": 117,
   "metadata": {},
   "outputs": [],
   "source": [
    "from sklearn.metrics import mean_squared_error\n",
    "from sklearn.metrics import mean_absolute_error\n",
    "from sklearn.metrics import accuracy_score\n",
    "from math import sqrt"
   ]
  },
  {
   "cell_type": "code",
   "execution_count": null,
   "metadata": {},
   "outputs": [],
   "source": []
  },
  {
   "cell_type": "markdown",
   "metadata": {},
   "source": [
    "## MAE"
   ]
  },
  {
   "cell_type": "code",
   "execution_count": 118,
   "metadata": {},
   "outputs": [],
   "source": [
    "def mae(prediction, ground_truth):\n",
    "    \n",
    "    prediction = prediction[ground_truth.nonzero()]\n",
    "    \n",
    "    ground_truth = ground_truth[ground_truth.nonzero()]\n",
    "    \n",
    "    return mean_absolute_error(prediction, ground_truth)"
   ]
  },
  {
   "cell_type": "code",
   "execution_count": null,
   "metadata": {},
   "outputs": [],
   "source": []
  },
  {
   "cell_type": "code",
   "execution_count": 119,
   "metadata": {
    "scrolled": true
   },
   "outputs": [
    {
     "data": {
      "text/plain": [
       "10.485317436770767"
      ]
     },
     "execution_count": 119,
     "metadata": {},
     "output_type": "execute_result"
    }
   ],
   "source": [
    "mae(item_prediction,data_matrix)"
   ]
  },
  {
   "cell_type": "code",
   "execution_count": null,
   "metadata": {},
   "outputs": [],
   "source": []
  },
  {
   "cell_type": "markdown",
   "metadata": {},
   "source": [
    "## RMSE "
   ]
  },
  {
   "cell_type": "code",
   "execution_count": 120,
   "metadata": {},
   "outputs": [],
   "source": [
    "def rmse(prediction, ground_truth):\n",
    "\n",
    "    prediction = prediction[ground_truth.nonzero()]\n",
    "    \n",
    "    ground_truth = ground_truth[ground_truth.nonzero()]\n",
    "    \n",
    "    return sqrt(mean_squared_error(prediction, ground_truth))"
   ]
  },
  {
   "cell_type": "code",
   "execution_count": 121,
   "metadata": {},
   "outputs": [
    {
     "data": {
      "text/plain": [
       "27.774461871972917"
      ]
     },
     "execution_count": 121,
     "metadata": {},
     "output_type": "execute_result"
    }
   ],
   "source": [
    "rmse(item_prediction,data_matrix)"
   ]
  },
  {
   "cell_type": "code",
   "execution_count": null,
   "metadata": {},
   "outputs": [],
   "source": []
  },
  {
   "cell_type": "code",
   "execution_count": null,
   "metadata": {},
   "outputs": [],
   "source": []
  },
  {
   "cell_type": "markdown",
   "metadata": {},
   "source": [
    "# Precision@K"
   ]
  },
  {
   "cell_type": "code",
   "execution_count": 122,
   "metadata": {},
   "outputs": [],
   "source": [
    "user_index=17"
   ]
  },
  {
   "cell_type": "code",
   "execution_count": 126,
   "metadata": {},
   "outputs": [
    {
     "data": {
      "text/html": [
       "<div>\n",
       "<style scoped>\n",
       "    .dataframe tbody tr th:only-of-type {\n",
       "        vertical-align: middle;\n",
       "    }\n",
       "\n",
       "    .dataframe tbody tr th {\n",
       "        vertical-align: top;\n",
       "    }\n",
       "\n",
       "    .dataframe thead th {\n",
       "        text-align: right;\n",
       "    }\n",
       "</style>\n",
       "<table border=\"1\" class=\"dataframe\">\n",
       "  <thead>\n",
       "    <tr style=\"text-align: right;\">\n",
       "      <th></th>\n",
       "      <th>user_id</th>\n",
       "      <th>news_id</th>\n",
       "      <th>rating</th>\n",
       "    </tr>\n",
       "  </thead>\n",
       "  <tbody>\n",
       "    <tr>\n",
       "      <th>0</th>\n",
       "      <td>33</td>\n",
       "      <td>933</td>\n",
       "      <td>1.183774</td>\n",
       "    </tr>\n",
       "    <tr>\n",
       "      <th>1</th>\n",
       "      <td>831</td>\n",
       "      <td>2933</td>\n",
       "      <td>1.183774</td>\n",
       "    </tr>\n",
       "    <tr>\n",
       "      <th>2</th>\n",
       "      <td>826</td>\n",
       "      <td>1537</td>\n",
       "      <td>1.183774</td>\n",
       "    </tr>\n",
       "    <tr>\n",
       "      <th>3</th>\n",
       "      <td>974</td>\n",
       "      <td>1537</td>\n",
       "      <td>51.394456</td>\n",
       "    </tr>\n",
       "    <tr>\n",
       "      <th>4</th>\n",
       "      <td>887</td>\n",
       "      <td>246</td>\n",
       "      <td>1.183774</td>\n",
       "    </tr>\n",
       "  </tbody>\n",
       "</table>\n",
       "</div>"
      ],
      "text/plain": [
       "   user_id  news_id     rating\n",
       "0       33      933   1.183774\n",
       "1      831     2933   1.183774\n",
       "2      826     1537   1.183774\n",
       "3      974     1537  51.394456\n",
       "4      887      246   1.183774"
      ]
     },
     "execution_count": 126,
     "metadata": {},
     "output_type": "execute_result"
    }
   ],
   "source": [
    "ratings.head()"
   ]
  },
  {
   "cell_type": "code",
   "execution_count": 127,
   "metadata": {},
   "outputs": [
    {
     "data": {
      "text/html": [
       "<div>\n",
       "<style scoped>\n",
       "    .dataframe tbody tr th:only-of-type {\n",
       "        vertical-align: middle;\n",
       "    }\n",
       "\n",
       "    .dataframe tbody tr th {\n",
       "        vertical-align: top;\n",
       "    }\n",
       "\n",
       "    .dataframe thead th {\n",
       "        text-align: right;\n",
       "    }\n",
       "</style>\n",
       "<table border=\"1\" class=\"dataframe\">\n",
       "  <thead>\n",
       "    <tr style=\"text-align: right;\">\n",
       "      <th></th>\n",
       "      <th>user_id</th>\n",
       "      <th>news_id</th>\n",
       "      <th>rating</th>\n",
       "    </tr>\n",
       "  </thead>\n",
       "  <tbody>\n",
       "    <tr>\n",
       "      <th>159</th>\n",
       "      <td>17</td>\n",
       "      <td>815</td>\n",
       "      <td>1.183774</td>\n",
       "    </tr>\n",
       "    <tr>\n",
       "      <th>305</th>\n",
       "      <td>17</td>\n",
       "      <td>2773</td>\n",
       "      <td>1.183774</td>\n",
       "    </tr>\n",
       "    <tr>\n",
       "      <th>313</th>\n",
       "      <td>17</td>\n",
       "      <td>1388</td>\n",
       "      <td>1.183774</td>\n",
       "    </tr>\n",
       "    <tr>\n",
       "      <th>356</th>\n",
       "      <td>17</td>\n",
       "      <td>51</td>\n",
       "      <td>1.183774</td>\n",
       "    </tr>\n",
       "    <tr>\n",
       "      <th>439</th>\n",
       "      <td>17</td>\n",
       "      <td>789</td>\n",
       "      <td>1.183774</td>\n",
       "    </tr>\n",
       "    <tr>\n",
       "      <th>...</th>\n",
       "      <td>...</td>\n",
       "      <td>...</td>\n",
       "      <td>...</td>\n",
       "    </tr>\n",
       "    <tr>\n",
       "      <th>72143</th>\n",
       "      <td>17</td>\n",
       "      <td>982</td>\n",
       "      <td>12.586945</td>\n",
       "    </tr>\n",
       "    <tr>\n",
       "      <th>72145</th>\n",
       "      <td>17</td>\n",
       "      <td>982</td>\n",
       "      <td>1.183774</td>\n",
       "    </tr>\n",
       "    <tr>\n",
       "      <th>72266</th>\n",
       "      <td>17</td>\n",
       "      <td>1874</td>\n",
       "      <td>12.586945</td>\n",
       "    </tr>\n",
       "    <tr>\n",
       "      <th>72301</th>\n",
       "      <td>17</td>\n",
       "      <td>443</td>\n",
       "      <td>1.183774</td>\n",
       "    </tr>\n",
       "    <tr>\n",
       "      <th>72307</th>\n",
       "      <td>17</td>\n",
       "      <td>443</td>\n",
       "      <td>12.586945</td>\n",
       "    </tr>\n",
       "  </tbody>\n",
       "</table>\n",
       "<p>408 rows × 3 columns</p>\n",
       "</div>"
      ],
      "text/plain": [
       "       user_id  news_id     rating\n",
       "159         17      815   1.183774\n",
       "305         17     2773   1.183774\n",
       "313         17     1388   1.183774\n",
       "356         17       51   1.183774\n",
       "439         17      789   1.183774\n",
       "...        ...      ...        ...\n",
       "72143       17      982  12.586945\n",
       "72145       17      982   1.183774\n",
       "72266       17     1874  12.586945\n",
       "72301       17      443   1.183774\n",
       "72307       17      443  12.586945\n",
       "\n",
       "[408 rows x 3 columns]"
      ]
     },
     "execution_count": 127,
     "metadata": {},
     "output_type": "execute_result"
    }
   ],
   "source": [
    "ratings[ratings['user_id']==17]"
   ]
  },
  {
   "cell_type": "code",
   "execution_count": null,
   "metadata": {},
   "outputs": [],
   "source": []
  },
  {
   "cell_type": "code",
   "execution_count": null,
   "metadata": {},
   "outputs": [],
   "source": []
  },
  {
   "cell_type": "code",
   "execution_count": null,
   "metadata": {},
   "outputs": [],
   "source": []
  },
  {
   "cell_type": "code",
   "execution_count": 123,
   "metadata": {},
   "outputs": [],
   "source": [
    "user_relevant_set = ratings[ratings['user_id']==user_index].sort_values(by='rating',ascending=False)['news_id'].tolist()"
   ]
  },
  {
   "cell_type": "code",
   "execution_count": 125,
   "metadata": {},
   "outputs": [
    {
     "data": {
      "text/plain": [
       "[815,\n",
       " 2291,\n",
       " 2721,\n",
       " 2137,\n",
       " 2735,\n",
       " 840,\n",
       " 122,\n",
       " 2368,\n",
       " 138,\n",
       " 1829,\n",
       " 2784,\n",
       " 101,\n",
       " 2268,\n",
       " 2891,\n",
       " 122,\n",
       " 2291,\n",
       " 1154,\n",
       " 815,\n",
       " 2891,\n",
       " 2721,\n",
       " 2137,\n",
       " 101,\n",
       " 2368,\n",
       " 138,\n",
       " 2130,\n",
       " 2086,\n",
       " 2868,\n",
       " 489,\n",
       " 847,\n",
       " 288,\n",
       " 483,\n",
       " 298,\n",
       " 2130,\n",
       " 332,\n",
       " 2918,\n",
       " 2868,\n",
       " 1573,\n",
       " 443,\n",
       " 708,\n",
       " 2368,\n",
       " 2291,\n",
       " 288,\n",
       " 298,\n",
       " 428,\n",
       " 897,\n",
       " 1899,\n",
       " 1829,\n",
       " 138,\n",
       " 1110,\n",
       " 2891,\n",
       " 978,\n",
       " 417,\n",
       " 122,\n",
       " 847,\n",
       " 509,\n",
       " 1077,\n",
       " 2268,\n",
       " 2735,\n",
       " 1640,\n",
       " 1583,\n",
       " 1715,\n",
       " 2512,\n",
       " 520,\n",
       " 1874,\n",
       " 982,\n",
       " 1087,\n",
       " 2358,\n",
       " 893,\n",
       " 548,\n",
       " 2434,\n",
       " 2199,\n",
       " 1069,\n",
       " 602,\n",
       " 1207,\n",
       " 298,\n",
       " 509,\n",
       " 905,\n",
       " 236,\n",
       " 138,\n",
       " 2247,\n",
       " 1004,\n",
       " 1876,\n",
       " 292,\n",
       " 1079,\n",
       " 2709,\n",
       " 2639,\n",
       " 897,\n",
       " 2932,\n",
       " 2540,\n",
       " 1345,\n",
       " 752,\n",
       " 2839,\n",
       " 140,\n",
       " 2512,\n",
       " 227,\n",
       " 1304,\n",
       " 2938,\n",
       " 894,\n",
       " 2046,\n",
       " 1058,\n",
       " 2433,\n",
       " 632,\n",
       " 1110,\n",
       " 743,\n",
       " 1736,\n",
       " 2698,\n",
       " 2325,\n",
       " 2960,\n",
       " 2608,\n",
       " 439,\n",
       " 2023,\n",
       " 840,\n",
       " 651,\n",
       " 1422,\n",
       " 1507,\n",
       " 2784,\n",
       " 489,\n",
       " 1117,\n",
       " 1570,\n",
       " 2804,\n",
       " 2883,\n",
       " 2124,\n",
       " 2291,\n",
       " 1050,\n",
       " 2710,\n",
       " 477,\n",
       " 1085,\n",
       " 1640,\n",
       " 978,\n",
       " 2369,\n",
       " 361,\n",
       " 417,\n",
       " 2835,\n",
       " 1153,\n",
       " 1976,\n",
       " 392,\n",
       " 1953,\n",
       " 2836,\n",
       " 1737,\n",
       " 2407,\n",
       " 2719,\n",
       " 939,\n",
       " 1529,\n",
       " 971,\n",
       " 2844,\n",
       " 1438,\n",
       " 332,\n",
       " 1583,\n",
       " 2268,\n",
       " 2086,\n",
       " 1874,\n",
       " 443,\n",
       " 982,\n",
       " 1256,\n",
       " 2632,\n",
       " 1087,\n",
       " 1249,\n",
       " 2735,\n",
       " 1762,\n",
       " 404,\n",
       " 335,\n",
       " 245,\n",
       " 534,\n",
       " 1715,\n",
       " 1832,\n",
       " 122,\n",
       " 1480,\n",
       " 1254,\n",
       " 847,\n",
       " 2861,\n",
       " 131,\n",
       " 1777,\n",
       " 875,\n",
       " 1792,\n",
       " 2623,\n",
       " 428,\n",
       " 796,\n",
       " 265,\n",
       " 2318,\n",
       " 1899,\n",
       " 214,\n",
       " 281,\n",
       " 1995,\n",
       " 288,\n",
       " 975,\n",
       " 1179,\n",
       " 1072,\n",
       " 2460,\n",
       " 89,\n",
       " 1820,\n",
       " 2564,\n",
       " 1521,\n",
       " 316,\n",
       " 2853,\n",
       " 63,\n",
       " 1204,\n",
       " 2248,\n",
       " 1026,\n",
       " 2334,\n",
       " 1214,\n",
       " 1808,\n",
       " 117,\n",
       " 2676,\n",
       " 1350,\n",
       " 2549,\n",
       " 517,\n",
       " 1252,\n",
       " 2909,\n",
       " 1305,\n",
       " 2333,\n",
       " 2488,\n",
       " 1791,\n",
       " 932,\n",
       " 1286,\n",
       " 2756,\n",
       " 1986,\n",
       " 1157,\n",
       " 815,\n",
       " 1827,\n",
       " 2918,\n",
       " 1542,\n",
       " 1573,\n",
       " 2850,\n",
       " 2863,\n",
       " 1092,\n",
       " 1212,\n",
       " 2868,\n",
       " 2877,\n",
       " 2043,\n",
       " 1553,\n",
       " 483,\n",
       " 1739,\n",
       " 2736,\n",
       " 2090,\n",
       " 1517,\n",
       " 2849,\n",
       " 2619,\n",
       " 1965,\n",
       " 2352,\n",
       " 123,\n",
       " 2219,\n",
       " 1753,\n",
       " 2064,\n",
       " 394,\n",
       " 1932,\n",
       " 2010,\n",
       " 277,\n",
       " 2137,\n",
       " 2721,\n",
       " 1319,\n",
       " 1161,\n",
       " 512,\n",
       " 2164,\n",
       " 527,\n",
       " 1673,\n",
       " 1437,\n",
       " 1665,\n",
       " 2607,\n",
       " 721,\n",
       " 2418,\n",
       " 1659,\n",
       " 1218,\n",
       " 1420,\n",
       " 522,\n",
       " 1952,\n",
       " 1873,\n",
       " 101,\n",
       " 2789,\n",
       " 1289,\n",
       " 96,\n",
       " 302,\n",
       " 2368,\n",
       " 1936,\n",
       " 735,\n",
       " 2194,\n",
       " 708,\n",
       " 2562,\n",
       " 615,\n",
       " 2490,\n",
       " 1937,\n",
       " 678,\n",
       " 842,\n",
       " 2891,\n",
       " 1241,\n",
       " 1185,\n",
       " 789,\n",
       " 51,\n",
       " 1388,\n",
       " 2321,\n",
       " 1048,\n",
       " 345,\n",
       " 2072,\n",
       " 1325,\n",
       " 2377,\n",
       " 1483,\n",
       " 2757,\n",
       " 1909,\n",
       " 1686,\n",
       " 383,\n",
       " 2125,\n",
       " 210,\n",
       " 1539,\n",
       " 1783,\n",
       " 1246,\n",
       " 1433,\n",
       " 3,\n",
       " 1154,\n",
       " 390,\n",
       " 2956,\n",
       " 2899,\n",
       " 2041,\n",
       " 2056,\n",
       " 310,\n",
       " 670,\n",
       " 2805,\n",
       " 1041,\n",
       " 2398,\n",
       " 1343,\n",
       " 2328,\n",
       " 2107,\n",
       " 2156,\n",
       " 1134,\n",
       " 1294,\n",
       " 7,\n",
       " 834,\n",
       " 1883,\n",
       " 1735,\n",
       " 1453,\n",
       " 315,\n",
       " 1396,\n",
       " 155,\n",
       " 727,\n",
       " 2388,\n",
       " 540,\n",
       " 2130,\n",
       " 1231,\n",
       " 2087,\n",
       " 2906,\n",
       " 1112,\n",
       " 2234,\n",
       " 2559,\n",
       " 520,\n",
       " 2531,\n",
       " 2637,\n",
       " 215,\n",
       " 2458,\n",
       " 2916,\n",
       " 270,\n",
       " 2773,\n",
       " 2379,\n",
       " 2951,\n",
       " 458,\n",
       " 2133,\n",
       " 1674,\n",
       " 441,\n",
       " 174,\n",
       " 1077,\n",
       " 1755,\n",
       " 434,\n",
       " 1779,\n",
       " 1411,\n",
       " 1430,\n",
       " 1264,\n",
       " 2857,\n",
       " 2665,\n",
       " 2687,\n",
       " 643,\n",
       " 300,\n",
       " 2525,\n",
       " 848,\n",
       " 2483,\n",
       " 2188,\n",
       " 1835,\n",
       " 1143,\n",
       " 2273,\n",
       " 2112,\n",
       " 2618,\n",
       " 1508,\n",
       " 2436,\n",
       " 1688,\n",
       " 568,\n",
       " 1833,\n",
       " 2213,\n",
       " 2048,\n",
       " 2631,\n",
       " 1829,\n",
       " 1460,\n",
       " 2686,\n",
       " 924,\n",
       " 641,\n",
       " 352,\n",
       " 1816,\n",
       " 2189,\n",
       " 873,\n",
       " 1775,\n",
       " 1646,\n",
       " 2587,\n",
       " 1146,\n",
       " 252,\n",
       " 91,\n",
       " 959,\n",
       " 1877,\n",
       " 2978,\n",
       " 329,\n",
       " 146,\n",
       " 2479,\n",
       " 902,\n",
       " 416]"
      ]
     },
     "execution_count": 125,
     "metadata": {},
     "output_type": "execute_result"
    }
   ],
   "source": [
    "user_relevant_set"
   ]
  },
  {
   "cell_type": "code",
   "execution_count": 128,
   "metadata": {},
   "outputs": [
    {
     "data": {
      "text/plain": [
       "408"
      ]
     },
     "execution_count": 128,
     "metadata": {},
     "output_type": "execute_result"
    }
   ],
   "source": [
    "len(user_relevant_set)"
   ]
  },
  {
   "cell_type": "code",
   "execution_count": null,
   "metadata": {},
   "outputs": [],
   "source": [
    "#user_relevant_set"
   ]
  },
  {
   "cell_type": "code",
   "execution_count": null,
   "metadata": {},
   "outputs": [],
   "source": []
  },
  {
   "cell_type": "code",
   "execution_count": 129,
   "metadata": {},
   "outputs": [],
   "source": [
    "user_predicted_set = prediction_df.iloc[user_index].sort_values(ascending=False)[:10].index.tolist()"
   ]
  },
  {
   "cell_type": "code",
   "execution_count": 130,
   "metadata": {},
   "outputs": [
    {
     "data": {
      "text/plain": [
       "10"
      ]
     },
     "execution_count": 130,
     "metadata": {},
     "output_type": "execute_result"
    }
   ],
   "source": [
    "len(user_predicted_set)"
   ]
  },
  {
   "cell_type": "code",
   "execution_count": 131,
   "metadata": {},
   "outputs": [
    {
     "data": {
      "text/plain": [
       "[104, 575, 1540, 1095, 1745, 870, 1632, 2188, 2552, 1495]"
      ]
     },
     "execution_count": 131,
     "metadata": {},
     "output_type": "execute_result"
    }
   ],
   "source": [
    "user_predicted_set"
   ]
  },
  {
   "cell_type": "code",
   "execution_count": null,
   "metadata": {},
   "outputs": [],
   "source": []
  },
  {
   "cell_type": "code",
   "execution_count": 132,
   "metadata": {},
   "outputs": [
    {
     "data": {
      "text/plain": [
       "1"
      ]
     },
     "execution_count": 132,
     "metadata": {},
     "output_type": "execute_result"
    }
   ],
   "source": [
    "len(list(set(user_relevant_set) & set(user_predicted_set)))"
   ]
  },
  {
   "cell_type": "code",
   "execution_count": null,
   "metadata": {},
   "outputs": [],
   "source": []
  },
  {
   "cell_type": "code",
   "execution_count": 133,
   "metadata": {},
   "outputs": [],
   "source": [
    "precision_at_10 = len(list(set(user_relevant_set) & set(user_predicted_set)))/10"
   ]
  },
  {
   "cell_type": "code",
   "execution_count": null,
   "metadata": {},
   "outputs": [],
   "source": []
  },
  {
   "cell_type": "code",
   "execution_count": 134,
   "metadata": {},
   "outputs": [
    {
     "data": {
      "text/plain": [
       "0.1"
      ]
     },
     "execution_count": 134,
     "metadata": {},
     "output_type": "execute_result"
    }
   ],
   "source": [
    "precision_at_10"
   ]
  },
  {
   "cell_type": "code",
   "execution_count": null,
   "metadata": {},
   "outputs": [],
   "source": []
  },
  {
   "cell_type": "markdown",
   "metadata": {},
   "source": [
    "# Global Average Precision@K"
   ]
  },
  {
   "cell_type": "code",
   "execution_count": 135,
   "metadata": {},
   "outputs": [],
   "source": [
    "global_precision = 0"
   ]
  },
  {
   "cell_type": "code",
   "execution_count": 136,
   "metadata": {},
   "outputs": [
    {
     "data": {
      "text/plain": [
       "1895"
      ]
     },
     "execution_count": 136,
     "metadata": {},
     "output_type": "execute_result"
    }
   ],
   "source": [
    "ratings['user_id'].nunique()"
   ]
  },
  {
   "cell_type": "code",
   "execution_count": null,
   "metadata": {},
   "outputs": [],
   "source": []
  },
  {
   "cell_type": "markdown",
   "metadata": {},
   "source": [
    "## Modularize the code"
   ]
  },
  {
   "cell_type": "code",
   "execution_count": 138,
   "metadata": {},
   "outputs": [],
   "source": [
    "for user_index in range(0,1895):\n",
    "    user_relevant_set = ratings[ratings['user_id']==user_index].sort_values(by='rating',ascending=False)['news_id'].tolist()\n",
    "    user_predicted_set = prediction_df.iloc[user_index].sort_values(ascending=False)[:10].index.tolist()\n",
    "    precision_at_10 = (len(list(set(user_relevant_set) & set(user_predicted_set))))/10\n",
    "    \n",
    "    global_precision = global_precision + precision_at_10\n"
   ]
  },
  {
   "cell_type": "code",
   "execution_count": 139,
   "metadata": {},
   "outputs": [
    {
     "data": {
      "text/plain": [
       "24.40000000000005"
      ]
     },
     "execution_count": 139,
     "metadata": {},
     "output_type": "execute_result"
    }
   ],
   "source": [
    "global_precision"
   ]
  },
  {
   "cell_type": "code",
   "execution_count": null,
   "metadata": {},
   "outputs": [],
   "source": []
  },
  {
   "cell_type": "code",
   "execution_count": 140,
   "metadata": {},
   "outputs": [],
   "source": [
    "global_average_precision = global_precision/ratings['user_id'].nunique()"
   ]
  },
  {
   "cell_type": "code",
   "execution_count": 141,
   "metadata": {},
   "outputs": [
    {
     "data": {
      "text/plain": [
       "0.012875989445910316"
      ]
     },
     "execution_count": 141,
     "metadata": {},
     "output_type": "execute_result"
    }
   ],
   "source": [
    "global_average_precision"
   ]
  },
  {
   "cell_type": "code",
   "execution_count": null,
   "metadata": {},
   "outputs": [],
   "source": []
  },
  {
   "cell_type": "code",
   "execution_count": null,
   "metadata": {},
   "outputs": [],
   "source": []
  },
  {
   "cell_type": "code",
   "execution_count": null,
   "metadata": {},
   "outputs": [],
   "source": []
  },
  {
   "cell_type": "code",
   "execution_count": null,
   "metadata": {},
   "outputs": [],
   "source": []
  },
  {
   "cell_type": "code",
   "execution_count": null,
   "metadata": {},
   "outputs": [],
   "source": []
  },
  {
   "cell_type": "code",
   "execution_count": null,
   "metadata": {},
   "outputs": [],
   "source": []
  },
  {
   "cell_type": "markdown",
   "metadata": {},
   "source": [
    "### Don't recommend News which user has already seen "
   ]
  },
  {
   "cell_type": "code",
   "execution_count": 161,
   "metadata": {},
   "outputs": [],
   "source": [
    "df_user = ratings[ratings['user_id']==17]"
   ]
  },
  {
   "cell_type": "code",
   "execution_count": 162,
   "metadata": {},
   "outputs": [
    {
     "data": {
      "text/html": [
       "<div>\n",
       "<style scoped>\n",
       "    .dataframe tbody tr th:only-of-type {\n",
       "        vertical-align: middle;\n",
       "    }\n",
       "\n",
       "    .dataframe tbody tr th {\n",
       "        vertical-align: top;\n",
       "    }\n",
       "\n",
       "    .dataframe thead th {\n",
       "        text-align: right;\n",
       "    }\n",
       "</style>\n",
       "<table border=\"1\" class=\"dataframe\">\n",
       "  <thead>\n",
       "    <tr style=\"text-align: right;\">\n",
       "      <th></th>\n",
       "      <th>user_id</th>\n",
       "      <th>news_id</th>\n",
       "      <th>rating</th>\n",
       "    </tr>\n",
       "  </thead>\n",
       "  <tbody>\n",
       "    <tr>\n",
       "      <th>159</th>\n",
       "      <td>17</td>\n",
       "      <td>815</td>\n",
       "      <td>1.183774</td>\n",
       "    </tr>\n",
       "    <tr>\n",
       "      <th>305</th>\n",
       "      <td>17</td>\n",
       "      <td>2773</td>\n",
       "      <td>1.183774</td>\n",
       "    </tr>\n",
       "    <tr>\n",
       "      <th>313</th>\n",
       "      <td>17</td>\n",
       "      <td>1388</td>\n",
       "      <td>1.183774</td>\n",
       "    </tr>\n",
       "    <tr>\n",
       "      <th>356</th>\n",
       "      <td>17</td>\n",
       "      <td>51</td>\n",
       "      <td>1.183774</td>\n",
       "    </tr>\n",
       "    <tr>\n",
       "      <th>439</th>\n",
       "      <td>17</td>\n",
       "      <td>789</td>\n",
       "      <td>1.183774</td>\n",
       "    </tr>\n",
       "    <tr>\n",
       "      <th>...</th>\n",
       "      <td>...</td>\n",
       "      <td>...</td>\n",
       "      <td>...</td>\n",
       "    </tr>\n",
       "    <tr>\n",
       "      <th>72143</th>\n",
       "      <td>17</td>\n",
       "      <td>982</td>\n",
       "      <td>12.586945</td>\n",
       "    </tr>\n",
       "    <tr>\n",
       "      <th>72145</th>\n",
       "      <td>17</td>\n",
       "      <td>982</td>\n",
       "      <td>1.183774</td>\n",
       "    </tr>\n",
       "    <tr>\n",
       "      <th>72266</th>\n",
       "      <td>17</td>\n",
       "      <td>1874</td>\n",
       "      <td>12.586945</td>\n",
       "    </tr>\n",
       "    <tr>\n",
       "      <th>72301</th>\n",
       "      <td>17</td>\n",
       "      <td>443</td>\n",
       "      <td>1.183774</td>\n",
       "    </tr>\n",
       "    <tr>\n",
       "      <th>72307</th>\n",
       "      <td>17</td>\n",
       "      <td>443</td>\n",
       "      <td>12.586945</td>\n",
       "    </tr>\n",
       "  </tbody>\n",
       "</table>\n",
       "<p>408 rows × 3 columns</p>\n",
       "</div>"
      ],
      "text/plain": [
       "       user_id  news_id     rating\n",
       "159         17      815   1.183774\n",
       "305         17     2773   1.183774\n",
       "313         17     1388   1.183774\n",
       "356         17       51   1.183774\n",
       "439         17      789   1.183774\n",
       "...        ...      ...        ...\n",
       "72143       17      982  12.586945\n",
       "72145       17      982   1.183774\n",
       "72266       17     1874  12.586945\n",
       "72301       17      443   1.183774\n",
       "72307       17      443  12.586945\n",
       "\n",
       "[408 rows x 3 columns]"
      ]
     },
     "execution_count": 162,
     "metadata": {},
     "output_type": "execute_result"
    }
   ],
   "source": [
    "df_user"
   ]
  },
  {
   "cell_type": "code",
   "execution_count": 163,
   "metadata": {},
   "outputs": [
    {
     "data": {
      "text/plain": [
       "(408, 3)"
      ]
     },
     "execution_count": 163,
     "metadata": {},
     "output_type": "execute_result"
    }
   ],
   "source": [
    "df_user.shape"
   ]
  },
  {
   "cell_type": "code",
   "execution_count": 164,
   "metadata": {},
   "outputs": [
    {
     "data": {
      "text/plain": [
       "(50938, 3)"
      ]
     },
     "execution_count": 164,
     "metadata": {},
     "output_type": "execute_result"
    }
   ],
   "source": [
    "ratings.shape"
   ]
  },
  {
   "cell_type": "code",
   "execution_count": null,
   "metadata": {},
   "outputs": [],
   "source": []
  },
  {
   "cell_type": "code",
   "execution_count": null,
   "metadata": {},
   "outputs": [],
   "source": []
  },
  {
   "cell_type": "markdown",
   "metadata": {},
   "source": [
    "### Filter already watched News Article from the global result list "
   ]
  },
  {
   "cell_type": "code",
   "execution_count": 165,
   "metadata": {},
   "outputs": [],
   "source": [
    "merged_collab = pd.merge(news_output, df_user, on='news_id', how='left')"
   ]
  },
  {
   "cell_type": "code",
   "execution_count": 166,
   "metadata": {},
   "outputs": [
    {
     "data": {
      "text/html": [
       "<div>\n",
       "<style scoped>\n",
       "    .dataframe tbody tr th:only-of-type {\n",
       "        vertical-align: middle;\n",
       "    }\n",
       "\n",
       "    .dataframe tbody tr th {\n",
       "        vertical-align: top;\n",
       "    }\n",
       "\n",
       "    .dataframe thead th {\n",
       "        text-align: right;\n",
       "    }\n",
       "</style>\n",
       "<table border=\"1\" class=\"dataframe\">\n",
       "  <thead>\n",
       "    <tr style=\"text-align: right;\">\n",
       "      <th></th>\n",
       "      <th>news_id</th>\n",
       "      <th>score</th>\n",
       "      <th>item_id</th>\n",
       "      <th>title</th>\n",
       "      <th>collaborative_score_normalized</th>\n",
       "      <th>user_id</th>\n",
       "      <th>rating</th>\n",
       "    </tr>\n",
       "  </thead>\n",
       "  <tbody>\n",
       "    <tr>\n",
       "      <th>0</th>\n",
       "      <td>104</td>\n",
       "      <td>38.437199</td>\n",
       "      <td>-8722526817358894474</td>\n",
       "      <td>VR possibilities at Google I/O 2016: Four thin...</td>\n",
       "      <td>1.000000</td>\n",
       "      <td>NaN</td>\n",
       "      <td>NaN</td>\n",
       "    </tr>\n",
       "    <tr>\n",
       "      <th>1</th>\n",
       "      <td>575</td>\n",
       "      <td>29.147798</td>\n",
       "      <td>-5750828394349042089</td>\n",
       "      <td>Artificial Intelligence Software Is Booming. B...</td>\n",
       "      <td>0.758323</td>\n",
       "      <td>NaN</td>\n",
       "      <td>NaN</td>\n",
       "    </tr>\n",
       "    <tr>\n",
       "      <th>2</th>\n",
       "      <td>1540</td>\n",
       "      <td>27.983292</td>\n",
       "      <td>335910242745901755</td>\n",
       "      <td>Inbox by Gmail ganha integração com Trello, Gi...</td>\n",
       "      <td>0.728026</td>\n",
       "      <td>NaN</td>\n",
       "      <td>NaN</td>\n",
       "    </tr>\n",
       "    <tr>\n",
       "      <th>3</th>\n",
       "      <td>1095</td>\n",
       "      <td>7.841106</td>\n",
       "      <td>-2373876979584952849</td>\n",
       "      <td>OpenVpn rodando com Docker no Raspberry Pi</td>\n",
       "      <td>0.203998</td>\n",
       "      <td>NaN</td>\n",
       "      <td>NaN</td>\n",
       "    </tr>\n",
       "    <tr>\n",
       "      <th>4</th>\n",
       "      <td>1745</td>\n",
       "      <td>7.756659</td>\n",
       "      <td>1632166079091127830</td>\n",
       "      <td>Cinco dicas de executivos de sucesso para se d...</td>\n",
       "      <td>0.201801</td>\n",
       "      <td>NaN</td>\n",
       "      <td>NaN</td>\n",
       "    </tr>\n",
       "  </tbody>\n",
       "</table>\n",
       "</div>"
      ],
      "text/plain": [
       "   news_id      score              item_id  \\\n",
       "0      104  38.437199 -8722526817358894474   \n",
       "1      575  29.147798 -5750828394349042089   \n",
       "2     1540  27.983292   335910242745901755   \n",
       "3     1095   7.841106 -2373876979584952849   \n",
       "4     1745   7.756659  1632166079091127830   \n",
       "\n",
       "                                               title  \\\n",
       "0  VR possibilities at Google I/O 2016: Four thin...   \n",
       "1  Artificial Intelligence Software Is Booming. B...   \n",
       "2  Inbox by Gmail ganha integração com Trello, Gi...   \n",
       "3         OpenVpn rodando com Docker no Raspberry Pi   \n",
       "4  Cinco dicas de executivos de sucesso para se d...   \n",
       "\n",
       "   collaborative_score_normalized  user_id  rating  \n",
       "0                        1.000000      NaN     NaN  \n",
       "1                        0.758323      NaN     NaN  \n",
       "2                        0.728026      NaN     NaN  \n",
       "3                        0.203998      NaN     NaN  \n",
       "4                        0.201801      NaN     NaN  "
      ]
     },
     "execution_count": 166,
     "metadata": {},
     "output_type": "execute_result"
    }
   ],
   "source": [
    "merged_collab.head()"
   ]
  },
  {
   "cell_type": "code",
   "execution_count": 167,
   "metadata": {},
   "outputs": [
    {
     "data": {
      "text/plain": [
       "(3115, 7)"
      ]
     },
     "execution_count": 167,
     "metadata": {},
     "output_type": "execute_result"
    }
   ],
   "source": [
    "merged_collab.shape"
   ]
  },
  {
   "cell_type": "code",
   "execution_count": null,
   "metadata": {},
   "outputs": [],
   "source": []
  },
  {
   "cell_type": "code",
   "execution_count": 170,
   "metadata": {},
   "outputs": [],
   "source": [
    "merged_collab = merged_collab.drop(merged_collab[merged_collab['rating']>0].index)"
   ]
  },
  {
   "cell_type": "code",
   "execution_count": 171,
   "metadata": {},
   "outputs": [
    {
     "data": {
      "text/plain": [
       "(2704, 7)"
      ]
     },
     "execution_count": 171,
     "metadata": {},
     "output_type": "execute_result"
    }
   ],
   "source": [
    "merged_collab.shape"
   ]
  },
  {
   "cell_type": "code",
   "execution_count": 172,
   "metadata": {},
   "outputs": [
    {
     "data": {
      "text/plain": [
       "0     VR possibilities at Google I/O 2016: Four thin...\n",
       "1     Artificial Intelligence Software Is Booming. B...\n",
       "2     Inbox by Gmail ganha integração com Trello, Gi...\n",
       "3            OpenVpn rodando com Docker no Raspberry Pi\n",
       "4     Cinco dicas de executivos de sucesso para se d...\n",
       "5     13 Killer SEO Copywriting Tips (With Examples ...\n",
       "6     Pixelated photos and licence plates can be unb...\n",
       "8           Introduction to Spring REST Docs | Baeldung\n",
       "9                    Sympathy for Lady Vengeance (2005)\n",
       "10    Artigos e Palestras - Programa Agricultura de ...\n",
       "Name: title, dtype: object"
      ]
     },
     "execution_count": 172,
     "metadata": {},
     "output_type": "execute_result"
    }
   ],
   "source": [
    "merged_collab['title'][:10]"
   ]
  },
  {
   "cell_type": "code",
   "execution_count": null,
   "metadata": {},
   "outputs": [],
   "source": []
  },
  {
   "cell_type": "code",
   "execution_count": null,
   "metadata": {},
   "outputs": [],
   "source": []
  },
  {
   "cell_type": "code",
   "execution_count": null,
   "metadata": {},
   "outputs": [],
   "source": []
  },
  {
   "cell_type": "markdown",
   "metadata": {},
   "source": [
    "# Collaborative Filtering: Item Based"
   ]
  },
  {
   "cell_type": "code",
   "execution_count": 174,
   "metadata": {},
   "outputs": [
    {
     "data": {
      "text/plain": [
       "array([[0.       , 0.       , 0.       , ..., 0.       , 0.       ,\n",
       "        0.       ],\n",
       "       [1.1837737, 0.       , 0.       , ..., 0.       , 0.       ,\n",
       "        0.       ],\n",
       "       [0.       , 0.       , 0.       , ..., 0.       , 0.       ,\n",
       "        0.       ],\n",
       "       ...,\n",
       "       [0.       , 0.       , 0.       , ..., 0.       , 0.       ,\n",
       "        0.       ],\n",
       "       [0.       , 0.       , 0.       , ..., 0.       , 0.       ,\n",
       "        0.       ],\n",
       "       [0.       , 0.       , 0.       , ..., 0.       , 0.       ,\n",
       "        0.       ]])"
      ]
     },
     "execution_count": 174,
     "metadata": {},
     "output_type": "execute_result"
    }
   ],
   "source": [
    "data_matrix"
   ]
  },
  {
   "cell_type": "code",
   "execution_count": 175,
   "metadata": {},
   "outputs": [
    {
     "data": {
      "text/plain": [
       "(1895, 2987)"
      ]
     },
     "execution_count": 175,
     "metadata": {},
     "output_type": "execute_result"
    }
   ],
   "source": [
    "data_matrix.shape"
   ]
  },
  {
   "cell_type": "code",
   "execution_count": 176,
   "metadata": {},
   "outputs": [
    {
     "data": {
      "text/plain": [
       "array([[0.       , 1.1837737, 0.       , ..., 0.       , 0.       ,\n",
       "        0.       ],\n",
       "       [0.       , 0.       , 0.       , ..., 0.       , 0.       ,\n",
       "        0.       ],\n",
       "       [0.       , 0.       , 0.       , ..., 0.       , 0.       ,\n",
       "        0.       ],\n",
       "       ...,\n",
       "       [0.       , 0.       , 0.       , ..., 0.       , 0.       ,\n",
       "        0.       ],\n",
       "       [0.       , 0.       , 0.       , ..., 0.       , 0.       ,\n",
       "        0.       ],\n",
       "       [0.       , 0.       , 0.       , ..., 0.       , 0.       ,\n",
       "        0.       ]])"
      ]
     },
     "execution_count": 176,
     "metadata": {},
     "output_type": "execute_result"
    }
   ],
   "source": [
    "data_matrix.T"
   ]
  },
  {
   "cell_type": "code",
   "execution_count": null,
   "metadata": {},
   "outputs": [],
   "source": []
  },
  {
   "cell_type": "code",
   "execution_count": 177,
   "metadata": {},
   "outputs": [
    {
     "data": {
      "text/plain": [
       "(2987, 1895)"
      ]
     },
     "execution_count": 177,
     "metadata": {},
     "output_type": "execute_result"
    }
   ],
   "source": [
    "data_matrix.T.shape"
   ]
  },
  {
   "cell_type": "code",
   "execution_count": null,
   "metadata": {},
   "outputs": [],
   "source": []
  },
  {
   "cell_type": "code",
   "execution_count": 178,
   "metadata": {},
   "outputs": [],
   "source": [
    "item_similarity = 1- pairwise_distances(data_matrix.T, metric='cosine')"
   ]
  },
  {
   "cell_type": "code",
   "execution_count": 179,
   "metadata": {},
   "outputs": [
    {
     "data": {
      "text/plain": [
       "(2987, 2987)"
      ]
     },
     "execution_count": 179,
     "metadata": {},
     "output_type": "execute_result"
    }
   ],
   "source": [
    "item_similarity.shape"
   ]
  },
  {
   "cell_type": "code",
   "execution_count": 181,
   "metadata": {},
   "outputs": [
    {
     "data": {
      "text/plain": [
       "array([[1.        , 0.        , 0.        , ..., 0.        , 0.        ,\n",
       "        0.        ],\n",
       "       [0.        , 1.        , 0.05863781, ..., 0.00547255, 0.02886048,\n",
       "        0.        ],\n",
       "       [0.        , 0.05863781, 1.        , ..., 0.01351198, 0.        ,\n",
       "        0.14255058],\n",
       "       ...,\n",
       "       [0.        , 0.00547255, 0.01351198, ..., 1.        , 0.03792418,\n",
       "        0.        ],\n",
       "       [0.        , 0.02886048, 0.        , ..., 0.03792418, 1.        ,\n",
       "        0.        ],\n",
       "       [0.        , 0.        , 0.14255058, ..., 0.        , 0.        ,\n",
       "        1.        ]])"
      ]
     },
     "execution_count": 181,
     "metadata": {},
     "output_type": "execute_result"
    }
   ],
   "source": [
    "item_similarity"
   ]
  },
  {
   "cell_type": "code",
   "execution_count": null,
   "metadata": {},
   "outputs": [],
   "source": []
  },
  {
   "cell_type": "code",
   "execution_count": 182,
   "metadata": {},
   "outputs": [],
   "source": [
    "news_index = 20"
   ]
  },
  {
   "cell_type": "code",
   "execution_count": null,
   "metadata": {},
   "outputs": [],
   "source": []
  },
  {
   "cell_type": "code",
   "execution_count": 183,
   "metadata": {},
   "outputs": [],
   "source": [
    "news_prediction = pd.DataFrame(item_similarity)"
   ]
  },
  {
   "cell_type": "code",
   "execution_count": 184,
   "metadata": {},
   "outputs": [
    {
     "data": {
      "text/html": [
       "<div>\n",
       "<style scoped>\n",
       "    .dataframe tbody tr th:only-of-type {\n",
       "        vertical-align: middle;\n",
       "    }\n",
       "\n",
       "    .dataframe tbody tr th {\n",
       "        vertical-align: top;\n",
       "    }\n",
       "\n",
       "    .dataframe thead th {\n",
       "        text-align: right;\n",
       "    }\n",
       "</style>\n",
       "<table border=\"1\" class=\"dataframe\">\n",
       "  <thead>\n",
       "    <tr style=\"text-align: right;\">\n",
       "      <th></th>\n",
       "      <th>0</th>\n",
       "      <th>1</th>\n",
       "      <th>2</th>\n",
       "      <th>3</th>\n",
       "      <th>4</th>\n",
       "      <th>5</th>\n",
       "      <th>6</th>\n",
       "      <th>7</th>\n",
       "      <th>8</th>\n",
       "      <th>9</th>\n",
       "      <th>...</th>\n",
       "      <th>2977</th>\n",
       "      <th>2978</th>\n",
       "      <th>2979</th>\n",
       "      <th>2980</th>\n",
       "      <th>2981</th>\n",
       "      <th>2982</th>\n",
       "      <th>2983</th>\n",
       "      <th>2984</th>\n",
       "      <th>2985</th>\n",
       "      <th>2986</th>\n",
       "    </tr>\n",
       "  </thead>\n",
       "  <tbody>\n",
       "    <tr>\n",
       "      <th>0</th>\n",
       "      <td>1.000000</td>\n",
       "      <td>0.000000</td>\n",
       "      <td>0.000000</td>\n",
       "      <td>0.000000</td>\n",
       "      <td>0.062017</td>\n",
       "      <td>0.0</td>\n",
       "      <td>0.000000</td>\n",
       "      <td>0.000000</td>\n",
       "      <td>0.000000</td>\n",
       "      <td>0.000000</td>\n",
       "      <td>...</td>\n",
       "      <td>0.000000</td>\n",
       "      <td>0.000000</td>\n",
       "      <td>0.000000</td>\n",
       "      <td>0.000000</td>\n",
       "      <td>0.000000</td>\n",
       "      <td>0.000000</td>\n",
       "      <td>0.000000</td>\n",
       "      <td>0.000000</td>\n",
       "      <td>0.000000</td>\n",
       "      <td>0.000000</td>\n",
       "    </tr>\n",
       "    <tr>\n",
       "      <th>1</th>\n",
       "      <td>0.000000</td>\n",
       "      <td>1.000000</td>\n",
       "      <td>0.058638</td>\n",
       "      <td>0.000000</td>\n",
       "      <td>0.025312</td>\n",
       "      <td>0.0</td>\n",
       "      <td>0.000000</td>\n",
       "      <td>0.000000</td>\n",
       "      <td>0.000000</td>\n",
       "      <td>0.032267</td>\n",
       "      <td>...</td>\n",
       "      <td>0.000000</td>\n",
       "      <td>0.000000</td>\n",
       "      <td>0.000000</td>\n",
       "      <td>0.030422</td>\n",
       "      <td>0.278213</td>\n",
       "      <td>0.002375</td>\n",
       "      <td>0.000000</td>\n",
       "      <td>0.005473</td>\n",
       "      <td>0.028860</td>\n",
       "      <td>0.000000</td>\n",
       "    </tr>\n",
       "    <tr>\n",
       "      <th>2</th>\n",
       "      <td>0.000000</td>\n",
       "      <td>0.058638</td>\n",
       "      <td>1.000000</td>\n",
       "      <td>0.000000</td>\n",
       "      <td>0.178198</td>\n",
       "      <td>0.0</td>\n",
       "      <td>0.108909</td>\n",
       "      <td>0.022762</td>\n",
       "      <td>0.022707</td>\n",
       "      <td>0.442936</td>\n",
       "      <td>...</td>\n",
       "      <td>0.171923</td>\n",
       "      <td>0.016096</td>\n",
       "      <td>0.108240</td>\n",
       "      <td>0.235628</td>\n",
       "      <td>0.014396</td>\n",
       "      <td>0.001676</td>\n",
       "      <td>0.006971</td>\n",
       "      <td>0.013512</td>\n",
       "      <td>0.000000</td>\n",
       "      <td>0.142551</td>\n",
       "    </tr>\n",
       "    <tr>\n",
       "      <th>3</th>\n",
       "      <td>0.000000</td>\n",
       "      <td>0.000000</td>\n",
       "      <td>0.000000</td>\n",
       "      <td>1.000000</td>\n",
       "      <td>0.000000</td>\n",
       "      <td>0.0</td>\n",
       "      <td>0.000000</td>\n",
       "      <td>0.000000</td>\n",
       "      <td>0.000000</td>\n",
       "      <td>0.000000</td>\n",
       "      <td>...</td>\n",
       "      <td>0.064232</td>\n",
       "      <td>0.000000</td>\n",
       "      <td>0.041512</td>\n",
       "      <td>0.000000</td>\n",
       "      <td>0.000000</td>\n",
       "      <td>0.000000</td>\n",
       "      <td>0.000000</td>\n",
       "      <td>0.000000</td>\n",
       "      <td>0.000000</td>\n",
       "      <td>0.054671</td>\n",
       "    </tr>\n",
       "    <tr>\n",
       "      <th>4</th>\n",
       "      <td>0.062017</td>\n",
       "      <td>0.025312</td>\n",
       "      <td>0.178198</td>\n",
       "      <td>0.000000</td>\n",
       "      <td>1.000000</td>\n",
       "      <td>0.0</td>\n",
       "      <td>0.094870</td>\n",
       "      <td>0.000000</td>\n",
       "      <td>0.000000</td>\n",
       "      <td>0.098058</td>\n",
       "      <td>...</td>\n",
       "      <td>0.012763</td>\n",
       "      <td>0.069338</td>\n",
       "      <td>0.000000</td>\n",
       "      <td>0.184900</td>\n",
       "      <td>0.124035</td>\n",
       "      <td>0.200679</td>\n",
       "      <td>0.000000</td>\n",
       "      <td>0.016631</td>\n",
       "      <td>0.000000</td>\n",
       "      <td>0.000000</td>\n",
       "    </tr>\n",
       "    <tr>\n",
       "      <th>...</th>\n",
       "      <td>...</td>\n",
       "      <td>...</td>\n",
       "      <td>...</td>\n",
       "      <td>...</td>\n",
       "      <td>...</td>\n",
       "      <td>...</td>\n",
       "      <td>...</td>\n",
       "      <td>...</td>\n",
       "      <td>...</td>\n",
       "      <td>...</td>\n",
       "      <td>...</td>\n",
       "      <td>...</td>\n",
       "      <td>...</td>\n",
       "      <td>...</td>\n",
       "      <td>...</td>\n",
       "      <td>...</td>\n",
       "      <td>...</td>\n",
       "      <td>...</td>\n",
       "      <td>...</td>\n",
       "      <td>...</td>\n",
       "      <td>...</td>\n",
       "    </tr>\n",
       "    <tr>\n",
       "      <th>2982</th>\n",
       "      <td>0.000000</td>\n",
       "      <td>0.002375</td>\n",
       "      <td>0.001676</td>\n",
       "      <td>0.000000</td>\n",
       "      <td>0.200679</td>\n",
       "      <td>0.0</td>\n",
       "      <td>0.403624</td>\n",
       "      <td>0.000000</td>\n",
       "      <td>0.036717</td>\n",
       "      <td>0.000000</td>\n",
       "      <td>...</td>\n",
       "      <td>0.066593</td>\n",
       "      <td>0.474119</td>\n",
       "      <td>0.000000</td>\n",
       "      <td>0.008675</td>\n",
       "      <td>0.011639</td>\n",
       "      <td>1.000000</td>\n",
       "      <td>0.391647</td>\n",
       "      <td>0.006242</td>\n",
       "      <td>0.016460</td>\n",
       "      <td>0.000000</td>\n",
       "    </tr>\n",
       "    <tr>\n",
       "      <th>2983</th>\n",
       "      <td>0.000000</td>\n",
       "      <td>0.000000</td>\n",
       "      <td>0.006971</td>\n",
       "      <td>0.000000</td>\n",
       "      <td>0.000000</td>\n",
       "      <td>0.0</td>\n",
       "      <td>0.012735</td>\n",
       "      <td>0.000000</td>\n",
       "      <td>0.000000</td>\n",
       "      <td>0.000000</td>\n",
       "      <td>...</td>\n",
       "      <td>0.019931</td>\n",
       "      <td>0.362248</td>\n",
       "      <td>0.023548</td>\n",
       "      <td>0.000000</td>\n",
       "      <td>0.000000</td>\n",
       "      <td>0.391647</td>\n",
       "      <td>1.000000</td>\n",
       "      <td>0.002233</td>\n",
       "      <td>0.011774</td>\n",
       "      <td>0.015506</td>\n",
       "    </tr>\n",
       "    <tr>\n",
       "      <th>2984</th>\n",
       "      <td>0.000000</td>\n",
       "      <td>0.005473</td>\n",
       "      <td>0.013512</td>\n",
       "      <td>0.000000</td>\n",
       "      <td>0.016631</td>\n",
       "      <td>0.0</td>\n",
       "      <td>0.003526</td>\n",
       "      <td>0.000000</td>\n",
       "      <td>0.000000</td>\n",
       "      <td>0.000000</td>\n",
       "      <td>...</td>\n",
       "      <td>0.005519</td>\n",
       "      <td>0.059963</td>\n",
       "      <td>0.000000</td>\n",
       "      <td>0.059963</td>\n",
       "      <td>0.026816</td>\n",
       "      <td>0.006242</td>\n",
       "      <td>0.002233</td>\n",
       "      <td>1.000000</td>\n",
       "      <td>0.037924</td>\n",
       "      <td>0.000000</td>\n",
       "    </tr>\n",
       "    <tr>\n",
       "      <th>2985</th>\n",
       "      <td>0.000000</td>\n",
       "      <td>0.028860</td>\n",
       "      <td>0.000000</td>\n",
       "      <td>0.000000</td>\n",
       "      <td>0.000000</td>\n",
       "      <td>0.0</td>\n",
       "      <td>0.018597</td>\n",
       "      <td>0.000000</td>\n",
       "      <td>0.000000</td>\n",
       "      <td>0.000000</td>\n",
       "      <td>...</td>\n",
       "      <td>0.029104</td>\n",
       "      <td>0.158114</td>\n",
       "      <td>0.000000</td>\n",
       "      <td>0.000000</td>\n",
       "      <td>0.000000</td>\n",
       "      <td>0.016460</td>\n",
       "      <td>0.011774</td>\n",
       "      <td>0.037924</td>\n",
       "      <td>1.000000</td>\n",
       "      <td>0.000000</td>\n",
       "    </tr>\n",
       "    <tr>\n",
       "      <th>2986</th>\n",
       "      <td>0.000000</td>\n",
       "      <td>0.000000</td>\n",
       "      <td>0.142551</td>\n",
       "      <td>0.054671</td>\n",
       "      <td>0.000000</td>\n",
       "      <td>0.0</td>\n",
       "      <td>0.324200</td>\n",
       "      <td>0.000000</td>\n",
       "      <td>0.000000</td>\n",
       "      <td>0.000000</td>\n",
       "      <td>...</td>\n",
       "      <td>0.407554</td>\n",
       "      <td>0.000000</td>\n",
       "      <td>0.756840</td>\n",
       "      <td>0.000000</td>\n",
       "      <td>0.000000</td>\n",
       "      <td>0.000000</td>\n",
       "      <td>0.015506</td>\n",
       "      <td>0.000000</td>\n",
       "      <td>0.000000</td>\n",
       "      <td>1.000000</td>\n",
       "    </tr>\n",
       "  </tbody>\n",
       "</table>\n",
       "<p>2987 rows × 2987 columns</p>\n",
       "</div>"
      ],
      "text/plain": [
       "          0         1         2         3         4     5         6     \\\n",
       "0     1.000000  0.000000  0.000000  0.000000  0.062017   0.0  0.000000   \n",
       "1     0.000000  1.000000  0.058638  0.000000  0.025312   0.0  0.000000   \n",
       "2     0.000000  0.058638  1.000000  0.000000  0.178198   0.0  0.108909   \n",
       "3     0.000000  0.000000  0.000000  1.000000  0.000000   0.0  0.000000   \n",
       "4     0.062017  0.025312  0.178198  0.000000  1.000000   0.0  0.094870   \n",
       "...        ...       ...       ...       ...       ...   ...       ...   \n",
       "2982  0.000000  0.002375  0.001676  0.000000  0.200679   0.0  0.403624   \n",
       "2983  0.000000  0.000000  0.006971  0.000000  0.000000   0.0  0.012735   \n",
       "2984  0.000000  0.005473  0.013512  0.000000  0.016631   0.0  0.003526   \n",
       "2985  0.000000  0.028860  0.000000  0.000000  0.000000   0.0  0.018597   \n",
       "2986  0.000000  0.000000  0.142551  0.054671  0.000000   0.0  0.324200   \n",
       "\n",
       "          7         8         9     ...      2977      2978      2979  \\\n",
       "0     0.000000  0.000000  0.000000  ...  0.000000  0.000000  0.000000   \n",
       "1     0.000000  0.000000  0.032267  ...  0.000000  0.000000  0.000000   \n",
       "2     0.022762  0.022707  0.442936  ...  0.171923  0.016096  0.108240   \n",
       "3     0.000000  0.000000  0.000000  ...  0.064232  0.000000  0.041512   \n",
       "4     0.000000  0.000000  0.098058  ...  0.012763  0.069338  0.000000   \n",
       "...        ...       ...       ...  ...       ...       ...       ...   \n",
       "2982  0.000000  0.036717  0.000000  ...  0.066593  0.474119  0.000000   \n",
       "2983  0.000000  0.000000  0.000000  ...  0.019931  0.362248  0.023548   \n",
       "2984  0.000000  0.000000  0.000000  ...  0.005519  0.059963  0.000000   \n",
       "2985  0.000000  0.000000  0.000000  ...  0.029104  0.158114  0.000000   \n",
       "2986  0.000000  0.000000  0.000000  ...  0.407554  0.000000  0.756840   \n",
       "\n",
       "          2980      2981      2982      2983      2984      2985      2986  \n",
       "0     0.000000  0.000000  0.000000  0.000000  0.000000  0.000000  0.000000  \n",
       "1     0.030422  0.278213  0.002375  0.000000  0.005473  0.028860  0.000000  \n",
       "2     0.235628  0.014396  0.001676  0.006971  0.013512  0.000000  0.142551  \n",
       "3     0.000000  0.000000  0.000000  0.000000  0.000000  0.000000  0.054671  \n",
       "4     0.184900  0.124035  0.200679  0.000000  0.016631  0.000000  0.000000  \n",
       "...        ...       ...       ...       ...       ...       ...       ...  \n",
       "2982  0.008675  0.011639  1.000000  0.391647  0.006242  0.016460  0.000000  \n",
       "2983  0.000000  0.000000  0.391647  1.000000  0.002233  0.011774  0.015506  \n",
       "2984  0.059963  0.026816  0.006242  0.002233  1.000000  0.037924  0.000000  \n",
       "2985  0.000000  0.000000  0.016460  0.011774  0.037924  1.000000  0.000000  \n",
       "2986  0.000000  0.000000  0.000000  0.015506  0.000000  0.000000  1.000000  \n",
       "\n",
       "[2987 rows x 2987 columns]"
      ]
     },
     "execution_count": 184,
     "metadata": {},
     "output_type": "execute_result"
    }
   ],
   "source": [
    "news_prediction"
   ]
  },
  {
   "cell_type": "code",
   "execution_count": null,
   "metadata": {},
   "outputs": [],
   "source": []
  },
  {
   "cell_type": "code",
   "execution_count": 185,
   "metadata": {},
   "outputs": [],
   "source": [
    "item_recommendation = pd.DataFrame(news_prediction.iloc[news_index].sort_values(ascending=False))"
   ]
  },
  {
   "cell_type": "code",
   "execution_count": 186,
   "metadata": {},
   "outputs": [
    {
     "data": {
      "text/html": [
       "<div>\n",
       "<style scoped>\n",
       "    .dataframe tbody tr th:only-of-type {\n",
       "        vertical-align: middle;\n",
       "    }\n",
       "\n",
       "    .dataframe tbody tr th {\n",
       "        vertical-align: top;\n",
       "    }\n",
       "\n",
       "    .dataframe thead th {\n",
       "        text-align: right;\n",
       "    }\n",
       "</style>\n",
       "<table border=\"1\" class=\"dataframe\">\n",
       "  <thead>\n",
       "    <tr style=\"text-align: right;\">\n",
       "      <th></th>\n",
       "      <th>20</th>\n",
       "    </tr>\n",
       "  </thead>\n",
       "  <tbody>\n",
       "    <tr>\n",
       "      <th>20</th>\n",
       "      <td>1.000000</td>\n",
       "    </tr>\n",
       "    <tr>\n",
       "      <th>2892</th>\n",
       "      <td>0.520117</td>\n",
       "    </tr>\n",
       "    <tr>\n",
       "      <th>955</th>\n",
       "      <td>0.518050</td>\n",
       "    </tr>\n",
       "    <tr>\n",
       "      <th>1028</th>\n",
       "      <td>0.508072</td>\n",
       "    </tr>\n",
       "    <tr>\n",
       "      <th>2501</th>\n",
       "      <td>0.500000</td>\n",
       "    </tr>\n",
       "    <tr>\n",
       "      <th>...</th>\n",
       "      <td>...</td>\n",
       "    </tr>\n",
       "    <tr>\n",
       "      <th>1892</th>\n",
       "      <td>0.000000</td>\n",
       "    </tr>\n",
       "    <tr>\n",
       "      <th>1891</th>\n",
       "      <td>0.000000</td>\n",
       "    </tr>\n",
       "    <tr>\n",
       "      <th>1890</th>\n",
       "      <td>0.000000</td>\n",
       "    </tr>\n",
       "    <tr>\n",
       "      <th>1889</th>\n",
       "      <td>0.000000</td>\n",
       "    </tr>\n",
       "    <tr>\n",
       "      <th>0</th>\n",
       "      <td>0.000000</td>\n",
       "    </tr>\n",
       "  </tbody>\n",
       "</table>\n",
       "<p>2987 rows × 1 columns</p>\n",
       "</div>"
      ],
      "text/plain": [
       "            20\n",
       "20    1.000000\n",
       "2892  0.520117\n",
       "955   0.518050\n",
       "1028  0.508072\n",
       "2501  0.500000\n",
       "...        ...\n",
       "1892  0.000000\n",
       "1891  0.000000\n",
       "1890  0.000000\n",
       "1889  0.000000\n",
       "0     0.000000\n",
       "\n",
       "[2987 rows x 1 columns]"
      ]
     },
     "execution_count": 186,
     "metadata": {},
     "output_type": "execute_result"
    }
   ],
   "source": [
    "item_recommendation"
   ]
  },
  {
   "cell_type": "code",
   "execution_count": null,
   "metadata": {},
   "outputs": [],
   "source": []
  },
  {
   "cell_type": "code",
   "execution_count": 187,
   "metadata": {},
   "outputs": [],
   "source": [
    "item_recommendation.reset_index(inplace=True)"
   ]
  },
  {
   "cell_type": "code",
   "execution_count": 188,
   "metadata": {},
   "outputs": [
    {
     "data": {
      "text/html": [
       "<div>\n",
       "<style scoped>\n",
       "    .dataframe tbody tr th:only-of-type {\n",
       "        vertical-align: middle;\n",
       "    }\n",
       "\n",
       "    .dataframe tbody tr th {\n",
       "        vertical-align: top;\n",
       "    }\n",
       "\n",
       "    .dataframe thead th {\n",
       "        text-align: right;\n",
       "    }\n",
       "</style>\n",
       "<table border=\"1\" class=\"dataframe\">\n",
       "  <thead>\n",
       "    <tr style=\"text-align: right;\">\n",
       "      <th></th>\n",
       "      <th>index</th>\n",
       "      <th>20</th>\n",
       "    </tr>\n",
       "  </thead>\n",
       "  <tbody>\n",
       "    <tr>\n",
       "      <th>0</th>\n",
       "      <td>20</td>\n",
       "      <td>1.000000</td>\n",
       "    </tr>\n",
       "    <tr>\n",
       "      <th>1</th>\n",
       "      <td>2892</td>\n",
       "      <td>0.520117</td>\n",
       "    </tr>\n",
       "    <tr>\n",
       "      <th>2</th>\n",
       "      <td>955</td>\n",
       "      <td>0.518050</td>\n",
       "    </tr>\n",
       "    <tr>\n",
       "      <th>3</th>\n",
       "      <td>1028</td>\n",
       "      <td>0.508072</td>\n",
       "    </tr>\n",
       "    <tr>\n",
       "      <th>4</th>\n",
       "      <td>2501</td>\n",
       "      <td>0.500000</td>\n",
       "    </tr>\n",
       "  </tbody>\n",
       "</table>\n",
       "</div>"
      ],
      "text/plain": [
       "   index        20\n",
       "0     20  1.000000\n",
       "1   2892  0.520117\n",
       "2    955  0.518050\n",
       "3   1028  0.508072\n",
       "4   2501  0.500000"
      ]
     },
     "execution_count": 188,
     "metadata": {},
     "output_type": "execute_result"
    }
   ],
   "source": [
    "item_recommendation.head()"
   ]
  },
  {
   "cell_type": "code",
   "execution_count": null,
   "metadata": {},
   "outputs": [],
   "source": []
  },
  {
   "cell_type": "code",
   "execution_count": 189,
   "metadata": {},
   "outputs": [],
   "source": [
    "item_recommendation.columns = ['news_id', 'score']"
   ]
  },
  {
   "cell_type": "code",
   "execution_count": 190,
   "metadata": {},
   "outputs": [
    {
     "data": {
      "text/html": [
       "<div>\n",
       "<style scoped>\n",
       "    .dataframe tbody tr th:only-of-type {\n",
       "        vertical-align: middle;\n",
       "    }\n",
       "\n",
       "    .dataframe tbody tr th {\n",
       "        vertical-align: top;\n",
       "    }\n",
       "\n",
       "    .dataframe thead th {\n",
       "        text-align: right;\n",
       "    }\n",
       "</style>\n",
       "<table border=\"1\" class=\"dataframe\">\n",
       "  <thead>\n",
       "    <tr style=\"text-align: right;\">\n",
       "      <th></th>\n",
       "      <th>news_id</th>\n",
       "      <th>score</th>\n",
       "    </tr>\n",
       "  </thead>\n",
       "  <tbody>\n",
       "    <tr>\n",
       "      <th>0</th>\n",
       "      <td>20</td>\n",
       "      <td>1.000000</td>\n",
       "    </tr>\n",
       "    <tr>\n",
       "      <th>1</th>\n",
       "      <td>2892</td>\n",
       "      <td>0.520117</td>\n",
       "    </tr>\n",
       "    <tr>\n",
       "      <th>2</th>\n",
       "      <td>955</td>\n",
       "      <td>0.518050</td>\n",
       "    </tr>\n",
       "    <tr>\n",
       "      <th>3</th>\n",
       "      <td>1028</td>\n",
       "      <td>0.508072</td>\n",
       "    </tr>\n",
       "    <tr>\n",
       "      <th>4</th>\n",
       "      <td>2501</td>\n",
       "      <td>0.500000</td>\n",
       "    </tr>\n",
       "  </tbody>\n",
       "</table>\n",
       "</div>"
      ],
      "text/plain": [
       "   news_id     score\n",
       "0       20  1.000000\n",
       "1     2892  0.520117\n",
       "2      955  0.518050\n",
       "3     1028  0.508072\n",
       "4     2501  0.500000"
      ]
     },
     "execution_count": 190,
     "metadata": {},
     "output_type": "execute_result"
    }
   ],
   "source": [
    "item_recommendation.head()"
   ]
  },
  {
   "cell_type": "code",
   "execution_count": 191,
   "metadata": {},
   "outputs": [
    {
     "data": {
      "text/plain": [
       "news_id      int64\n",
       "score      float64\n",
       "dtype: object"
      ]
     },
     "execution_count": 191,
     "metadata": {},
     "output_type": "execute_result"
    }
   ],
   "source": [
    "item_recommendation.dtypes"
   ]
  },
  {
   "cell_type": "code",
   "execution_count": null,
   "metadata": {},
   "outputs": [],
   "source": []
  },
  {
   "cell_type": "markdown",
   "metadata": {},
   "source": [
    "### Merge news_id with news title"
   ]
  },
  {
   "cell_type": "code",
   "execution_count": 192,
   "metadata": {},
   "outputs": [
    {
     "data": {
      "text/html": [
       "<div>\n",
       "<style scoped>\n",
       "    .dataframe tbody tr th:only-of-type {\n",
       "        vertical-align: middle;\n",
       "    }\n",
       "\n",
       "    .dataframe tbody tr th {\n",
       "        vertical-align: top;\n",
       "    }\n",
       "\n",
       "    .dataframe thead th {\n",
       "        text-align: right;\n",
       "    }\n",
       "</style>\n",
       "<table border=\"1\" class=\"dataframe\">\n",
       "  <thead>\n",
       "    <tr style=\"text-align: right;\">\n",
       "      <th></th>\n",
       "      <th>item_id</th>\n",
       "      <th>news_id</th>\n",
       "    </tr>\n",
       "  </thead>\n",
       "  <tbody>\n",
       "    <tr>\n",
       "      <th>0</th>\n",
       "      <td>-3499919498720038879</td>\n",
       "      <td>933</td>\n",
       "    </tr>\n",
       "    <tr>\n",
       "      <th>1</th>\n",
       "      <td>8890720798209849691</td>\n",
       "      <td>2933</td>\n",
       "    </tr>\n",
       "    <tr>\n",
       "      <th>2</th>\n",
       "      <td>310515487419366995</td>\n",
       "      <td>1537</td>\n",
       "    </tr>\n",
       "    <tr>\n",
       "      <th>4</th>\n",
       "      <td>-7820640624231356730</td>\n",
       "      <td>246</td>\n",
       "    </tr>\n",
       "    <tr>\n",
       "      <th>6</th>\n",
       "      <td>-8864073373672512525</td>\n",
       "      <td>82</td>\n",
       "    </tr>\n",
       "  </tbody>\n",
       "</table>\n",
       "</div>"
      ],
      "text/plain": [
       "               item_id  news_id\n",
       "0 -3499919498720038879      933\n",
       "1  8890720798209849691     2933\n",
       "2   310515487419366995     1537\n",
       "4 -7820640624231356730      246\n",
       "6 -8864073373672512525       82"
      ]
     },
     "execution_count": 192,
     "metadata": {},
     "output_type": "execute_result"
    }
   ],
   "source": [
    "item_mapping_final.head()"
   ]
  },
  {
   "cell_type": "code",
   "execution_count": null,
   "metadata": {},
   "outputs": [],
   "source": []
  },
  {
   "cell_type": "code",
   "execution_count": 193,
   "metadata": {},
   "outputs": [],
   "source": [
    "merged = pd.merge(item_recommendation, item_mapping_final, on='news_id', how='left')"
   ]
  },
  {
   "cell_type": "code",
   "execution_count": 194,
   "metadata": {},
   "outputs": [
    {
     "data": {
      "text/html": [
       "<div>\n",
       "<style scoped>\n",
       "    .dataframe tbody tr th:only-of-type {\n",
       "        vertical-align: middle;\n",
       "    }\n",
       "\n",
       "    .dataframe tbody tr th {\n",
       "        vertical-align: top;\n",
       "    }\n",
       "\n",
       "    .dataframe thead th {\n",
       "        text-align: right;\n",
       "    }\n",
       "</style>\n",
       "<table border=\"1\" class=\"dataframe\">\n",
       "  <thead>\n",
       "    <tr style=\"text-align: right;\">\n",
       "      <th></th>\n",
       "      <th>news_id</th>\n",
       "      <th>score</th>\n",
       "      <th>item_id</th>\n",
       "    </tr>\n",
       "  </thead>\n",
       "  <tbody>\n",
       "    <tr>\n",
       "      <th>0</th>\n",
       "      <td>20</td>\n",
       "      <td>1.000000</td>\n",
       "      <td>-9107331682787867601</td>\n",
       "    </tr>\n",
       "    <tr>\n",
       "      <th>1</th>\n",
       "      <td>2892</td>\n",
       "      <td>0.520117</td>\n",
       "      <td>8659918766210334195</td>\n",
       "    </tr>\n",
       "    <tr>\n",
       "      <th>2</th>\n",
       "      <td>955</td>\n",
       "      <td>0.518050</td>\n",
       "      <td>-3351990231604537690</td>\n",
       "    </tr>\n",
       "    <tr>\n",
       "      <th>3</th>\n",
       "      <td>1028</td>\n",
       "      <td>0.508072</td>\n",
       "      <td>-2860224288374811338</td>\n",
       "    </tr>\n",
       "    <tr>\n",
       "      <th>4</th>\n",
       "      <td>2501</td>\n",
       "      <td>0.500000</td>\n",
       "      <td>6237714845306489877</td>\n",
       "    </tr>\n",
       "  </tbody>\n",
       "</table>\n",
       "</div>"
      ],
      "text/plain": [
       "   news_id     score              item_id\n",
       "0       20  1.000000 -9107331682787867601\n",
       "1     2892  0.520117  8659918766210334195\n",
       "2      955  0.518050 -3351990231604537690\n",
       "3     1028  0.508072 -2860224288374811338\n",
       "4     2501  0.500000  6237714845306489877"
      ]
     },
     "execution_count": 194,
     "metadata": {},
     "output_type": "execute_result"
    }
   ],
   "source": [
    "merged.head()"
   ]
  },
  {
   "cell_type": "code",
   "execution_count": 196,
   "metadata": {},
   "outputs": [
    {
     "data": {
      "text/html": [
       "<div>\n",
       "<style scoped>\n",
       "    .dataframe tbody tr th:only-of-type {\n",
       "        vertical-align: middle;\n",
       "    }\n",
       "\n",
       "    .dataframe tbody tr th {\n",
       "        vertical-align: top;\n",
       "    }\n",
       "\n",
       "    .dataframe thead th {\n",
       "        text-align: right;\n",
       "    }\n",
       "</style>\n",
       "<table border=\"1\" class=\"dataframe\">\n",
       "  <thead>\n",
       "    <tr style=\"text-align: right;\">\n",
       "      <th></th>\n",
       "      <th>event_timestamp</th>\n",
       "      <th>interaction_type</th>\n",
       "      <th>item_id</th>\n",
       "      <th>producer_id</th>\n",
       "      <th>producer_session_id</th>\n",
       "      <th>producer_device_info</th>\n",
       "      <th>producer_location</th>\n",
       "      <th>producer_country</th>\n",
       "      <th>item_type</th>\n",
       "      <th>item_url</th>\n",
       "      <th>title</th>\n",
       "      <th>text_description</th>\n",
       "      <th>language</th>\n",
       "    </tr>\n",
       "  </thead>\n",
       "  <tbody>\n",
       "    <tr>\n",
       "      <th>0</th>\n",
       "      <td>1459192779</td>\n",
       "      <td>content_pulled_out</td>\n",
       "      <td>-6451309518266745024</td>\n",
       "      <td>4340306774493623681</td>\n",
       "      <td>8940341205206233829</td>\n",
       "      <td>NaN</td>\n",
       "      <td>NaN</td>\n",
       "      <td>NaN</td>\n",
       "      <td>HTML</td>\n",
       "      <td>http://www.nytimes.com/2016/03/28/business/dea...</td>\n",
       "      <td>Ethereum, a Virtual Currency, Enables Transact...</td>\n",
       "      <td>All of this work is still very early. The firs...</td>\n",
       "      <td>en</td>\n",
       "    </tr>\n",
       "    <tr>\n",
       "      <th>1</th>\n",
       "      <td>1459193988</td>\n",
       "      <td>content_present</td>\n",
       "      <td>-4110354420726924665</td>\n",
       "      <td>4340306774493623681</td>\n",
       "      <td>8940341205206233829</td>\n",
       "      <td>NaN</td>\n",
       "      <td>NaN</td>\n",
       "      <td>NaN</td>\n",
       "      <td>HTML</td>\n",
       "      <td>http://www.nytimes.com/2016/03/28/business/dea...</td>\n",
       "      <td>Ethereum, a Virtual Currency, Enables Transact...</td>\n",
       "      <td>All of this work is still very early. The firs...</td>\n",
       "      <td>en</td>\n",
       "    </tr>\n",
       "    <tr>\n",
       "      <th>2</th>\n",
       "      <td>1459194146</td>\n",
       "      <td>content_present</td>\n",
       "      <td>-7292285110016212249</td>\n",
       "      <td>4340306774493623681</td>\n",
       "      <td>8940341205206233829</td>\n",
       "      <td>NaN</td>\n",
       "      <td>NaN</td>\n",
       "      <td>NaN</td>\n",
       "      <td>HTML</td>\n",
       "      <td>http://cointelegraph.com/news/bitcoin-future-w...</td>\n",
       "      <td>Bitcoin Future: When GBPcoin of Branson Wins O...</td>\n",
       "      <td>The alarm clock wakes me at 8:00 with stream o...</td>\n",
       "      <td>en</td>\n",
       "    </tr>\n",
       "    <tr>\n",
       "      <th>3</th>\n",
       "      <td>1459194474</td>\n",
       "      <td>content_present</td>\n",
       "      <td>-6151852268067518688</td>\n",
       "      <td>3891637997717104548</td>\n",
       "      <td>-1457532940883382585</td>\n",
       "      <td>NaN</td>\n",
       "      <td>NaN</td>\n",
       "      <td>NaN</td>\n",
       "      <td>HTML</td>\n",
       "      <td>https://cloudplatform.googleblog.com/2016/03/G...</td>\n",
       "      <td>Google Data Center 360° Tour</td>\n",
       "      <td>We're excited to share the Google Data Center ...</td>\n",
       "      <td>en</td>\n",
       "    </tr>\n",
       "    <tr>\n",
       "      <th>4</th>\n",
       "      <td>1459194497</td>\n",
       "      <td>content_present</td>\n",
       "      <td>2448026894306402386</td>\n",
       "      <td>4340306774493623681</td>\n",
       "      <td>8940341205206233829</td>\n",
       "      <td>NaN</td>\n",
       "      <td>NaN</td>\n",
       "      <td>NaN</td>\n",
       "      <td>HTML</td>\n",
       "      <td>https://bitcoinmagazine.com/articles/ibm-wants...</td>\n",
       "      <td>IBM Wants to \"Evolve the Internet\" With Blockc...</td>\n",
       "      <td>The Aite Group projects the blockchain market ...</td>\n",
       "      <td>en</td>\n",
       "    </tr>\n",
       "  </tbody>\n",
       "</table>\n",
       "</div>"
      ],
      "text/plain": [
       "   event_timestamp    interaction_type              item_id  \\\n",
       "0       1459192779  content_pulled_out -6451309518266745024   \n",
       "1       1459193988     content_present -4110354420726924665   \n",
       "2       1459194146     content_present -7292285110016212249   \n",
       "3       1459194474     content_present -6151852268067518688   \n",
       "4       1459194497     content_present  2448026894306402386   \n",
       "\n",
       "           producer_id  producer_session_id producer_device_info  \\\n",
       "0  4340306774493623681  8940341205206233829                  NaN   \n",
       "1  4340306774493623681  8940341205206233829                  NaN   \n",
       "2  4340306774493623681  8940341205206233829                  NaN   \n",
       "3  3891637997717104548 -1457532940883382585                  NaN   \n",
       "4  4340306774493623681  8940341205206233829                  NaN   \n",
       "\n",
       "  producer_location producer_country item_type  \\\n",
       "0               NaN              NaN      HTML   \n",
       "1               NaN              NaN      HTML   \n",
       "2               NaN              NaN      HTML   \n",
       "3               NaN              NaN      HTML   \n",
       "4               NaN              NaN      HTML   \n",
       "\n",
       "                                            item_url  \\\n",
       "0  http://www.nytimes.com/2016/03/28/business/dea...   \n",
       "1  http://www.nytimes.com/2016/03/28/business/dea...   \n",
       "2  http://cointelegraph.com/news/bitcoin-future-w...   \n",
       "3  https://cloudplatform.googleblog.com/2016/03/G...   \n",
       "4  https://bitcoinmagazine.com/articles/ibm-wants...   \n",
       "\n",
       "                                               title  \\\n",
       "0  Ethereum, a Virtual Currency, Enables Transact...   \n",
       "1  Ethereum, a Virtual Currency, Enables Transact...   \n",
       "2  Bitcoin Future: When GBPcoin of Branson Wins O...   \n",
       "3                       Google Data Center 360° Tour   \n",
       "4  IBM Wants to \"Evolve the Internet\" With Blockc...   \n",
       "\n",
       "                                    text_description language  \n",
       "0  All of this work is still very early. The firs...       en  \n",
       "1  All of this work is still very early. The firs...       en  \n",
       "2  The alarm clock wakes me at 8:00 with stream o...       en  \n",
       "3  We're excited to share the Google Data Center ...       en  \n",
       "4  The Aite Group projects the blockchain market ...       en  "
      ]
     },
     "execution_count": 196,
     "metadata": {},
     "output_type": "execute_result"
    }
   ],
   "source": [
    "content.head()"
   ]
  },
  {
   "cell_type": "code",
   "execution_count": null,
   "metadata": {},
   "outputs": [],
   "source": []
  },
  {
   "cell_type": "code",
   "execution_count": 197,
   "metadata": {},
   "outputs": [],
   "source": [
    "collab_output = pd.merge(merged, content, on='item_id', how='left')"
   ]
  },
  {
   "cell_type": "code",
   "execution_count": 198,
   "metadata": {},
   "outputs": [
    {
     "data": {
      "text/html": [
       "<div>\n",
       "<style scoped>\n",
       "    .dataframe tbody tr th:only-of-type {\n",
       "        vertical-align: middle;\n",
       "    }\n",
       "\n",
       "    .dataframe tbody tr th {\n",
       "        vertical-align: top;\n",
       "    }\n",
       "\n",
       "    .dataframe thead th {\n",
       "        text-align: right;\n",
       "    }\n",
       "</style>\n",
       "<table border=\"1\" class=\"dataframe\">\n",
       "  <thead>\n",
       "    <tr style=\"text-align: right;\">\n",
       "      <th></th>\n",
       "      <th>news_id</th>\n",
       "      <th>score</th>\n",
       "      <th>item_id</th>\n",
       "      <th>event_timestamp</th>\n",
       "      <th>interaction_type</th>\n",
       "      <th>producer_id</th>\n",
       "      <th>producer_session_id</th>\n",
       "      <th>producer_device_info</th>\n",
       "      <th>producer_location</th>\n",
       "      <th>producer_country</th>\n",
       "      <th>item_type</th>\n",
       "      <th>item_url</th>\n",
       "      <th>title</th>\n",
       "      <th>text_description</th>\n",
       "      <th>language</th>\n",
       "    </tr>\n",
       "  </thead>\n",
       "  <tbody>\n",
       "    <tr>\n",
       "      <th>0</th>\n",
       "      <td>20</td>\n",
       "      <td>1.000000</td>\n",
       "      <td>-9107331682787867601</td>\n",
       "      <td>1459268965</td>\n",
       "      <td>content_present</td>\n",
       "      <td>-1032019229384696495</td>\n",
       "      <td>3042342415047984532</td>\n",
       "      <td>NaN</td>\n",
       "      <td>NaN</td>\n",
       "      <td>NaN</td>\n",
       "      <td>HTML</td>\n",
       "      <td>http://techcrunch.com/2016/03/29/hopper-raises...</td>\n",
       "      <td>Hopper raises $16 million for a travel app tha...</td>\n",
       "      <td>Hopper , the makers of a handy travel applicat...</td>\n",
       "      <td>en</td>\n",
       "    </tr>\n",
       "    <tr>\n",
       "      <th>1</th>\n",
       "      <td>2892</td>\n",
       "      <td>0.520117</td>\n",
       "      <td>8659918766210334195</td>\n",
       "      <td>1482246233</td>\n",
       "      <td>content_present</td>\n",
       "      <td>3609194402293569455</td>\n",
       "      <td>-47033132540303420</td>\n",
       "      <td>Mozilla/5.0 (X11; Linux x86_64) AppleWebKit/53...</td>\n",
       "      <td>SP</td>\n",
       "      <td>BR</td>\n",
       "      <td>HTML</td>\n",
       "      <td>http://trendwatching.com/trends/5-latin-trends...</td>\n",
       "      <td>5 Latin Trends for 2017 | TrendWatching</td>\n",
       "      <td>The not-so-secret secret to spotting trends (i...</td>\n",
       "      <td>en</td>\n",
       "    </tr>\n",
       "    <tr>\n",
       "      <th>2</th>\n",
       "      <td>955</td>\n",
       "      <td>0.518050</td>\n",
       "      <td>-3351990231604537690</td>\n",
       "      <td>1468518447</td>\n",
       "      <td>content_present</td>\n",
       "      <td>8676130229735483748</td>\n",
       "      <td>-2413784802356185288</td>\n",
       "      <td>NaN</td>\n",
       "      <td>NaN</td>\n",
       "      <td>NaN</td>\n",
       "      <td>HTML</td>\n",
       "      <td>http://m.gizmodo.uol.com.br/carrinho-crianca-c...</td>\n",
       "      <td>Carrinho de criança carrega seu smartphone usa...</td>\n",
       "      <td>Por: Andrew Liszewski 14 de julho de 2016 às 8...</td>\n",
       "      <td>pt</td>\n",
       "    </tr>\n",
       "    <tr>\n",
       "      <th>3</th>\n",
       "      <td>1028</td>\n",
       "      <td>0.508072</td>\n",
       "      <td>-2860224288374811338</td>\n",
       "      <td>1471198682</td>\n",
       "      <td>content_present</td>\n",
       "      <td>3302556033962996625</td>\n",
       "      <td>7784742352268642585</td>\n",
       "      <td>NaN</td>\n",
       "      <td>NaN</td>\n",
       "      <td>NaN</td>\n",
       "      <td>HTML</td>\n",
       "      <td>https://hydrasit.com/passed-aws-solutions-arch...</td>\n",
       "      <td>How I Passed the AWS Solutions Architect Profe...</td>\n",
       "      <td>I'm pleased to say that in the last couple of ...</td>\n",
       "      <td>en</td>\n",
       "    </tr>\n",
       "    <tr>\n",
       "      <th>4</th>\n",
       "      <td>2501</td>\n",
       "      <td>0.500000</td>\n",
       "      <td>6237714845306489877</td>\n",
       "      <td>1469197339</td>\n",
       "      <td>content_present</td>\n",
       "      <td>5598537709124463353</td>\n",
       "      <td>4251869051817656115</td>\n",
       "      <td>NaN</td>\n",
       "      <td>NaN</td>\n",
       "      <td>NaN</td>\n",
       "      <td>HTML</td>\n",
       "      <td>https://hbr.org/2016/07/how-ceos-can-keep-thei...</td>\n",
       "      <td>How CEOs Can Keep Their Analytics Programs fro...</td>\n",
       "      <td>Create a FREE account to: Get eight free artic...</td>\n",
       "      <td>en</td>\n",
       "    </tr>\n",
       "  </tbody>\n",
       "</table>\n",
       "</div>"
      ],
      "text/plain": [
       "   news_id     score              item_id  event_timestamp interaction_type  \\\n",
       "0       20  1.000000 -9107331682787867601       1459268965  content_present   \n",
       "1     2892  0.520117  8659918766210334195       1482246233  content_present   \n",
       "2      955  0.518050 -3351990231604537690       1468518447  content_present   \n",
       "3     1028  0.508072 -2860224288374811338       1471198682  content_present   \n",
       "4     2501  0.500000  6237714845306489877       1469197339  content_present   \n",
       "\n",
       "           producer_id  producer_session_id  \\\n",
       "0 -1032019229384696495  3042342415047984532   \n",
       "1  3609194402293569455   -47033132540303420   \n",
       "2  8676130229735483748 -2413784802356185288   \n",
       "3  3302556033962996625  7784742352268642585   \n",
       "4  5598537709124463353  4251869051817656115   \n",
       "\n",
       "                                producer_device_info producer_location  \\\n",
       "0                                                NaN               NaN   \n",
       "1  Mozilla/5.0 (X11; Linux x86_64) AppleWebKit/53...                SP   \n",
       "2                                                NaN               NaN   \n",
       "3                                                NaN               NaN   \n",
       "4                                                NaN               NaN   \n",
       "\n",
       "  producer_country item_type  \\\n",
       "0              NaN      HTML   \n",
       "1               BR      HTML   \n",
       "2              NaN      HTML   \n",
       "3              NaN      HTML   \n",
       "4              NaN      HTML   \n",
       "\n",
       "                                            item_url  \\\n",
       "0  http://techcrunch.com/2016/03/29/hopper-raises...   \n",
       "1  http://trendwatching.com/trends/5-latin-trends...   \n",
       "2  http://m.gizmodo.uol.com.br/carrinho-crianca-c...   \n",
       "3  https://hydrasit.com/passed-aws-solutions-arch...   \n",
       "4  https://hbr.org/2016/07/how-ceos-can-keep-thei...   \n",
       "\n",
       "                                               title  \\\n",
       "0  Hopper raises $16 million for a travel app tha...   \n",
       "1            5 Latin Trends for 2017 | TrendWatching   \n",
       "2  Carrinho de criança carrega seu smartphone usa...   \n",
       "3  How I Passed the AWS Solutions Architect Profe...   \n",
       "4  How CEOs Can Keep Their Analytics Programs fro...   \n",
       "\n",
       "                                    text_description language  \n",
       "0  Hopper , the makers of a handy travel applicat...       en  \n",
       "1  The not-so-secret secret to spotting trends (i...       en  \n",
       "2  Por: Andrew Liszewski 14 de julho de 2016 às 8...       pt  \n",
       "3  I'm pleased to say that in the last couple of ...       en  \n",
       "4  Create a FREE account to: Get eight free artic...       en  "
      ]
     },
     "execution_count": 198,
     "metadata": {},
     "output_type": "execute_result"
    }
   ],
   "source": [
    "collab_output.head()"
   ]
  },
  {
   "cell_type": "code",
   "execution_count": null,
   "metadata": {},
   "outputs": [],
   "source": []
  },
  {
   "cell_type": "code",
   "execution_count": 199,
   "metadata": {},
   "outputs": [],
   "source": [
    "collab_output = collab_output[['news_id','item_id','title','score']]"
   ]
  },
  {
   "cell_type": "code",
   "execution_count": 200,
   "metadata": {},
   "outputs": [
    {
     "data": {
      "text/html": [
       "<div>\n",
       "<style scoped>\n",
       "    .dataframe tbody tr th:only-of-type {\n",
       "        vertical-align: middle;\n",
       "    }\n",
       "\n",
       "    .dataframe tbody tr th {\n",
       "        vertical-align: top;\n",
       "    }\n",
       "\n",
       "    .dataframe thead th {\n",
       "        text-align: right;\n",
       "    }\n",
       "</style>\n",
       "<table border=\"1\" class=\"dataframe\">\n",
       "  <thead>\n",
       "    <tr style=\"text-align: right;\">\n",
       "      <th></th>\n",
       "      <th>news_id</th>\n",
       "      <th>item_id</th>\n",
       "      <th>title</th>\n",
       "      <th>score</th>\n",
       "    </tr>\n",
       "  </thead>\n",
       "  <tbody>\n",
       "    <tr>\n",
       "      <th>0</th>\n",
       "      <td>20</td>\n",
       "      <td>-9107331682787867601</td>\n",
       "      <td>Hopper raises $16 million for a travel app tha...</td>\n",
       "      <td>1.000000</td>\n",
       "    </tr>\n",
       "    <tr>\n",
       "      <th>1</th>\n",
       "      <td>2892</td>\n",
       "      <td>8659918766210334195</td>\n",
       "      <td>5 Latin Trends for 2017 | TrendWatching</td>\n",
       "      <td>0.520117</td>\n",
       "    </tr>\n",
       "    <tr>\n",
       "      <th>2</th>\n",
       "      <td>955</td>\n",
       "      <td>-3351990231604537690</td>\n",
       "      <td>Carrinho de criança carrega seu smartphone usa...</td>\n",
       "      <td>0.518050</td>\n",
       "    </tr>\n",
       "    <tr>\n",
       "      <th>3</th>\n",
       "      <td>1028</td>\n",
       "      <td>-2860224288374811338</td>\n",
       "      <td>How I Passed the AWS Solutions Architect Profe...</td>\n",
       "      <td>0.508072</td>\n",
       "    </tr>\n",
       "    <tr>\n",
       "      <th>4</th>\n",
       "      <td>2501</td>\n",
       "      <td>6237714845306489877</td>\n",
       "      <td>How CEOs Can Keep Their Analytics Programs fro...</td>\n",
       "      <td>0.500000</td>\n",
       "    </tr>\n",
       "  </tbody>\n",
       "</table>\n",
       "</div>"
      ],
      "text/plain": [
       "   news_id              item_id  \\\n",
       "0       20 -9107331682787867601   \n",
       "1     2892  8659918766210334195   \n",
       "2      955 -3351990231604537690   \n",
       "3     1028 -2860224288374811338   \n",
       "4     2501  6237714845306489877   \n",
       "\n",
       "                                               title     score  \n",
       "0  Hopper raises $16 million for a travel app tha...  1.000000  \n",
       "1            5 Latin Trends for 2017 | TrendWatching  0.520117  \n",
       "2  Carrinho de criança carrega seu smartphone usa...  0.518050  \n",
       "3  How I Passed the AWS Solutions Architect Profe...  0.508072  \n",
       "4  How CEOs Can Keep Their Analytics Programs fro...  0.500000  "
      ]
     },
     "execution_count": 200,
     "metadata": {},
     "output_type": "execute_result"
    }
   ],
   "source": [
    "collab_output.head()"
   ]
  },
  {
   "cell_type": "code",
   "execution_count": null,
   "metadata": {},
   "outputs": [],
   "source": []
  },
  {
   "cell_type": "code",
   "execution_count": 201,
   "metadata": {},
   "outputs": [
    {
     "name": "stderr",
     "output_type": "stream",
     "text": [
      "<ipython-input-201-3dfd25feecd1>:1: SettingWithCopyWarning: \n",
      "A value is trying to be set on a copy of a slice from a DataFrame.\n",
      "Try using .loc[row_indexer,col_indexer] = value instead\n",
      "\n",
      "See the caveats in the documentation: https://pandas.pydata.org/pandas-docs/stable/user_guide/indexing.html#returning-a-view-versus-a-copy\n",
      "  collab_output['collaborative_score_normalized'] = (collab_output['score']-min(collab_output['score']))/(max(collab_output['score'])-min(collab_output['score']))\n"
     ]
    }
   ],
   "source": [
    "collab_output['collaborative_score_normalized'] = (collab_output['score']-min(collab_output['score']))/(max(collab_output['score'])-min(collab_output['score']))"
   ]
  },
  {
   "cell_type": "code",
   "execution_count": 202,
   "metadata": {},
   "outputs": [
    {
     "data": {
      "text/html": [
       "<div>\n",
       "<style scoped>\n",
       "    .dataframe tbody tr th:only-of-type {\n",
       "        vertical-align: middle;\n",
       "    }\n",
       "\n",
       "    .dataframe tbody tr th {\n",
       "        vertical-align: top;\n",
       "    }\n",
       "\n",
       "    .dataframe thead th {\n",
       "        text-align: right;\n",
       "    }\n",
       "</style>\n",
       "<table border=\"1\" class=\"dataframe\">\n",
       "  <thead>\n",
       "    <tr style=\"text-align: right;\">\n",
       "      <th></th>\n",
       "      <th>news_id</th>\n",
       "      <th>item_id</th>\n",
       "      <th>title</th>\n",
       "      <th>score</th>\n",
       "      <th>collaborative_score_normalized</th>\n",
       "    </tr>\n",
       "  </thead>\n",
       "  <tbody>\n",
       "    <tr>\n",
       "      <th>0</th>\n",
       "      <td>20</td>\n",
       "      <td>-9107331682787867601</td>\n",
       "      <td>Hopper raises $16 million for a travel app tha...</td>\n",
       "      <td>1.000000</td>\n",
       "      <td>1.000000</td>\n",
       "    </tr>\n",
       "    <tr>\n",
       "      <th>1</th>\n",
       "      <td>2892</td>\n",
       "      <td>8659918766210334195</td>\n",
       "      <td>5 Latin Trends for 2017 | TrendWatching</td>\n",
       "      <td>0.520117</td>\n",
       "      <td>0.520117</td>\n",
       "    </tr>\n",
       "    <tr>\n",
       "      <th>2</th>\n",
       "      <td>955</td>\n",
       "      <td>-3351990231604537690</td>\n",
       "      <td>Carrinho de criança carrega seu smartphone usa...</td>\n",
       "      <td>0.518050</td>\n",
       "      <td>0.518050</td>\n",
       "    </tr>\n",
       "    <tr>\n",
       "      <th>3</th>\n",
       "      <td>1028</td>\n",
       "      <td>-2860224288374811338</td>\n",
       "      <td>How I Passed the AWS Solutions Architect Profe...</td>\n",
       "      <td>0.508072</td>\n",
       "      <td>0.508072</td>\n",
       "    </tr>\n",
       "    <tr>\n",
       "      <th>4</th>\n",
       "      <td>2501</td>\n",
       "      <td>6237714845306489877</td>\n",
       "      <td>How CEOs Can Keep Their Analytics Programs fro...</td>\n",
       "      <td>0.500000</td>\n",
       "      <td>0.500000</td>\n",
       "    </tr>\n",
       "  </tbody>\n",
       "</table>\n",
       "</div>"
      ],
      "text/plain": [
       "   news_id              item_id  \\\n",
       "0       20 -9107331682787867601   \n",
       "1     2892  8659918766210334195   \n",
       "2      955 -3351990231604537690   \n",
       "3     1028 -2860224288374811338   \n",
       "4     2501  6237714845306489877   \n",
       "\n",
       "                                               title     score  \\\n",
       "0  Hopper raises $16 million for a travel app tha...  1.000000   \n",
       "1            5 Latin Trends for 2017 | TrendWatching  0.520117   \n",
       "2  Carrinho de criança carrega seu smartphone usa...  0.518050   \n",
       "3  How I Passed the AWS Solutions Architect Profe...  0.508072   \n",
       "4  How CEOs Can Keep Their Analytics Programs fro...  0.500000   \n",
       "\n",
       "   collaborative_score_normalized  \n",
       "0                        1.000000  \n",
       "1                        0.520117  \n",
       "2                        0.518050  \n",
       "3                        0.508072  \n",
       "4                        0.500000  "
      ]
     },
     "execution_count": 202,
     "metadata": {},
     "output_type": "execute_result"
    }
   ],
   "source": [
    "collab_output.head()"
   ]
  },
  {
   "cell_type": "code",
   "execution_count": null,
   "metadata": {},
   "outputs": [],
   "source": []
  },
  {
   "cell_type": "markdown",
   "metadata": {},
   "source": [
    "# Content Based Recommendations"
   ]
  },
  {
   "cell_type": "markdown",
   "metadata": {},
   "source": [
    "## Content Data"
   ]
  },
  {
   "cell_type": "code",
   "execution_count": 203,
   "metadata": {},
   "outputs": [],
   "source": [
    "content = pd.read_csv('data/platform_content.csv')"
   ]
  },
  {
   "cell_type": "code",
   "execution_count": 204,
   "metadata": {},
   "outputs": [
    {
     "data": {
      "text/html": [
       "<div>\n",
       "<style scoped>\n",
       "    .dataframe tbody tr th:only-of-type {\n",
       "        vertical-align: middle;\n",
       "    }\n",
       "\n",
       "    .dataframe tbody tr th {\n",
       "        vertical-align: top;\n",
       "    }\n",
       "\n",
       "    .dataframe thead th {\n",
       "        text-align: right;\n",
       "    }\n",
       "</style>\n",
       "<table border=\"1\" class=\"dataframe\">\n",
       "  <thead>\n",
       "    <tr style=\"text-align: right;\">\n",
       "      <th></th>\n",
       "      <th>event_timestamp</th>\n",
       "      <th>interaction_type</th>\n",
       "      <th>item_id</th>\n",
       "      <th>producer_id</th>\n",
       "      <th>producer_session_id</th>\n",
       "      <th>producer_device_info</th>\n",
       "      <th>producer_location</th>\n",
       "      <th>producer_country</th>\n",
       "      <th>item_type</th>\n",
       "      <th>item_url</th>\n",
       "      <th>title</th>\n",
       "      <th>text_description</th>\n",
       "      <th>language</th>\n",
       "    </tr>\n",
       "  </thead>\n",
       "  <tbody>\n",
       "    <tr>\n",
       "      <th>0</th>\n",
       "      <td>1459192779</td>\n",
       "      <td>content_pulled_out</td>\n",
       "      <td>-6451309518266745024</td>\n",
       "      <td>4340306774493623681</td>\n",
       "      <td>8940341205206233829</td>\n",
       "      <td>NaN</td>\n",
       "      <td>NaN</td>\n",
       "      <td>NaN</td>\n",
       "      <td>HTML</td>\n",
       "      <td>http://www.nytimes.com/2016/03/28/business/dea...</td>\n",
       "      <td>Ethereum, a Virtual Currency, Enables Transact...</td>\n",
       "      <td>All of this work is still very early. The firs...</td>\n",
       "      <td>en</td>\n",
       "    </tr>\n",
       "    <tr>\n",
       "      <th>1</th>\n",
       "      <td>1459193988</td>\n",
       "      <td>content_present</td>\n",
       "      <td>-4110354420726924665</td>\n",
       "      <td>4340306774493623681</td>\n",
       "      <td>8940341205206233829</td>\n",
       "      <td>NaN</td>\n",
       "      <td>NaN</td>\n",
       "      <td>NaN</td>\n",
       "      <td>HTML</td>\n",
       "      <td>http://www.nytimes.com/2016/03/28/business/dea...</td>\n",
       "      <td>Ethereum, a Virtual Currency, Enables Transact...</td>\n",
       "      <td>All of this work is still very early. The firs...</td>\n",
       "      <td>en</td>\n",
       "    </tr>\n",
       "    <tr>\n",
       "      <th>2</th>\n",
       "      <td>1459194146</td>\n",
       "      <td>content_present</td>\n",
       "      <td>-7292285110016212249</td>\n",
       "      <td>4340306774493623681</td>\n",
       "      <td>8940341205206233829</td>\n",
       "      <td>NaN</td>\n",
       "      <td>NaN</td>\n",
       "      <td>NaN</td>\n",
       "      <td>HTML</td>\n",
       "      <td>http://cointelegraph.com/news/bitcoin-future-w...</td>\n",
       "      <td>Bitcoin Future: When GBPcoin of Branson Wins O...</td>\n",
       "      <td>The alarm clock wakes me at 8:00 with stream o...</td>\n",
       "      <td>en</td>\n",
       "    </tr>\n",
       "    <tr>\n",
       "      <th>3</th>\n",
       "      <td>1459194474</td>\n",
       "      <td>content_present</td>\n",
       "      <td>-6151852268067518688</td>\n",
       "      <td>3891637997717104548</td>\n",
       "      <td>-1457532940883382585</td>\n",
       "      <td>NaN</td>\n",
       "      <td>NaN</td>\n",
       "      <td>NaN</td>\n",
       "      <td>HTML</td>\n",
       "      <td>https://cloudplatform.googleblog.com/2016/03/G...</td>\n",
       "      <td>Google Data Center 360° Tour</td>\n",
       "      <td>We're excited to share the Google Data Center ...</td>\n",
       "      <td>en</td>\n",
       "    </tr>\n",
       "    <tr>\n",
       "      <th>4</th>\n",
       "      <td>1459194497</td>\n",
       "      <td>content_present</td>\n",
       "      <td>2448026894306402386</td>\n",
       "      <td>4340306774493623681</td>\n",
       "      <td>8940341205206233829</td>\n",
       "      <td>NaN</td>\n",
       "      <td>NaN</td>\n",
       "      <td>NaN</td>\n",
       "      <td>HTML</td>\n",
       "      <td>https://bitcoinmagazine.com/articles/ibm-wants...</td>\n",
       "      <td>IBM Wants to \"Evolve the Internet\" With Blockc...</td>\n",
       "      <td>The Aite Group projects the blockchain market ...</td>\n",
       "      <td>en</td>\n",
       "    </tr>\n",
       "  </tbody>\n",
       "</table>\n",
       "</div>"
      ],
      "text/plain": [
       "   event_timestamp    interaction_type              item_id  \\\n",
       "0       1459192779  content_pulled_out -6451309518266745024   \n",
       "1       1459193988     content_present -4110354420726924665   \n",
       "2       1459194146     content_present -7292285110016212249   \n",
       "3       1459194474     content_present -6151852268067518688   \n",
       "4       1459194497     content_present  2448026894306402386   \n",
       "\n",
       "           producer_id  producer_session_id producer_device_info  \\\n",
       "0  4340306774493623681  8940341205206233829                  NaN   \n",
       "1  4340306774493623681  8940341205206233829                  NaN   \n",
       "2  4340306774493623681  8940341205206233829                  NaN   \n",
       "3  3891637997717104548 -1457532940883382585                  NaN   \n",
       "4  4340306774493623681  8940341205206233829                  NaN   \n",
       "\n",
       "  producer_location producer_country item_type  \\\n",
       "0               NaN              NaN      HTML   \n",
       "1               NaN              NaN      HTML   \n",
       "2               NaN              NaN      HTML   \n",
       "3               NaN              NaN      HTML   \n",
       "4               NaN              NaN      HTML   \n",
       "\n",
       "                                            item_url  \\\n",
       "0  http://www.nytimes.com/2016/03/28/business/dea...   \n",
       "1  http://www.nytimes.com/2016/03/28/business/dea...   \n",
       "2  http://cointelegraph.com/news/bitcoin-future-w...   \n",
       "3  https://cloudplatform.googleblog.com/2016/03/G...   \n",
       "4  https://bitcoinmagazine.com/articles/ibm-wants...   \n",
       "\n",
       "                                               title  \\\n",
       "0  Ethereum, a Virtual Currency, Enables Transact...   \n",
       "1  Ethereum, a Virtual Currency, Enables Transact...   \n",
       "2  Bitcoin Future: When GBPcoin of Branson Wins O...   \n",
       "3                       Google Data Center 360° Tour   \n",
       "4  IBM Wants to \"Evolve the Internet\" With Blockc...   \n",
       "\n",
       "                                    text_description language  \n",
       "0  All of this work is still very early. The firs...       en  \n",
       "1  All of this work is still very early. The firs...       en  \n",
       "2  The alarm clock wakes me at 8:00 with stream o...       en  \n",
       "3  We're excited to share the Google Data Center ...       en  \n",
       "4  The Aite Group projects the blockchain market ...       en  "
      ]
     },
     "execution_count": 204,
     "metadata": {},
     "output_type": "execute_result"
    }
   ],
   "source": [
    "content.head()"
   ]
  },
  {
   "cell_type": "code",
   "execution_count": 205,
   "metadata": {
    "scrolled": false
   },
   "outputs": [
    {
     "data": {
      "text/plain": [
       "(3122, 13)"
      ]
     },
     "execution_count": 205,
     "metadata": {},
     "output_type": "execute_result"
    }
   ],
   "source": [
    "content.shape"
   ]
  },
  {
   "cell_type": "code",
   "execution_count": null,
   "metadata": {},
   "outputs": [],
   "source": []
  },
  {
   "cell_type": "markdown",
   "metadata": {},
   "source": [
    "# EDA"
   ]
  },
  {
   "cell_type": "code",
   "execution_count": 206,
   "metadata": {},
   "outputs": [
    {
     "data": {
      "text/html": [
       "<div>\n",
       "<style scoped>\n",
       "    .dataframe tbody tr th:only-of-type {\n",
       "        vertical-align: middle;\n",
       "    }\n",
       "\n",
       "    .dataframe tbody tr th {\n",
       "        vertical-align: top;\n",
       "    }\n",
       "\n",
       "    .dataframe thead th {\n",
       "        text-align: right;\n",
       "    }\n",
       "</style>\n",
       "<table border=\"1\" class=\"dataframe\">\n",
       "  <thead>\n",
       "    <tr style=\"text-align: right;\">\n",
       "      <th></th>\n",
       "      <th>event_timestamp</th>\n",
       "      <th>item_id</th>\n",
       "      <th>producer_id</th>\n",
       "      <th>producer_session_id</th>\n",
       "    </tr>\n",
       "  </thead>\n",
       "  <tbody>\n",
       "    <tr>\n",
       "      <th>count</th>\n",
       "      <td>3.122000e+03</td>\n",
       "      <td>3.122000e+03</td>\n",
       "      <td>3.122000e+03</td>\n",
       "      <td>3.122000e+03</td>\n",
       "    </tr>\n",
       "    <tr>\n",
       "      <th>mean</th>\n",
       "      <td>1.468804e+09</td>\n",
       "      <td>3.284110e+16</td>\n",
       "      <td>3.984819e+17</td>\n",
       "      <td>1.976675e+17</td>\n",
       "    </tr>\n",
       "    <tr>\n",
       "      <th>std</th>\n",
       "      <td>7.571512e+06</td>\n",
       "      <td>5.383734e+18</td>\n",
       "      <td>4.387115e+18</td>\n",
       "      <td>5.403753e+18</td>\n",
       "    </tr>\n",
       "    <tr>\n",
       "      <th>min</th>\n",
       "      <td>1.459193e+09</td>\n",
       "      <td>-9.222795e+18</td>\n",
       "      <td>-9.120686e+18</td>\n",
       "      <td>-9.212055e+18</td>\n",
       "    </tr>\n",
       "    <tr>\n",
       "      <th>25%</th>\n",
       "      <td>1.462369e+09</td>\n",
       "      <td>-4.660869e+18</td>\n",
       "      <td>-1.578288e+18</td>\n",
       "      <td>-4.651280e+18</td>\n",
       "    </tr>\n",
       "    <tr>\n",
       "      <th>50%</th>\n",
       "      <td>1.467136e+09</td>\n",
       "      <td>4.436584e+16</td>\n",
       "      <td>-7.092877e+17</td>\n",
       "      <td>4.154103e+17</td>\n",
       "    </tr>\n",
       "    <tr>\n",
       "      <th>75%</th>\n",
       "      <td>1.473873e+09</td>\n",
       "      <td>4.745617e+18</td>\n",
       "      <td>3.609194e+18</td>\n",
       "      <td>4.841644e+18</td>\n",
       "    </tr>\n",
       "    <tr>\n",
       "      <th>max</th>\n",
       "      <td>1.488308e+09</td>\n",
       "      <td>9.222265e+18</td>\n",
       "      <td>9.210531e+18</td>\n",
       "      <td>9.221043e+18</td>\n",
       "    </tr>\n",
       "  </tbody>\n",
       "</table>\n",
       "</div>"
      ],
      "text/plain": [
       "       event_timestamp       item_id   producer_id  producer_session_id\n",
       "count     3.122000e+03  3.122000e+03  3.122000e+03         3.122000e+03\n",
       "mean      1.468804e+09  3.284110e+16  3.984819e+17         1.976675e+17\n",
       "std       7.571512e+06  5.383734e+18  4.387115e+18         5.403753e+18\n",
       "min       1.459193e+09 -9.222795e+18 -9.120686e+18        -9.212055e+18\n",
       "25%       1.462369e+09 -4.660869e+18 -1.578288e+18        -4.651280e+18\n",
       "50%       1.467136e+09  4.436584e+16 -7.092877e+17         4.154103e+17\n",
       "75%       1.473873e+09  4.745617e+18  3.609194e+18         4.841644e+18\n",
       "max       1.488308e+09  9.222265e+18  9.210531e+18         9.221043e+18"
      ]
     },
     "execution_count": 206,
     "metadata": {},
     "output_type": "execute_result"
    }
   ],
   "source": [
    "content.describe()"
   ]
  },
  {
   "cell_type": "code",
   "execution_count": 207,
   "metadata": {},
   "outputs": [
    {
     "data": {
      "text/plain": [
       "Index(['event_timestamp', 'interaction_type', 'item_id', 'producer_id',\n",
       "       'producer_session_id', 'producer_device_info', 'producer_location',\n",
       "       'producer_country', 'item_type', 'item_url', 'title',\n",
       "       'text_description', 'language'],\n",
       "      dtype='object')"
      ]
     },
     "execution_count": 207,
     "metadata": {},
     "output_type": "execute_result"
    }
   ],
   "source": [
    "content.columns"
   ]
  },
  {
   "cell_type": "code",
   "execution_count": null,
   "metadata": {},
   "outputs": [],
   "source": []
  },
  {
   "cell_type": "code",
   "execution_count": 209,
   "metadata": {},
   "outputs": [
    {
     "data": {
      "text/plain": [
       "content_present       3047\n",
       "content_pulled_out      75\n",
       "Name: interaction_type, dtype: int64"
      ]
     },
     "execution_count": 209,
     "metadata": {},
     "output_type": "execute_result"
    }
   ],
   "source": [
    "content['interaction_type'].value_counts()"
   ]
  },
  {
   "cell_type": "code",
   "execution_count": null,
   "metadata": {},
   "outputs": [],
   "source": []
  },
  {
   "cell_type": "code",
   "execution_count": 210,
   "metadata": {},
   "outputs": [
    {
     "data": {
      "text/plain": [
       "content_present       97.597694\n",
       "content_pulled_out     2.402306\n",
       "Name: interaction_type, dtype: float64"
      ]
     },
     "execution_count": 210,
     "metadata": {},
     "output_type": "execute_result"
    }
   ],
   "source": [
    "content['interaction_type'].value_counts()*100/content.shape[0]"
   ]
  },
  {
   "cell_type": "code",
   "execution_count": null,
   "metadata": {},
   "outputs": [],
   "source": []
  },
  {
   "cell_type": "code",
   "execution_count": 211,
   "metadata": {},
   "outputs": [],
   "source": [
    "interaction_type = content['interaction_type'].value_counts()*100/content.shape[0]"
   ]
  },
  {
   "cell_type": "code",
   "execution_count": null,
   "metadata": {},
   "outputs": [],
   "source": []
  },
  {
   "cell_type": "code",
   "execution_count": 212,
   "metadata": {},
   "outputs": [
    {
     "data": {
      "text/plain": [
       "<AxesSubplot:ylabel='interaction_type'>"
      ]
     },
     "execution_count": 212,
     "metadata": {},
     "output_type": "execute_result"
    },
    {
     "data": {
      "image/png": "[encoded data removed]",
      "text/plain": [
       "<Figure size 432x288 with 1 Axes>"
      ]
     },
     "metadata": {},
     "output_type": "display_data"
    }
   ],
   "source": [
    "interaction_type.plot.pie()"
   ]
  },
  {
   "cell_type": "code",
   "execution_count": null,
   "metadata": {},
   "outputs": [],
   "source": []
  },
  {
   "cell_type": "code",
   "execution_count": 213,
   "metadata": {},
   "outputs": [
    {
     "data": {
      "text/plain": [
       "Mozilla/5.0 (X11; Linux x86_64) AppleWebKit/537.36 (KHTML, like Gecko) Chrome/53.0.2785.116 Safari/537.36                    2.274183\n",
       "Mozilla/5.0 (Windows NT 10.0; WOW64) AppleWebKit/537.36 (KHTML, like Gecko) Chrome/55.0.2883.87 Safari/537.36                2.081999\n",
       "Android - Native Mobile App                                                                                                  1.121076\n",
       "Mozilla/5.0 (X11; Linux x86_64) AppleWebKit/537.36 (KHTML, like Gecko) Chrome/55.0.2883.87 Safari/537.36                     0.928892\n",
       "Mozilla/5.0 (X11; Linux x86_64) AppleWebKit/537.36 (KHTML, like Gecko) Chrome/53.0.2785.143 Safari/537.36                    0.896861\n",
       "                                                                                                                               ...   \n",
       "Mozilla/5.0 (Macintosh; Intel Mac OS X 10_12_0) AppleWebKit/537.36 (KHTML, like Gecko) Chrome/55.0.2883.95 Safari/537.36     0.032031\n",
       "Mozilla/5.0 (Macintosh; Intel Mac OS X 10_11_4) AppleWebKit/537.36 (KHTML, like Gecko) Chrome/53.0.2785.143 Safari/537.36    0.032031\n",
       "Mozilla/5.0 (Windows NT 10.0; Win64; x64) AppleWebKit/537.36 (KHTML, like Gecko) Chrome/55.0.2883.59 Safari/537.36           0.032031\n",
       "Mozilla/5.0 (Windows NT 6.1; Win64; x64) AppleWebKit/537.36 (KHTML, like Gecko) Chrome/53.0.2785.143 Safari/537.36           0.032031\n",
       "Mozilla/5.0 (Windows NT 6.1; WOW64) AppleWebKit/537.36 (KHTML, like Gecko) Chrome/56.0.2924.87 Safari/537.36                 0.032031\n",
       "Name: producer_device_info, Length: 114, dtype: float64"
      ]
     },
     "execution_count": 213,
     "metadata": {},
     "output_type": "execute_result"
    }
   ],
   "source": [
    "content['producer_device_info'].value_counts()*100/content.shape[0]"
   ]
  },
  {
   "cell_type": "code",
   "execution_count": null,
   "metadata": {},
   "outputs": [],
   "source": []
  },
  {
   "cell_type": "markdown",
   "metadata": {},
   "source": [
    "## Get Distribution of Location"
   ]
  },
  {
   "cell_type": "code",
   "execution_count": 214,
   "metadata": {},
   "outputs": [
    {
     "data": {
      "text/plain": [
       "SP     17.072389\n",
       "MG      2.402306\n",
       "NY      0.640615\n",
       "NJ      0.512492\n",
       "GA      0.224215\n",
       "IL      0.192184\n",
       "RJ      0.128123\n",
       "ON      0.128123\n",
       "SC      0.064061\n",
       "NSW     0.064061\n",
       "?       0.064061\n",
       "TX      0.064061\n",
       "FL      0.032031\n",
       "AB      0.032031\n",
       "WA      0.032031\n",
       "MS      0.032031\n",
       "RI      0.032031\n",
       "CA      0.032031\n",
       "13      0.032031\n",
       "Name: producer_location, dtype: float64"
      ]
     },
     "execution_count": 214,
     "metadata": {},
     "output_type": "execute_result"
    }
   ],
   "source": [
    "content['producer_location'].value_counts()*100/content.shape[0]"
   ]
  },
  {
   "cell_type": "code",
   "execution_count": null,
   "metadata": {},
   "outputs": [],
   "source": []
  },
  {
   "cell_type": "code",
   "execution_count": 215,
   "metadata": {},
   "outputs": [],
   "source": [
    "location_producer = content['producer_location'].value_counts()*100/content.shape[0]"
   ]
  },
  {
   "cell_type": "code",
   "execution_count": null,
   "metadata": {},
   "outputs": [],
   "source": []
  },
  {
   "cell_type": "code",
   "execution_count": 216,
   "metadata": {},
   "outputs": [
    {
     "data": {
      "text/plain": [
       "<AxesSubplot:ylabel='producer_location'>"
      ]
     },
     "execution_count": 216,
     "metadata": {},
     "output_type": "execute_result"
    },
    {
     "data": {
      "image/png": "[encoded data removed]",
      "text/plain": [
       "<Figure size 432x288 with 1 Axes>"
      ]
     },
     "metadata": {},
     "output_type": "display_data"
    }
   ],
   "source": [
    "location_producer.plot.pie()"
   ]
  },
  {
   "cell_type": "markdown",
   "metadata": {},
   "source": [
    "get the percentage"
   ]
  },
  {
   "cell_type": "code",
   "execution_count": null,
   "metadata": {},
   "outputs": [],
   "source": []
  },
  {
   "cell_type": "code",
   "execution_count": 217,
   "metadata": {},
   "outputs": [
    {
     "data": {
      "text/plain": [
       "BR    19.634849\n",
       "US     1.889814\n",
       "CA     0.160154\n",
       "AU     0.064061\n",
       "PT     0.032031\n",
       "Name: producer_country, dtype: float64"
      ]
     },
     "execution_count": 217,
     "metadata": {},
     "output_type": "execute_result"
    }
   ],
   "source": [
    "content['producer_country'].value_counts()*100/content.shape[0]"
   ]
  },
  {
   "cell_type": "code",
   "execution_count": null,
   "metadata": {},
   "outputs": [],
   "source": []
  },
  {
   "cell_type": "code",
   "execution_count": 218,
   "metadata": {},
   "outputs": [],
   "source": [
    "country_stats = content['producer_country'].value_counts()*100/content.shape[0]"
   ]
  },
  {
   "cell_type": "code",
   "execution_count": null,
   "metadata": {},
   "outputs": [],
   "source": []
  },
  {
   "cell_type": "code",
   "execution_count": 219,
   "metadata": {
    "scrolled": true
   },
   "outputs": [
    {
     "data": {
      "text/plain": [
       "<AxesSubplot:ylabel='producer_country'>"
      ]
     },
     "execution_count": 219,
     "metadata": {},
     "output_type": "execute_result"
    },
    {
     "data": {
      "image/png": "[encoded data removed]",
      "text/plain": [
       "<Figure size 432x288 with 1 Axes>"
      ]
     },
     "metadata": {},
     "output_type": "display_data"
    }
   ],
   "source": [
    "country_stats.plot.pie()"
   ]
  },
  {
   "cell_type": "code",
   "execution_count": null,
   "metadata": {},
   "outputs": [],
   "source": []
  },
  {
   "cell_type": "code",
   "execution_count": 220,
   "metadata": {},
   "outputs": [
    {
     "data": {
      "text/plain": [
       "HTML     99.327354\n",
       "VIDEO     0.352338\n",
       "RICH      0.320307\n",
       "Name: item_type, dtype: float64"
      ]
     },
     "execution_count": 220,
     "metadata": {},
     "output_type": "execute_result"
    }
   ],
   "source": [
    "content['item_type'].value_counts()*100/content.shape[0]"
   ]
  },
  {
   "cell_type": "code",
   "execution_count": null,
   "metadata": {},
   "outputs": [],
   "source": []
  },
  {
   "cell_type": "code",
   "execution_count": 221,
   "metadata": {},
   "outputs": [],
   "source": [
    "content_stats = content['item_type'].value_counts()*100/content.shape[0]"
   ]
  },
  {
   "cell_type": "code",
   "execution_count": null,
   "metadata": {},
   "outputs": [],
   "source": []
  },
  {
   "cell_type": "code",
   "execution_count": 222,
   "metadata": {},
   "outputs": [
    {
     "data": {
      "text/plain": [
       "<AxesSubplot:>"
      ]
     },
     "execution_count": 222,
     "metadata": {},
     "output_type": "execute_result"
    },
    {
     "data": {
      "image/png": "[encoded data removed]",
      "text/plain": [
       "<Figure size 432x288 with 1 Axes>"
      ]
     },
     "metadata": {
      "needs_background": "light"
     },
     "output_type": "display_data"
    }
   ],
   "source": [
    "content_stats.plot()"
   ]
  },
  {
   "cell_type": "code",
   "execution_count": null,
   "metadata": {},
   "outputs": [],
   "source": []
  },
  {
   "cell_type": "code",
   "execution_count": null,
   "metadata": {},
   "outputs": [],
   "source": []
  },
  {
   "cell_type": "code",
   "execution_count": 223,
   "metadata": {
    "scrolled": true
   },
   "outputs": [
    {
     "data": {
      "text/plain": [
       "en    72.517617\n",
       "pt    27.226137\n",
       "la     0.128123\n",
       "es     0.064061\n",
       "ja     0.064061\n",
       "Name: language, dtype: float64"
      ]
     },
     "execution_count": 223,
     "metadata": {},
     "output_type": "execute_result"
    }
   ],
   "source": [
    "content['language'].value_counts()*100/content.shape[0]"
   ]
  },
  {
   "cell_type": "code",
   "execution_count": null,
   "metadata": {},
   "outputs": [],
   "source": []
  },
  {
   "cell_type": "code",
   "execution_count": 224,
   "metadata": {},
   "outputs": [],
   "source": [
    "language_stats = content['language'].value_counts()*100/content.shape[0]"
   ]
  },
  {
   "cell_type": "code",
   "execution_count": 225,
   "metadata": {},
   "outputs": [
    {
     "data": {
      "text/plain": [
       "<AxesSubplot:>"
      ]
     },
     "execution_count": 225,
     "metadata": {},
     "output_type": "execute_result"
    },
    {
     "data": {
      "image/png": "[encoded data removed]",
      "text/plain": [
       "<Figure size 432x288 with 1 Axes>"
      ]
     },
     "metadata": {
      "needs_background": "light"
     },
     "output_type": "display_data"
    }
   ],
   "source": [
    "language_stats.plot()"
   ]
  },
  {
   "cell_type": "code",
   "execution_count": null,
   "metadata": {},
   "outputs": [],
   "source": []
  },
  {
   "cell_type": "code",
   "execution_count": 226,
   "metadata": {},
   "outputs": [
    {
     "data": {
      "text/plain": [
       "<AxesSubplot:ylabel='language'>"
      ]
     },
     "execution_count": 226,
     "metadata": {},
     "output_type": "execute_result"
    },
    {
     "data": {
      "image/png": "[encoded data removed]",
      "text/plain": [
       "<Figure size 432x288 with 1 Axes>"
      ]
     },
     "metadata": {},
     "output_type": "display_data"
    }
   ],
   "source": [
    "language_stats.plot.pie()"
   ]
  },
  {
   "cell_type": "code",
   "execution_count": null,
   "metadata": {},
   "outputs": [],
   "source": []
  },
  {
   "cell_type": "code",
   "execution_count": 227,
   "metadata": {},
   "outputs": [
    {
     "data": {
      "text/plain": [
       "0       False\n",
       "1        True\n",
       "2        True\n",
       "3        True\n",
       "4        True\n",
       "        ...  \n",
       "3117     True\n",
       "3118     True\n",
       "3119     True\n",
       "3120     True\n",
       "3121     True\n",
       "Name: interaction_type, Length: 3122, dtype: bool"
      ]
     },
     "execution_count": 227,
     "metadata": {},
     "output_type": "execute_result"
    }
   ],
   "source": [
    "content['interaction_type']=='content_present'"
   ]
  },
  {
   "cell_type": "code",
   "execution_count": 228,
   "metadata": {
    "scrolled": true
   },
   "outputs": [
    {
     "data": {
      "text/plain": [
       "0        True\n",
       "1        True\n",
       "2        True\n",
       "3        True\n",
       "4        True\n",
       "        ...  \n",
       "3117    False\n",
       "3118     True\n",
       "3119     True\n",
       "3120     True\n",
       "3121     True\n",
       "Name: language, Length: 3122, dtype: bool"
      ]
     },
     "execution_count": 228,
     "metadata": {},
     "output_type": "execute_result"
    }
   ],
   "source": [
    "content['language']=='en'"
   ]
  },
  {
   "cell_type": "code",
   "execution_count": 229,
   "metadata": {},
   "outputs": [
    {
     "data": {
      "text/plain": [
       "0       False\n",
       "1        True\n",
       "2        True\n",
       "3        True\n",
       "4        True\n",
       "        ...  \n",
       "3117    False\n",
       "3118     True\n",
       "3119     True\n",
       "3120     True\n",
       "3121     True\n",
       "Length: 3122, dtype: bool"
      ]
     },
     "execution_count": 229,
     "metadata": {},
     "output_type": "execute_result"
    }
   ],
   "source": [
    "(content['language']=='en') & (content['interaction_type']=='content_present')"
   ]
  },
  {
   "cell_type": "code",
   "execution_count": null,
   "metadata": {},
   "outputs": [],
   "source": []
  },
  {
   "cell_type": "code",
   "execution_count": 230,
   "metadata": {},
   "outputs": [],
   "source": [
    "content_filtered = content[(content['language']=='en') & (content['interaction_type']=='content_present')]"
   ]
  },
  {
   "cell_type": "code",
   "execution_count": 231,
   "metadata": {},
   "outputs": [
    {
     "data": {
      "text/plain": [
       "(3122, 13)"
      ]
     },
     "execution_count": 231,
     "metadata": {},
     "output_type": "execute_result"
    }
   ],
   "source": [
    "content.shape"
   ]
  },
  {
   "cell_type": "code",
   "execution_count": 232,
   "metadata": {},
   "outputs": [
    {
     "data": {
      "text/plain": [
       "(2211, 13)"
      ]
     },
     "execution_count": 232,
     "metadata": {},
     "output_type": "execute_result"
    }
   ],
   "source": [
    "content_filtered.shape"
   ]
  },
  {
   "cell_type": "code",
   "execution_count": 233,
   "metadata": {},
   "outputs": [
    {
     "data": {
      "text/html": [
       "<div>\n",
       "<style scoped>\n",
       "    .dataframe tbody tr th:only-of-type {\n",
       "        vertical-align: middle;\n",
       "    }\n",
       "\n",
       "    .dataframe tbody tr th {\n",
       "        vertical-align: top;\n",
       "    }\n",
       "\n",
       "    .dataframe thead th {\n",
       "        text-align: right;\n",
       "    }\n",
       "</style>\n",
       "<table border=\"1\" class=\"dataframe\">\n",
       "  <thead>\n",
       "    <tr style=\"text-align: right;\">\n",
       "      <th></th>\n",
       "      <th>event_timestamp</th>\n",
       "      <th>interaction_type</th>\n",
       "      <th>item_id</th>\n",
       "      <th>producer_id</th>\n",
       "      <th>producer_session_id</th>\n",
       "      <th>producer_device_info</th>\n",
       "      <th>producer_location</th>\n",
       "      <th>producer_country</th>\n",
       "      <th>item_type</th>\n",
       "      <th>item_url</th>\n",
       "      <th>title</th>\n",
       "      <th>text_description</th>\n",
       "      <th>language</th>\n",
       "    </tr>\n",
       "  </thead>\n",
       "  <tbody>\n",
       "    <tr>\n",
       "      <th>1</th>\n",
       "      <td>1459193988</td>\n",
       "      <td>content_present</td>\n",
       "      <td>-4110354420726924665</td>\n",
       "      <td>4340306774493623681</td>\n",
       "      <td>8940341205206233829</td>\n",
       "      <td>NaN</td>\n",
       "      <td>NaN</td>\n",
       "      <td>NaN</td>\n",
       "      <td>HTML</td>\n",
       "      <td>http://www.nytimes.com/2016/03/28/business/dea...</td>\n",
       "      <td>Ethereum, a Virtual Currency, Enables Transact...</td>\n",
       "      <td>All of this work is still very early. The firs...</td>\n",
       "      <td>en</td>\n",
       "    </tr>\n",
       "    <tr>\n",
       "      <th>2</th>\n",
       "      <td>1459194146</td>\n",
       "      <td>content_present</td>\n",
       "      <td>-7292285110016212249</td>\n",
       "      <td>4340306774493623681</td>\n",
       "      <td>8940341205206233829</td>\n",
       "      <td>NaN</td>\n",
       "      <td>NaN</td>\n",
       "      <td>NaN</td>\n",
       "      <td>HTML</td>\n",
       "      <td>http://cointelegraph.com/news/bitcoin-future-w...</td>\n",
       "      <td>Bitcoin Future: When GBPcoin of Branson Wins O...</td>\n",
       "      <td>The alarm clock wakes me at 8:00 with stream o...</td>\n",
       "      <td>en</td>\n",
       "    </tr>\n",
       "    <tr>\n",
       "      <th>3</th>\n",
       "      <td>1459194474</td>\n",
       "      <td>content_present</td>\n",
       "      <td>-6151852268067518688</td>\n",
       "      <td>3891637997717104548</td>\n",
       "      <td>-1457532940883382585</td>\n",
       "      <td>NaN</td>\n",
       "      <td>NaN</td>\n",
       "      <td>NaN</td>\n",
       "      <td>HTML</td>\n",
       "      <td>https://cloudplatform.googleblog.com/2016/03/G...</td>\n",
       "      <td>Google Data Center 360° Tour</td>\n",
       "      <td>We're excited to share the Google Data Center ...</td>\n",
       "      <td>en</td>\n",
       "    </tr>\n",
       "    <tr>\n",
       "      <th>4</th>\n",
       "      <td>1459194497</td>\n",
       "      <td>content_present</td>\n",
       "      <td>2448026894306402386</td>\n",
       "      <td>4340306774493623681</td>\n",
       "      <td>8940341205206233829</td>\n",
       "      <td>NaN</td>\n",
       "      <td>NaN</td>\n",
       "      <td>NaN</td>\n",
       "      <td>HTML</td>\n",
       "      <td>https://bitcoinmagazine.com/articles/ibm-wants...</td>\n",
       "      <td>IBM Wants to \"Evolve the Internet\" With Blockc...</td>\n",
       "      <td>The Aite Group projects the blockchain market ...</td>\n",
       "      <td>en</td>\n",
       "    </tr>\n",
       "    <tr>\n",
       "      <th>5</th>\n",
       "      <td>1459194522</td>\n",
       "      <td>content_present</td>\n",
       "      <td>-2826566343807132236</td>\n",
       "      <td>4340306774493623681</td>\n",
       "      <td>8940341205206233829</td>\n",
       "      <td>NaN</td>\n",
       "      <td>NaN</td>\n",
       "      <td>NaN</td>\n",
       "      <td>HTML</td>\n",
       "      <td>http://www.coindesk.com/ieee-blockchain-oxford...</td>\n",
       "      <td>IEEE to Talk Blockchain at Cloud Computing Oxf...</td>\n",
       "      <td>One of the largest and oldest organizations fo...</td>\n",
       "      <td>en</td>\n",
       "    </tr>\n",
       "    <tr>\n",
       "      <th>6</th>\n",
       "      <td>1459194557</td>\n",
       "      <td>content_present</td>\n",
       "      <td>-2148899391355011268</td>\n",
       "      <td>4340306774493623681</td>\n",
       "      <td>8940341205206233829</td>\n",
       "      <td>NaN</td>\n",
       "      <td>NaN</td>\n",
       "      <td>NaN</td>\n",
       "      <td>HTML</td>\n",
       "      <td>http://www.newsbtc.com/2016/03/28/banks-need-c...</td>\n",
       "      <td>Banks Need To Collaborate With Bitcoin and Fin...</td>\n",
       "      <td>It will take time until banks come around to t...</td>\n",
       "      <td>en</td>\n",
       "    </tr>\n",
       "  </tbody>\n",
       "</table>\n",
       "</div>"
      ],
      "text/plain": [
       "   event_timestamp interaction_type              item_id          producer_id  \\\n",
       "1       1459193988  content_present -4110354420726924665  4340306774493623681   \n",
       "2       1459194146  content_present -7292285110016212249  4340306774493623681   \n",
       "3       1459194474  content_present -6151852268067518688  3891637997717104548   \n",
       "4       1459194497  content_present  2448026894306402386  4340306774493623681   \n",
       "5       1459194522  content_present -2826566343807132236  4340306774493623681   \n",
       "6       1459194557  content_present -2148899391355011268  4340306774493623681   \n",
       "\n",
       "   producer_session_id producer_device_info producer_location  \\\n",
       "1  8940341205206233829                  NaN               NaN   \n",
       "2  8940341205206233829                  NaN               NaN   \n",
       "3 -1457532940883382585                  NaN               NaN   \n",
       "4  8940341205206233829                  NaN               NaN   \n",
       "5  8940341205206233829                  NaN               NaN   \n",
       "6  8940341205206233829                  NaN               NaN   \n",
       "\n",
       "  producer_country item_type  \\\n",
       "1              NaN      HTML   \n",
       "2              NaN      HTML   \n",
       "3              NaN      HTML   \n",
       "4              NaN      HTML   \n",
       "5              NaN      HTML   \n",
       "6              NaN      HTML   \n",
       "\n",
       "                                            item_url  \\\n",
       "1  http://www.nytimes.com/2016/03/28/business/dea...   \n",
       "2  http://cointelegraph.com/news/bitcoin-future-w...   \n",
       "3  https://cloudplatform.googleblog.com/2016/03/G...   \n",
       "4  https://bitcoinmagazine.com/articles/ibm-wants...   \n",
       "5  http://www.coindesk.com/ieee-blockchain-oxford...   \n",
       "6  http://www.newsbtc.com/2016/03/28/banks-need-c...   \n",
       "\n",
       "                                               title  \\\n",
       "1  Ethereum, a Virtual Currency, Enables Transact...   \n",
       "2  Bitcoin Future: When GBPcoin of Branson Wins O...   \n",
       "3                       Google Data Center 360° Tour   \n",
       "4  IBM Wants to \"Evolve the Internet\" With Blockc...   \n",
       "5  IEEE to Talk Blockchain at Cloud Computing Oxf...   \n",
       "6  Banks Need To Collaborate With Bitcoin and Fin...   \n",
       "\n",
       "                                    text_description language  \n",
       "1  All of this work is still very early. The firs...       en  \n",
       "2  The alarm clock wakes me at 8:00 with stream o...       en  \n",
       "3  We're excited to share the Google Data Center ...       en  \n",
       "4  The Aite Group projects the blockchain market ...       en  \n",
       "5  One of the largest and oldest organizations fo...       en  \n",
       "6  It will take time until banks come around to t...       en  "
      ]
     },
     "execution_count": 233,
     "metadata": {},
     "output_type": "execute_result"
    }
   ],
   "source": [
    "content_filtered.head(6)"
   ]
  },
  {
   "cell_type": "code",
   "execution_count": null,
   "metadata": {},
   "outputs": [],
   "source": []
  },
  {
   "cell_type": "code",
   "execution_count": 234,
   "metadata": {},
   "outputs": [],
   "source": [
    "pd.set_option('max_colwidth', None)"
   ]
  },
  {
   "cell_type": "code",
   "execution_count": 236,
   "metadata": {},
   "outputs": [
    {
     "data": {
      "text/html": [
       "<div>\n",
       "<style scoped>\n",
       "    .dataframe tbody tr th:only-of-type {\n",
       "        vertical-align: middle;\n",
       "    }\n",
       "\n",
       "    .dataframe tbody tr th {\n",
       "        vertical-align: top;\n",
       "    }\n",
       "\n",
       "    .dataframe thead th {\n",
       "        text-align: right;\n",
       "    }\n",
       "</style>\n",
       "<table border=\"1\" class=\"dataframe\">\n",
       "  <thead>\n",
       "    <tr style=\"text-align: right;\">\n",
       "      <th></th>\n",
       "      <th>event_timestamp</th>\n",
       "      <th>interaction_type</th>\n",
       "      <th>item_id</th>\n",
       "      <th>producer_id</th>\n",
       "      <th>producer_session_id</th>\n",
       "      <th>producer_device_info</th>\n",
       "      <th>producer_location</th>\n",
       "      <th>producer_country</th>\n",
       "      <th>item_type</th>\n",
       "      <th>item_url</th>\n",
       "      <th>title</th>\n",
       "      <th>text_description</th>\n",
       "      <th>language</th>\n",
       "    </tr>\n",
       "  </thead>\n",
       "  <tbody>\n",
       "    <tr>\n",
       "      <th>1</th>\n",
       "      <td>1459193988</td>\n",
       "      <td>content_present</td>\n",
       "      <td>-4110354420726924665</td>\n",
       "      <td>4340306774493623681</td>\n",
       "      <td>8940341205206233829</td>\n",
       "      <td>NaN</td>\n",
       "      <td>NaN</td>\n",
       "      <td>NaN</td>\n",
       "      <td>HTML</td>\n",
       "      <td>http://www.nytimes.com/2016/03/28/business/dealbook/ethereum-a-virtual-currency-enables-transactions-that-rival-bitcoins.html</td>\n",
       "      <td>Ethereum, a Virtual Currency, Enables Transactions That Rival Bitcoin's</td>\n",
       "      <td>All of this work is still very early. The first full public version of the Ethereum software was recently released, and the system could face some of the same technical and legal problems that have tarnished Bitcoin. Many Bitcoin advocates say Ethereum will face more security problems than Bitcoin because of the greater complexity of the software. Thus far, Ethereum has faced much less testing, and many fewer attacks, than Bitcoin. The novel design of Ethereum may also invite intense scrutiny by authorities given that potentially fraudulent contracts, like the Ponzi schemes, can be written directly into the Ethereum system. But the sophisticated capabilities of the system have made it fascinating to some executives in corporate America. IBM said last year that it was experimenting with Ethereum as a way to control real world objects in the so-called Internet of things. Microsoft has been working on several projects that make it easier to use Ethereum on its computing cloud, Azure. \"Ethereum is a general platform where you can solve problems in many industries using a fairly elegant solution - the most elegant solution we have seen to date,\" said Marley Gray, a director of business development and strategy at Microsoft. Mr. Gray is responsible for Microsoft's work with blockchains, the database concept that Bitcoin introduced. Blockchains are designed to store transactions and data without requiring any central authority or repository. Blockchain ledgers are generally maintained and updated by networks of computers working together - somewhat similar to the way that Wikipedia is updated and maintained by all its users. Many corporations, though, have created their own Ethereum networks with private blockchains, independent of the public system, and that could ultimately detract from the value of the individual unit in the Ethereum system - known as an Ether - that people have recently been buying. The interest in Ethereum is one sign of the corporate fascination with blockchains. Most major banks have expressed an interest in using them to make trading and money transfer faster and more efficient. On Tuesday, executives from the largest banks will gather for a conference, \"Blockchain: Tapping I nto the Real Potential , Cutting Through the Hype.\" Many of these banks have recently been looking at how some version of Ethereum might be put to use. JPMorgan, for instance, has created a specific tool, Masala, that allows some of its internal databases to interact with an Ethereum blockchain. Michael Novogratz, a former top executive at the private equity firm Fortress Investing Group, who helped lead Fortress's investment in Bitcoin, has been looking at Ethereum since he left Fortress last fall. Mr. Novogratz said that he made a \"significant\" purchase of Ether in January. He has also heard how the financial industry's chatter about the virtual currency has evolved. \"A lot of the more established players were thinking, 'It's still an experiment,' \" he said. \"It feels like in the last two to three months that experiment is at least getting a lot more validation.\" Since the beginning of the year, the value of an individual unit of Ether has soared as high as $12 from around $1. That has brought the value of all existing Ether to over $1 billion at times, significantly more than any virtual currency other than Bitcoin, which had over $6 billion in value outstanding last week. Since Bitcoin was invented, there have been many so-called alt-coins that have tried to improve on Bitcoin, but none have won the following of Ethereum. Unlike Bitcoin, which was released in 2009 by a mysterious creator known as Satoshi Nakamoto, Ethereum was created in a more transparent fashion by a 21-year-old Russian-Canadian, Vitalik Buterin, after he dropped out of Waterloo University in Ontario. The most basic aim of Ethereum was to make it possible to program binding agreements into the blockchain - the smart contract concept. Two people, for instance, could program a bet on a sports game directly into the Ethereum blockchain. Once the final score came in from a mutually agreed upon source - say, The Associated Press - the money would be automatically transferred to the winning party. Ether can be used as a currency in this system, but Ether are also necessary to pay for the network power needed to process the bet. The Ethereum system has sometimes been described as a single shared computer that is run by the network of users and on which resources are parceled out and paid for by Ether. A team of seven co-founders helped Mr. Buterin write up the software after he released the initial description of the system. Mr. Buterin's team raised $18 million in 2014 through a presale of Ether, which helped fund the Ethereum Foundation, which supports the software's development. Like Bitcoin, Ethereum has succeeded by attracting a dedicated network of followers who have helped support the software, partly in the hope that their Ether will increase in value if the system succeeds. Last week, there were 5,800 computers - or nodes - helping support the network around the world. The Bitcoin network had about 7,400 nodes. One of Mr. Buterin's co-founders, Joseph Lubin, has set up ConsenSys, a company based in Brooklyn that has hired over 50 developers to build applications on the Ethereum system, including one that enables music distribution and another that allows for a new kind of financial auditing. The ConsenSys offices are in an old industrial building in the Bushwick section of Brooklyn. The office is essentially one large room, with all the messy trademarks of a start-up operation, including white boards on the walls and computer parts lying around. Mr. Lubin said he had thrown himself into Ethereum after starting to think that it delivered on some of the failed promise of Bitcoin, especially when it came to allowing new kinds of online contracts and markets. \"Bitcoin presented the broad strokes vision, and Ethereum presented the crystallization of how to deliver that vision,\" he said. Joseph Bonneau, a computer science researcher at Stanford who studies so-called crypto-currencies, said Ethereum was the first system that had really caught his interest since Bitcoin. It is far from a sure thing, he cautioned. \"Bitcoin is still probably the safest bet, but Ethereum is certainly No. 2, and some folks will say it is more likely to be around in 10 years,\" Mr. Bonneau said. \"It will depend if any real markets develop around it. If there is some actual application.\"</td>\n",
       "      <td>en</td>\n",
       "    </tr>\n",
       "    <tr>\n",
       "      <th>2</th>\n",
       "      <td>1459194146</td>\n",
       "      <td>content_present</td>\n",
       "      <td>-7292285110016212249</td>\n",
       "      <td>4340306774493623681</td>\n",
       "      <td>8940341205206233829</td>\n",
       "      <td>NaN</td>\n",
       "      <td>NaN</td>\n",
       "      <td>NaN</td>\n",
       "      <td>HTML</td>\n",
       "      <td>http://cointelegraph.com/news/bitcoin-future-when-gbpcoin-of-branson-wins-over-usdcoin-of-trump</td>\n",
       "      <td>Bitcoin Future: When GBPcoin of Branson Wins Over USDcoin of Trump</td>\n",
       "      <td>The alarm clock wakes me at 8:00 with stream of advert-free broadcasting, charged at one satoshi per second. The current BTC exchange rate makes that snooze button a costly proposition! So I get up, make coffee and go to my computer to check the overnight performance of my bots. TradeBot earns me on Trump and Branson TradeBot, which allocates funds between the main chain and various national currency side-chains, generated a lucrative 0.24 BTC return. TradeBot has been reliably profitable ever since I set it to trade USDcoin according to political prediction market data. As expected, the latest poll numbers came in as highly supportive of Trump's re-election as USDcoin CEO. Trump's resistance to de-anonymizing public spending, by moving USDcoin off the Confidential Transactions layer, continues to erode his coin's credibility. In his latest speech, Trump maintains that full CT-privacy is essential to \"combatting CNYcoin's sinister ring-signature scheming.\" I make a note to increase my long position in GBPcoin. Following CEO Branson's memo to the effect that government finances and national banks be brought into compliance with the public blockchain , British corruption indices have flatlined. As the first national econmy to \"go light,\" Britain leads the global recovery from the Great Debt Default of '20. Happy with the GoatData Project I check TeachBot and note that it's performing in-line with expectations. TeachBot serves as an autonomous info-agent between various contracting AIs and data providers. The 0.5 BTC bounty it awarded to a team of Sherpas to outfit a herd of Tibetan mountain goats with full motion-sensing rigs has already been repaid...I check the latest figures... four times over! My best TeachBot strategy to date, the GoatData project provides valuable data to WinterHoof, the Artificial General Intelligence in charge of the Swiss military's quadripedal robotics program. At this rate, I'll soon have enough BTC to retire to Satoshi City on Mars!</td>\n",
       "      <td>en</td>\n",
       "    </tr>\n",
       "    <tr>\n",
       "      <th>3</th>\n",
       "      <td>1459194474</td>\n",
       "      <td>content_present</td>\n",
       "      <td>-6151852268067518688</td>\n",
       "      <td>3891637997717104548</td>\n",
       "      <td>-1457532940883382585</td>\n",
       "      <td>NaN</td>\n",
       "      <td>NaN</td>\n",
       "      <td>NaN</td>\n",
       "      <td>HTML</td>\n",
       "      <td>https://cloudplatform.googleblog.com/2016/03/Google-Data-Center-360-Tour.html</td>\n",
       "      <td>Google Data Center 360° Tour</td>\n",
       "      <td>We're excited to share the Google Data Center 360° Tour - a YouTube 360° video that gives you an unprecedented and immersive look inside one of our data centers. There are several ways to view this video: On desktop using Google Chrome use your mouse or trackpad to change your view while the video plays YouTube app on mobile - move your device around to look at all angles while the video plays And the most immersive way to view - using Google Cardboard (currently supported by the Android YouTube app only, iOS support is coming soon!) Load the video in the YouTube app and tap on the Cardboard icon when the video starts to play. Insert your phone in Cardboard and look around. A little background . . . Several months ago, those of us on the Google Cloud Developer Advocacy Team had a rare opportunity to tour the Google data center in The Dalles, Oregon. Many of us had seen other non-Google data centers in our careers, but this experience was beyond anything we ever imagined. We were blown away by the scale, the incredible attention to security and privacy, and the amazing efforts to make the data center extremely efficient and green. Additionally, we were proud to meet some of the brilliant people that design, build and maintain these data centers. If you are a Google Cloud Platform customer, then this is your data center as much as it is our data center, so we want you to experience what we experienced. We hope you enjoy it! - Posted by Greg Wilson, Head of Developer Advocacy, Google Cloud Platform</td>\n",
       "      <td>en</td>\n",
       "    </tr>\n",
       "    <tr>\n",
       "      <th>4</th>\n",
       "      <td>1459194497</td>\n",
       "      <td>content_present</td>\n",
       "      <td>2448026894306402386</td>\n",
       "      <td>4340306774493623681</td>\n",
       "      <td>8940341205206233829</td>\n",
       "      <td>NaN</td>\n",
       "      <td>NaN</td>\n",
       "      <td>NaN</td>\n",
       "      <td>HTML</td>\n",
       "      <td>https://bitcoinmagazine.com/articles/ibm-wants-to-evolve-the-internet-with-blockchain-technology-1459189322</td>\n",
       "      <td>IBM Wants to \"Evolve the Internet\" With Blockchain Technology</td>\n",
       "      <td>The Aite Group projects the blockchain market could be valued at $400 million by 2019. For that reason, some of the biggest names in banking, industry and technology have entered into the space to evaluate how this technology could change the financial world. IBM and Linux, for instance, have brought together some of the brightest minds in the industry and technology to work on blockchain technology through the Hyperledger Project. The Hyperledger Project is under the umbrella of the Linux Foundation, and seeks to incorporate findings by blockchain projects such as Blockstream, Ripple, Digital Asset Holdings and others in order to make blockchain technology useful for the world's biggest corporations. IBM has also contributed its own code to the project. According to John Wolpert, IBM's Global Blockchain Offering Director, when IBM and Linux began working together on the blockchain project, Linux made clear it wanted to \"disrupt the disruption,\" in part with their findings, as well as the data gathered by projects such as Ripple, Ethereum and others exploring the blockchain. The Linux foundation announced its Hyperledger project on December 17, 2015. Just one day later, 2,300 companies had requested to join. The second-largest open source foundation in the history of open source had only 450 inquiries. \"So, it's either going to be a holy mess or it's going to change the world,\" Wolpert said at The Blockchain Conference in San Francisco presented by Lighthouse Partners. As Wolford puts it, a team of IBMers is \"on a quest\" to understand and \"do something important\" with blockchain technology. \"I don't know why we got this rap in the '70s, way back, that we are not cool, that we're kind of stodgy, and that is not the IBM of my experience,\" Wolpert, who founded the taxi service Flywheel, explained. \"We're the original crazy people. The craziest people are the guys at IBM in the '60s and '70s -- you can imagine what they were doing in the '60s -- they are wild-eyed revolutionaries.\" Although this is not the image IBM markets, their work in quantum computing, quantum teleportation and neuro semantic chips count among some of the \"cool stuff\" IBM does, says Wolpert. IBM also approaches projects in the spirit of open innovation, and not proprietarily. \"Our method of operations is open, and it's often our MO to back not-our-thing,\" he said of IBM since the 1990s. Wolpert cites Java as one such project: \"You would not know about Java today if it weren't for IBM.\" As a \"pretty young dude,\" Wolpert was in the room when IBM made a billion-dollar decision to back Linux over its own technology. He also cites IBM's work on XML as an example of IBM's dedication to open innovation. Currently, IBM has employees working on crypto-security and distributed systems who have been working on consensus algorithms for their entire careers, some for more than 30 years. \"They're crazy smart, we're planetary, we've gone from a couple of guys in a canoe, to a platoon and approaching an army of people working on blockchain,\" Wolpert said. \"So it feels a lot like my first job at IBM which was making Java real for business.\" This has led old and new friends to contact the the multinational technology and consulting corporation. \"Banks who have been calling us constantly ... saying 'What's your view on blockchain?' or 'Hey, let's do a project together on blockchain,'\" Wolpert said. \"We've been doing all these crazy projects on blockchain, every kind of blockchain, and learning a lot, been doing that for a couple years and really started to accelerate last year.\" Today, there is a whole unit dedicated to blockchain technology at Linux Foundation. \"We went all-in on blockchain,\" he explained. What's it all about for Wolpert? \"It's about evolving the Internet.\" Bitcoin is important for moving money around without a single authority. \"[Bitcoin] is a solution to a problem, a specific problem, of people who need to move money around in environments where you don't trust the government,\" Wolpert said. \"I think we can all agree we are approaching the end of the era where a single authority manages trust and gets compensated for the risk in doing so.\" In Wolpert's view, finance does not need to go from today's system of trust -- where consumers trust institutions to handle their money -- to one of complete trustlessness, like the Bitcoin system in which a protocol, not a centralized authority, manages the movement of value. \"It doesn't follow, having one single trust authority to trustlessness on everything,\" he said. \"There is a false dichotomy between the notion of trust and trustlessness, that you have to have a walled garden on one side and Bitcoin on the other.\" He doesn't compare Bitcoin to the Internet, saying that's a wrong analogy. \"It is not apt to say the Internet is like Bitcoin; the Internet is, from the perspective of Bitcoin, a permissioned walled garden,\" he said. \"Ever heard of ICANN? It's permissive, but it's permissioned.\" Bitcoin, Ripple and Ethereum are \"Iteration 1\" of blockchain technology, the three time IBMer told his audience. Wolpert thinks blockchain technology will soon evolve to \"Iteration 2.\" The problem with it? \"The Internet is constrained,\" Wolpert said. \"You have a fabric that allows for lots of competition on platforms and huge amounts of competition on solutions and applications on top of it, so we need to evolve the Internet to become economically aware, and that Internet isn't going to be an application, it is going to be a fabric and then lots of applications on top of that.\" This doesn't mean blockchain 2.0 technologies such as Blockstream, Ethereum and Ripple are lost causes that must now completely retool. The Linux Foundation, in fact, works with Ethereum and Ripple employees. With its blockchain projects, IBM is not focused on moving a cryptocurrency. \"Lots of banks pay us lots of money and we like that, and we want to radically improve them,\" Wolpert explained. \"[Bankers] are gonna try like heck to radically improve what is going on ahead of the disruption, disrupt themselves if you will. If you look at things like [Overstock's] t0, that's happening, might happen on Bitcoin protocol, but might not, and there's plenty of ways to solve it, when you commit to it. And sure, Bitcoin has woken [banks] up to this, so it's doing its job, it's disrupting the thinking and maybe that is all that is necessary.\" Wolpert wonders aloud during his speech if the world would have iTunes were it not for Napster, or Netflix if it weren't for BitTorrent. The former head of products for IBM's Watson Ecosystem says IBM currently has a \"boomtown with giant numbers of people at IBM and everywhere else\" investigating the blockchain problem and how distributed technology can be made useful for industry. He details how oftentimes IBM tinkers with open innovations itself to make the technology ready for industry. That's not the route being taken with Bitcoin. That the Bitcoin network is on par with Ireland for energy consumption, and that mining consortiums could eventually dictate that market, scares the firm away from dealing directly with Bitcoin. \"What I want to see, what we want to see, is a world full of companies who I can know, who I can identify, who are so spread out, like the Internet,\" he said. Wolpert cites the Arab Spring, and the role the Internet played in that uprising, as how a permissioned, yet permissive, structure functions. Websites, albeit technology permissioned by ICANN, remained online during the protests and played a major role. What's the risk in experimenting with blockchain? \"The risk is we go crazy, we have an unruly mess,\" Wolpert warned. \"[But] it's the Linux Foundation, we've been in this movie before. While there's a lot of really smart guys working on Bitcoin and startups, we've got equally amount of people who also have 20 or 30 years of experience with open source and open innovation, and I think we have a good shot at maintaining restraints, keeping it scoped down, keeping it simple, but getting it to something that is useful.\"</td>\n",
       "      <td>en</td>\n",
       "    </tr>\n",
       "    <tr>\n",
       "      <th>5</th>\n",
       "      <td>1459194522</td>\n",
       "      <td>content_present</td>\n",
       "      <td>-2826566343807132236</td>\n",
       "      <td>4340306774493623681</td>\n",
       "      <td>8940341205206233829</td>\n",
       "      <td>NaN</td>\n",
       "      <td>NaN</td>\n",
       "      <td>NaN</td>\n",
       "      <td>HTML</td>\n",
       "      <td>http://www.coindesk.com/ieee-blockchain-oxford-cloud-computing/</td>\n",
       "      <td>IEEE to Talk Blockchain at Cloud Computing Oxford-Con - CoinDesk</td>\n",
       "      <td>One of the largest and oldest organizations for computing professionals will kick off its annual conference on the future of mobile cloud computing tomorrow, where blockchain is scheduled to be one of the attractions. With more than 421,000 members in 260 countries, the Institute of Electrical and Electronics Engineers (IEEE) holding such a high-profile event has the potential to accelerate the rate of blockchain adoption by the engineering community. At the four-day conference, beginning Tuesday, the IEEE will host five blockchain seminars at the 702-year-old Exeter College of Oxford. The conference, IEEE Mobile Cloud 2016, is the organization's fourth annual event dedicated to mobile cloud computing services and engineering. Speaking at the event, hosted at Oxford University, professor Wei-Tek Tsai of the School of Computing, Informatics and Decision Systems engineering at Arizona State University will talk about the future of blockchain technology as an academic topic of research. Computing shift While this looks to be the first IEEE conference to deal so closely with blockchain, its presence at an event dedicated to cloud computing is no surprise. 2016 is shaping up to be the year many stopped talking about bitcoin as a decentralized ledger and started talking about it as a database. Last month, IBM made a huge splash in the blockchain ecosystem when it announced among a wide range of other news, that it would be offering a wide range of blockchain-related initiatives. Further, in November, Microsoft coined the term Blockchain-as-a-Service (BaaS) to describe its sandbox environment where developers could experiment with tools hosted on the company's Azure Cloud platform. Companies including ConsenSys, Augur, BitShares and Slock.it have joined that effort. Oxford University via Shutterstock</td>\n",
       "      <td>en</td>\n",
       "    </tr>\n",
       "  </tbody>\n",
       "</table>\n",
       "</div>"
      ],
      "text/plain": [
       "   event_timestamp interaction_type              item_id          producer_id  \\\n",
       "1       1459193988  content_present -4110354420726924665  4340306774493623681   \n",
       "2       1459194146  content_present -7292285110016212249  4340306774493623681   \n",
       "3       1459194474  content_present -6151852268067518688  3891637997717104548   \n",
       "4       1459194497  content_present  2448026894306402386  4340306774493623681   \n",
       "5       1459194522  content_present -2826566343807132236  4340306774493623681   \n",
       "\n",
       "   producer_session_id producer_device_info producer_location  \\\n",
       "1  8940341205206233829                  NaN               NaN   \n",
       "2  8940341205206233829                  NaN               NaN   \n",
       "3 -1457532940883382585                  NaN               NaN   \n",
       "4  8940341205206233829                  NaN               NaN   \n",
       "5  8940341205206233829                  NaN               NaN   \n",
       "\n",
       "  producer_country item_type  \\\n",
       "1              NaN      HTML   \n",
       "2              NaN      HTML   \n",
       "3              NaN      HTML   \n",
       "4              NaN      HTML   \n",
       "5              NaN      HTML   \n",
       "\n",
       "                                                                                                                        item_url  \\\n",
       "1  http://www.nytimes.com/2016/03/28/business/dealbook/ethereum-a-virtual-currency-enables-transactions-that-rival-bitcoins.html   \n",
       "2                                http://cointelegraph.com/news/bitcoin-future-when-gbpcoin-of-branson-wins-over-usdcoin-of-trump   \n",
       "3                                                  https://cloudplatform.googleblog.com/2016/03/Google-Data-Center-360-Tour.html   \n",
       "4                    https://bitcoinmagazine.com/articles/ibm-wants-to-evolve-the-internet-with-blockchain-technology-1459189322   \n",
       "5                                                                http://www.coindesk.com/ieee-blockchain-oxford-cloud-computing/   \n",
       "\n",
       "                                                                     title  \\\n",
       "1  Ethereum, a Virtual Currency, Enables Transactions That Rival Bitcoin's   \n",
       "2       Bitcoin Future: When GBPcoin of Branson Wins Over USDcoin of Trump   \n",
       "3                                             Google Data Center 360° Tour   \n",
       "4            IBM Wants to \"Evolve the Internet\" With Blockchain Technology   \n",
       "5         IEEE to Talk Blockchain at Cloud Computing Oxford-Con - CoinDesk   \n",
       "\n",
       "                                                                                                                                                                                                                                                                                                                                                                                                                                                                                                                                                                                                                                                                                                                                                                                                                                                                                                                                                                                                                                                                                                                                                                                                                                                                                                                                                                                                                                                                                                                                                                                                                                                                                                                                                                                                                                                                                                                                                                                                                                                                                                                                                                                                                                                                                                                                                                                                                                                                                                                                                                                                                                                                                                                                                                                                                                                                                                                                                                                                                                                                                                                                                                                                                                                                                                                                                                                                                                                                                                                                                                                                                                                                                                                                                                                                                                                                                                                                                                                                                                                                                                                                                                                                                                                                                                                                                                                                                                                                                                                                                                                                                                                                                                                                                                                                                                                                                                                                                                                                                                                                                                                                                                                                                                                                                                                                                                                                                                                                                                                                                                                                                                                                                                                                                                                                                                                                                                                                                                                                                                                                                                                                                                                                                                                                                                                                                                                                                                                                                                                                                                                                                                                                                                                                                                                                                                                                                                                                                                                                                                                                                                                                                                                                                                                                                                                                                                                                                                                                                                                                                                                                                                                                                                                                                                                                                                                                                                                                                                                                                                                                                                                                                                                                                                                                                                                                                                                                                text_description  \\\n",
       "1                                                                                                                                                                                                                                                                                                                                                                                                                                                                                                                                                                                                                                                                                                                                                                                                                                                                                                                                                                                                                                                                                                                                                                                                                                                                                                                                                                                                                                                                                                                                                                                                                All of this work is still very early. The first full public version of the Ethereum software was recently released, and the system could face some of the same technical and legal problems that have tarnished Bitcoin. Many Bitcoin advocates say Ethereum will face more security problems than Bitcoin because of the greater complexity of the software. Thus far, Ethereum has faced much less testing, and many fewer attacks, than Bitcoin. The novel design of Ethereum may also invite intense scrutiny by authorities given that potentially fraudulent contracts, like the Ponzi schemes, can be written directly into the Ethereum system. But the sophisticated capabilities of the system have made it fascinating to some executives in corporate America. IBM said last year that it was experimenting with Ethereum as a way to control real world objects in the so-called Internet of things. Microsoft has been working on several projects that make it easier to use Ethereum on its computing cloud, Azure. \"Ethereum is a general platform where you can solve problems in many industries using a fairly elegant solution - the most elegant solution we have seen to date,\" said Marley Gray, a director of business development and strategy at Microsoft. Mr. Gray is responsible for Microsoft's work with blockchains, the database concept that Bitcoin introduced. Blockchains are designed to store transactions and data without requiring any central authority or repository. Blockchain ledgers are generally maintained and updated by networks of computers working together - somewhat similar to the way that Wikipedia is updated and maintained by all its users. Many corporations, though, have created their own Ethereum networks with private blockchains, independent of the public system, and that could ultimately detract from the value of the individual unit in the Ethereum system - known as an Ether - that people have recently been buying. The interest in Ethereum is one sign of the corporate fascination with blockchains. Most major banks have expressed an interest in using them to make trading and money transfer faster and more efficient. On Tuesday, executives from the largest banks will gather for a conference, \"Blockchain: Tapping I nto the Real Potential , Cutting Through the Hype.\" Many of these banks have recently been looking at how some version of Ethereum might be put to use. JPMorgan, for instance, has created a specific tool, Masala, that allows some of its internal databases to interact with an Ethereum blockchain. Michael Novogratz, a former top executive at the private equity firm Fortress Investing Group, who helped lead Fortress's investment in Bitcoin, has been looking at Ethereum since he left Fortress last fall. Mr. Novogratz said that he made a \"significant\" purchase of Ether in January. He has also heard how the financial industry's chatter about the virtual currency has evolved. \"A lot of the more established players were thinking, 'It's still an experiment,' \" he said. \"It feels like in the last two to three months that experiment is at least getting a lot more validation.\" Since the beginning of the year, the value of an individual unit of Ether has soared as high as $12 from around $1. That has brought the value of all existing Ether to over $1 billion at times, significantly more than any virtual currency other than Bitcoin, which had over $6 billion in value outstanding last week. Since Bitcoin was invented, there have been many so-called alt-coins that have tried to improve on Bitcoin, but none have won the following of Ethereum. Unlike Bitcoin, which was released in 2009 by a mysterious creator known as Satoshi Nakamoto, Ethereum was created in a more transparent fashion by a 21-year-old Russian-Canadian, Vitalik Buterin, after he dropped out of Waterloo University in Ontario. The most basic aim of Ethereum was to make it possible to program binding agreements into the blockchain - the smart contract concept. Two people, for instance, could program a bet on a sports game directly into the Ethereum blockchain. Once the final score came in from a mutually agreed upon source - say, The Associated Press - the money would be automatically transferred to the winning party. Ether can be used as a currency in this system, but Ether are also necessary to pay for the network power needed to process the bet. The Ethereum system has sometimes been described as a single shared computer that is run by the network of users and on which resources are parceled out and paid for by Ether. A team of seven co-founders helped Mr. Buterin write up the software after he released the initial description of the system. Mr. Buterin's team raised $18 million in 2014 through a presale of Ether, which helped fund the Ethereum Foundation, which supports the software's development. Like Bitcoin, Ethereum has succeeded by attracting a dedicated network of followers who have helped support the software, partly in the hope that their Ether will increase in value if the system succeeds. Last week, there were 5,800 computers - or nodes - helping support the network around the world. The Bitcoin network had about 7,400 nodes. One of Mr. Buterin's co-founders, Joseph Lubin, has set up ConsenSys, a company based in Brooklyn that has hired over 50 developers to build applications on the Ethereum system, including one that enables music distribution and another that allows for a new kind of financial auditing. The ConsenSys offices are in an old industrial building in the Bushwick section of Brooklyn. The office is essentially one large room, with all the messy trademarks of a start-up operation, including white boards on the walls and computer parts lying around. Mr. Lubin said he had thrown himself into Ethereum after starting to think that it delivered on some of the failed promise of Bitcoin, especially when it came to allowing new kinds of online contracts and markets. \"Bitcoin presented the broad strokes vision, and Ethereum presented the crystallization of how to deliver that vision,\" he said. Joseph Bonneau, a computer science researcher at Stanford who studies so-called crypto-currencies, said Ethereum was the first system that had really caught his interest since Bitcoin. It is far from a sure thing, he cautioned. \"Bitcoin is still probably the safest bet, but Ethereum is certainly No. 2, and some folks will say it is more likely to be around in 10 years,\" Mr. Bonneau said. \"It will depend if any real markets develop around it. If there is some actual application.\"   \n",
       "2                                                                                                                                                                                                                                                                                                                                                                                                                                                                                                                                                                                                                                                                                                                                                                                                                                                                                                                                                                                                                                                                                                                                                                                                                                                                                                                                                                                                                                                                                                                                                                                                                                                                                                                                                                                                                                                                                                                                                                                                                                                                                                                                                                                                                                                                                                                                                                                                                                                                                                                                                                                                                                                                                                                                                                                                                                                                                                                                                                                                                                                                                                                                                                                                                                                                                                                                                                                                                                                                                                                                                                                                                                                                                                                                                                                                                                                                                                                                                                                                                                                                                                                                                                                                                                                                                                                                                                                                                                                                                                                                                                                                                                                                                                                                                                                                                                                                                                                                                                                                                                                                                                                                                                                                                                                                                                                                                                                                                                                                                                                                                                                                                                                                                                                                                                                                                                                                                                                                                                                                                                                                                                                                                                                                                                                                                                                                                      The alarm clock wakes me at 8:00 with stream of advert-free broadcasting, charged at one satoshi per second. The current BTC exchange rate makes that snooze button a costly proposition! So I get up, make coffee and go to my computer to check the overnight performance of my bots. TradeBot earns me on Trump and Branson TradeBot, which allocates funds between the main chain and various national currency side-chains, generated a lucrative 0.24 BTC return. TradeBot has been reliably profitable ever since I set it to trade USDcoin according to political prediction market data. As expected, the latest poll numbers came in as highly supportive of Trump's re-election as USDcoin CEO. Trump's resistance to de-anonymizing public spending, by moving USDcoin off the Confidential Transactions layer, continues to erode his coin's credibility. In his latest speech, Trump maintains that full CT-privacy is essential to \"combatting CNYcoin's sinister ring-signature scheming.\" I make a note to increase my long position in GBPcoin. Following CEO Branson's memo to the effect that government finances and national banks be brought into compliance with the public blockchain , British corruption indices have flatlined. As the first national econmy to \"go light,\" Britain leads the global recovery from the Great Debt Default of '20. Happy with the GoatData Project I check TeachBot and note that it's performing in-line with expectations. TeachBot serves as an autonomous info-agent between various contracting AIs and data providers. The 0.5 BTC bounty it awarded to a team of Sherpas to outfit a herd of Tibetan mountain goats with full motion-sensing rigs has already been repaid...I check the latest figures... four times over! My best TeachBot strategy to date, the GoatData project provides valuable data to WinterHoof, the Artificial General Intelligence in charge of the Swiss military's quadripedal robotics program. At this rate, I'll soon have enough BTC to retire to Satoshi City on Mars!   \n",
       "3                                                                                                                                                                                                                                                                                                                                                                                                                                                                                                                                                                                                                                                                                                                                                                                                                                                                                                                                                                                                                                                                                                                                                                                                                                                                                                                                                                                                                                                                                                                                                                                                                                                                                                                                                                                                                                                                                                                                                                                                                                                                                                                                                                                                                                                                                                                                                                                                                                                                                                                                                                                                                                                                                                                                                                                                                                                                                                                                                                                                                                                                                                                                                                                                                                                                                                                                                                                                                                                                                                                                                                                                                                                                                                                                                                                                                                                                                                                                                                                                                                                                                                                                                                                                                                                                                                                                                                                                                                                                                                                                                                                                                                                                                                                                                                                                                                                                                                                                                                                                                                                                                                                                                                                                                                                                                                                                                                                                                                                                                                                                                                                                                                                                                                                                                                                                                                                                                                                                                                                                                                                                                                                                                                                                                                                                                                                                                                                                                                                                                                                                                                                                                                                                                                                                                                                                                                               We're excited to share the Google Data Center 360° Tour - a YouTube 360° video that gives you an unprecedented and immersive look inside one of our data centers. There are several ways to view this video: On desktop using Google Chrome use your mouse or trackpad to change your view while the video plays YouTube app on mobile - move your device around to look at all angles while the video plays And the most immersive way to view - using Google Cardboard (currently supported by the Android YouTube app only, iOS support is coming soon!) Load the video in the YouTube app and tap on the Cardboard icon when the video starts to play. Insert your phone in Cardboard and look around. A little background . . . Several months ago, those of us on the Google Cloud Developer Advocacy Team had a rare opportunity to tour the Google data center in The Dalles, Oregon. Many of us had seen other non-Google data centers in our careers, but this experience was beyond anything we ever imagined. We were blown away by the scale, the incredible attention to security and privacy, and the amazing efforts to make the data center extremely efficient and green. Additionally, we were proud to meet some of the brilliant people that design, build and maintain these data centers. If you are a Google Cloud Platform customer, then this is your data center as much as it is our data center, so we want you to experience what we experienced. We hope you enjoy it! - Posted by Greg Wilson, Head of Developer Advocacy, Google Cloud Platform   \n",
       "4  The Aite Group projects the blockchain market could be valued at $400 million by 2019. For that reason, some of the biggest names in banking, industry and technology have entered into the space to evaluate how this technology could change the financial world. IBM and Linux, for instance, have brought together some of the brightest minds in the industry and technology to work on blockchain technology through the Hyperledger Project. The Hyperledger Project is under the umbrella of the Linux Foundation, and seeks to incorporate findings by blockchain projects such as Blockstream, Ripple, Digital Asset Holdings and others in order to make blockchain technology useful for the world's biggest corporations. IBM has also contributed its own code to the project. According to John Wolpert, IBM's Global Blockchain Offering Director, when IBM and Linux began working together on the blockchain project, Linux made clear it wanted to \"disrupt the disruption,\" in part with their findings, as well as the data gathered by projects such as Ripple, Ethereum and others exploring the blockchain. The Linux foundation announced its Hyperledger project on December 17, 2015. Just one day later, 2,300 companies had requested to join. The second-largest open source foundation in the history of open source had only 450 inquiries. \"So, it's either going to be a holy mess or it's going to change the world,\" Wolpert said at The Blockchain Conference in San Francisco presented by Lighthouse Partners. As Wolford puts it, a team of IBMers is \"on a quest\" to understand and \"do something important\" with blockchain technology. \"I don't know why we got this rap in the '70s, way back, that we are not cool, that we're kind of stodgy, and that is not the IBM of my experience,\" Wolpert, who founded the taxi service Flywheel, explained. \"We're the original crazy people. The craziest people are the guys at IBM in the '60s and '70s -- you can imagine what they were doing in the '60s -- they are wild-eyed revolutionaries.\" Although this is not the image IBM markets, their work in quantum computing, quantum teleportation and neuro semantic chips count among some of the \"cool stuff\" IBM does, says Wolpert. IBM also approaches projects in the spirit of open innovation, and not proprietarily. \"Our method of operations is open, and it's often our MO to back not-our-thing,\" he said of IBM since the 1990s. Wolpert cites Java as one such project: \"You would not know about Java today if it weren't for IBM.\" As a \"pretty young dude,\" Wolpert was in the room when IBM made a billion-dollar decision to back Linux over its own technology. He also cites IBM's work on XML as an example of IBM's dedication to open innovation. Currently, IBM has employees working on crypto-security and distributed systems who have been working on consensus algorithms for their entire careers, some for more than 30 years. \"They're crazy smart, we're planetary, we've gone from a couple of guys in a canoe, to a platoon and approaching an army of people working on blockchain,\" Wolpert said. \"So it feels a lot like my first job at IBM which was making Java real for business.\" This has led old and new friends to contact the the multinational technology and consulting corporation. \"Banks who have been calling us constantly ... saying 'What's your view on blockchain?' or 'Hey, let's do a project together on blockchain,'\" Wolpert said. \"We've been doing all these crazy projects on blockchain, every kind of blockchain, and learning a lot, been doing that for a couple years and really started to accelerate last year.\" Today, there is a whole unit dedicated to blockchain technology at Linux Foundation. \"We went all-in on blockchain,\" he explained. What's it all about for Wolpert? \"It's about evolving the Internet.\" Bitcoin is important for moving money around without a single authority. \"[Bitcoin] is a solution to a problem, a specific problem, of people who need to move money around in environments where you don't trust the government,\" Wolpert said. \"I think we can all agree we are approaching the end of the era where a single authority manages trust and gets compensated for the risk in doing so.\" In Wolpert's view, finance does not need to go from today's system of trust -- where consumers trust institutions to handle their money -- to one of complete trustlessness, like the Bitcoin system in which a protocol, not a centralized authority, manages the movement of value. \"It doesn't follow, having one single trust authority to trustlessness on everything,\" he said. \"There is a false dichotomy between the notion of trust and trustlessness, that you have to have a walled garden on one side and Bitcoin on the other.\" He doesn't compare Bitcoin to the Internet, saying that's a wrong analogy. \"It is not apt to say the Internet is like Bitcoin; the Internet is, from the perspective of Bitcoin, a permissioned walled garden,\" he said. \"Ever heard of ICANN? It's permissive, but it's permissioned.\" Bitcoin, Ripple and Ethereum are \"Iteration 1\" of blockchain technology, the three time IBMer told his audience. Wolpert thinks blockchain technology will soon evolve to \"Iteration 2.\" The problem with it? \"The Internet is constrained,\" Wolpert said. \"You have a fabric that allows for lots of competition on platforms and huge amounts of competition on solutions and applications on top of it, so we need to evolve the Internet to become economically aware, and that Internet isn't going to be an application, it is going to be a fabric and then lots of applications on top of that.\" This doesn't mean blockchain 2.0 technologies such as Blockstream, Ethereum and Ripple are lost causes that must now completely retool. The Linux Foundation, in fact, works with Ethereum and Ripple employees. With its blockchain projects, IBM is not focused on moving a cryptocurrency. \"Lots of banks pay us lots of money and we like that, and we want to radically improve them,\" Wolpert explained. \"[Bankers] are gonna try like heck to radically improve what is going on ahead of the disruption, disrupt themselves if you will. If you look at things like [Overstock's] t0, that's happening, might happen on Bitcoin protocol, but might not, and there's plenty of ways to solve it, when you commit to it. And sure, Bitcoin has woken [banks] up to this, so it's doing its job, it's disrupting the thinking and maybe that is all that is necessary.\" Wolpert wonders aloud during his speech if the world would have iTunes were it not for Napster, or Netflix if it weren't for BitTorrent. The former head of products for IBM's Watson Ecosystem says IBM currently has a \"boomtown with giant numbers of people at IBM and everywhere else\" investigating the blockchain problem and how distributed technology can be made useful for industry. He details how oftentimes IBM tinkers with open innovations itself to make the technology ready for industry. That's not the route being taken with Bitcoin. That the Bitcoin network is on par with Ireland for energy consumption, and that mining consortiums could eventually dictate that market, scares the firm away from dealing directly with Bitcoin. \"What I want to see, what we want to see, is a world full of companies who I can know, who I can identify, who are so spread out, like the Internet,\" he said. Wolpert cites the Arab Spring, and the role the Internet played in that uprising, as how a permissioned, yet permissive, structure functions. Websites, albeit technology permissioned by ICANN, remained online during the protests and played a major role. What's the risk in experimenting with blockchain? \"The risk is we go crazy, we have an unruly mess,\" Wolpert warned. \"[But] it's the Linux Foundation, we've been in this movie before. While there's a lot of really smart guys working on Bitcoin and startups, we've got equally amount of people who also have 20 or 30 years of experience with open source and open innovation, and I think we have a good shot at maintaining restraints, keeping it scoped down, keeping it simple, but getting it to something that is useful.\"   \n",
       "5                                                                                                                                                                                                                                                                                                                                                                                                                                                                                                                                                                                                                                                                                                                                                                                                                                                                                                                                                                                                                                                                                                                                                                                                                                                                                                                                                                                                                                                                                                                                                                                                                                                                                                                                                                                                                                                                                                                                                                                                                                                                                                                                                                                                                                                                                                                                                                                                                                                                                                                                                                                                                                                                                                                                                                                                                                                                                                                                                                                                                                                                                                                                                                                                                                                                                                                                                                                                                                                                                                                                                                                                                                                                                                                                                                                                                                                                                                                                                                                                                                                                                                                                                                                                                                                                                                                                                                                                                                                                                                                                                                                                                                                                                                                                                                                                                                                                                                                                                                                                                                                                                                                                                                                                                                                                                                                                                                                                                                                                                                                                                                                                                                                                                                                                                                                                                                                                                                                                                                                                                                                                                                                                                                                                                                                                                                                                                                                                                                                                                                                               One of the largest and oldest organizations for computing professionals will kick off its annual conference on the future of mobile cloud computing tomorrow, where blockchain is scheduled to be one of the attractions. With more than 421,000 members in 260 countries, the Institute of Electrical and Electronics Engineers (IEEE) holding such a high-profile event has the potential to accelerate the rate of blockchain adoption by the engineering community. At the four-day conference, beginning Tuesday, the IEEE will host five blockchain seminars at the 702-year-old Exeter College of Oxford. The conference, IEEE Mobile Cloud 2016, is the organization's fourth annual event dedicated to mobile cloud computing services and engineering. Speaking at the event, hosted at Oxford University, professor Wei-Tek Tsai of the School of Computing, Informatics and Decision Systems engineering at Arizona State University will talk about the future of blockchain technology as an academic topic of research. Computing shift While this looks to be the first IEEE conference to deal so closely with blockchain, its presence at an event dedicated to cloud computing is no surprise. 2016 is shaping up to be the year many stopped talking about bitcoin as a decentralized ledger and started talking about it as a database. Last month, IBM made a huge splash in the blockchain ecosystem when it announced among a wide range of other news, that it would be offering a wide range of blockchain-related initiatives. Further, in November, Microsoft coined the term Blockchain-as-a-Service (BaaS) to describe its sandbox environment where developers could experiment with tools hosted on the company's Azure Cloud platform. Companies including ConsenSys, Augur, BitShares and Slock.it have joined that effort. Oxford University via Shutterstock   \n",
       "\n",
       "  language  \n",
       "1       en  \n",
       "2       en  \n",
       "3       en  \n",
       "4       en  \n",
       "5       en  "
      ]
     },
     "execution_count": 236,
     "metadata": {},
     "output_type": "execute_result"
    }
   ],
   "source": [
    "content_filtered.head()"
   ]
  },
  {
   "cell_type": "code",
   "execution_count": null,
   "metadata": {},
   "outputs": [],
   "source": []
  },
  {
   "cell_type": "code",
   "execution_count": 237,
   "metadata": {},
   "outputs": [
    {
     "data": {
      "text/plain": [
       "Index(['event_timestamp', 'interaction_type', 'item_id', 'producer_id',\n",
       "       'producer_session_id', 'producer_device_info', 'producer_location',\n",
       "       'producer_country', 'item_type', 'item_url', 'title',\n",
       "       'text_description', 'language'],\n",
       "      dtype='object')"
      ]
     },
     "execution_count": 237,
     "metadata": {},
     "output_type": "execute_result"
    }
   ],
   "source": [
    "content_filtered.columns"
   ]
  },
  {
   "cell_type": "code",
   "execution_count": null,
   "metadata": {},
   "outputs": [],
   "source": []
  },
  {
   "cell_type": "code",
   "execution_count": 238,
   "metadata": {},
   "outputs": [],
   "source": [
    "content_selected = content_filtered[['item_url', 'title', 'text_description']]"
   ]
  },
  {
   "cell_type": "code",
   "execution_count": 239,
   "metadata": {},
   "outputs": [
    {
     "data": {
      "text/plain": [
       "(2211, 3)"
      ]
     },
     "execution_count": 239,
     "metadata": {},
     "output_type": "execute_result"
    }
   ],
   "source": [
    "content_selected.shape"
   ]
  },
  {
   "cell_type": "code",
   "execution_count": 240,
   "metadata": {},
   "outputs": [
    {
     "data": {
      "text/html": [
       "<div>\n",
       "<style scoped>\n",
       "    .dataframe tbody tr th:only-of-type {\n",
       "        vertical-align: middle;\n",
       "    }\n",
       "\n",
       "    .dataframe tbody tr th {\n",
       "        vertical-align: top;\n",
       "    }\n",
       "\n",
       "    .dataframe thead th {\n",
       "        text-align: right;\n",
       "    }\n",
       "</style>\n",
       "<table border=\"1\" class=\"dataframe\">\n",
       "  <thead>\n",
       "    <tr style=\"text-align: right;\">\n",
       "      <th></th>\n",
       "      <th>item_url</th>\n",
       "      <th>title</th>\n",
       "      <th>text_description</th>\n",
       "    </tr>\n",
       "  </thead>\n",
       "  <tbody>\n",
       "    <tr>\n",
       "      <th>1</th>\n",
       "      <td>http://www.nytimes.com/2016/03/28/business/dealbook/ethereum-a-virtual-currency-enables-transactions-that-rival-bitcoins.html</td>\n",
       "      <td>Ethereum, a Virtual Currency, Enables Transactions That Rival Bitcoin's</td>\n",
       "      <td>All of this work is still very early. The first full public version of the Ethereum software was recently released, and the system could face some of the same technical and legal problems that have tarnished Bitcoin. Many Bitcoin advocates say Ethereum will face more security problems than Bitcoin because of the greater complexity of the software. Thus far, Ethereum has faced much less testing, and many fewer attacks, than Bitcoin. The novel design of Ethereum may also invite intense scrutiny by authorities given that potentially fraudulent contracts, like the Ponzi schemes, can be written directly into the Ethereum system. But the sophisticated capabilities of the system have made it fascinating to some executives in corporate America. IBM said last year that it was experimenting with Ethereum as a way to control real world objects in the so-called Internet of things. Microsoft has been working on several projects that make it easier to use Ethereum on its computing cloud, Azure. \"Ethereum is a general platform where you can solve problems in many industries using a fairly elegant solution - the most elegant solution we have seen to date,\" said Marley Gray, a director of business development and strategy at Microsoft. Mr. Gray is responsible for Microsoft's work with blockchains, the database concept that Bitcoin introduced. Blockchains are designed to store transactions and data without requiring any central authority or repository. Blockchain ledgers are generally maintained and updated by networks of computers working together - somewhat similar to the way that Wikipedia is updated and maintained by all its users. Many corporations, though, have created their own Ethereum networks with private blockchains, independent of the public system, and that could ultimately detract from the value of the individual unit in the Ethereum system - known as an Ether - that people have recently been buying. The interest in Ethereum is one sign of the corporate fascination with blockchains. Most major banks have expressed an interest in using them to make trading and money transfer faster and more efficient. On Tuesday, executives from the largest banks will gather for a conference, \"Blockchain: Tapping I nto the Real Potential , Cutting Through the Hype.\" Many of these banks have recently been looking at how some version of Ethereum might be put to use. JPMorgan, for instance, has created a specific tool, Masala, that allows some of its internal databases to interact with an Ethereum blockchain. Michael Novogratz, a former top executive at the private equity firm Fortress Investing Group, who helped lead Fortress's investment in Bitcoin, has been looking at Ethereum since he left Fortress last fall. Mr. Novogratz said that he made a \"significant\" purchase of Ether in January. He has also heard how the financial industry's chatter about the virtual currency has evolved. \"A lot of the more established players were thinking, 'It's still an experiment,' \" he said. \"It feels like in the last two to three months that experiment is at least getting a lot more validation.\" Since the beginning of the year, the value of an individual unit of Ether has soared as high as $12 from around $1. That has brought the value of all existing Ether to over $1 billion at times, significantly more than any virtual currency other than Bitcoin, which had over $6 billion in value outstanding last week. Since Bitcoin was invented, there have been many so-called alt-coins that have tried to improve on Bitcoin, but none have won the following of Ethereum. Unlike Bitcoin, which was released in 2009 by a mysterious creator known as Satoshi Nakamoto, Ethereum was created in a more transparent fashion by a 21-year-old Russian-Canadian, Vitalik Buterin, after he dropped out of Waterloo University in Ontario. The most basic aim of Ethereum was to make it possible to program binding agreements into the blockchain - the smart contract concept. Two people, for instance, could program a bet on a sports game directly into the Ethereum blockchain. Once the final score came in from a mutually agreed upon source - say, The Associated Press - the money would be automatically transferred to the winning party. Ether can be used as a currency in this system, but Ether are also necessary to pay for the network power needed to process the bet. The Ethereum system has sometimes been described as a single shared computer that is run by the network of users and on which resources are parceled out and paid for by Ether. A team of seven co-founders helped Mr. Buterin write up the software after he released the initial description of the system. Mr. Buterin's team raised $18 million in 2014 through a presale of Ether, which helped fund the Ethereum Foundation, which supports the software's development. Like Bitcoin, Ethereum has succeeded by attracting a dedicated network of followers who have helped support the software, partly in the hope that their Ether will increase in value if the system succeeds. Last week, there were 5,800 computers - or nodes - helping support the network around the world. The Bitcoin network had about 7,400 nodes. One of Mr. Buterin's co-founders, Joseph Lubin, has set up ConsenSys, a company based in Brooklyn that has hired over 50 developers to build applications on the Ethereum system, including one that enables music distribution and another that allows for a new kind of financial auditing. The ConsenSys offices are in an old industrial building in the Bushwick section of Brooklyn. The office is essentially one large room, with all the messy trademarks of a start-up operation, including white boards on the walls and computer parts lying around. Mr. Lubin said he had thrown himself into Ethereum after starting to think that it delivered on some of the failed promise of Bitcoin, especially when it came to allowing new kinds of online contracts and markets. \"Bitcoin presented the broad strokes vision, and Ethereum presented the crystallization of how to deliver that vision,\" he said. Joseph Bonneau, a computer science researcher at Stanford who studies so-called crypto-currencies, said Ethereum was the first system that had really caught his interest since Bitcoin. It is far from a sure thing, he cautioned. \"Bitcoin is still probably the safest bet, but Ethereum is certainly No. 2, and some folks will say it is more likely to be around in 10 years,\" Mr. Bonneau said. \"It will depend if any real markets develop around it. If there is some actual application.\"</td>\n",
       "    </tr>\n",
       "    <tr>\n",
       "      <th>2</th>\n",
       "      <td>http://cointelegraph.com/news/bitcoin-future-when-gbpcoin-of-branson-wins-over-usdcoin-of-trump</td>\n",
       "      <td>Bitcoin Future: When GBPcoin of Branson Wins Over USDcoin of Trump</td>\n",
       "      <td>The alarm clock wakes me at 8:00 with stream of advert-free broadcasting, charged at one satoshi per second. The current BTC exchange rate makes that snooze button a costly proposition! So I get up, make coffee and go to my computer to check the overnight performance of my bots. TradeBot earns me on Trump and Branson TradeBot, which allocates funds between the main chain and various national currency side-chains, generated a lucrative 0.24 BTC return. TradeBot has been reliably profitable ever since I set it to trade USDcoin according to political prediction market data. As expected, the latest poll numbers came in as highly supportive of Trump's re-election as USDcoin CEO. Trump's resistance to de-anonymizing public spending, by moving USDcoin off the Confidential Transactions layer, continues to erode his coin's credibility. In his latest speech, Trump maintains that full CT-privacy is essential to \"combatting CNYcoin's sinister ring-signature scheming.\" I make a note to increase my long position in GBPcoin. Following CEO Branson's memo to the effect that government finances and national banks be brought into compliance with the public blockchain , British corruption indices have flatlined. As the first national econmy to \"go light,\" Britain leads the global recovery from the Great Debt Default of '20. Happy with the GoatData Project I check TeachBot and note that it's performing in-line with expectations. TeachBot serves as an autonomous info-agent between various contracting AIs and data providers. The 0.5 BTC bounty it awarded to a team of Sherpas to outfit a herd of Tibetan mountain goats with full motion-sensing rigs has already been repaid...I check the latest figures... four times over! My best TeachBot strategy to date, the GoatData project provides valuable data to WinterHoof, the Artificial General Intelligence in charge of the Swiss military's quadripedal robotics program. At this rate, I'll soon have enough BTC to retire to Satoshi City on Mars!</td>\n",
       "    </tr>\n",
       "    <tr>\n",
       "      <th>3</th>\n",
       "      <td>https://cloudplatform.googleblog.com/2016/03/Google-Data-Center-360-Tour.html</td>\n",
       "      <td>Google Data Center 360° Tour</td>\n",
       "      <td>We're excited to share the Google Data Center 360° Tour - a YouTube 360° video that gives you an unprecedented and immersive look inside one of our data centers. There are several ways to view this video: On desktop using Google Chrome use your mouse or trackpad to change your view while the video plays YouTube app on mobile - move your device around to look at all angles while the video plays And the most immersive way to view - using Google Cardboard (currently supported by the Android YouTube app only, iOS support is coming soon!) Load the video in the YouTube app and tap on the Cardboard icon when the video starts to play. Insert your phone in Cardboard and look around. A little background . . . Several months ago, those of us on the Google Cloud Developer Advocacy Team had a rare opportunity to tour the Google data center in The Dalles, Oregon. Many of us had seen other non-Google data centers in our careers, but this experience was beyond anything we ever imagined. We were blown away by the scale, the incredible attention to security and privacy, and the amazing efforts to make the data center extremely efficient and green. Additionally, we were proud to meet some of the brilliant people that design, build and maintain these data centers. If you are a Google Cloud Platform customer, then this is your data center as much as it is our data center, so we want you to experience what we experienced. We hope you enjoy it! - Posted by Greg Wilson, Head of Developer Advocacy, Google Cloud Platform</td>\n",
       "    </tr>\n",
       "    <tr>\n",
       "      <th>4</th>\n",
       "      <td>https://bitcoinmagazine.com/articles/ibm-wants-to-evolve-the-internet-with-blockchain-technology-1459189322</td>\n",
       "      <td>IBM Wants to \"Evolve the Internet\" With Blockchain Technology</td>\n",
       "      <td>The Aite Group projects the blockchain market could be valued at $400 million by 2019. For that reason, some of the biggest names in banking, industry and technology have entered into the space to evaluate how this technology could change the financial world. IBM and Linux, for instance, have brought together some of the brightest minds in the industry and technology to work on blockchain technology through the Hyperledger Project. The Hyperledger Project is under the umbrella of the Linux Foundation, and seeks to incorporate findings by blockchain projects such as Blockstream, Ripple, Digital Asset Holdings and others in order to make blockchain technology useful for the world's biggest corporations. IBM has also contributed its own code to the project. According to John Wolpert, IBM's Global Blockchain Offering Director, when IBM and Linux began working together on the blockchain project, Linux made clear it wanted to \"disrupt the disruption,\" in part with their findings, as well as the data gathered by projects such as Ripple, Ethereum and others exploring the blockchain. The Linux foundation announced its Hyperledger project on December 17, 2015. Just one day later, 2,300 companies had requested to join. The second-largest open source foundation in the history of open source had only 450 inquiries. \"So, it's either going to be a holy mess or it's going to change the world,\" Wolpert said at The Blockchain Conference in San Francisco presented by Lighthouse Partners. As Wolford puts it, a team of IBMers is \"on a quest\" to understand and \"do something important\" with blockchain technology. \"I don't know why we got this rap in the '70s, way back, that we are not cool, that we're kind of stodgy, and that is not the IBM of my experience,\" Wolpert, who founded the taxi service Flywheel, explained. \"We're the original crazy people. The craziest people are the guys at IBM in the '60s and '70s -- you can imagine what they were doing in the '60s -- they are wild-eyed revolutionaries.\" Although this is not the image IBM markets, their work in quantum computing, quantum teleportation and neuro semantic chips count among some of the \"cool stuff\" IBM does, says Wolpert. IBM also approaches projects in the spirit of open innovation, and not proprietarily. \"Our method of operations is open, and it's often our MO to back not-our-thing,\" he said of IBM since the 1990s. Wolpert cites Java as one such project: \"You would not know about Java today if it weren't for IBM.\" As a \"pretty young dude,\" Wolpert was in the room when IBM made a billion-dollar decision to back Linux over its own technology. He also cites IBM's work on XML as an example of IBM's dedication to open innovation. Currently, IBM has employees working on crypto-security and distributed systems who have been working on consensus algorithms for their entire careers, some for more than 30 years. \"They're crazy smart, we're planetary, we've gone from a couple of guys in a canoe, to a platoon and approaching an army of people working on blockchain,\" Wolpert said. \"So it feels a lot like my first job at IBM which was making Java real for business.\" This has led old and new friends to contact the the multinational technology and consulting corporation. \"Banks who have been calling us constantly ... saying 'What's your view on blockchain?' or 'Hey, let's do a project together on blockchain,'\" Wolpert said. \"We've been doing all these crazy projects on blockchain, every kind of blockchain, and learning a lot, been doing that for a couple years and really started to accelerate last year.\" Today, there is a whole unit dedicated to blockchain technology at Linux Foundation. \"We went all-in on blockchain,\" he explained. What's it all about for Wolpert? \"It's about evolving the Internet.\" Bitcoin is important for moving money around without a single authority. \"[Bitcoin] is a solution to a problem, a specific problem, of people who need to move money around in environments where you don't trust the government,\" Wolpert said. \"I think we can all agree we are approaching the end of the era where a single authority manages trust and gets compensated for the risk in doing so.\" In Wolpert's view, finance does not need to go from today's system of trust -- where consumers trust institutions to handle their money -- to one of complete trustlessness, like the Bitcoin system in which a protocol, not a centralized authority, manages the movement of value. \"It doesn't follow, having one single trust authority to trustlessness on everything,\" he said. \"There is a false dichotomy between the notion of trust and trustlessness, that you have to have a walled garden on one side and Bitcoin on the other.\" He doesn't compare Bitcoin to the Internet, saying that's a wrong analogy. \"It is not apt to say the Internet is like Bitcoin; the Internet is, from the perspective of Bitcoin, a permissioned walled garden,\" he said. \"Ever heard of ICANN? It's permissive, but it's permissioned.\" Bitcoin, Ripple and Ethereum are \"Iteration 1\" of blockchain technology, the three time IBMer told his audience. Wolpert thinks blockchain technology will soon evolve to \"Iteration 2.\" The problem with it? \"The Internet is constrained,\" Wolpert said. \"You have a fabric that allows for lots of competition on platforms and huge amounts of competition on solutions and applications on top of it, so we need to evolve the Internet to become economically aware, and that Internet isn't going to be an application, it is going to be a fabric and then lots of applications on top of that.\" This doesn't mean blockchain 2.0 technologies such as Blockstream, Ethereum and Ripple are lost causes that must now completely retool. The Linux Foundation, in fact, works with Ethereum and Ripple employees. With its blockchain projects, IBM is not focused on moving a cryptocurrency. \"Lots of banks pay us lots of money and we like that, and we want to radically improve them,\" Wolpert explained. \"[Bankers] are gonna try like heck to radically improve what is going on ahead of the disruption, disrupt themselves if you will. If you look at things like [Overstock's] t0, that's happening, might happen on Bitcoin protocol, but might not, and there's plenty of ways to solve it, when you commit to it. And sure, Bitcoin has woken [banks] up to this, so it's doing its job, it's disrupting the thinking and maybe that is all that is necessary.\" Wolpert wonders aloud during his speech if the world would have iTunes were it not for Napster, or Netflix if it weren't for BitTorrent. The former head of products for IBM's Watson Ecosystem says IBM currently has a \"boomtown with giant numbers of people at IBM and everywhere else\" investigating the blockchain problem and how distributed technology can be made useful for industry. He details how oftentimes IBM tinkers with open innovations itself to make the technology ready for industry. That's not the route being taken with Bitcoin. That the Bitcoin network is on par with Ireland for energy consumption, and that mining consortiums could eventually dictate that market, scares the firm away from dealing directly with Bitcoin. \"What I want to see, what we want to see, is a world full of companies who I can know, who I can identify, who are so spread out, like the Internet,\" he said. Wolpert cites the Arab Spring, and the role the Internet played in that uprising, as how a permissioned, yet permissive, structure functions. Websites, albeit technology permissioned by ICANN, remained online during the protests and played a major role. What's the risk in experimenting with blockchain? \"The risk is we go crazy, we have an unruly mess,\" Wolpert warned. \"[But] it's the Linux Foundation, we've been in this movie before. While there's a lot of really smart guys working on Bitcoin and startups, we've got equally amount of people who also have 20 or 30 years of experience with open source and open innovation, and I think we have a good shot at maintaining restraints, keeping it scoped down, keeping it simple, but getting it to something that is useful.\"</td>\n",
       "    </tr>\n",
       "    <tr>\n",
       "      <th>5</th>\n",
       "      <td>http://www.coindesk.com/ieee-blockchain-oxford-cloud-computing/</td>\n",
       "      <td>IEEE to Talk Blockchain at Cloud Computing Oxford-Con - CoinDesk</td>\n",
       "      <td>One of the largest and oldest organizations for computing professionals will kick off its annual conference on the future of mobile cloud computing tomorrow, where blockchain is scheduled to be one of the attractions. With more than 421,000 members in 260 countries, the Institute of Electrical and Electronics Engineers (IEEE) holding such a high-profile event has the potential to accelerate the rate of blockchain adoption by the engineering community. At the four-day conference, beginning Tuesday, the IEEE will host five blockchain seminars at the 702-year-old Exeter College of Oxford. The conference, IEEE Mobile Cloud 2016, is the organization's fourth annual event dedicated to mobile cloud computing services and engineering. Speaking at the event, hosted at Oxford University, professor Wei-Tek Tsai of the School of Computing, Informatics and Decision Systems engineering at Arizona State University will talk about the future of blockchain technology as an academic topic of research. Computing shift While this looks to be the first IEEE conference to deal so closely with blockchain, its presence at an event dedicated to cloud computing is no surprise. 2016 is shaping up to be the year many stopped talking about bitcoin as a decentralized ledger and started talking about it as a database. Last month, IBM made a huge splash in the blockchain ecosystem when it announced among a wide range of other news, that it would be offering a wide range of blockchain-related initiatives. Further, in November, Microsoft coined the term Blockchain-as-a-Service (BaaS) to describe its sandbox environment where developers could experiment with tools hosted on the company's Azure Cloud platform. Companies including ConsenSys, Augur, BitShares and Slock.it have joined that effort. Oxford University via Shutterstock</td>\n",
       "    </tr>\n",
       "  </tbody>\n",
       "</table>\n",
       "</div>"
      ],
      "text/plain": [
       "                                                                                                                        item_url  \\\n",
       "1  http://www.nytimes.com/2016/03/28/business/dealbook/ethereum-a-virtual-currency-enables-transactions-that-rival-bitcoins.html   \n",
       "2                                http://cointelegraph.com/news/bitcoin-future-when-gbpcoin-of-branson-wins-over-usdcoin-of-trump   \n",
       "3                                                  https://cloudplatform.googleblog.com/2016/03/Google-Data-Center-360-Tour.html   \n",
       "4                    https://bitcoinmagazine.com/articles/ibm-wants-to-evolve-the-internet-with-blockchain-technology-1459189322   \n",
       "5                                                                http://www.coindesk.com/ieee-blockchain-oxford-cloud-computing/   \n",
       "\n",
       "                                                                     title  \\\n",
       "1  Ethereum, a Virtual Currency, Enables Transactions That Rival Bitcoin's   \n",
       "2       Bitcoin Future: When GBPcoin of Branson Wins Over USDcoin of Trump   \n",
       "3                                             Google Data Center 360° Tour   \n",
       "4            IBM Wants to \"Evolve the Internet\" With Blockchain Technology   \n",
       "5         IEEE to Talk Blockchain at Cloud Computing Oxford-Con - CoinDesk   \n",
       "\n",
       "                                                                                                                                                                                                                                                                                                                                                                                                                                                                                                                                                                                                                                                                                                                                                                                                                                                                                                                                                                                                                                                                                                                                                                                                                                                                                                                                                                                                                                                                                                                                                                                                                                                                                                                                                                                                                                                                                                                                                                                                                                                                                                                                                                                                                                                                                                                                                                                                                                                                                                                                                                                                                                                                                                                                                                                                                                                                                                                                                                                                                                                                                                                                                                                                                                                                                                                                                                                                                                                                                                                                                                                                                                                                                                                                                                                                                                                                                                                                                                                                                                                                                                                                                                                                                                                                                                                                                                                                                                                                                                                                                                                                                                                                                                                                                                                                                                                                                                                                                                                                                                                                                                                                                                                                                                                                                                                                                                                                                                                                                                                                                                                                                                                                                                                                                                                                                                                                                                                                                                                                                                                                                                                                                                                                                                                                                                                                                                                                                                                                                                                                                                                                                                                                                                                                                                                                                                                                                                                                                                                                                                                                                                                                                                                                                                                                                                                                                                                                                                                                                                                                                                                                                                                                                                                                                                                                                                                                                                                                                                                                                                                                                                                                                                                                                                                                                                                                                                                                                text_description  \n",
       "1                                                                                                                                                                                                                                                                                                                                                                                                                                                                                                                                                                                                                                                                                                                                                                                                                                                                                                                                                                                                                                                                                                                                                                                                                                                                                                                                                                                                                                                                                                                                                                                                                All of this work is still very early. The first full public version of the Ethereum software was recently released, and the system could face some of the same technical and legal problems that have tarnished Bitcoin. Many Bitcoin advocates say Ethereum will face more security problems than Bitcoin because of the greater complexity of the software. Thus far, Ethereum has faced much less testing, and many fewer attacks, than Bitcoin. The novel design of Ethereum may also invite intense scrutiny by authorities given that potentially fraudulent contracts, like the Ponzi schemes, can be written directly into the Ethereum system. But the sophisticated capabilities of the system have made it fascinating to some executives in corporate America. IBM said last year that it was experimenting with Ethereum as a way to control real world objects in the so-called Internet of things. Microsoft has been working on several projects that make it easier to use Ethereum on its computing cloud, Azure. \"Ethereum is a general platform where you can solve problems in many industries using a fairly elegant solution - the most elegant solution we have seen to date,\" said Marley Gray, a director of business development and strategy at Microsoft. Mr. Gray is responsible for Microsoft's work with blockchains, the database concept that Bitcoin introduced. Blockchains are designed to store transactions and data without requiring any central authority or repository. Blockchain ledgers are generally maintained and updated by networks of computers working together - somewhat similar to the way that Wikipedia is updated and maintained by all its users. Many corporations, though, have created their own Ethereum networks with private blockchains, independent of the public system, and that could ultimately detract from the value of the individual unit in the Ethereum system - known as an Ether - that people have recently been buying. The interest in Ethereum is one sign of the corporate fascination with blockchains. Most major banks have expressed an interest in using them to make trading and money transfer faster and more efficient. On Tuesday, executives from the largest banks will gather for a conference, \"Blockchain: Tapping I nto the Real Potential , Cutting Through the Hype.\" Many of these banks have recently been looking at how some version of Ethereum might be put to use. JPMorgan, for instance, has created a specific tool, Masala, that allows some of its internal databases to interact with an Ethereum blockchain. Michael Novogratz, a former top executive at the private equity firm Fortress Investing Group, who helped lead Fortress's investment in Bitcoin, has been looking at Ethereum since he left Fortress last fall. Mr. Novogratz said that he made a \"significant\" purchase of Ether in January. He has also heard how the financial industry's chatter about the virtual currency has evolved. \"A lot of the more established players were thinking, 'It's still an experiment,' \" he said. \"It feels like in the last two to three months that experiment is at least getting a lot more validation.\" Since the beginning of the year, the value of an individual unit of Ether has soared as high as $12 from around $1. That has brought the value of all existing Ether to over $1 billion at times, significantly more than any virtual currency other than Bitcoin, which had over $6 billion in value outstanding last week. Since Bitcoin was invented, there have been many so-called alt-coins that have tried to improve on Bitcoin, but none have won the following of Ethereum. Unlike Bitcoin, which was released in 2009 by a mysterious creator known as Satoshi Nakamoto, Ethereum was created in a more transparent fashion by a 21-year-old Russian-Canadian, Vitalik Buterin, after he dropped out of Waterloo University in Ontario. The most basic aim of Ethereum was to make it possible to program binding agreements into the blockchain - the smart contract concept. Two people, for instance, could program a bet on a sports game directly into the Ethereum blockchain. Once the final score came in from a mutually agreed upon source - say, The Associated Press - the money would be automatically transferred to the winning party. Ether can be used as a currency in this system, but Ether are also necessary to pay for the network power needed to process the bet. The Ethereum system has sometimes been described as a single shared computer that is run by the network of users and on which resources are parceled out and paid for by Ether. A team of seven co-founders helped Mr. Buterin write up the software after he released the initial description of the system. Mr. Buterin's team raised $18 million in 2014 through a presale of Ether, which helped fund the Ethereum Foundation, which supports the software's development. Like Bitcoin, Ethereum has succeeded by attracting a dedicated network of followers who have helped support the software, partly in the hope that their Ether will increase in value if the system succeeds. Last week, there were 5,800 computers - or nodes - helping support the network around the world. The Bitcoin network had about 7,400 nodes. One of Mr. Buterin's co-founders, Joseph Lubin, has set up ConsenSys, a company based in Brooklyn that has hired over 50 developers to build applications on the Ethereum system, including one that enables music distribution and another that allows for a new kind of financial auditing. The ConsenSys offices are in an old industrial building in the Bushwick section of Brooklyn. The office is essentially one large room, with all the messy trademarks of a start-up operation, including white boards on the walls and computer parts lying around. Mr. Lubin said he had thrown himself into Ethereum after starting to think that it delivered on some of the failed promise of Bitcoin, especially when it came to allowing new kinds of online contracts and markets. \"Bitcoin presented the broad strokes vision, and Ethereum presented the crystallization of how to deliver that vision,\" he said. Joseph Bonneau, a computer science researcher at Stanford who studies so-called crypto-currencies, said Ethereum was the first system that had really caught his interest since Bitcoin. It is far from a sure thing, he cautioned. \"Bitcoin is still probably the safest bet, but Ethereum is certainly No. 2, and some folks will say it is more likely to be around in 10 years,\" Mr. Bonneau said. \"It will depend if any real markets develop around it. If there is some actual application.\"  \n",
       "2                                                                                                                                                                                                                                                                                                                                                                                                                                                                                                                                                                                                                                                                                                                                                                                                                                                                                                                                                                                                                                                                                                                                                                                                                                                                                                                                                                                                                                                                                                                                                                                                                                                                                                                                                                                                                                                                                                                                                                                                                                                                                                                                                                                                                                                                                                                                                                                                                                                                                                                                                                                                                                                                                                                                                                                                                                                                                                                                                                                                                                                                                                                                                                                                                                                                                                                                                                                                                                                                                                                                                                                                                                                                                                                                                                                                                                                                                                                                                                                                                                                                                                                                                                                                                                                                                                                                                                                                                                                                                                                                                                                                                                                                                                                                                                                                                                                                                                                                                                                                                                                                                                                                                                                                                                                                                                                                                                                                                                                                                                                                                                                                                                                                                                                                                                                                                                                                                                                                                                                                                                                                                                                                                                                                                                                                                                                                                      The alarm clock wakes me at 8:00 with stream of advert-free broadcasting, charged at one satoshi per second. The current BTC exchange rate makes that snooze button a costly proposition! So I get up, make coffee and go to my computer to check the overnight performance of my bots. TradeBot earns me on Trump and Branson TradeBot, which allocates funds between the main chain and various national currency side-chains, generated a lucrative 0.24 BTC return. TradeBot has been reliably profitable ever since I set it to trade USDcoin according to political prediction market data. As expected, the latest poll numbers came in as highly supportive of Trump's re-election as USDcoin CEO. Trump's resistance to de-anonymizing public spending, by moving USDcoin off the Confidential Transactions layer, continues to erode his coin's credibility. In his latest speech, Trump maintains that full CT-privacy is essential to \"combatting CNYcoin's sinister ring-signature scheming.\" I make a note to increase my long position in GBPcoin. Following CEO Branson's memo to the effect that government finances and national banks be brought into compliance with the public blockchain , British corruption indices have flatlined. As the first national econmy to \"go light,\" Britain leads the global recovery from the Great Debt Default of '20. Happy with the GoatData Project I check TeachBot and note that it's performing in-line with expectations. TeachBot serves as an autonomous info-agent between various contracting AIs and data providers. The 0.5 BTC bounty it awarded to a team of Sherpas to outfit a herd of Tibetan mountain goats with full motion-sensing rigs has already been repaid...I check the latest figures... four times over! My best TeachBot strategy to date, the GoatData project provides valuable data to WinterHoof, the Artificial General Intelligence in charge of the Swiss military's quadripedal robotics program. At this rate, I'll soon have enough BTC to retire to Satoshi City on Mars!  \n",
       "3                                                                                                                                                                                                                                                                                                                                                                                                                                                                                                                                                                                                                                                                                                                                                                                                                                                                                                                                                                                                                                                                                                                                                                                                                                                                                                                                                                                                                                                                                                                                                                                                                                                                                                                                                                                                                                                                                                                                                                                                                                                                                                                                                                                                                                                                                                                                                                                                                                                                                                                                                                                                                                                                                                                                                                                                                                                                                                                                                                                                                                                                                                                                                                                                                                                                                                                                                                                                                                                                                                                                                                                                                                                                                                                                                                                                                                                                                                                                                                                                                                                                                                                                                                                                                                                                                                                                                                                                                                                                                                                                                                                                                                                                                                                                                                                                                                                                                                                                                                                                                                                                                                                                                                                                                                                                                                                                                                                                                                                                                                                                                                                                                                                                                                                                                                                                                                                                                                                                                                                                                                                                                                                                                                                                                                                                                                                                                                                                                                                                                                                                                                                                                                                                                                                                                                                                                                               We're excited to share the Google Data Center 360° Tour - a YouTube 360° video that gives you an unprecedented and immersive look inside one of our data centers. There are several ways to view this video: On desktop using Google Chrome use your mouse or trackpad to change your view while the video plays YouTube app on mobile - move your device around to look at all angles while the video plays And the most immersive way to view - using Google Cardboard (currently supported by the Android YouTube app only, iOS support is coming soon!) Load the video in the YouTube app and tap on the Cardboard icon when the video starts to play. Insert your phone in Cardboard and look around. A little background . . . Several months ago, those of us on the Google Cloud Developer Advocacy Team had a rare opportunity to tour the Google data center in The Dalles, Oregon. Many of us had seen other non-Google data centers in our careers, but this experience was beyond anything we ever imagined. We were blown away by the scale, the incredible attention to security and privacy, and the amazing efforts to make the data center extremely efficient and green. Additionally, we were proud to meet some of the brilliant people that design, build and maintain these data centers. If you are a Google Cloud Platform customer, then this is your data center as much as it is our data center, so we want you to experience what we experienced. We hope you enjoy it! - Posted by Greg Wilson, Head of Developer Advocacy, Google Cloud Platform  \n",
       "4  The Aite Group projects the blockchain market could be valued at $400 million by 2019. For that reason, some of the biggest names in banking, industry and technology have entered into the space to evaluate how this technology could change the financial world. IBM and Linux, for instance, have brought together some of the brightest minds in the industry and technology to work on blockchain technology through the Hyperledger Project. The Hyperledger Project is under the umbrella of the Linux Foundation, and seeks to incorporate findings by blockchain projects such as Blockstream, Ripple, Digital Asset Holdings and others in order to make blockchain technology useful for the world's biggest corporations. IBM has also contributed its own code to the project. According to John Wolpert, IBM's Global Blockchain Offering Director, when IBM and Linux began working together on the blockchain project, Linux made clear it wanted to \"disrupt the disruption,\" in part with their findings, as well as the data gathered by projects such as Ripple, Ethereum and others exploring the blockchain. The Linux foundation announced its Hyperledger project on December 17, 2015. Just one day later, 2,300 companies had requested to join. The second-largest open source foundation in the history of open source had only 450 inquiries. \"So, it's either going to be a holy mess or it's going to change the world,\" Wolpert said at The Blockchain Conference in San Francisco presented by Lighthouse Partners. As Wolford puts it, a team of IBMers is \"on a quest\" to understand and \"do something important\" with blockchain technology. \"I don't know why we got this rap in the '70s, way back, that we are not cool, that we're kind of stodgy, and that is not the IBM of my experience,\" Wolpert, who founded the taxi service Flywheel, explained. \"We're the original crazy people. The craziest people are the guys at IBM in the '60s and '70s -- you can imagine what they were doing in the '60s -- they are wild-eyed revolutionaries.\" Although this is not the image IBM markets, their work in quantum computing, quantum teleportation and neuro semantic chips count among some of the \"cool stuff\" IBM does, says Wolpert. IBM also approaches projects in the spirit of open innovation, and not proprietarily. \"Our method of operations is open, and it's often our MO to back not-our-thing,\" he said of IBM since the 1990s. Wolpert cites Java as one such project: \"You would not know about Java today if it weren't for IBM.\" As a \"pretty young dude,\" Wolpert was in the room when IBM made a billion-dollar decision to back Linux over its own technology. He also cites IBM's work on XML as an example of IBM's dedication to open innovation. Currently, IBM has employees working on crypto-security and distributed systems who have been working on consensus algorithms for their entire careers, some for more than 30 years. \"They're crazy smart, we're planetary, we've gone from a couple of guys in a canoe, to a platoon and approaching an army of people working on blockchain,\" Wolpert said. \"So it feels a lot like my first job at IBM which was making Java real for business.\" This has led old and new friends to contact the the multinational technology and consulting corporation. \"Banks who have been calling us constantly ... saying 'What's your view on blockchain?' or 'Hey, let's do a project together on blockchain,'\" Wolpert said. \"We've been doing all these crazy projects on blockchain, every kind of blockchain, and learning a lot, been doing that for a couple years and really started to accelerate last year.\" Today, there is a whole unit dedicated to blockchain technology at Linux Foundation. \"We went all-in on blockchain,\" he explained. What's it all about for Wolpert? \"It's about evolving the Internet.\" Bitcoin is important for moving money around without a single authority. \"[Bitcoin] is a solution to a problem, a specific problem, of people who need to move money around in environments where you don't trust the government,\" Wolpert said. \"I think we can all agree we are approaching the end of the era where a single authority manages trust and gets compensated for the risk in doing so.\" In Wolpert's view, finance does not need to go from today's system of trust -- where consumers trust institutions to handle their money -- to one of complete trustlessness, like the Bitcoin system in which a protocol, not a centralized authority, manages the movement of value. \"It doesn't follow, having one single trust authority to trustlessness on everything,\" he said. \"There is a false dichotomy between the notion of trust and trustlessness, that you have to have a walled garden on one side and Bitcoin on the other.\" He doesn't compare Bitcoin to the Internet, saying that's a wrong analogy. \"It is not apt to say the Internet is like Bitcoin; the Internet is, from the perspective of Bitcoin, a permissioned walled garden,\" he said. \"Ever heard of ICANN? It's permissive, but it's permissioned.\" Bitcoin, Ripple and Ethereum are \"Iteration 1\" of blockchain technology, the three time IBMer told his audience. Wolpert thinks blockchain technology will soon evolve to \"Iteration 2.\" The problem with it? \"The Internet is constrained,\" Wolpert said. \"You have a fabric that allows for lots of competition on platforms and huge amounts of competition on solutions and applications on top of it, so we need to evolve the Internet to become economically aware, and that Internet isn't going to be an application, it is going to be a fabric and then lots of applications on top of that.\" This doesn't mean blockchain 2.0 technologies such as Blockstream, Ethereum and Ripple are lost causes that must now completely retool. The Linux Foundation, in fact, works with Ethereum and Ripple employees. With its blockchain projects, IBM is not focused on moving a cryptocurrency. \"Lots of banks pay us lots of money and we like that, and we want to radically improve them,\" Wolpert explained. \"[Bankers] are gonna try like heck to radically improve what is going on ahead of the disruption, disrupt themselves if you will. If you look at things like [Overstock's] t0, that's happening, might happen on Bitcoin protocol, but might not, and there's plenty of ways to solve it, when you commit to it. And sure, Bitcoin has woken [banks] up to this, so it's doing its job, it's disrupting the thinking and maybe that is all that is necessary.\" Wolpert wonders aloud during his speech if the world would have iTunes were it not for Napster, or Netflix if it weren't for BitTorrent. The former head of products for IBM's Watson Ecosystem says IBM currently has a \"boomtown with giant numbers of people at IBM and everywhere else\" investigating the blockchain problem and how distributed technology can be made useful for industry. He details how oftentimes IBM tinkers with open innovations itself to make the technology ready for industry. That's not the route being taken with Bitcoin. That the Bitcoin network is on par with Ireland for energy consumption, and that mining consortiums could eventually dictate that market, scares the firm away from dealing directly with Bitcoin. \"What I want to see, what we want to see, is a world full of companies who I can know, who I can identify, who are so spread out, like the Internet,\" he said. Wolpert cites the Arab Spring, and the role the Internet played in that uprising, as how a permissioned, yet permissive, structure functions. Websites, albeit technology permissioned by ICANN, remained online during the protests and played a major role. What's the risk in experimenting with blockchain? \"The risk is we go crazy, we have an unruly mess,\" Wolpert warned. \"[But] it's the Linux Foundation, we've been in this movie before. While there's a lot of really smart guys working on Bitcoin and startups, we've got equally amount of people who also have 20 or 30 years of experience with open source and open innovation, and I think we have a good shot at maintaining restraints, keeping it scoped down, keeping it simple, but getting it to something that is useful.\"  \n",
       "5                                                                                                                                                                                                                                                                                                                                                                                                                                                                                                                                                                                                                                                                                                                                                                                                                                                                                                                                                                                                                                                                                                                                                                                                                                                                                                                                                                                                                                                                                                                                                                                                                                                                                                                                                                                                                                                                                                                                                                                                                                                                                                                                                                                                                                                                                                                                                                                                                                                                                                                                                                                                                                                                                                                                                                                                                                                                                                                                                                                                                                                                                                                                                                                                                                                                                                                                                                                                                                                                                                                                                                                                                                                                                                                                                                                                                                                                                                                                                                                                                                                                                                                                                                                                                                                                                                                                                                                                                                                                                                                                                                                                                                                                                                                                                                                                                                                                                                                                                                                                                                                                                                                                                                                                                                                                                                                                                                                                                                                                                                                                                                                                                                                                                                                                                                                                                                                                                                                                                                                                                                                                                                                                                                                                                                                                                                                                                                                                                                                                                                                               One of the largest and oldest organizations for computing professionals will kick off its annual conference on the future of mobile cloud computing tomorrow, where blockchain is scheduled to be one of the attractions. With more than 421,000 members in 260 countries, the Institute of Electrical and Electronics Engineers (IEEE) holding such a high-profile event has the potential to accelerate the rate of blockchain adoption by the engineering community. At the four-day conference, beginning Tuesday, the IEEE will host five blockchain seminars at the 702-year-old Exeter College of Oxford. The conference, IEEE Mobile Cloud 2016, is the organization's fourth annual event dedicated to mobile cloud computing services and engineering. Speaking at the event, hosted at Oxford University, professor Wei-Tek Tsai of the School of Computing, Informatics and Decision Systems engineering at Arizona State University will talk about the future of blockchain technology as an academic topic of research. Computing shift While this looks to be the first IEEE conference to deal so closely with blockchain, its presence at an event dedicated to cloud computing is no surprise. 2016 is shaping up to be the year many stopped talking about bitcoin as a decentralized ledger and started talking about it as a database. Last month, IBM made a huge splash in the blockchain ecosystem when it announced among a wide range of other news, that it would be offering a wide range of blockchain-related initiatives. Further, in November, Microsoft coined the term Blockchain-as-a-Service (BaaS) to describe its sandbox environment where developers could experiment with tools hosted on the company's Azure Cloud platform. Companies including ConsenSys, Augur, BitShares and Slock.it have joined that effort. Oxford University via Shutterstock  "
      ]
     },
     "execution_count": 240,
     "metadata": {},
     "output_type": "execute_result"
    }
   ],
   "source": [
    "content_selected.head()"
   ]
  },
  {
   "cell_type": "code",
   "execution_count": null,
   "metadata": {},
   "outputs": [],
   "source": []
  },
  {
   "cell_type": "code",
   "execution_count": null,
   "metadata": {},
   "outputs": [],
   "source": []
  },
  {
   "cell_type": "markdown",
   "metadata": {},
   "source": [
    "# Content Based Recommendations"
   ]
  },
  {
   "cell_type": "code",
   "execution_count": 241,
   "metadata": {},
   "outputs": [],
   "source": [
    "keywords_array = content_selected['text_description'].to_numpy()"
   ]
  },
  {
   "cell_type": "code",
   "execution_count": null,
   "metadata": {},
   "outputs": [],
   "source": []
  },
  {
   "cell_type": "code",
   "execution_count": 242,
   "metadata": {},
   "outputs": [
    {
     "data": {
      "text/plain": [
       "array(['All of this work is still very early. The first full public version of the Ethereum software was recently released, and the system could face some of the same technical and legal problems that have tarnished Bitcoin. Many Bitcoin advocates say Ethereum will face more security problems than Bitcoin because of the greater complexity of the software. Thus far, Ethereum has faced much less testing, and many fewer attacks, than Bitcoin. The novel design of Ethereum may also invite intense scrutiny by authorities given that potentially fraudulent contracts, like the Ponzi schemes, can be written directly into the Ethereum system. But the sophisticated capabilities of the system have made it fascinating to some executives in corporate America. IBM said last year that it was experimenting with Ethereum as a way to control real world objects in the so-called Internet of things. Microsoft has been working on several projects that make it easier to use Ethereum on its computing cloud, Azure. \"Ethereum is a general platform where you can solve problems in many industries using a fairly elegant solution - the most elegant solution we have seen to date,\" said Marley Gray, a director of business development and strategy at Microsoft. Mr. Gray is responsible for Microsoft\\'s work with blockchains, the database concept that Bitcoin introduced. Blockchains are designed to store transactions and data without requiring any central authority or repository. Blockchain ledgers are generally maintained and updated by networks of computers working together - somewhat similar to the way that Wikipedia is updated and maintained by all its users. Many corporations, though, have created their own Ethereum networks with private blockchains, independent of the public system, and that could ultimately detract from the value of the individual unit in the Ethereum system - known as an Ether - that people have recently been buying. The interest in Ethereum is one sign of the corporate fascination with blockchains. Most major banks have expressed an interest in using them to make trading and money transfer faster and more efficient. On Tuesday, executives from the largest banks will gather for a conference, \"Blockchain: Tapping I nto the Real Potential , Cutting Through the Hype.\" Many of these banks have recently been looking at how some version of Ethereum might be put to use. JPMorgan, for instance, has created a specific tool, Masala, that allows some of its internal databases to interact with an Ethereum blockchain. Michael Novogratz, a former top executive at the private equity firm Fortress Investing Group, who helped lead Fortress\\'s investment in Bitcoin, has been looking at Ethereum since he left Fortress last fall. Mr. Novogratz said that he made a \"significant\" purchase of Ether in January. He has also heard how the financial industry\\'s chatter about the virtual currency has evolved. \"A lot of the more established players were thinking, \\'It\\'s still an experiment,\\' \" he said. \"It feels like in the last two to three months that experiment is at least getting a lot more validation.\" Since the beginning of the year, the value of an individual unit of Ether has soared as high as $12 from around $1. That has brought the value of all existing Ether to over $1 billion at times, significantly more than any virtual currency other than Bitcoin, which had over $6 billion in value outstanding last week. Since Bitcoin was invented, there have been many so-called alt-coins that have tried to improve on Bitcoin, but none have won the following of Ethereum. Unlike Bitcoin, which was released in 2009 by a mysterious creator known as Satoshi Nakamoto, Ethereum was created in a more transparent fashion by a 21-year-old Russian-Canadian, Vitalik Buterin, after he dropped out of Waterloo University in Ontario. The most basic aim of Ethereum was to make it possible to program binding agreements into the blockchain - the smart contract concept. Two people, for instance, could program a bet on a sports game directly into the Ethereum blockchain. Once the final score came in from a mutually agreed upon source - say, The Associated Press - the money would be automatically transferred to the winning party. Ether can be used as a currency in this system, but Ether are also necessary to pay for the network power needed to process the bet. The Ethereum system has sometimes been described as a single shared computer that is run by the network of users and on which resources are parceled out and paid for by Ether. A team of seven co-founders helped Mr. Buterin write up the software after he released the initial description of the system. Mr. Buterin\\'s team raised $18 million in 2014 through a presale of Ether, which helped fund the Ethereum Foundation, which supports the software\\'s development. Like Bitcoin, Ethereum has succeeded by attracting a dedicated network of followers who have helped support the software, partly in the hope that their Ether will increase in value if the system succeeds. Last week, there were 5,800 computers - or nodes - helping support the network around the world. The Bitcoin network had about 7,400 nodes. One of Mr. Buterin\\'s co-founders, Joseph Lubin, has set up ConsenSys, a company based in Brooklyn that has hired over 50 developers to build applications on the Ethereum system, including one that enables music distribution and another that allows for a new kind of financial auditing. The ConsenSys offices are in an old industrial building in the Bushwick section of Brooklyn. The office is essentially one large room, with all the messy trademarks of a start-up operation, including white boards on the walls and computer parts lying around. Mr. Lubin said he had thrown himself into Ethereum after starting to think that it delivered on some of the failed promise of Bitcoin, especially when it came to allowing new kinds of online contracts and markets. \"Bitcoin presented the broad strokes vision, and Ethereum presented the crystallization of how to deliver that vision,\" he said. Joseph Bonneau, a computer science researcher at Stanford who studies so-called crypto-currencies, said Ethereum was the first system that had really caught his interest since Bitcoin. It is far from a sure thing, he cautioned. \"Bitcoin is still probably the safest bet, but Ethereum is certainly No. 2, and some folks will say it is more likely to be around in 10 years,\" Mr. Bonneau said. \"It will depend if any real markets develop around it. If there is some actual application.\"',\n",
       "       'The alarm clock wakes me at 8:00 with stream of advert-free broadcasting, charged at one satoshi per second. The current BTC exchange rate makes that snooze button a costly proposition! So I get up, make coffee and go to my computer to check the overnight performance of my bots. TradeBot earns me on Trump and Branson TradeBot, which allocates funds between the main chain and various national currency side-chains, generated a lucrative 0.24 BTC return. TradeBot has been reliably profitable ever since I set it to trade USDcoin according to political prediction market data. As expected, the latest poll numbers came in as highly supportive of Trump\\'s re-election as USDcoin CEO. Trump\\'s resistance to de-anonymizing public spending, by moving USDcoin off the Confidential Transactions layer, continues to erode his coin\\'s credibility. In his latest speech, Trump maintains that full CT-privacy is essential to \"combatting CNYcoin\\'s sinister ring-signature scheming.\" I make a note to increase my long position in GBPcoin. Following CEO Branson\\'s memo to the effect that government finances and national banks be brought into compliance with the public blockchain , British corruption indices have flatlined. As the first national econmy to \"go light,\" Britain leads the global recovery from the Great Debt Default of \\'20. Happy with the GoatData Project I check TeachBot and note that it\\'s performing in-line with expectations. TeachBot serves as an autonomous info-agent between various contracting AIs and data providers. The 0.5 BTC bounty it awarded to a team of Sherpas to outfit a herd of Tibetan mountain goats with full motion-sensing rigs has already been repaid...I check the latest figures... four times over! My best TeachBot strategy to date, the GoatData project provides valuable data to WinterHoof, the Artificial General Intelligence in charge of the Swiss military\\'s quadripedal robotics program. At this rate, I\\'ll soon have enough BTC to retire to Satoshi City on Mars!',\n",
       "       \"We're excited to share the Google Data Center 360° Tour - a YouTube 360° video that gives you an unprecedented and immersive look inside one of our data centers. There are several ways to view this video: On desktop using Google Chrome use your mouse or trackpad to change your view while the video plays YouTube app on mobile - move your device around to look at all angles while the video plays And the most immersive way to view - using Google Cardboard (currently supported by the Android YouTube app only, iOS support is coming soon!) Load the video in the YouTube app and tap on the Cardboard icon when the video starts to play. Insert your phone in Cardboard and look around. A little background . . . Several months ago, those of us on the Google Cloud Developer Advocacy Team had a rare opportunity to tour the Google data center in The Dalles, Oregon. Many of us had seen other non-Google data centers in our careers, but this experience was beyond anything we ever imagined. We were blown away by the scale, the incredible attention to security and privacy, and the amazing efforts to make the data center extremely efficient and green. Additionally, we were proud to meet some of the brilliant people that design, build and maintain these data centers. If you are a Google Cloud Platform customer, then this is your data center as much as it is our data center, so we want you to experience what we experienced. We hope you enjoy it! - Posted by Greg Wilson, Head of Developer Advocacy, Google Cloud Platform\",\n",
       "       ...,\n",
       "       'February 9, 2017 - We begin each year with a look at the K-12 computer science landscape - whether the direct impact of Code.org and our partners, or the indirect and sometimes unrelated impact of other global efforts that share our vision. It\\'s been three and a half years since Code.org hired our first employee. We\\'ve been humbled to watch the world\\'s education system embrace computer science, at an ever-accelerating pace. During this short time, 11 countries, 31 U.S. states, and over 120 U.S. cities and school districts have announced efforts to expand access to computer science as part of the K-12 curriculum; the new Advanced Placement (AP) Computer Science Principles course has launched in over 2,000 classrooms; over 50,000 U.S. teachers have attended workshops to begin teaching computer science; over 500,000 teachers globally have begun teaching computer science classes to over 16 million students; diversity in computer science classrooms has improved for two years in a row; the Hour of Code has surpassed 350 million served - reaching one out of every 10 students on the planet; and 8 Presidents and Prime Ministers have hosted events to inspire millions more to join this teacher-powered movement. To be clear, this isn\\'t the work of Code.org alone. We\\'ve had the support of hundreds of partners , and hundreds of thousands of educators, globally. Many of them began this work years before we existed. The international momentum is led by partners who share our mission in other countries. And in the U.S., this movement has had the bipartisan support of the federal government as well as most state governments. Our largest donors - Microsoft, Facebook, Google, Infosys, and Omidyar Network - deserve special recognition for funding not only Code.org but also the other nonprofits working towards the same goal, globally. We are thankful for all the efforts that share our mission. When we launched Code.org in 2013, it seemed impossible to change the entire education system. Although we still have a long way to go, 2016 was yet another record year, making us more confident than ever in our ability to realize our vision - that every student in every school should have the opportunity to learn computer science. Inspire students and increase diversity with the Hour of Code 20 million served 90M 48% female 195M 49% female 344M 49% female Enable students to show \"basic coding proficiency\" with CS Fundamentals. N/A N/A N/A 887,840 total 365,842 female Improve diversity in CS (measured among students on Code Studio) N/A 43% female, 37% African American or Hispanic 43% female, 37% African American or Hispanic 45% female, 48% underrepresented minorities , 47% free/reduced meal plans Lead a coalition to set policies supporting CS. Policies changed in: 5 states 16 states 17 states, including $9M in CS funding 31 states , including $13M in CS funding Addressing diversity in K-12 computer science is core to our mission. We all know the technology sector as a whole has a diversity problem , caused by a variety of factors. Our focus is on one piece of the problem, the education pipeline, where historically only 20~25% of students are female, and 13~15% are underrepresented minorities. By contrast, the students across Code.org classrooms are far more balanced across gender, race, and also socioeconomic status. This is partly because teachers integrate our courses into classrooms that are already diverse, and partly because we incorporate a focus on diversity throughout our work . For example, we published a study of 8,000 students who took a survey right before and after trying our tutorials. Among female high school students, the number who agreed with the statement \"I like computer science\" jumped from 55% to 75% from just one session of using Code.org\\'s Hour of Code activities. As another example, consider our Computer Science Principles course, designed for the new AP Computer Science exam. Traditionally, AP Computer Science is dominated by white and Asian males, with at most 15% underrepresented minorities. In our 512 classrooms, 49% of the students are underrepresented minorities - which adds up to more students than the entire nation\\'s AP computer science exam participation in 2016. (Side note: 53% of Code.org\\'s staff are women. Our board and leadership team are gender-balanced.) In the 3 years since we launched our Code Studio coding platform, 1/10 of all students on the planet have engaged in our computer science courses, making Code Studio the most broadly used curriculum in computer science. Of course, millions of these students are \"drive-by\" users. What matters more to us is how many teachers incorporate our lessons into their classrooms, and what their students learn. Example high school classroom project, using turtle-drawing commands Measuring by registered students, registered teachers, or monthly activity, Code Studio has doubled in scale in the last 12 months. But instead of measuring logins or page-views, in the last year, we embarked on creating a new metric of success. We began counting students who demonstrate \"basic coding proficiency\" in our CS Fundamentals course using a definition which we created based on student success at coding challenges. The chart below shows how many students demonstrated this proficiency at different levels of difficulty. (This is our first stab at measuring student proficiency, and we have a lot of work to improve it.) The secret behind our growth is simple: teachers recommend our courses to other teachers. One way to measure this is with the Net Promoter methodology : we score 85 among teachers, which is outstanding. This high score is supported by the testimonials we hear from teachers in classrooms. In the 2016-17 school year, we formally launched our App Lab app-making tool, and began scaling our new College Board endorsed Computer Science Principles course to prepare for a new AP exam. Computer science is already the fastest-growing AP course offered by the College Board, having almost doubled since Code.org launched. With this year\\'s new exam, 2017 is poised to be its biggest year yet. There are 2,600 schools participating in the new exam, according to the College Board audit. Among schools using College Board endorsed curricula, 55% are using Code.org\\'s CS Principles course. More than 75,000 students have interacted with our CS Principles course this school year. Our focus is the 512 classrooms of teachers in our professional learning program. These classrooms have 18,615 students enrolled, of which 5,721 are female students, and 9,083 are underrepresented minorities. If these students all take the exam, we have the opportunity to double the number of underrepresented minorities in AP computer science in just one year. In 2016 Code.org\\'s professional learning and school outreach programs accelerated in every dimension. We hosted 4 large professional learning conferences for educators, with stellar feedback. And we grew our network of regional partners and expert facilitators - this network will provide the backbone for the future growth of K-12 computer science. 52,000 computer science teachers prepared by Code.org Our professional learning network: over 40 regional partners, 400 expert facilitators And above all, across all our programs, we passed a new milestone: 52,000 computer science teachers have been prepared by Code.org. Most of these are elementary school teachers who will begin teaching 10-20 hours of computer science per year. But thousands of them are high school teachers teaching a year-long computer science class. More importantly, the feedback from our professional learning workshops is uniformly fantastic. The vast majority of teachers attending these workshops rank them the \"best professional development\" they\\'ve ever experienced. This is partly because America\\'s teachers want to learn and teach computer science, and partly because of the amazing passion of our expert facilitators. While most of Code.org\\'s staff and resources are focused on implementing computer science programs in schools, we have a small, crack team working on changing government policies to support, expand, and sustain K-12 computer science. This effort wouldn\\'t be possible without our coalition partners (especially Microsoft and the College Board), and our many local champions deserve the real credit for driving local change. Our state policy work focuses on 9 ideas we urge every state to consider . Below, we highlight our impact across 3 of these that are easiest to measure. Policy area Policy changed since 2013 High school graduation policy States that have changed policies to allow rigorous CS courses to satisfy core high school graduation requirements AL, AZ, AR, CA, CO, FL, ID, IL, KY, LA, MD, MN, NH, NJ, NY, OH, PA, TN, VA, WA, WV, WI Establishing state-level standards for CS States that have developed or are in the process of developing state education standards for computer science AR, CA, CO, FL, ID, IN, MA, NJ, SC, TX, VA, WA, WI, and WV. States that are evaluating developing standards: AL, DE, MD, MT, OK, and RI. Funding for CS States that have allocated funding specifically to K-12 computer science AR, AZ, GA, ID, MA, RI, UT, VA, WA. These states have allocated $13.01M in total Throughout 2016 we saw growing momentum for computer science among local governments beyond just the policy measures listed above. Chicago Public Schools became the first major school district to make computer science a graduation requirement for all students. The US Conference of Mayors proposed a resolution (sponsored by the mayors of New York, Los Angeles, Chicago, San Francisco, and Baltimore) to expand computer science in schools. Last but not least, we launched the Governors for CS partnership, bringing together the governors of Arkansas, Washington, Rhode Island, Iowa, Virginia, Idaho, and Nevada to build plans for K-12 computer science with more governors to join in 2017. After over a year of work by fourteen states and four school districts, dozens of writers and advisors, and leaders in corporate, nonprofit, and education sectors, the K-12 Computer Science Framework was launched in October with broad support . The framework offers a set of guidelines that could be used to inform the development of standards, curriculum, and computer science pathways, and also help school systems build capacity for teaching computer science. The impact of all the experts and organizations who came together to create the Framework will be felt for years to come. In December, we hosted 22 state teams to plan implementation work, and we will continue similar convenings to build on the momentum. In addition, in 2016, ETS announced it will create a new Praxis exam for credentialing teachers in computer science, and Pearson is working on a similar exam - both informed by the Framework. 2016 was the biggest year ever for the Hour of Code , which has now surpassed 350 million \"served.\" This year, Code.org handed important reins of the campaign to the education community: We gave a committee and review board the responsibility of setting the guidelines and rating the recommended activities . Hundreds of global nonprofits, corporations, and government agencies supported the campaign. From the new tutorials launched by Disney, Microsoft, and Google, to the activities and promotions hosted at Facebook offices and Apple stores, to the thousands of industry volunteers from other companies, the collaboration was amazing. Our own web site hummed along more smoothly than ever, thanks to the support of Amazon Web Services. The global campaign was launched by Canadian Prime Minister Justin Trudeau . And the world\\'s greatest athletes supported this year\\'s Hour of Code with a special inspirational video for students. Presidents and prime ministers rally around the Hour of Code Eight presidents and prime ministers around the world have now hosted symbolic events to inspire students and educators to try computer science. The global Hour of Code campaign has established Computer Science Education Week as a fixture in hundreds of thousands of schools, each year recruiting tens of millions of new students and hundreds of thousands of teachers to try computer science. The work of our global partners has also helped build global momentum for computer science. In 2016, Japan, Malaysia, New Zealand, Ireland, British Columbia, and Nova Scotia followed the lead set by UK, South Korea, Saudi Arabia, Argentina, Australia, and Italy to announce plans to integrate computer science into national curriculum. (See status of global CS efforts ) Last but certainly not least, the biggest headline in computer science in 2016 was the Obama administration\\'s announcement of Computer Science for All . The President announced that \"in the new economy, computer science isn\\'t an optional skill, it\\'s a basic skill.\" The announcement was coupled with a $4 billion proposal for Federal funding. Although the headline funding of CS for All didn\\'t pan out, the bully pulpit played an important role to accelerate this movement. The White House helped amplify and celebrate the work of the computer science community, and President Obama\\'s personal support for Code.org has been invaluable to the movement\\'s international growth. Local efforts such as CS4RI , CS4NH , CS4TX have sprung up in response and will serve as new rallying cries for the movement. Meanwhile, Congress unanimously authorized long-term NSF funding for computer science research which has provided foundational guidance and support to many efforts in the space. NSF funding has established new CS courses in hundreds of classrooms: 5~10% of all new CS teachers prepared this decade were funded by the NSF, and ~19% of all AP CS Principles teachers are teaching NSF-funded curricula. We\\'re thankful to the bipartisan leadership of the Representatives and Senators who supported continuing this work. Of course, together with the new CS Education Coalition , we will continue advocating for federal funding for computer science. Although most of the last few years\\' progress to expand computer science in U.S. schools have been funded by private donors and state governments, an injection of federal funding would greatly accelerate these efforts. Code.org recently penned a memo for the Trump administration laying out a very simple case: In 2016, Fortune 500 CEOs, 27 governors, and top education leaders joined forces to call for federal funding to address this. In 2017, thanks to the leadership of champions from both parties, we are as hopeful as ever that this goal is within reach. With yet another year of growth, we are more confident than ever in the strength and momentum behind the computer science movement, not just in the United States, but globally. Hundreds of thousands of worldwide educators have decided that every student in every school deserves the opportunity to learn computer science. The strength of this movement lies in the inspirational commitment of these teachers and educators. The nonprofits, philanthropists, and local governments who support them will continue and even accelerate our work in 2017 and beyond. Hadi Partovi, Code.org Finances For calendar year 2016 our total expenses were approximately* $19.3 million. The chart below paints a general picture of how this money was spent. *Important note: The information above is not based on audited financials. The table below shows the total cost breakdown of our headline achievements since founding. Areas of effort / Achievements in 2013 - 2016 Fully-loaded cost (including admin) Marketing: Hour of Code campaign, 350M served, reaching 10% of students globally, with events in 196 countries. 48% female participation $8 million Curriculum + Code Studio learning platform: ~300 hours of coursework created, 500,000 teacher accounts. 16 million student accounts. 45% female, 48% underrepresented minorities $14.2 million Partnership + professional learning: 41 regional partners and 400 facilitators who have prepared 52,000 new CS teachers across grades K-12. ($6.8M spent on grades K-5, $13.2M on grades 6-12) $20 million Government affairs: Policies changed in 31 states, $13M in state budgets allocated to CS, 3 Federal bills recognize CS. $3.3 million TOTAL SPENT (2013-2016) $45.5 million Other reports Our generous donors We are supported by philanthropic donations from corporations, foundations, and generous individuals. Code.org is a public 501c3. All donations to Code.org are tax-deductible, and matched 50%. Please consider a donation Platinum Supporters ($3,000,000+ contribution) Gold Supporters ($1,000,000+ contribution) Silver Supporters ($500,000+ contribution) Bronze Supporters ($100,000+ contribution) Supporters ($25,000+ contribution) Craig Silverstein and Mary Obelnicki Microsoft Alumni Foundation Motorola Solutions Foundation Nick and Leslie Hanauer Foundation View all other supporters',\n",
       "       'At JPMorgan Chase & Co., a learning machine is parsing financial deals that once kept legal teams busy for thousands of hours. The program, called COIN, for Contract Intelligence, does the mind-numbing job of interpreting commercial-loan agreements that, until the project went online in June, consumed 360,000 hours of lawyers\\' time annually. The software reviews documents in seconds, is less error-prone and never asks for vacation. Photographer: Kholood Eid/Bloomberg While the financial industry has long touted its technological innovations, a new era of automation is now in overdrive as cheap computing power converges with fears of losing customers to startups. Made possible by investments in machine learning and a new private cloud network, COIN is just the start for the biggest U.S. bank. The firm recently set up technology hubs for teams specializing in big data, robotics and cloud infrastructure to find new sources of revenue, while reducing expenses and risks. The push to automate mundane tasks and create new tools for bankers and clients -- a growing part of the firm\\'s $9.6 billion technology budget -- will be a theme as the company hosts its annual investor day on Tuesday. Behind the strategy, overseen by Chief Operating Operating Officer Matt Zames and Chief Information Officer Dana Deasy, is an undercurrent of anxiety: Though JPMorgan emerged from the financial crisis as one of few big winners, its dominance is at risk unless it aggressively pursues new technologies, according to interviews with a half-dozen bank executives. Redundant Software That was the message Zames had for Deasy when he joined the firm from BP Plc in late 2013. The New York-based bank\\'s internal systems, an amalgam from decades of mergers, had too many redundant software programs that didn\\'t work together seamlessly. \"Matt said, \\'Remember one thing above all else: We absolutely need to be the leaders in technology across financial services,\\'\" Deasy said last week in an interview. \"Everything we\\'ve done from that day forward stems from that meeting.\" A QuickTake explainer on fintech After visiting companies including and three years ago to understand how their developers worked, the bank set out to create its own computing cloud called Gaia that went online last year. Machine learning and big-data efforts now reside on the private platform, which effectively has limitless capacity to support their thirst for processing power. The system already is helping the bank automate some coding activities and making its 20,000 developers more productive, saving money, Zames said. When needed, the firm can also tap into outside cloud services from , and . Tech Spending JPMorgan will make some of its cloud-backed technology available to institutional clients later this year, allowing firms like to access balances, research and trading tools. The move, which lets clients bypass salespeople and support staff for routine information, is similar to one announced in 2015. JPMorgan\\'s total technology budget for this year amounts to 9 percent of its projected revenue -- double the industry average, according to Morgan Stanley analyst Betsy Graseck. The dollar figure has inched higher as JPMorgan bolsters cyber defenses after a 2014 data breach, which exposed the information of 83 million customers. Photographer: Kholood Eid/Bloomberg One-third of the budget is for new initiatives, a figure Zames wants to take to 40 percent in a few years. He expects savings from automation and retiring old technology will let him plow even more money into new innovations. Not all of those bets, which include several projects based on a distributed ledger, like blockchain, will pay off, which JPMorgan says is OK. One example executives are fond of mentioning: The firm built an electronic platform to help trade credit-default swaps that sits unused. \\'Can\\'t Wait\\' \"We\\'re willing to invest to stay ahead of the curve, even if in the final analysis some of that money will go to product or a service that wasn\\'t needed,\" Marianne Lake, the lender\\'s finance chief, told a conference audience in June. That\\'s \"because we can\\'t wait to know what the outcome, the endgame, really looks like, because the environment is moving so fast.\" As for COIN, the program has helped JPMorgan cut down on loan-servicing mistakes, most of which stemmed from human error in interpreting 12,000 new wholesale contracts per year, according to its designers. JPMorgan is scouring for more ways to deploy the technology, which learns by ingesting data to identify patterns and relationships. The bank plans to use it for other types of complex legal filings like credit-default swaps and custody agreements. Someday, the firm may use it to help interpret regulations and analyze corporate communications. Another program called X-Connect, which went into use in January, examines e-mails to help employees find colleagues who have the closest relationships with potential prospects and can arrange introductions. Creating Bots For simpler tasks, the bank has created bots to perform functions like granting access to software systems and responding to IT requests, such as resetting an employee\\'s password, Zames said. Bots are expected to handle 1.7 million access requests this year, doing the work of 140 people. Photographer: Kholood Eid/Bloomberg While growing numbers of people in the industry worry such advancements might someday take their jobs, many Wall Street personnel are more focused on benefits. A survey of more than 3,200 financial professionals by recruiting firm Options Group last year found a majority expect new technology will improve their careers, for example by improving workplace performance. Click here for Options Group\\'s survey on technology\\'s impact \"Anything where you have back-office operations and humans kind of moving information from point A to point B that\\'s not automated is ripe for that,\" Deasy said. \"People always talk about this stuff as displacement. I talk about it as freeing people to work on higher-value things, which is why it\\'s such a terrific opportunity for the firm.\" To help spur internal disruption, the company keeps tabs on 2,000 technology ventures, using about 100 in pilot programs that will eventually join the firm\\'s growing ecosystem of partners. For instance, the bank\\'s machine-learning software was built with , a software firm that JPMorgan first encountered in 2009. \"We\\'re starting to see the real fruits of our labor,\" Zames said. \"This is not pie-in-the-sky stuff.\"',\n",
       "       'The Acquia Partner Awards Program is comprised of two categories across our four global regions: Partners of the Year and Growth Partners of the Year. The Acquia Partner Awards recognize outstanding contributions from our partners over the course of 2016 both in the overall business performance category as well as growth from the previous year.'],\n",
       "      dtype=object)"
      ]
     },
     "execution_count": 242,
     "metadata": {},
     "output_type": "execute_result"
    }
   ],
   "source": [
    "keywords_array"
   ]
  },
  {
   "cell_type": "code",
   "execution_count": 244,
   "metadata": {
    "scrolled": true
   },
   "outputs": [
    {
     "data": {
      "text/plain": [
       "'All of this work is still very early. The first full public version of the Ethereum software was recently released, and the system could face some of the same technical and legal problems that have tarnished Bitcoin. Many Bitcoin advocates say Ethereum will face more security problems than Bitcoin because of the greater complexity of the software. Thus far, Ethereum has faced much less testing, and many fewer attacks, than Bitcoin. The novel design of Ethereum may also invite intense scrutiny by authorities given that potentially fraudulent contracts, like the Ponzi schemes, can be written directly into the Ethereum system. But the sophisticated capabilities of the system have made it fascinating to some executives in corporate America. IBM said last year that it was experimenting with Ethereum as a way to control real world objects in the so-called Internet of things. Microsoft has been working on several projects that make it easier to use Ethereum on its computing cloud, Azure. \"Ethereum is a general platform where you can solve problems in many industries using a fairly elegant solution - the most elegant solution we have seen to date,\" said Marley Gray, a director of business development and strategy at Microsoft. Mr. Gray is responsible for Microsoft\\'s work with blockchains, the database concept that Bitcoin introduced. Blockchains are designed to store transactions and data without requiring any central authority or repository. Blockchain ledgers are generally maintained and updated by networks of computers working together - somewhat similar to the way that Wikipedia is updated and maintained by all its users. Many corporations, though, have created their own Ethereum networks with private blockchains, independent of the public system, and that could ultimately detract from the value of the individual unit in the Ethereum system - known as an Ether - that people have recently been buying. The interest in Ethereum is one sign of the corporate fascination with blockchains. Most major banks have expressed an interest in using them to make trading and money transfer faster and more efficient. On Tuesday, executives from the largest banks will gather for a conference, \"Blockchain: Tapping I nto the Real Potential , Cutting Through the Hype.\" Many of these banks have recently been looking at how some version of Ethereum might be put to use. JPMorgan, for instance, has created a specific tool, Masala, that allows some of its internal databases to interact with an Ethereum blockchain. Michael Novogratz, a former top executive at the private equity firm Fortress Investing Group, who helped lead Fortress\\'s investment in Bitcoin, has been looking at Ethereum since he left Fortress last fall. Mr. Novogratz said that he made a \"significant\" purchase of Ether in January. He has also heard how the financial industry\\'s chatter about the virtual currency has evolved. \"A lot of the more established players were thinking, \\'It\\'s still an experiment,\\' \" he said. \"It feels like in the last two to three months that experiment is at least getting a lot more validation.\" Since the beginning of the year, the value of an individual unit of Ether has soared as high as $12 from around $1. That has brought the value of all existing Ether to over $1 billion at times, significantly more than any virtual currency other than Bitcoin, which had over $6 billion in value outstanding last week. Since Bitcoin was invented, there have been many so-called alt-coins that have tried to improve on Bitcoin, but none have won the following of Ethereum. Unlike Bitcoin, which was released in 2009 by a mysterious creator known as Satoshi Nakamoto, Ethereum was created in a more transparent fashion by a 21-year-old Russian-Canadian, Vitalik Buterin, after he dropped out of Waterloo University in Ontario. The most basic aim of Ethereum was to make it possible to program binding agreements into the blockchain - the smart contract concept. Two people, for instance, could program a bet on a sports game directly into the Ethereum blockchain. Once the final score came in from a mutually agreed upon source - say, The Associated Press - the money would be automatically transferred to the winning party. Ether can be used as a currency in this system, but Ether are also necessary to pay for the network power needed to process the bet. The Ethereum system has sometimes been described as a single shared computer that is run by the network of users and on which resources are parceled out and paid for by Ether. A team of seven co-founders helped Mr. Buterin write up the software after he released the initial description of the system. Mr. Buterin\\'s team raised $18 million in 2014 through a presale of Ether, which helped fund the Ethereum Foundation, which supports the software\\'s development. Like Bitcoin, Ethereum has succeeded by attracting a dedicated network of followers who have helped support the software, partly in the hope that their Ether will increase in value if the system succeeds. Last week, there were 5,800 computers - or nodes - helping support the network around the world. The Bitcoin network had about 7,400 nodes. One of Mr. Buterin\\'s co-founders, Joseph Lubin, has set up ConsenSys, a company based in Brooklyn that has hired over 50 developers to build applications on the Ethereum system, including one that enables music distribution and another that allows for a new kind of financial auditing. The ConsenSys offices are in an old industrial building in the Bushwick section of Brooklyn. The office is essentially one large room, with all the messy trademarks of a start-up operation, including white boards on the walls and computer parts lying around. Mr. Lubin said he had thrown himself into Ethereum after starting to think that it delivered on some of the failed promise of Bitcoin, especially when it came to allowing new kinds of online contracts and markets. \"Bitcoin presented the broad strokes vision, and Ethereum presented the crystallization of how to deliver that vision,\" he said. Joseph Bonneau, a computer science researcher at Stanford who studies so-called crypto-currencies, said Ethereum was the first system that had really caught his interest since Bitcoin. It is far from a sure thing, he cautioned. \"Bitcoin is still probably the safest bet, but Ethereum is certainly No. 2, and some folks will say it is more likely to be around in 10 years,\" Mr. Bonneau said. \"It will depend if any real markets develop around it. If there is some actual application.\"'"
      ]
     },
     "execution_count": 244,
     "metadata": {},
     "output_type": "execute_result"
    }
   ],
   "source": [
    "\n",
    "keywords_array[0]"
   ]
  },
  {
   "cell_type": "code",
   "execution_count": 243,
   "metadata": {
    "scrolled": true
   },
   "outputs": [
    {
     "data": {
      "text/plain": [
       "(2211, 6543)"
      ]
     },
     "execution_count": 243,
     "metadata": {},
     "output_type": "execute_result"
    }
   ],
   "source": [
    "len(keywords_array), len(keywords_array[0])"
   ]
  },
  {
   "cell_type": "code",
   "execution_count": null,
   "metadata": {},
   "outputs": [],
   "source": []
  },
  {
   "cell_type": "code",
   "execution_count": null,
   "metadata": {},
   "outputs": [],
   "source": []
  },
  {
   "cell_type": "code",
   "execution_count": 245,
   "metadata": {},
   "outputs": [],
   "source": [
    "words_list = []\n",
    "\n",
    "for keyword in keywords_array:\n",
    "    \n",
    "    splitted_words = keyword.lower().split()\n",
    "    \n",
    "    words_list.append(splitted_words)"
   ]
  },
  {
   "cell_type": "code",
   "execution_count": 246,
   "metadata": {},
   "outputs": [
    {
     "data": {
      "text/plain": [
       "['all',\n",
       " 'of',\n",
       " 'this',\n",
       " 'work',\n",
       " 'is',\n",
       " 'still',\n",
       " 'very',\n",
       " 'early.',\n",
       " 'the',\n",
       " 'first',\n",
       " 'full',\n",
       " 'public',\n",
       " 'version',\n",
       " 'of',\n",
       " 'the',\n",
       " 'ethereum',\n",
       " 'software',\n",
       " 'was',\n",
       " 'recently',\n",
       " 'released,',\n",
       " 'and',\n",
       " 'the',\n",
       " 'system',\n",
       " 'could',\n",
       " 'face',\n",
       " 'some',\n",
       " 'of',\n",
       " 'the',\n",
       " 'same',\n",
       " 'technical',\n",
       " 'and',\n",
       " 'legal',\n",
       " 'problems',\n",
       " 'that',\n",
       " 'have',\n",
       " 'tarnished',\n",
       " 'bitcoin.',\n",
       " 'many',\n",
       " 'bitcoin',\n",
       " 'advocates',\n",
       " 'say',\n",
       " 'ethereum',\n",
       " 'will',\n",
       " 'face',\n",
       " 'more',\n",
       " 'security',\n",
       " 'problems',\n",
       " 'than',\n",
       " 'bitcoin',\n",
       " 'because',\n",
       " 'of',\n",
       " 'the',\n",
       " 'greater',\n",
       " 'complexity',\n",
       " 'of',\n",
       " 'the',\n",
       " 'software.',\n",
       " 'thus',\n",
       " 'far,',\n",
       " 'ethereum',\n",
       " 'has',\n",
       " 'faced',\n",
       " 'much',\n",
       " 'less',\n",
       " 'testing,',\n",
       " 'and',\n",
       " 'many',\n",
       " 'fewer',\n",
       " 'attacks,',\n",
       " 'than',\n",
       " 'bitcoin.',\n",
       " 'the',\n",
       " 'novel',\n",
       " 'design',\n",
       " 'of',\n",
       " 'ethereum',\n",
       " 'may',\n",
       " 'also',\n",
       " 'invite',\n",
       " 'intense',\n",
       " 'scrutiny',\n",
       " 'by',\n",
       " 'authorities',\n",
       " 'given',\n",
       " 'that',\n",
       " 'potentially',\n",
       " 'fraudulent',\n",
       " 'contracts,',\n",
       " 'like',\n",
       " 'the',\n",
       " 'ponzi',\n",
       " 'schemes,',\n",
       " 'can',\n",
       " 'be',\n",
       " 'written',\n",
       " 'directly',\n",
       " 'into',\n",
       " 'the',\n",
       " 'ethereum',\n",
       " 'system.',\n",
       " 'but',\n",
       " 'the',\n",
       " 'sophisticated',\n",
       " 'capabilities',\n",
       " 'of',\n",
       " 'the',\n",
       " 'system',\n",
       " 'have',\n",
       " 'made',\n",
       " 'it',\n",
       " 'fascinating',\n",
       " 'to',\n",
       " 'some',\n",
       " 'executives',\n",
       " 'in',\n",
       " 'corporate',\n",
       " 'america.',\n",
       " 'ibm',\n",
       " 'said',\n",
       " 'last',\n",
       " 'year',\n",
       " 'that',\n",
       " 'it',\n",
       " 'was',\n",
       " 'experimenting',\n",
       " 'with',\n",
       " 'ethereum',\n",
       " 'as',\n",
       " 'a',\n",
       " 'way',\n",
       " 'to',\n",
       " 'control',\n",
       " 'real',\n",
       " 'world',\n",
       " 'objects',\n",
       " 'in',\n",
       " 'the',\n",
       " 'so-called',\n",
       " 'internet',\n",
       " 'of',\n",
       " 'things.',\n",
       " 'microsoft',\n",
       " 'has',\n",
       " 'been',\n",
       " 'working',\n",
       " 'on',\n",
       " 'several',\n",
       " 'projects',\n",
       " 'that',\n",
       " 'make',\n",
       " 'it',\n",
       " 'easier',\n",
       " 'to',\n",
       " 'use',\n",
       " 'ethereum',\n",
       " 'on',\n",
       " 'its',\n",
       " 'computing',\n",
       " 'cloud,',\n",
       " 'azure.',\n",
       " '\"ethereum',\n",
       " 'is',\n",
       " 'a',\n",
       " 'general',\n",
       " 'platform',\n",
       " 'where',\n",
       " 'you',\n",
       " 'can',\n",
       " 'solve',\n",
       " 'problems',\n",
       " 'in',\n",
       " 'many',\n",
       " 'industries',\n",
       " 'using',\n",
       " 'a',\n",
       " 'fairly',\n",
       " 'elegant',\n",
       " 'solution',\n",
       " '-',\n",
       " 'the',\n",
       " 'most',\n",
       " 'elegant',\n",
       " 'solution',\n",
       " 'we',\n",
       " 'have',\n",
       " 'seen',\n",
       " 'to',\n",
       " 'date,\"',\n",
       " 'said',\n",
       " 'marley',\n",
       " 'gray,',\n",
       " 'a',\n",
       " 'director',\n",
       " 'of',\n",
       " 'business',\n",
       " 'development',\n",
       " 'and',\n",
       " 'strategy',\n",
       " 'at',\n",
       " 'microsoft.',\n",
       " 'mr.',\n",
       " 'gray',\n",
       " 'is',\n",
       " 'responsible',\n",
       " 'for',\n",
       " \"microsoft's\",\n",
       " 'work',\n",
       " 'with',\n",
       " 'blockchains,',\n",
       " 'the',\n",
       " 'database',\n",
       " 'concept',\n",
       " 'that',\n",
       " 'bitcoin',\n",
       " 'introduced.',\n",
       " 'blockchains',\n",
       " 'are',\n",
       " 'designed',\n",
       " 'to',\n",
       " 'store',\n",
       " 'transactions',\n",
       " 'and',\n",
       " 'data',\n",
       " 'without',\n",
       " 'requiring',\n",
       " 'any',\n",
       " 'central',\n",
       " 'authority',\n",
       " 'or',\n",
       " 'repository.',\n",
       " 'blockchain',\n",
       " 'ledgers',\n",
       " 'are',\n",
       " 'generally',\n",
       " 'maintained',\n",
       " 'and',\n",
       " 'updated',\n",
       " 'by',\n",
       " 'networks',\n",
       " 'of',\n",
       " 'computers',\n",
       " 'working',\n",
       " 'together',\n",
       " '-',\n",
       " 'somewhat',\n",
       " 'similar',\n",
       " 'to',\n",
       " 'the',\n",
       " 'way',\n",
       " 'that',\n",
       " 'wikipedia',\n",
       " 'is',\n",
       " 'updated',\n",
       " 'and',\n",
       " 'maintained',\n",
       " 'by',\n",
       " 'all',\n",
       " 'its',\n",
       " 'users.',\n",
       " 'many',\n",
       " 'corporations,',\n",
       " 'though,',\n",
       " 'have',\n",
       " 'created',\n",
       " 'their',\n",
       " 'own',\n",
       " 'ethereum',\n",
       " 'networks',\n",
       " 'with',\n",
       " 'private',\n",
       " 'blockchains,',\n",
       " 'independent',\n",
       " 'of',\n",
       " 'the',\n",
       " 'public',\n",
       " 'system,',\n",
       " 'and',\n",
       " 'that',\n",
       " 'could',\n",
       " 'ultimately',\n",
       " 'detract',\n",
       " 'from',\n",
       " 'the',\n",
       " 'value',\n",
       " 'of',\n",
       " 'the',\n",
       " 'individual',\n",
       " 'unit',\n",
       " 'in',\n",
       " 'the',\n",
       " 'ethereum',\n",
       " 'system',\n",
       " '-',\n",
       " 'known',\n",
       " 'as',\n",
       " 'an',\n",
       " 'ether',\n",
       " '-',\n",
       " 'that',\n",
       " 'people',\n",
       " 'have',\n",
       " 'recently',\n",
       " 'been',\n",
       " 'buying.',\n",
       " 'the',\n",
       " 'interest',\n",
       " 'in',\n",
       " 'ethereum',\n",
       " 'is',\n",
       " 'one',\n",
       " 'sign',\n",
       " 'of',\n",
       " 'the',\n",
       " 'corporate',\n",
       " 'fascination',\n",
       " 'with',\n",
       " 'blockchains.',\n",
       " 'most',\n",
       " 'major',\n",
       " 'banks',\n",
       " 'have',\n",
       " 'expressed',\n",
       " 'an',\n",
       " 'interest',\n",
       " 'in',\n",
       " 'using',\n",
       " 'them',\n",
       " 'to',\n",
       " 'make',\n",
       " 'trading',\n",
       " 'and',\n",
       " 'money',\n",
       " 'transfer',\n",
       " 'faster',\n",
       " 'and',\n",
       " 'more',\n",
       " 'efficient.',\n",
       " 'on',\n",
       " 'tuesday,',\n",
       " 'executives',\n",
       " 'from',\n",
       " 'the',\n",
       " 'largest',\n",
       " 'banks',\n",
       " 'will',\n",
       " 'gather',\n",
       " 'for',\n",
       " 'a',\n",
       " 'conference,',\n",
       " '\"blockchain:',\n",
       " 'tapping',\n",
       " 'i',\n",
       " 'nto',\n",
       " 'the',\n",
       " 'real',\n",
       " 'potential',\n",
       " ',',\n",
       " 'cutting',\n",
       " 'through',\n",
       " 'the',\n",
       " 'hype.\"',\n",
       " 'many',\n",
       " 'of',\n",
       " 'these',\n",
       " 'banks',\n",
       " 'have',\n",
       " 'recently',\n",
       " 'been',\n",
       " 'looking',\n",
       " 'at',\n",
       " 'how',\n",
       " 'some',\n",
       " 'version',\n",
       " 'of',\n",
       " 'ethereum',\n",
       " 'might',\n",
       " 'be',\n",
       " 'put',\n",
       " 'to',\n",
       " 'use.',\n",
       " 'jpmorgan,',\n",
       " 'for',\n",
       " 'instance,',\n",
       " 'has',\n",
       " 'created',\n",
       " 'a',\n",
       " 'specific',\n",
       " 'tool,',\n",
       " 'masala,',\n",
       " 'that',\n",
       " 'allows',\n",
       " 'some',\n",
       " 'of',\n",
       " 'its',\n",
       " 'internal',\n",
       " 'databases',\n",
       " 'to',\n",
       " 'interact',\n",
       " 'with',\n",
       " 'an',\n",
       " 'ethereum',\n",
       " 'blockchain.',\n",
       " 'michael',\n",
       " 'novogratz,',\n",
       " 'a',\n",
       " 'former',\n",
       " 'top',\n",
       " 'executive',\n",
       " 'at',\n",
       " 'the',\n",
       " 'private',\n",
       " 'equity',\n",
       " 'firm',\n",
       " 'fortress',\n",
       " 'investing',\n",
       " 'group,',\n",
       " 'who',\n",
       " 'helped',\n",
       " 'lead',\n",
       " \"fortress's\",\n",
       " 'investment',\n",
       " 'in',\n",
       " 'bitcoin,',\n",
       " 'has',\n",
       " 'been',\n",
       " 'looking',\n",
       " 'at',\n",
       " 'ethereum',\n",
       " 'since',\n",
       " 'he',\n",
       " 'left',\n",
       " 'fortress',\n",
       " 'last',\n",
       " 'fall.',\n",
       " 'mr.',\n",
       " 'novogratz',\n",
       " 'said',\n",
       " 'that',\n",
       " 'he',\n",
       " 'made',\n",
       " 'a',\n",
       " '\"significant\"',\n",
       " 'purchase',\n",
       " 'of',\n",
       " 'ether',\n",
       " 'in',\n",
       " 'january.',\n",
       " 'he',\n",
       " 'has',\n",
       " 'also',\n",
       " 'heard',\n",
       " 'how',\n",
       " 'the',\n",
       " 'financial',\n",
       " \"industry's\",\n",
       " 'chatter',\n",
       " 'about',\n",
       " 'the',\n",
       " 'virtual',\n",
       " 'currency',\n",
       " 'has',\n",
       " 'evolved.',\n",
       " '\"a',\n",
       " 'lot',\n",
       " 'of',\n",
       " 'the',\n",
       " 'more',\n",
       " 'established',\n",
       " 'players',\n",
       " 'were',\n",
       " 'thinking,',\n",
       " \"'it's\",\n",
       " 'still',\n",
       " 'an',\n",
       " \"experiment,'\",\n",
       " '\"',\n",
       " 'he',\n",
       " 'said.',\n",
       " '\"it',\n",
       " 'feels',\n",
       " 'like',\n",
       " 'in',\n",
       " 'the',\n",
       " 'last',\n",
       " 'two',\n",
       " 'to',\n",
       " 'three',\n",
       " 'months',\n",
       " 'that',\n",
       " 'experiment',\n",
       " 'is',\n",
       " 'at',\n",
       " 'least',\n",
       " 'getting',\n",
       " 'a',\n",
       " 'lot',\n",
       " 'more',\n",
       " 'validation.\"',\n",
       " 'since',\n",
       " 'the',\n",
       " 'beginning',\n",
       " 'of',\n",
       " 'the',\n",
       " 'year,',\n",
       " 'the',\n",
       " 'value',\n",
       " 'of',\n",
       " 'an',\n",
       " 'individual',\n",
       " 'unit',\n",
       " 'of',\n",
       " 'ether',\n",
       " 'has',\n",
       " 'soared',\n",
       " 'as',\n",
       " 'high',\n",
       " 'as',\n",
       " '$12',\n",
       " 'from',\n",
       " 'around',\n",
       " '$1.',\n",
       " 'that',\n",
       " 'has',\n",
       " 'brought',\n",
       " 'the',\n",
       " 'value',\n",
       " 'of',\n",
       " 'all',\n",
       " 'existing',\n",
       " 'ether',\n",
       " 'to',\n",
       " 'over',\n",
       " '$1',\n",
       " 'billion',\n",
       " 'at',\n",
       " 'times,',\n",
       " 'significantly',\n",
       " 'more',\n",
       " 'than',\n",
       " 'any',\n",
       " 'virtual',\n",
       " 'currency',\n",
       " 'other',\n",
       " 'than',\n",
       " 'bitcoin,',\n",
       " 'which',\n",
       " 'had',\n",
       " 'over',\n",
       " '$6',\n",
       " 'billion',\n",
       " 'in',\n",
       " 'value',\n",
       " 'outstanding',\n",
       " 'last',\n",
       " 'week.',\n",
       " 'since',\n",
       " 'bitcoin',\n",
       " 'was',\n",
       " 'invented,',\n",
       " 'there',\n",
       " 'have',\n",
       " 'been',\n",
       " 'many',\n",
       " 'so-called',\n",
       " 'alt-coins',\n",
       " 'that',\n",
       " 'have',\n",
       " 'tried',\n",
       " 'to',\n",
       " 'improve',\n",
       " 'on',\n",
       " 'bitcoin,',\n",
       " 'but',\n",
       " 'none',\n",
       " 'have',\n",
       " 'won',\n",
       " 'the',\n",
       " 'following',\n",
       " 'of',\n",
       " 'ethereum.',\n",
       " 'unlike',\n",
       " 'bitcoin,',\n",
       " 'which',\n",
       " 'was',\n",
       " 'released',\n",
       " 'in',\n",
       " '2009',\n",
       " 'by',\n",
       " 'a',\n",
       " 'mysterious',\n",
       " 'creator',\n",
       " 'known',\n",
       " 'as',\n",
       " 'satoshi',\n",
       " 'nakamoto,',\n",
       " 'ethereum',\n",
       " 'was',\n",
       " 'created',\n",
       " 'in',\n",
       " 'a',\n",
       " 'more',\n",
       " 'transparent',\n",
       " 'fashion',\n",
       " 'by',\n",
       " 'a',\n",
       " '21-year-old',\n",
       " 'russian-canadian,',\n",
       " 'vitalik',\n",
       " 'buterin,',\n",
       " 'after',\n",
       " 'he',\n",
       " 'dropped',\n",
       " 'out',\n",
       " 'of',\n",
       " 'waterloo',\n",
       " 'university',\n",
       " 'in',\n",
       " 'ontario.',\n",
       " 'the',\n",
       " 'most',\n",
       " 'basic',\n",
       " 'aim',\n",
       " 'of',\n",
       " 'ethereum',\n",
       " 'was',\n",
       " 'to',\n",
       " 'make',\n",
       " 'it',\n",
       " 'possible',\n",
       " 'to',\n",
       " 'program',\n",
       " 'binding',\n",
       " 'agreements',\n",
       " 'into',\n",
       " 'the',\n",
       " 'blockchain',\n",
       " '-',\n",
       " 'the',\n",
       " 'smart',\n",
       " 'contract',\n",
       " 'concept.',\n",
       " 'two',\n",
       " 'people,',\n",
       " 'for',\n",
       " 'instance,',\n",
       " 'could',\n",
       " 'program',\n",
       " 'a',\n",
       " 'bet',\n",
       " 'on',\n",
       " 'a',\n",
       " 'sports',\n",
       " 'game',\n",
       " 'directly',\n",
       " 'into',\n",
       " 'the',\n",
       " 'ethereum',\n",
       " 'blockchain.',\n",
       " 'once',\n",
       " 'the',\n",
       " 'final',\n",
       " 'score',\n",
       " 'came',\n",
       " 'in',\n",
       " 'from',\n",
       " 'a',\n",
       " 'mutually',\n",
       " 'agreed',\n",
       " 'upon',\n",
       " 'source',\n",
       " '-',\n",
       " 'say,',\n",
       " 'the',\n",
       " 'associated',\n",
       " 'press',\n",
       " '-',\n",
       " 'the',\n",
       " 'money',\n",
       " 'would',\n",
       " 'be',\n",
       " 'automatically',\n",
       " 'transferred',\n",
       " 'to',\n",
       " 'the',\n",
       " 'winning',\n",
       " 'party.',\n",
       " 'ether',\n",
       " 'can',\n",
       " 'be',\n",
       " 'used',\n",
       " 'as',\n",
       " 'a',\n",
       " 'currency',\n",
       " 'in',\n",
       " 'this',\n",
       " 'system,',\n",
       " 'but',\n",
       " 'ether',\n",
       " 'are',\n",
       " 'also',\n",
       " 'necessary',\n",
       " 'to',\n",
       " 'pay',\n",
       " 'for',\n",
       " 'the',\n",
       " 'network',\n",
       " 'power',\n",
       " 'needed',\n",
       " 'to',\n",
       " 'process',\n",
       " 'the',\n",
       " 'bet.',\n",
       " 'the',\n",
       " 'ethereum',\n",
       " 'system',\n",
       " 'has',\n",
       " 'sometimes',\n",
       " 'been',\n",
       " 'described',\n",
       " 'as',\n",
       " 'a',\n",
       " 'single',\n",
       " 'shared',\n",
       " 'computer',\n",
       " 'that',\n",
       " 'is',\n",
       " 'run',\n",
       " 'by',\n",
       " 'the',\n",
       " 'network',\n",
       " 'of',\n",
       " 'users',\n",
       " 'and',\n",
       " 'on',\n",
       " 'which',\n",
       " 'resources',\n",
       " 'are',\n",
       " 'parceled',\n",
       " 'out',\n",
       " 'and',\n",
       " 'paid',\n",
       " 'for',\n",
       " 'by',\n",
       " 'ether.',\n",
       " 'a',\n",
       " 'team',\n",
       " 'of',\n",
       " 'seven',\n",
       " 'co-founders',\n",
       " 'helped',\n",
       " 'mr.',\n",
       " 'buterin',\n",
       " 'write',\n",
       " 'up',\n",
       " 'the',\n",
       " 'software',\n",
       " 'after',\n",
       " 'he',\n",
       " 'released',\n",
       " 'the',\n",
       " 'initial',\n",
       " 'description',\n",
       " 'of',\n",
       " 'the',\n",
       " 'system.',\n",
       " 'mr.',\n",
       " \"buterin's\",\n",
       " 'team',\n",
       " 'raised',\n",
       " '$18',\n",
       " 'million',\n",
       " 'in',\n",
       " '2014',\n",
       " 'through',\n",
       " 'a',\n",
       " 'presale',\n",
       " 'of',\n",
       " 'ether,',\n",
       " 'which',\n",
       " 'helped',\n",
       " 'fund',\n",
       " 'the',\n",
       " 'ethereum',\n",
       " 'foundation,',\n",
       " 'which',\n",
       " 'supports',\n",
       " 'the',\n",
       " \"software's\",\n",
       " 'development.',\n",
       " 'like',\n",
       " 'bitcoin,',\n",
       " 'ethereum',\n",
       " 'has',\n",
       " 'succeeded',\n",
       " 'by',\n",
       " 'attracting',\n",
       " 'a',\n",
       " 'dedicated',\n",
       " 'network',\n",
       " 'of',\n",
       " 'followers',\n",
       " 'who',\n",
       " 'have',\n",
       " 'helped',\n",
       " 'support',\n",
       " 'the',\n",
       " 'software,',\n",
       " 'partly',\n",
       " 'in',\n",
       " 'the',\n",
       " 'hope',\n",
       " 'that',\n",
       " 'their',\n",
       " 'ether',\n",
       " 'will',\n",
       " 'increase',\n",
       " 'in',\n",
       " 'value',\n",
       " 'if',\n",
       " 'the',\n",
       " 'system',\n",
       " 'succeeds.',\n",
       " 'last',\n",
       " 'week,',\n",
       " 'there',\n",
       " 'were',\n",
       " '5,800',\n",
       " 'computers',\n",
       " '-',\n",
       " 'or',\n",
       " 'nodes',\n",
       " '-',\n",
       " 'helping',\n",
       " 'support',\n",
       " 'the',\n",
       " 'network',\n",
       " 'around',\n",
       " 'the',\n",
       " 'world.',\n",
       " 'the',\n",
       " 'bitcoin',\n",
       " 'network',\n",
       " 'had',\n",
       " 'about',\n",
       " '7,400',\n",
       " 'nodes.',\n",
       " 'one',\n",
       " 'of',\n",
       " 'mr.',\n",
       " \"buterin's\",\n",
       " 'co-founders,',\n",
       " 'joseph',\n",
       " 'lubin,',\n",
       " 'has',\n",
       " 'set',\n",
       " 'up',\n",
       " 'consensys,',\n",
       " 'a',\n",
       " 'company',\n",
       " 'based',\n",
       " 'in',\n",
       " 'brooklyn',\n",
       " 'that',\n",
       " 'has',\n",
       " 'hired',\n",
       " 'over',\n",
       " '50',\n",
       " 'developers',\n",
       " 'to',\n",
       " 'build',\n",
       " 'applications',\n",
       " 'on',\n",
       " 'the',\n",
       " 'ethereum',\n",
       " 'system,',\n",
       " 'including',\n",
       " 'one',\n",
       " 'that',\n",
       " 'enables',\n",
       " 'music',\n",
       " 'distribution',\n",
       " 'and',\n",
       " 'another',\n",
       " 'that',\n",
       " 'allows',\n",
       " 'for',\n",
       " 'a',\n",
       " 'new',\n",
       " 'kind',\n",
       " 'of',\n",
       " 'financial',\n",
       " 'auditing.',\n",
       " 'the',\n",
       " 'consensys',\n",
       " 'offices',\n",
       " 'are',\n",
       " 'in',\n",
       " 'an',\n",
       " 'old',\n",
       " 'industrial',\n",
       " 'building',\n",
       " 'in',\n",
       " 'the',\n",
       " 'bushwick',\n",
       " 'section',\n",
       " 'of',\n",
       " 'brooklyn.',\n",
       " 'the',\n",
       " 'office',\n",
       " 'is',\n",
       " 'essentially',\n",
       " 'one',\n",
       " 'large',\n",
       " 'room,',\n",
       " 'with',\n",
       " 'all',\n",
       " 'the',\n",
       " 'messy',\n",
       " 'trademarks',\n",
       " 'of',\n",
       " 'a',\n",
       " 'start-up',\n",
       " 'operation,',\n",
       " 'including',\n",
       " 'white',\n",
       " 'boards',\n",
       " 'on',\n",
       " 'the',\n",
       " 'walls',\n",
       " 'and',\n",
       " 'computer',\n",
       " 'parts',\n",
       " 'lying',\n",
       " 'around.',\n",
       " 'mr.',\n",
       " 'lubin',\n",
       " 'said',\n",
       " 'he',\n",
       " 'had',\n",
       " 'thrown',\n",
       " 'himself',\n",
       " 'into',\n",
       " 'ethereum',\n",
       " 'after',\n",
       " 'starting',\n",
       " 'to',\n",
       " 'think',\n",
       " 'that',\n",
       " 'it',\n",
       " 'delivered',\n",
       " 'on',\n",
       " 'some',\n",
       " 'of',\n",
       " 'the',\n",
       " 'failed',\n",
       " 'promise',\n",
       " 'of',\n",
       " 'bitcoin,',\n",
       " 'especially',\n",
       " 'when',\n",
       " 'it',\n",
       " 'came',\n",
       " 'to',\n",
       " 'allowing',\n",
       " 'new',\n",
       " 'kinds',\n",
       " 'of',\n",
       " 'online',\n",
       " 'contracts',\n",
       " 'and',\n",
       " 'markets.',\n",
       " '\"bitcoin',\n",
       " 'presented',\n",
       " 'the',\n",
       " 'broad',\n",
       " 'strokes',\n",
       " 'vision,',\n",
       " 'and',\n",
       " 'ethereum',\n",
       " 'presented',\n",
       " 'the',\n",
       " 'crystallization',\n",
       " 'of',\n",
       " 'how',\n",
       " 'to',\n",
       " 'deliver',\n",
       " 'that',\n",
       " 'vision,\"',\n",
       " 'he',\n",
       " 'said.',\n",
       " 'joseph',\n",
       " 'bonneau,',\n",
       " 'a',\n",
       " 'computer',\n",
       " 'science',\n",
       " 'researcher',\n",
       " 'at',\n",
       " 'stanford',\n",
       " 'who',\n",
       " 'studies',\n",
       " ...]"
      ]
     },
     "execution_count": 246,
     "metadata": {},
     "output_type": "execute_result"
    }
   ],
   "source": [
    "words_list[0]"
   ]
  },
  {
   "cell_type": "code",
   "execution_count": null,
   "metadata": {},
   "outputs": [],
   "source": []
  },
  {
   "cell_type": "code",
   "execution_count": 247,
   "metadata": {
    "scrolled": true
   },
   "outputs": [
    {
     "data": {
      "text/plain": [
       "(2211, 1072, 311)"
      ]
     },
     "execution_count": 247,
     "metadata": {},
     "output_type": "execute_result"
    }
   ],
   "source": [
    "len(words_list), len(words_list[0]), len(words_list[1])"
   ]
  },
  {
   "cell_type": "code",
   "execution_count": null,
   "metadata": {},
   "outputs": [],
   "source": []
  },
  {
   "cell_type": "code",
   "execution_count": null,
   "metadata": {},
   "outputs": [],
   "source": [
    "#! pip install gensim"
   ]
  },
  {
   "cell_type": "code",
   "execution_count": 248,
   "metadata": {},
   "outputs": [],
   "source": [
    "from gensim.corpora.dictionary import Dictionary\n",
    "\n",
    "# create a dictionary from words list\n",
    "dictionary = Dictionary(words_list) \n",
    "\n",
    "#create corpus where the corpus is a bag of words for each document\n",
    "corpus = [dictionary.doc2bow(doc) for doc in words_list] \n",
    "\n",
    "from gensim.models.tfidfmodel import TfidfModel\n",
    "#create tfidf model of the corpus\n",
    "tfidf = TfidfModel(corpus) \n",
    "\n",
    "from gensim.similarities import MatrixSimilarity\n",
    "# Create the similarity matrix. This is the most important part where we get the similarities between the news.\n",
    "sims = MatrixSimilarity(tfidf[corpus], num_features=len(dictionary))\n"
   ]
  },
  {
   "cell_type": "code",
   "execution_count": null,
   "metadata": {},
   "outputs": [],
   "source": []
  },
  {
   "cell_type": "code",
   "execution_count": 249,
   "metadata": {},
   "outputs": [
    {
     "name": "stdout",
     "output_type": "stream",
     "text": [
      "MatrixSimilarity<2211 docs, 113134 features>\n"
     ]
    }
   ],
   "source": [
    "print(sims)"
   ]
  },
  {
   "cell_type": "code",
   "execution_count": null,
   "metadata": {},
   "outputs": [],
   "source": []
  },
  {
   "cell_type": "code",
   "execution_count": null,
   "metadata": {},
   "outputs": [],
   "source": []
  },
  {
   "cell_type": "code",
   "execution_count": 250,
   "metadata": {},
   "outputs": [],
   "source": [
    "def news_recommendation(news_title):\n",
    "    # get the news row\n",
    "    news = content_selected.loc[content_selected.title==news_title] \n",
    "    \n",
    "    #split the keywords\n",
    "    keywords = news['text_description'].iloc[0].split() \n",
    "\n",
    "    #set the list of words to query_doc\n",
    "    query_doc = keywords \n",
    "    \n",
    "    # get a bag of words from the query_doc\n",
    "    query_doc_bow = dictionary.doc2bow(query_doc) \n",
    "\n",
    "    #convert the regular bag of words model to a tf-idf model\n",
    "    query_doc_tfidf = tfidf[query_doc_bow] \n",
    "    \n",
    "    # get similarity values between input news and all other news\n",
    "    similarity_array = sims[query_doc_tfidf] \n",
    "    \n",
    "    #Convert to a Series\n",
    "    similarity_series = pd.Series(similarity_array.tolist(), index=content_selected.title.values) \n",
    "\n",
    "    #get the most similar news \n",
    "    similarity_output = similarity_series.sort_values(ascending=False)\n",
    "    return similarity_output"
   ]
  },
  {
   "cell_type": "code",
   "execution_count": null,
   "metadata": {},
   "outputs": [],
   "source": []
  },
  {
   "cell_type": "code",
   "execution_count": null,
   "metadata": {},
   "outputs": [],
   "source": []
  },
  {
   "cell_type": "code",
   "execution_count": 251,
   "metadata": {},
   "outputs": [
    {
     "data": {
      "text/plain": [
       "Google Data Center 360° Tour                                                            0.802829\n",
       "Google shares data center security and design best practices                            0.158404\n",
       "Slack swips at Skype with video calls and reaction emoji                                0.119946\n",
       "[Tools] Free Business Video Conference with Screen Sharing, Permanent Room              0.103585\n",
       "Globo.com Uses NGINX for Streaming Media to 500,000+ Viewers                            0.093740\n",
       "Doing Data Science Right - Your Most Common Questions Answered                          0.091469\n",
       "[Tools] How to Record your Desktop Screen with YouTube                                  0.087743\n",
       "Google launches Duo video calling app, a dull cross-OS FaceTime rival                   0.082372\n",
       "Talking Payments - Article Profile - 93% of banks expect video to boost satisfaction    0.077295\n",
       "So long MVP. Hello Minimum Loveable Product.                                            0.074742\n",
       "dtype: float64"
      ]
     },
     "execution_count": 251,
     "metadata": {},
     "output_type": "execute_result"
    }
   ],
   "source": [
    "news_recommendation('Google Data Center 360° Tour')[:10]"
   ]
  },
  {
   "cell_type": "code",
   "execution_count": null,
   "metadata": {},
   "outputs": [],
   "source": []
  },
  {
   "cell_type": "code",
   "execution_count": 252,
   "metadata": {},
   "outputs": [
    {
     "data": {
      "text/plain": [
       "Bayesian machine learning                                                       0.641118\n",
       "Generative Models                                                               0.194991\n",
       "A Technical Primer On Causality                                                 0.159271\n",
       "An introduction to Generative Adversarial Networks (with code in TensorFlow)    0.156609\n",
       "Ultimate AI battle - Apple vs. Google                                           0.144368\n",
       "Approaching (Almost) Any Machine Learning Problem | Abhishek Thakur             0.142956\n",
       "How to choose algorithms for Microsoft Azure Machine Learning                   0.138584\n",
       "Approaching (Almost) Any Machine Learning Problem                               0.138135\n",
       "Machine Learning for Designers                                                  0.137233\n",
       "5 Skills You Need to Become a Machine Learning Engineer | Udacity               0.131510\n",
       "dtype: float64"
      ]
     },
     "execution_count": 252,
     "metadata": {},
     "output_type": "execute_result"
    }
   ],
   "source": [
    "news_recommendation('Bayesian machine learning')[:10]"
   ]
  },
  {
   "cell_type": "code",
   "execution_count": null,
   "metadata": {},
   "outputs": [],
   "source": []
  },
  {
   "cell_type": "code",
   "execution_count": null,
   "metadata": {},
   "outputs": [],
   "source": []
  },
  {
   "cell_type": "code",
   "execution_count": null,
   "metadata": {},
   "outputs": [],
   "source": []
  },
  {
   "cell_type": "code",
   "execution_count": 253,
   "metadata": {},
   "outputs": [
    {
     "data": {
      "text/plain": [
       "How to grow your startup with no budget                                              0.939814\n",
       "State of the Digital Nation 2016                                                     0.160669\n",
       "So long MVP. Hello Minimum Loveable Product.                                         0.141626\n",
       "Marketing Technology Landscape Supergraphic (2016) - Chief Marketing Technologist    0.138221\n",
       "How to get the most from your agency relationships in 2017                           0.138148\n",
       "The Mobile Growth Stack: 2017 Edition - Mobile Growth Stack                          0.128697\n",
       "CMO interview: Putting IBM's marketing technology under the microscope               0.123627\n",
       "Gartner Hype Cycle for Digital Marketing and Advertising                             0.122357\n",
       "What do Design Thinking and Marketing have in common?                                0.121540\n",
       "Multi-Channel Marketing in 2015 - It's not rocket science.                           0.120632\n",
       "dtype: float64"
      ]
     },
     "execution_count": 253,
     "metadata": {},
     "output_type": "execute_result"
    }
   ],
   "source": [
    "news_recommendation('How to grow your startup with no budget')[:10]"
   ]
  },
  {
   "cell_type": "code",
   "execution_count": null,
   "metadata": {},
   "outputs": [],
   "source": []
  },
  {
   "cell_type": "code",
   "execution_count": 254,
   "metadata": {},
   "outputs": [
    {
     "data": {
      "text/plain": [
       "IBM Watson is Working to Bring AI to the Blockchain - CoinDesk        0.741202\n",
       "Decentralizing IoT networks through blockchain                        0.249475\n",
       "Blockchain Huge Potential For The Insurance Industry                  0.193467\n",
       "Red Hat OpenShift Blockchain Initiative Focuses On Ethereum           0.191802\n",
       "Walt Disney Now Loves Blockchain, Going Trustless in Seattle          0.184384\n",
       "The Blockchain is the new Google                                      0.176943\n",
       "Why Many Smart Contract Use Cases Are Simply Impossible - CoinDesk    0.166346\n",
       "Why Many Smart Contract Use Cases Are Simply Impossible - CoinDesk    0.166346\n",
       "Microsoft Strikes Partnership With Banks on Blockchain Tech           0.158306\n",
       "Venture Capitalists Inject Nearly Half a Billion in Bitcoin           0.157295\n",
       "dtype: float64"
      ]
     },
     "execution_count": 254,
     "metadata": {},
     "output_type": "execute_result"
    }
   ],
   "source": [
    "news_recommendation('IBM Watson is Working to Bring AI to the Blockchain - CoinDesk')[:10]"
   ]
  },
  {
   "cell_type": "code",
   "execution_count": null,
   "metadata": {},
   "outputs": [],
   "source": []
  },
  {
   "cell_type": "code",
   "execution_count": 255,
   "metadata": {},
   "outputs": [
    {
     "data": {
      "text/plain": [
       "Nvidia announces a supercomputer aimed at deep learning and AI                                0.804899\n",
       "Machine Learning is Fun! Part 3: Deep Learning and Convolutional Neural Networks              0.136677\n",
       "Baidu Research grills AI models on deep learning                                              0.120639\n",
       "Why Deep Learning Is Suddenly Changing Your Life                                              0.119753\n",
       "Machine Learning for Designers                                                                0.111805\n",
       "Physicists have discovered what makes neural networks so extraordinarily powerful             0.103459\n",
       "My Top 9 Favorite Python Deep Learning Libraries - PyImageSearch                              0.102187\n",
       "rasbt/python-machine-learning-book                                                            0.097102\n",
       "Stream processing, Event sourcing, Reactive, CEP... and making sense of it all - Confluent    0.094416\n",
       "Stream processing, Event sourcing, Reactive, CEP... and making sense of it all                0.094416\n",
       "dtype: float64"
      ]
     },
     "execution_count": 255,
     "metadata": {},
     "output_type": "execute_result"
    }
   ],
   "source": [
    "news_recommendation('Nvidia announces a supercomputer aimed at deep learning and AI')[:10]"
   ]
  },
  {
   "cell_type": "code",
   "execution_count": null,
   "metadata": {},
   "outputs": [],
   "source": []
  },
  {
   "cell_type": "code",
   "execution_count": 256,
   "metadata": {},
   "outputs": [
    {
     "data": {
      "text/plain": [
       "5 Ways to Save Time During Research | Viget                                                  0.937636\n",
       "7 Mistakes Most Beginners Make When A/B Testing                                              0.115188\n",
       "How Netflix does A/B testing - InVision Blog                                                 0.095676\n",
       "Why 5 is the magic number for UX usability testing                                           0.095291\n",
       "How Netflix does A/B Testing - uxdesign.cc - User Experience Design                          0.093335\n",
       "How Netflix does A/B Testing - uxdesign.cc - User Experience Design                          0.093313\n",
       "Microservices testing                                                                        0.089210\n",
       "Live asynchronously.                                                                         0.085418\n",
       "A plan for media management in Drupal 8                                                      0.083926\n",
       "What 2 Years of Android Development Have Taught Me the Hard Way - Thought's by Aritra Roy    0.083753\n",
       "dtype: float64"
      ]
     },
     "execution_count": 256,
     "metadata": {},
     "output_type": "execute_result"
    }
   ],
   "source": [
    "news_recommendation('5 Ways to Save Time During Research | Viget')[:10]"
   ]
  },
  {
   "cell_type": "code",
   "execution_count": null,
   "metadata": {},
   "outputs": [],
   "source": []
  },
  {
   "cell_type": "code",
   "execution_count": 257,
   "metadata": {},
   "outputs": [
    {
     "data": {
      "text/plain": [
       "Bash on Ubuntu on Windows - Download Now!                                                          0.633955\n",
       "PostgreSQL Bloat: origins, monitoring and managing                                                 0.102669\n",
       "Webinar Salesforce - Best Practices for Advanced Lightning Apps                                    0.096747\n",
       "Build Apps Faster with Salesforce - Webinar                                                        0.094854\n",
       "How to Install and Use the Linux Bash Shell on Windows 10                                          0.091083\n",
       "Digital Consumers Forced to Open Accounts in Branches                                              0.083141\n",
       "Mobile UX Design: The Right Ways to Ask Users for Permissions - UX Planet                          0.080246\n",
       "Mobile UX Design: The Right Ways to Ask Users for Permissions - UX Planet                          0.078053\n",
       "The Ultimate Digital Clean-Up Checklist: Are You Prepared For The New Year? - Smashing Magazine    0.074621\n",
       "So long MVP. Hello Minimum Loveable Product.                                                       0.074603\n",
       "dtype: float64"
      ]
     },
     "execution_count": 257,
     "metadata": {},
     "output_type": "execute_result"
    }
   ],
   "source": [
    "news_recommendation('Bash on Ubuntu on Windows - Download Now!')[:10]"
   ]
  },
  {
   "cell_type": "code",
   "execution_count": null,
   "metadata": {},
   "outputs": [],
   "source": []
  },
  {
   "cell_type": "code",
   "execution_count": null,
   "metadata": {},
   "outputs": [],
   "source": []
  },
  {
   "cell_type": "code",
   "execution_count": null,
   "metadata": {},
   "outputs": [],
   "source": []
  },
  {
   "cell_type": "code",
   "execution_count": 258,
   "metadata": {},
   "outputs": [],
   "source": [
    "news_rec = news_recommendation('Hopper raises $16 million for a travel app that tells you the best time to fly')"
   ]
  },
  {
   "cell_type": "code",
   "execution_count": 259,
   "metadata": {
    "scrolled": true
   },
   "outputs": [
    {
     "data": {
      "text/plain": [
       "Hopper raises $16 million for a travel app that tells you the best time to fly                               0.693542\n",
       "A sneak peek at Google's upcoming travel app, Trips                                                          0.124992\n",
       "How to send better push notifications - the complete guide to push notifications - Growth Bug - App World    0.110059\n",
       "State of the Digital Nation 2016                                                                             0.089201\n",
       "Bots won't replace apps. Better apps will replace apps.                                                      0.086670\n",
       "                                                                                                               ...   \n",
       "Presenting to the Boss(es) | Pluralsight                                                                     0.000798\n",
       "Linus Torvalds: The mind behind Linux                                                                        0.000695\n",
       "Linus Torvalds: The mind behind Linux                                                                        0.000695\n",
       "Captain Fantastic (2016)                                                                                     0.000394\n",
       "[Webinar] PMI | Project Management Institute                                                                 0.000127\n",
       "Length: 2211, dtype: float64"
      ]
     },
     "execution_count": 259,
     "metadata": {},
     "output_type": "execute_result"
    }
   ],
   "source": [
    "news_rec"
   ]
  },
  {
   "cell_type": "code",
   "execution_count": null,
   "metadata": {},
   "outputs": [],
   "source": []
  },
  {
   "cell_type": "code",
   "execution_count": 260,
   "metadata": {},
   "outputs": [],
   "source": [
    "news_df = pd.DataFrame(news_rec)"
   ]
  },
  {
   "cell_type": "code",
   "execution_count": 262,
   "metadata": {},
   "outputs": [
    {
     "data": {
      "text/html": [
       "<div>\n",
       "<style scoped>\n",
       "    .dataframe tbody tr th:only-of-type {\n",
       "        vertical-align: middle;\n",
       "    }\n",
       "\n",
       "    .dataframe tbody tr th {\n",
       "        vertical-align: top;\n",
       "    }\n",
       "\n",
       "    .dataframe thead th {\n",
       "        text-align: right;\n",
       "    }\n",
       "</style>\n",
       "<table border=\"1\" class=\"dataframe\">\n",
       "  <thead>\n",
       "    <tr style=\"text-align: right;\">\n",
       "      <th></th>\n",
       "      <th>0</th>\n",
       "    </tr>\n",
       "  </thead>\n",
       "  <tbody>\n",
       "    <tr>\n",
       "      <th>Hopper raises $16 million for a travel app that tells you the best time to fly</th>\n",
       "      <td>0.693542</td>\n",
       "    </tr>\n",
       "    <tr>\n",
       "      <th>A sneak peek at Google's upcoming travel app, Trips</th>\n",
       "      <td>0.124992</td>\n",
       "    </tr>\n",
       "    <tr>\n",
       "      <th>How to send better push notifications - the complete guide to push notifications - Growth Bug - App World</th>\n",
       "      <td>0.110059</td>\n",
       "    </tr>\n",
       "    <tr>\n",
       "      <th>State of the Digital Nation 2016</th>\n",
       "      <td>0.089201</td>\n",
       "    </tr>\n",
       "    <tr>\n",
       "      <th>Bots won't replace apps. Better apps will replace apps.</th>\n",
       "      <td>0.086670</td>\n",
       "    </tr>\n",
       "  </tbody>\n",
       "</table>\n",
       "</div>"
      ],
      "text/plain": [
       "                                                                                                                  0\n",
       "Hopper raises $16 million for a travel app that tells you the best time to fly                             0.693542\n",
       "A sneak peek at Google's upcoming travel app, Trips                                                        0.124992\n",
       "How to send better push notifications - the complete guide to push notifications - Growth Bug - App World  0.110059\n",
       "State of the Digital Nation 2016                                                                           0.089201\n",
       "Bots won't replace apps. Better apps will replace apps.                                                    0.086670"
      ]
     },
     "execution_count": 262,
     "metadata": {},
     "output_type": "execute_result"
    }
   ],
   "source": [
    "news_df.head()"
   ]
  },
  {
   "cell_type": "code",
   "execution_count": 263,
   "metadata": {},
   "outputs": [],
   "source": [
    "news_df.reset_index(inplace=True)"
   ]
  },
  {
   "cell_type": "code",
   "execution_count": 264,
   "metadata": {},
   "outputs": [
    {
     "data": {
      "text/html": [
       "<div>\n",
       "<style scoped>\n",
       "    .dataframe tbody tr th:only-of-type {\n",
       "        vertical-align: middle;\n",
       "    }\n",
       "\n",
       "    .dataframe tbody tr th {\n",
       "        vertical-align: top;\n",
       "    }\n",
       "\n",
       "    .dataframe thead th {\n",
       "        text-align: right;\n",
       "    }\n",
       "</style>\n",
       "<table border=\"1\" class=\"dataframe\">\n",
       "  <thead>\n",
       "    <tr style=\"text-align: right;\">\n",
       "      <th></th>\n",
       "      <th>index</th>\n",
       "      <th>0</th>\n",
       "    </tr>\n",
       "  </thead>\n",
       "  <tbody>\n",
       "    <tr>\n",
       "      <th>0</th>\n",
       "      <td>Hopper raises $16 million for a travel app that tells you the best time to fly</td>\n",
       "      <td>0.693542</td>\n",
       "    </tr>\n",
       "    <tr>\n",
       "      <th>1</th>\n",
       "      <td>A sneak peek at Google's upcoming travel app, Trips</td>\n",
       "      <td>0.124992</td>\n",
       "    </tr>\n",
       "    <tr>\n",
       "      <th>2</th>\n",
       "      <td>How to send better push notifications - the complete guide to push notifications - Growth Bug - App World</td>\n",
       "      <td>0.110059</td>\n",
       "    </tr>\n",
       "    <tr>\n",
       "      <th>3</th>\n",
       "      <td>State of the Digital Nation 2016</td>\n",
       "      <td>0.089201</td>\n",
       "    </tr>\n",
       "    <tr>\n",
       "      <th>4</th>\n",
       "      <td>Bots won't replace apps. Better apps will replace apps.</td>\n",
       "      <td>0.086670</td>\n",
       "    </tr>\n",
       "  </tbody>\n",
       "</table>\n",
       "</div>"
      ],
      "text/plain": [
       "                                                                                                       index  \\\n",
       "0                             Hopper raises $16 million for a travel app that tells you the best time to fly   \n",
       "1                                                        A sneak peek at Google's upcoming travel app, Trips   \n",
       "2  How to send better push notifications - the complete guide to push notifications - Growth Bug - App World   \n",
       "3                                                                           State of the Digital Nation 2016   \n",
       "4                                                    Bots won't replace apps. Better apps will replace apps.   \n",
       "\n",
       "          0  \n",
       "0  0.693542  \n",
       "1  0.124992  \n",
       "2  0.110059  \n",
       "3  0.089201  \n",
       "4  0.086670  "
      ]
     },
     "execution_count": 264,
     "metadata": {},
     "output_type": "execute_result"
    }
   ],
   "source": [
    "news_df.head()"
   ]
  },
  {
   "cell_type": "code",
   "execution_count": 265,
   "metadata": {},
   "outputs": [],
   "source": [
    "news_df.columns = ['title', 'score']"
   ]
  },
  {
   "cell_type": "code",
   "execution_count": 266,
   "metadata": {},
   "outputs": [
    {
     "data": {
      "text/html": [
       "<div>\n",
       "<style scoped>\n",
       "    .dataframe tbody tr th:only-of-type {\n",
       "        vertical-align: middle;\n",
       "    }\n",
       "\n",
       "    .dataframe tbody tr th {\n",
       "        vertical-align: top;\n",
       "    }\n",
       "\n",
       "    .dataframe thead th {\n",
       "        text-align: right;\n",
       "    }\n",
       "</style>\n",
       "<table border=\"1\" class=\"dataframe\">\n",
       "  <thead>\n",
       "    <tr style=\"text-align: right;\">\n",
       "      <th></th>\n",
       "      <th>title</th>\n",
       "      <th>score</th>\n",
       "    </tr>\n",
       "  </thead>\n",
       "  <tbody>\n",
       "    <tr>\n",
       "      <th>0</th>\n",
       "      <td>Hopper raises $16 million for a travel app that tells you the best time to fly</td>\n",
       "      <td>0.693542</td>\n",
       "    </tr>\n",
       "    <tr>\n",
       "      <th>1</th>\n",
       "      <td>A sneak peek at Google's upcoming travel app, Trips</td>\n",
       "      <td>0.124992</td>\n",
       "    </tr>\n",
       "    <tr>\n",
       "      <th>2</th>\n",
       "      <td>How to send better push notifications - the complete guide to push notifications - Growth Bug - App World</td>\n",
       "      <td>0.110059</td>\n",
       "    </tr>\n",
       "    <tr>\n",
       "      <th>3</th>\n",
       "      <td>State of the Digital Nation 2016</td>\n",
       "      <td>0.089201</td>\n",
       "    </tr>\n",
       "    <tr>\n",
       "      <th>4</th>\n",
       "      <td>Bots won't replace apps. Better apps will replace apps.</td>\n",
       "      <td>0.086670</td>\n",
       "    </tr>\n",
       "  </tbody>\n",
       "</table>\n",
       "</div>"
      ],
      "text/plain": [
       "                                                                                                       title  \\\n",
       "0                             Hopper raises $16 million for a travel app that tells you the best time to fly   \n",
       "1                                                        A sneak peek at Google's upcoming travel app, Trips   \n",
       "2  How to send better push notifications - the complete guide to push notifications - Growth Bug - App World   \n",
       "3                                                                           State of the Digital Nation 2016   \n",
       "4                                                    Bots won't replace apps. Better apps will replace apps.   \n",
       "\n",
       "      score  \n",
       "0  0.693542  \n",
       "1  0.124992  \n",
       "2  0.110059  \n",
       "3  0.089201  \n",
       "4  0.086670  "
      ]
     },
     "execution_count": 266,
     "metadata": {},
     "output_type": "execute_result"
    }
   ],
   "source": [
    "news_df.head()"
   ]
  },
  {
   "cell_type": "code",
   "execution_count": 267,
   "metadata": {},
   "outputs": [
    {
     "data": {
      "text/plain": [
       "(2211, 2)"
      ]
     },
     "execution_count": 267,
     "metadata": {},
     "output_type": "execute_result"
    }
   ],
   "source": [
    "news_df.shape"
   ]
  },
  {
   "cell_type": "code",
   "execution_count": null,
   "metadata": {},
   "outputs": [],
   "source": []
  },
  {
   "cell_type": "code",
   "execution_count": 268,
   "metadata": {},
   "outputs": [],
   "source": [
    "news_df['content_score_normalized'] = (news_df['score']-min(news_df['score'])) / (max(news_df['score']) - min(news_df['score']))"
   ]
  },
  {
   "cell_type": "code",
   "execution_count": 269,
   "metadata": {},
   "outputs": [
    {
     "data": {
      "text/html": [
       "<div>\n",
       "<style scoped>\n",
       "    .dataframe tbody tr th:only-of-type {\n",
       "        vertical-align: middle;\n",
       "    }\n",
       "\n",
       "    .dataframe tbody tr th {\n",
       "        vertical-align: top;\n",
       "    }\n",
       "\n",
       "    .dataframe thead th {\n",
       "        text-align: right;\n",
       "    }\n",
       "</style>\n",
       "<table border=\"1\" class=\"dataframe\">\n",
       "  <thead>\n",
       "    <tr style=\"text-align: right;\">\n",
       "      <th></th>\n",
       "      <th>title</th>\n",
       "      <th>score</th>\n",
       "      <th>content_score_normalized</th>\n",
       "    </tr>\n",
       "  </thead>\n",
       "  <tbody>\n",
       "    <tr>\n",
       "      <th>0</th>\n",
       "      <td>Hopper raises $16 million for a travel app that tells you the best time to fly</td>\n",
       "      <td>0.693542</td>\n",
       "      <td>1.000000</td>\n",
       "    </tr>\n",
       "    <tr>\n",
       "      <th>1</th>\n",
       "      <td>A sneak peek at Google's upcoming travel app, Trips</td>\n",
       "      <td>0.124992</td>\n",
       "      <td>0.180072</td>\n",
       "    </tr>\n",
       "    <tr>\n",
       "      <th>2</th>\n",
       "      <td>How to send better push notifications - the complete guide to push notifications - Growth Bug - App World</td>\n",
       "      <td>0.110059</td>\n",
       "      <td>0.158537</td>\n",
       "    </tr>\n",
       "    <tr>\n",
       "      <th>3</th>\n",
       "      <td>State of the Digital Nation 2016</td>\n",
       "      <td>0.089201</td>\n",
       "      <td>0.128457</td>\n",
       "    </tr>\n",
       "    <tr>\n",
       "      <th>4</th>\n",
       "      <td>Bots won't replace apps. Better apps will replace apps.</td>\n",
       "      <td>0.086670</td>\n",
       "      <td>0.124807</td>\n",
       "    </tr>\n",
       "  </tbody>\n",
       "</table>\n",
       "</div>"
      ],
      "text/plain": [
       "                                                                                                       title  \\\n",
       "0                             Hopper raises $16 million for a travel app that tells you the best time to fly   \n",
       "1                                                        A sneak peek at Google's upcoming travel app, Trips   \n",
       "2  How to send better push notifications - the complete guide to push notifications - Growth Bug - App World   \n",
       "3                                                                           State of the Digital Nation 2016   \n",
       "4                                                    Bots won't replace apps. Better apps will replace apps.   \n",
       "\n",
       "      score  content_score_normalized  \n",
       "0  0.693542                  1.000000  \n",
       "1  0.124992                  0.180072  \n",
       "2  0.110059                  0.158537  \n",
       "3  0.089201                  0.128457  \n",
       "4  0.086670                  0.124807  "
      ]
     },
     "execution_count": 269,
     "metadata": {},
     "output_type": "execute_result"
    }
   ],
   "source": [
    "news_df.head()"
   ]
  },
  {
   "cell_type": "code",
   "execution_count": 270,
   "metadata": {},
   "outputs": [
    {
     "data": {
      "text/plain": [
       "pandas.core.frame.DataFrame"
      ]
     },
     "execution_count": 270,
     "metadata": {},
     "output_type": "execute_result"
    }
   ],
   "source": [
    "type(news_df)"
   ]
  },
  {
   "cell_type": "code",
   "execution_count": 271,
   "metadata": {},
   "outputs": [
    {
     "data": {
      "text/html": [
       "<div>\n",
       "<style scoped>\n",
       "    .dataframe tbody tr th:only-of-type {\n",
       "        vertical-align: middle;\n",
       "    }\n",
       "\n",
       "    .dataframe tbody tr th {\n",
       "        vertical-align: top;\n",
       "    }\n",
       "\n",
       "    .dataframe thead th {\n",
       "        text-align: right;\n",
       "    }\n",
       "</style>\n",
       "<table border=\"1\" class=\"dataframe\">\n",
       "  <thead>\n",
       "    <tr style=\"text-align: right;\">\n",
       "      <th></th>\n",
       "      <th>score</th>\n",
       "      <th>content_score_normalized</th>\n",
       "    </tr>\n",
       "  </thead>\n",
       "  <tbody>\n",
       "    <tr>\n",
       "      <th>count</th>\n",
       "      <td>2211.000000</td>\n",
       "      <td>2211.000000</td>\n",
       "    </tr>\n",
       "    <tr>\n",
       "      <th>mean</th>\n",
       "      <td>0.025237</td>\n",
       "      <td>0.036211</td>\n",
       "    </tr>\n",
       "    <tr>\n",
       "      <th>std</th>\n",
       "      <td>0.020025</td>\n",
       "      <td>0.028878</td>\n",
       "    </tr>\n",
       "    <tr>\n",
       "      <th>min</th>\n",
       "      <td>0.000127</td>\n",
       "      <td>0.000000</td>\n",
       "    </tr>\n",
       "    <tr>\n",
       "      <th>25%</th>\n",
       "      <td>0.014972</td>\n",
       "      <td>0.021408</td>\n",
       "    </tr>\n",
       "    <tr>\n",
       "      <th>50%</th>\n",
       "      <td>0.022800</td>\n",
       "      <td>0.032696</td>\n",
       "    </tr>\n",
       "    <tr>\n",
       "      <th>75%</th>\n",
       "      <td>0.032075</td>\n",
       "      <td>0.046072</td>\n",
       "    </tr>\n",
       "    <tr>\n",
       "      <th>max</th>\n",
       "      <td>0.693542</td>\n",
       "      <td>1.000000</td>\n",
       "    </tr>\n",
       "  </tbody>\n",
       "</table>\n",
       "</div>"
      ],
      "text/plain": [
       "             score  content_score_normalized\n",
       "count  2211.000000               2211.000000\n",
       "mean      0.025237                  0.036211\n",
       "std       0.020025                  0.028878\n",
       "min       0.000127                  0.000000\n",
       "25%       0.014972                  0.021408\n",
       "50%       0.022800                  0.032696\n",
       "75%       0.032075                  0.046072\n",
       "max       0.693542                  1.000000"
      ]
     },
     "execution_count": 271,
     "metadata": {},
     "output_type": "execute_result"
    }
   ],
   "source": [
    "news_df.describe()"
   ]
  },
  {
   "cell_type": "code",
   "execution_count": null,
   "metadata": {},
   "outputs": [],
   "source": []
  },
  {
   "cell_type": "code",
   "execution_count": null,
   "metadata": {},
   "outputs": [],
   "source": []
  },
  {
   "cell_type": "code",
   "execution_count": null,
   "metadata": {},
   "outputs": [],
   "source": []
  },
  {
   "cell_type": "markdown",
   "metadata": {},
   "source": [
    "# Hybrid: [Collaborative Item Base + Content Based]"
   ]
  },
  {
   "cell_type": "code",
   "execution_count": 272,
   "metadata": {},
   "outputs": [
    {
     "data": {
      "text/html": [
       "<div>\n",
       "<style scoped>\n",
       "    .dataframe tbody tr th:only-of-type {\n",
       "        vertical-align: middle;\n",
       "    }\n",
       "\n",
       "    .dataframe tbody tr th {\n",
       "        vertical-align: top;\n",
       "    }\n",
       "\n",
       "    .dataframe thead th {\n",
       "        text-align: right;\n",
       "    }\n",
       "</style>\n",
       "<table border=\"1\" class=\"dataframe\">\n",
       "  <thead>\n",
       "    <tr style=\"text-align: right;\">\n",
       "      <th></th>\n",
       "      <th>news_id</th>\n",
       "      <th>item_id</th>\n",
       "      <th>title</th>\n",
       "      <th>score</th>\n",
       "      <th>collaborative_score_normalized</th>\n",
       "    </tr>\n",
       "  </thead>\n",
       "  <tbody>\n",
       "    <tr>\n",
       "      <th>0</th>\n",
       "      <td>20</td>\n",
       "      <td>-9107331682787867601</td>\n",
       "      <td>Hopper raises $16 million for a travel app that tells you the best time to fly</td>\n",
       "      <td>1.000000</td>\n",
       "      <td>1.000000</td>\n",
       "    </tr>\n",
       "    <tr>\n",
       "      <th>1</th>\n",
       "      <td>2892</td>\n",
       "      <td>8659918766210334195</td>\n",
       "      <td>5 Latin Trends for 2017 | TrendWatching</td>\n",
       "      <td>0.520117</td>\n",
       "      <td>0.520117</td>\n",
       "    </tr>\n",
       "    <tr>\n",
       "      <th>2</th>\n",
       "      <td>955</td>\n",
       "      <td>-3351990231604537690</td>\n",
       "      <td>Carrinho de criança carrega seu smartphone usando geradores instalados nas rodas</td>\n",
       "      <td>0.518050</td>\n",
       "      <td>0.518050</td>\n",
       "    </tr>\n",
       "    <tr>\n",
       "      <th>3</th>\n",
       "      <td>1028</td>\n",
       "      <td>-2860224288374811338</td>\n",
       "      <td>How I Passed the AWS Solutions Architect Professional Exam</td>\n",
       "      <td>0.508072</td>\n",
       "      <td>0.508072</td>\n",
       "    </tr>\n",
       "    <tr>\n",
       "      <th>4</th>\n",
       "      <td>2501</td>\n",
       "      <td>6237714845306489877</td>\n",
       "      <td>How CEOs Can Keep Their Analytics Programs from Being a Waste of Time</td>\n",
       "      <td>0.500000</td>\n",
       "      <td>0.500000</td>\n",
       "    </tr>\n",
       "  </tbody>\n",
       "</table>\n",
       "</div>"
      ],
      "text/plain": [
       "   news_id              item_id  \\\n",
       "0       20 -9107331682787867601   \n",
       "1     2892  8659918766210334195   \n",
       "2      955 -3351990231604537690   \n",
       "3     1028 -2860224288374811338   \n",
       "4     2501  6237714845306489877   \n",
       "\n",
       "                                                                              title  \\\n",
       "0    Hopper raises $16 million for a travel app that tells you the best time to fly   \n",
       "1                                           5 Latin Trends for 2017 | TrendWatching   \n",
       "2  Carrinho de criança carrega seu smartphone usando geradores instalados nas rodas   \n",
       "3                        How I Passed the AWS Solutions Architect Professional Exam   \n",
       "4             How CEOs Can Keep Their Analytics Programs from Being a Waste of Time   \n",
       "\n",
       "      score  collaborative_score_normalized  \n",
       "0  1.000000                        1.000000  \n",
       "1  0.520117                        0.520117  \n",
       "2  0.518050                        0.518050  \n",
       "3  0.508072                        0.508072  \n",
       "4  0.500000                        0.500000  "
      ]
     },
     "execution_count": 272,
     "metadata": {},
     "output_type": "execute_result"
    }
   ],
   "source": [
    "collab_output.head()"
   ]
  },
  {
   "cell_type": "code",
   "execution_count": 273,
   "metadata": {},
   "outputs": [
    {
     "data": {
      "text/html": [
       "<div>\n",
       "<style scoped>\n",
       "    .dataframe tbody tr th:only-of-type {\n",
       "        vertical-align: middle;\n",
       "    }\n",
       "\n",
       "    .dataframe tbody tr th {\n",
       "        vertical-align: top;\n",
       "    }\n",
       "\n",
       "    .dataframe thead th {\n",
       "        text-align: right;\n",
       "    }\n",
       "</style>\n",
       "<table border=\"1\" class=\"dataframe\">\n",
       "  <thead>\n",
       "    <tr style=\"text-align: right;\">\n",
       "      <th></th>\n",
       "      <th>title</th>\n",
       "      <th>score</th>\n",
       "      <th>content_score_normalized</th>\n",
       "    </tr>\n",
       "  </thead>\n",
       "  <tbody>\n",
       "    <tr>\n",
       "      <th>0</th>\n",
       "      <td>Hopper raises $16 million for a travel app that tells you the best time to fly</td>\n",
       "      <td>0.693542</td>\n",
       "      <td>1.000000</td>\n",
       "    </tr>\n",
       "    <tr>\n",
       "      <th>1</th>\n",
       "      <td>A sneak peek at Google's upcoming travel app, Trips</td>\n",
       "      <td>0.124992</td>\n",
       "      <td>0.180072</td>\n",
       "    </tr>\n",
       "    <tr>\n",
       "      <th>2</th>\n",
       "      <td>How to send better push notifications - the complete guide to push notifications - Growth Bug - App World</td>\n",
       "      <td>0.110059</td>\n",
       "      <td>0.158537</td>\n",
       "    </tr>\n",
       "    <tr>\n",
       "      <th>3</th>\n",
       "      <td>State of the Digital Nation 2016</td>\n",
       "      <td>0.089201</td>\n",
       "      <td>0.128457</td>\n",
       "    </tr>\n",
       "    <tr>\n",
       "      <th>4</th>\n",
       "      <td>Bots won't replace apps. Better apps will replace apps.</td>\n",
       "      <td>0.086670</td>\n",
       "      <td>0.124807</td>\n",
       "    </tr>\n",
       "  </tbody>\n",
       "</table>\n",
       "</div>"
      ],
      "text/plain": [
       "                                                                                                       title  \\\n",
       "0                             Hopper raises $16 million for a travel app that tells you the best time to fly   \n",
       "1                                                        A sneak peek at Google's upcoming travel app, Trips   \n",
       "2  How to send better push notifications - the complete guide to push notifications - Growth Bug - App World   \n",
       "3                                                                           State of the Digital Nation 2016   \n",
       "4                                                    Bots won't replace apps. Better apps will replace apps.   \n",
       "\n",
       "      score  content_score_normalized  \n",
       "0  0.693542                  1.000000  \n",
       "1  0.124992                  0.180072  \n",
       "2  0.110059                  0.158537  \n",
       "3  0.089201                  0.128457  \n",
       "4  0.086670                  0.124807  "
      ]
     },
     "execution_count": 273,
     "metadata": {},
     "output_type": "execute_result"
    }
   ],
   "source": [
    "news_df.head()"
   ]
  },
  {
   "cell_type": "code",
   "execution_count": null,
   "metadata": {},
   "outputs": [],
   "source": []
  },
  {
   "cell_type": "code",
   "execution_count": 274,
   "metadata": {},
   "outputs": [],
   "source": [
    "hybrid_output = pd.merge(collab_output, news_df, how='left', on='title')"
   ]
  },
  {
   "cell_type": "code",
   "execution_count": null,
   "metadata": {},
   "outputs": [],
   "source": []
  },
  {
   "cell_type": "code",
   "execution_count": 275,
   "metadata": {},
   "outputs": [
    {
     "data": {
      "text/html": [
       "<div>\n",
       "<style scoped>\n",
       "    .dataframe tbody tr th:only-of-type {\n",
       "        vertical-align: middle;\n",
       "    }\n",
       "\n",
       "    .dataframe tbody tr th {\n",
       "        vertical-align: top;\n",
       "    }\n",
       "\n",
       "    .dataframe thead th {\n",
       "        text-align: right;\n",
       "    }\n",
       "</style>\n",
       "<table border=\"1\" class=\"dataframe\">\n",
       "  <thead>\n",
       "    <tr style=\"text-align: right;\">\n",
       "      <th></th>\n",
       "      <th>news_id</th>\n",
       "      <th>item_id</th>\n",
       "      <th>title</th>\n",
       "      <th>score_x</th>\n",
       "      <th>collaborative_score_normalized</th>\n",
       "      <th>score_y</th>\n",
       "      <th>content_score_normalized</th>\n",
       "    </tr>\n",
       "  </thead>\n",
       "  <tbody>\n",
       "    <tr>\n",
       "      <th>0</th>\n",
       "      <td>20</td>\n",
       "      <td>-9107331682787867601</td>\n",
       "      <td>Hopper raises $16 million for a travel app that tells you the best time to fly</td>\n",
       "      <td>1.000000</td>\n",
       "      <td>1.000000</td>\n",
       "      <td>0.693542</td>\n",
       "      <td>1.000000</td>\n",
       "    </tr>\n",
       "    <tr>\n",
       "      <th>1</th>\n",
       "      <td>2892</td>\n",
       "      <td>8659918766210334195</td>\n",
       "      <td>5 Latin Trends for 2017 | TrendWatching</td>\n",
       "      <td>0.520117</td>\n",
       "      <td>0.520117</td>\n",
       "      <td>0.019544</td>\n",
       "      <td>0.028001</td>\n",
       "    </tr>\n",
       "    <tr>\n",
       "      <th>2</th>\n",
       "      <td>955</td>\n",
       "      <td>-3351990231604537690</td>\n",
       "      <td>Carrinho de criança carrega seu smartphone usando geradores instalados nas rodas</td>\n",
       "      <td>0.518050</td>\n",
       "      <td>0.518050</td>\n",
       "      <td>NaN</td>\n",
       "      <td>NaN</td>\n",
       "    </tr>\n",
       "    <tr>\n",
       "      <th>3</th>\n",
       "      <td>1028</td>\n",
       "      <td>-2860224288374811338</td>\n",
       "      <td>How I Passed the AWS Solutions Architect Professional Exam</td>\n",
       "      <td>0.508072</td>\n",
       "      <td>0.508072</td>\n",
       "      <td>0.027405</td>\n",
       "      <td>0.039338</td>\n",
       "    </tr>\n",
       "    <tr>\n",
       "      <th>4</th>\n",
       "      <td>2501</td>\n",
       "      <td>6237714845306489877</td>\n",
       "      <td>How CEOs Can Keep Their Analytics Programs from Being a Waste of Time</td>\n",
       "      <td>0.500000</td>\n",
       "      <td>0.500000</td>\n",
       "      <td>0.013186</td>\n",
       "      <td>0.018832</td>\n",
       "    </tr>\n",
       "  </tbody>\n",
       "</table>\n",
       "</div>"
      ],
      "text/plain": [
       "   news_id              item_id  \\\n",
       "0       20 -9107331682787867601   \n",
       "1     2892  8659918766210334195   \n",
       "2      955 -3351990231604537690   \n",
       "3     1028 -2860224288374811338   \n",
       "4     2501  6237714845306489877   \n",
       "\n",
       "                                                                              title  \\\n",
       "0    Hopper raises $16 million for a travel app that tells you the best time to fly   \n",
       "1                                           5 Latin Trends for 2017 | TrendWatching   \n",
       "2  Carrinho de criança carrega seu smartphone usando geradores instalados nas rodas   \n",
       "3                        How I Passed the AWS Solutions Architect Professional Exam   \n",
       "4             How CEOs Can Keep Their Analytics Programs from Being a Waste of Time   \n",
       "\n",
       "    score_x  collaborative_score_normalized   score_y  \\\n",
       "0  1.000000                        1.000000  0.693542   \n",
       "1  0.520117                        0.520117  0.019544   \n",
       "2  0.518050                        0.518050       NaN   \n",
       "3  0.508072                        0.508072  0.027405   \n",
       "4  0.500000                        0.500000  0.013186   \n",
       "\n",
       "   content_score_normalized  \n",
       "0                  1.000000  \n",
       "1                  0.028001  \n",
       "2                       NaN  \n",
       "3                  0.039338  \n",
       "4                  0.018832  "
      ]
     },
     "execution_count": 275,
     "metadata": {},
     "output_type": "execute_result"
    }
   ],
   "source": [
    "hybrid_output.head()"
   ]
  },
  {
   "cell_type": "code",
   "execution_count": 276,
   "metadata": {},
   "outputs": [
    {
     "data": {
      "text/plain": [
       "(3180, 7)"
      ]
     },
     "execution_count": 276,
     "metadata": {},
     "output_type": "execute_result"
    }
   ],
   "source": [
    "hybrid_output.shape"
   ]
  },
  {
   "cell_type": "code",
   "execution_count": null,
   "metadata": {},
   "outputs": [],
   "source": []
  },
  {
   "cell_type": "code",
   "execution_count": 277,
   "metadata": {},
   "outputs": [],
   "source": [
    "hybrid_output['final_score'] = (hybrid_output['collaborative_score_normalized'] + hybrid_output['content_score_normalized'])/2"
   ]
  },
  {
   "cell_type": "code",
   "execution_count": null,
   "metadata": {},
   "outputs": [],
   "source": []
  },
  {
   "cell_type": "code",
   "execution_count": 278,
   "metadata": {},
   "outputs": [
    {
     "data": {
      "text/html": [
       "<div>\n",
       "<style scoped>\n",
       "    .dataframe tbody tr th:only-of-type {\n",
       "        vertical-align: middle;\n",
       "    }\n",
       "\n",
       "    .dataframe tbody tr th {\n",
       "        vertical-align: top;\n",
       "    }\n",
       "\n",
       "    .dataframe thead th {\n",
       "        text-align: right;\n",
       "    }\n",
       "</style>\n",
       "<table border=\"1\" class=\"dataframe\">\n",
       "  <thead>\n",
       "    <tr style=\"text-align: right;\">\n",
       "      <th></th>\n",
       "      <th>news_id</th>\n",
       "      <th>item_id</th>\n",
       "      <th>title</th>\n",
       "      <th>score_x</th>\n",
       "      <th>collaborative_score_normalized</th>\n",
       "      <th>score_y</th>\n",
       "      <th>content_score_normalized</th>\n",
       "      <th>final_score</th>\n",
       "    </tr>\n",
       "  </thead>\n",
       "  <tbody>\n",
       "    <tr>\n",
       "      <th>0</th>\n",
       "      <td>20</td>\n",
       "      <td>-9107331682787867601</td>\n",
       "      <td>Hopper raises $16 million for a travel app that tells you the best time to fly</td>\n",
       "      <td>1.000000</td>\n",
       "      <td>1.000000</td>\n",
       "      <td>0.693542</td>\n",
       "      <td>1.000000</td>\n",
       "      <td>1.000000</td>\n",
       "    </tr>\n",
       "    <tr>\n",
       "      <th>1</th>\n",
       "      <td>2892</td>\n",
       "      <td>8659918766210334195</td>\n",
       "      <td>5 Latin Trends for 2017 | TrendWatching</td>\n",
       "      <td>0.520117</td>\n",
       "      <td>0.520117</td>\n",
       "      <td>0.019544</td>\n",
       "      <td>0.028001</td>\n",
       "      <td>0.274059</td>\n",
       "    </tr>\n",
       "    <tr>\n",
       "      <th>2</th>\n",
       "      <td>955</td>\n",
       "      <td>-3351990231604537690</td>\n",
       "      <td>Carrinho de criança carrega seu smartphone usando geradores instalados nas rodas</td>\n",
       "      <td>0.518050</td>\n",
       "      <td>0.518050</td>\n",
       "      <td>NaN</td>\n",
       "      <td>NaN</td>\n",
       "      <td>NaN</td>\n",
       "    </tr>\n",
       "    <tr>\n",
       "      <th>3</th>\n",
       "      <td>1028</td>\n",
       "      <td>-2860224288374811338</td>\n",
       "      <td>How I Passed the AWS Solutions Architect Professional Exam</td>\n",
       "      <td>0.508072</td>\n",
       "      <td>0.508072</td>\n",
       "      <td>0.027405</td>\n",
       "      <td>0.039338</td>\n",
       "      <td>0.273705</td>\n",
       "    </tr>\n",
       "    <tr>\n",
       "      <th>4</th>\n",
       "      <td>2501</td>\n",
       "      <td>6237714845306489877</td>\n",
       "      <td>How CEOs Can Keep Their Analytics Programs from Being a Waste of Time</td>\n",
       "      <td>0.500000</td>\n",
       "      <td>0.500000</td>\n",
       "      <td>0.013186</td>\n",
       "      <td>0.018832</td>\n",
       "      <td>0.259416</td>\n",
       "    </tr>\n",
       "  </tbody>\n",
       "</table>\n",
       "</div>"
      ],
      "text/plain": [
       "   news_id              item_id  \\\n",
       "0       20 -9107331682787867601   \n",
       "1     2892  8659918766210334195   \n",
       "2      955 -3351990231604537690   \n",
       "3     1028 -2860224288374811338   \n",
       "4     2501  6237714845306489877   \n",
       "\n",
       "                                                                              title  \\\n",
       "0    Hopper raises $16 million for a travel app that tells you the best time to fly   \n",
       "1                                           5 Latin Trends for 2017 | TrendWatching   \n",
       "2  Carrinho de criança carrega seu smartphone usando geradores instalados nas rodas   \n",
       "3                        How I Passed the AWS Solutions Architect Professional Exam   \n",
       "4             How CEOs Can Keep Their Analytics Programs from Being a Waste of Time   \n",
       "\n",
       "    score_x  collaborative_score_normalized   score_y  \\\n",
       "0  1.000000                        1.000000  0.693542   \n",
       "1  0.520117                        0.520117  0.019544   \n",
       "2  0.518050                        0.518050       NaN   \n",
       "3  0.508072                        0.508072  0.027405   \n",
       "4  0.500000                        0.500000  0.013186   \n",
       "\n",
       "   content_score_normalized  final_score  \n",
       "0                  1.000000     1.000000  \n",
       "1                  0.028001     0.274059  \n",
       "2                       NaN          NaN  \n",
       "3                  0.039338     0.273705  \n",
       "4                  0.018832     0.259416  "
      ]
     },
     "execution_count": 278,
     "metadata": {},
     "output_type": "execute_result"
    }
   ],
   "source": [
    "hybrid_output.head()"
   ]
  },
  {
   "cell_type": "code",
   "execution_count": null,
   "metadata": {},
   "outputs": [],
   "source": []
  },
  {
   "cell_type": "code",
   "execution_count": 279,
   "metadata": {},
   "outputs": [],
   "source": [
    "hybrid_output = hybrid_output[['title','final_score']]"
   ]
  },
  {
   "cell_type": "code",
   "execution_count": 280,
   "metadata": {},
   "outputs": [
    {
     "data": {
      "text/html": [
       "<div>\n",
       "<style scoped>\n",
       "    .dataframe tbody tr th:only-of-type {\n",
       "        vertical-align: middle;\n",
       "    }\n",
       "\n",
       "    .dataframe tbody tr th {\n",
       "        vertical-align: top;\n",
       "    }\n",
       "\n",
       "    .dataframe thead th {\n",
       "        text-align: right;\n",
       "    }\n",
       "</style>\n",
       "<table border=\"1\" class=\"dataframe\">\n",
       "  <thead>\n",
       "    <tr style=\"text-align: right;\">\n",
       "      <th></th>\n",
       "      <th>title</th>\n",
       "      <th>final_score</th>\n",
       "    </tr>\n",
       "  </thead>\n",
       "  <tbody>\n",
       "    <tr>\n",
       "      <th>0</th>\n",
       "      <td>Hopper raises $16 million for a travel app that tells you the best time to fly</td>\n",
       "      <td>1.000000</td>\n",
       "    </tr>\n",
       "    <tr>\n",
       "      <th>1</th>\n",
       "      <td>5 Latin Trends for 2017 | TrendWatching</td>\n",
       "      <td>0.274059</td>\n",
       "    </tr>\n",
       "    <tr>\n",
       "      <th>2</th>\n",
       "      <td>Carrinho de criança carrega seu smartphone usando geradores instalados nas rodas</td>\n",
       "      <td>NaN</td>\n",
       "    </tr>\n",
       "    <tr>\n",
       "      <th>3</th>\n",
       "      <td>How I Passed the AWS Solutions Architect Professional Exam</td>\n",
       "      <td>0.273705</td>\n",
       "    </tr>\n",
       "    <tr>\n",
       "      <th>4</th>\n",
       "      <td>How CEOs Can Keep Their Analytics Programs from Being a Waste of Time</td>\n",
       "      <td>0.259416</td>\n",
       "    </tr>\n",
       "  </tbody>\n",
       "</table>\n",
       "</div>"
      ],
      "text/plain": [
       "                                                                              title  \\\n",
       "0    Hopper raises $16 million for a travel app that tells you the best time to fly   \n",
       "1                                           5 Latin Trends for 2017 | TrendWatching   \n",
       "2  Carrinho de criança carrega seu smartphone usando geradores instalados nas rodas   \n",
       "3                        How I Passed the AWS Solutions Architect Professional Exam   \n",
       "4             How CEOs Can Keep Their Analytics Programs from Being a Waste of Time   \n",
       "\n",
       "   final_score  \n",
       "0     1.000000  \n",
       "1     0.274059  \n",
       "2          NaN  \n",
       "3     0.273705  \n",
       "4     0.259416  "
      ]
     },
     "execution_count": 280,
     "metadata": {},
     "output_type": "execute_result"
    }
   ],
   "source": [
    "hybrid_output.head()"
   ]
  },
  {
   "cell_type": "code",
   "execution_count": null,
   "metadata": {},
   "outputs": [],
   "source": []
  },
  {
   "cell_type": "code",
   "execution_count": 281,
   "metadata": {},
   "outputs": [
    {
     "data": {
      "text/html": [
       "<div>\n",
       "<style scoped>\n",
       "    .dataframe tbody tr th:only-of-type {\n",
       "        vertical-align: middle;\n",
       "    }\n",
       "\n",
       "    .dataframe tbody tr th {\n",
       "        vertical-align: top;\n",
       "    }\n",
       "\n",
       "    .dataframe thead th {\n",
       "        text-align: right;\n",
       "    }\n",
       "</style>\n",
       "<table border=\"1\" class=\"dataframe\">\n",
       "  <thead>\n",
       "    <tr style=\"text-align: right;\">\n",
       "      <th></th>\n",
       "      <th>title</th>\n",
       "      <th>final_score</th>\n",
       "    </tr>\n",
       "  </thead>\n",
       "  <tbody>\n",
       "    <tr>\n",
       "      <th>0</th>\n",
       "      <td>Hopper raises $16 million for a travel app that tells you the best time to fly</td>\n",
       "      <td>1.000000</td>\n",
       "    </tr>\n",
       "    <tr>\n",
       "      <th>7</th>\n",
       "      <td>Ebay's mobile Craigslist competitor Close5 has quietly grown to 7 million downloads</td>\n",
       "      <td>0.290013</td>\n",
       "    </tr>\n",
       "    <tr>\n",
       "      <th>24</th>\n",
       "      <td>Hollar snags another $30 million for its fast-growing dollar store app</td>\n",
       "      <td>0.283874</td>\n",
       "    </tr>\n",
       "    <tr>\n",
       "      <th>15</th>\n",
       "      <td>The new tech talent you need to succeed in digital</td>\n",
       "      <td>0.280805</td>\n",
       "    </tr>\n",
       "    <tr>\n",
       "      <th>20</th>\n",
       "      <td>How will bots make money? Here are 7 business models</td>\n",
       "      <td>0.275110</td>\n",
       "    </tr>\n",
       "    <tr>\n",
       "      <th>1</th>\n",
       "      <td>5 Latin Trends for 2017 | TrendWatching</td>\n",
       "      <td>0.274059</td>\n",
       "    </tr>\n",
       "    <tr>\n",
       "      <th>8</th>\n",
       "      <td>The omnichannel customer experience is poised to take off in regulated industries</td>\n",
       "      <td>0.273910</td>\n",
       "    </tr>\n",
       "    <tr>\n",
       "      <th>3</th>\n",
       "      <td>How I Passed the AWS Solutions Architect Professional Exam</td>\n",
       "      <td>0.273705</td>\n",
       "    </tr>\n",
       "    <tr>\n",
       "      <th>21</th>\n",
       "      <td>CMO interview: Putting IBM's marketing technology under the microscope</td>\n",
       "      <td>0.270490</td>\n",
       "    </tr>\n",
       "    <tr>\n",
       "      <th>14</th>\n",
       "      <td>Finding The Meaning Of Artificial Intelligence At Google I/O</td>\n",
       "      <td>0.269373</td>\n",
       "    </tr>\n",
       "  </tbody>\n",
       "</table>\n",
       "</div>"
      ],
      "text/plain": [
       "                                                                                  title  \\\n",
       "0        Hopper raises $16 million for a travel app that tells you the best time to fly   \n",
       "7   Ebay's mobile Craigslist competitor Close5 has quietly grown to 7 million downloads   \n",
       "24               Hollar snags another $30 million for its fast-growing dollar store app   \n",
       "15                                   The new tech talent you need to succeed in digital   \n",
       "20                                 How will bots make money? Here are 7 business models   \n",
       "1                                               5 Latin Trends for 2017 | TrendWatching   \n",
       "8     The omnichannel customer experience is poised to take off in regulated industries   \n",
       "3                            How I Passed the AWS Solutions Architect Professional Exam   \n",
       "21               CMO interview: Putting IBM's marketing technology under the microscope   \n",
       "14                         Finding The Meaning Of Artificial Intelligence At Google I/O   \n",
       "\n",
       "    final_score  \n",
       "0      1.000000  \n",
       "7      0.290013  \n",
       "24     0.283874  \n",
       "15     0.280805  \n",
       "20     0.275110  \n",
       "1      0.274059  \n",
       "8      0.273910  \n",
       "3      0.273705  \n",
       "21     0.270490  \n",
       "14     0.269373  "
      ]
     },
     "execution_count": 281,
     "metadata": {},
     "output_type": "execute_result"
    }
   ],
   "source": [
    "hybrid_output.sort_values(by='final_score', ascending=False)[:10]"
   ]
  },
  {
   "cell_type": "code",
   "execution_count": 282,
   "metadata": {},
   "outputs": [
    {
     "data": {
      "text/plain": [
       "(3180, 2)"
      ]
     },
     "execution_count": 282,
     "metadata": {},
     "output_type": "execute_result"
    }
   ],
   "source": [
    "hybrid_output.shape"
   ]
  },
  {
   "cell_type": "code",
   "execution_count": null,
   "metadata": {},
   "outputs": [],
   "source": []
  },
  {
   "cell_type": "code",
   "execution_count": 283,
   "metadata": {},
   "outputs": [],
   "source": [
    "hybrid_output = hybrid_output.drop_duplicates()"
   ]
  },
  {
   "cell_type": "code",
   "execution_count": 284,
   "metadata": {},
   "outputs": [
    {
     "data": {
      "text/plain": [
       "(2968, 2)"
      ]
     },
     "execution_count": 284,
     "metadata": {},
     "output_type": "execute_result"
    }
   ],
   "source": [
    "hybrid_output.shape"
   ]
  },
  {
   "cell_type": "code",
   "execution_count": null,
   "metadata": {},
   "outputs": [],
   "source": []
  },
  {
   "cell_type": "code",
   "execution_count": 285,
   "metadata": {},
   "outputs": [
    {
     "data": {
      "text/html": [
       "<div>\n",
       "<style scoped>\n",
       "    .dataframe tbody tr th:only-of-type {\n",
       "        vertical-align: middle;\n",
       "    }\n",
       "\n",
       "    .dataframe tbody tr th {\n",
       "        vertical-align: top;\n",
       "    }\n",
       "\n",
       "    .dataframe thead th {\n",
       "        text-align: right;\n",
       "    }\n",
       "</style>\n",
       "<table border=\"1\" class=\"dataframe\">\n",
       "  <thead>\n",
       "    <tr style=\"text-align: right;\">\n",
       "      <th></th>\n",
       "      <th>title</th>\n",
       "      <th>final_score</th>\n",
       "    </tr>\n",
       "  </thead>\n",
       "  <tbody>\n",
       "    <tr>\n",
       "      <th>0</th>\n",
       "      <td>Hopper raises $16 million for a travel app that tells you the best time to fly</td>\n",
       "      <td>1.000000</td>\n",
       "    </tr>\n",
       "    <tr>\n",
       "      <th>7</th>\n",
       "      <td>Ebay's mobile Craigslist competitor Close5 has quietly grown to 7 million downloads</td>\n",
       "      <td>0.290013</td>\n",
       "    </tr>\n",
       "    <tr>\n",
       "      <th>24</th>\n",
       "      <td>Hollar snags another $30 million for its fast-growing dollar store app</td>\n",
       "      <td>0.283874</td>\n",
       "    </tr>\n",
       "    <tr>\n",
       "      <th>15</th>\n",
       "      <td>The new tech talent you need to succeed in digital</td>\n",
       "      <td>0.280805</td>\n",
       "    </tr>\n",
       "    <tr>\n",
       "      <th>20</th>\n",
       "      <td>How will bots make money? Here are 7 business models</td>\n",
       "      <td>0.275110</td>\n",
       "    </tr>\n",
       "    <tr>\n",
       "      <th>1</th>\n",
       "      <td>5 Latin Trends for 2017 | TrendWatching</td>\n",
       "      <td>0.274059</td>\n",
       "    </tr>\n",
       "    <tr>\n",
       "      <th>8</th>\n",
       "      <td>The omnichannel customer experience is poised to take off in regulated industries</td>\n",
       "      <td>0.273910</td>\n",
       "    </tr>\n",
       "    <tr>\n",
       "      <th>3</th>\n",
       "      <td>How I Passed the AWS Solutions Architect Professional Exam</td>\n",
       "      <td>0.273705</td>\n",
       "    </tr>\n",
       "    <tr>\n",
       "      <th>21</th>\n",
       "      <td>CMO interview: Putting IBM's marketing technology under the microscope</td>\n",
       "      <td>0.270490</td>\n",
       "    </tr>\n",
       "    <tr>\n",
       "      <th>14</th>\n",
       "      <td>Finding The Meaning Of Artificial Intelligence At Google I/O</td>\n",
       "      <td>0.269373</td>\n",
       "    </tr>\n",
       "  </tbody>\n",
       "</table>\n",
       "</div>"
      ],
      "text/plain": [
       "                                                                                  title  \\\n",
       "0        Hopper raises $16 million for a travel app that tells you the best time to fly   \n",
       "7   Ebay's mobile Craigslist competitor Close5 has quietly grown to 7 million downloads   \n",
       "24               Hollar snags another $30 million for its fast-growing dollar store app   \n",
       "15                                   The new tech talent you need to succeed in digital   \n",
       "20                                 How will bots make money? Here are 7 business models   \n",
       "1                                               5 Latin Trends for 2017 | TrendWatching   \n",
       "8     The omnichannel customer experience is poised to take off in regulated industries   \n",
       "3                            How I Passed the AWS Solutions Architect Professional Exam   \n",
       "21               CMO interview: Putting IBM's marketing technology under the microscope   \n",
       "14                         Finding The Meaning Of Artificial Intelligence At Google I/O   \n",
       "\n",
       "    final_score  \n",
       "0      1.000000  \n",
       "7      0.290013  \n",
       "24     0.283874  \n",
       "15     0.280805  \n",
       "20     0.275110  \n",
       "1      0.274059  \n",
       "8      0.273910  \n",
       "3      0.273705  \n",
       "21     0.270490  \n",
       "14     0.269373  "
      ]
     },
     "execution_count": 285,
     "metadata": {},
     "output_type": "execute_result"
    }
   ],
   "source": [
    "hybrid_output.sort_values(by='final_score', ascending=False)[:10]"
   ]
  },
  {
   "cell_type": "code",
   "execution_count": null,
   "metadata": {},
   "outputs": [],
   "source": []
  },
  {
   "cell_type": "code",
   "execution_count": null,
   "metadata": {},
   "outputs": [],
   "source": []
  },
  {
   "cell_type": "code",
   "execution_count": null,
   "metadata": {},
   "outputs": [],
   "source": []
  },
  {
   "cell_type": "code",
   "execution_count": null,
   "metadata": {},
   "outputs": [],
   "source": []
  },
  {
   "cell_type": "markdown",
   "metadata": {},
   "source": [
    "# ALS"
   ]
  },
  {
   "cell_type": "code",
   "execution_count": null,
   "metadata": {},
   "outputs": [],
   "source": [
    "#!pip install implicit==0.4.4"
   ]
  },
  {
   "cell_type": "code",
   "execution_count": 286,
   "metadata": {},
   "outputs": [],
   "source": [
    "\n",
    "import pandas as pd\n",
    "import numpy as np\n",
    "\n",
    "from scipy.sparse import csr_matrix\n",
    "\n",
    "import implicit\n",
    "\n",
    "from implicit.evaluation import train_test_split"
   ]
  },
  {
   "cell_type": "code",
   "execution_count": null,
   "metadata": {},
   "outputs": [],
   "source": []
  },
  {
   "cell_type": "code",
   "execution_count": 287,
   "metadata": {},
   "outputs": [
    {
     "data": {
      "text/html": [
       "<div>\n",
       "<style scoped>\n",
       "    .dataframe tbody tr th:only-of-type {\n",
       "        vertical-align: middle;\n",
       "    }\n",
       "\n",
       "    .dataframe tbody tr th {\n",
       "        vertical-align: top;\n",
       "    }\n",
       "\n",
       "    .dataframe thead th {\n",
       "        text-align: right;\n",
       "    }\n",
       "</style>\n",
       "<table border=\"1\" class=\"dataframe\">\n",
       "  <thead>\n",
       "    <tr style=\"text-align: right;\">\n",
       "      <th></th>\n",
       "      <th>consumer_id</th>\n",
       "      <th>item_id</th>\n",
       "      <th>rating</th>\n",
       "      <th>news_id</th>\n",
       "      <th>user_id</th>\n",
       "    </tr>\n",
       "  </thead>\n",
       "  <tbody>\n",
       "    <tr>\n",
       "      <th>0</th>\n",
       "      <td>-8845298781299428018</td>\n",
       "      <td>-3499919498720038879</td>\n",
       "      <td>1.183774</td>\n",
       "      <td>933</td>\n",
       "      <td>33</td>\n",
       "    </tr>\n",
       "    <tr>\n",
       "      <th>1</th>\n",
       "      <td>-1032019229384696495</td>\n",
       "      <td>8890720798209849691</td>\n",
       "      <td>1.183774</td>\n",
       "      <td>2933</td>\n",
       "      <td>831</td>\n",
       "    </tr>\n",
       "    <tr>\n",
       "      <th>2</th>\n",
       "      <td>-1130272294246983140</td>\n",
       "      <td>310515487419366995</td>\n",
       "      <td>1.183774</td>\n",
       "      <td>1537</td>\n",
       "      <td>826</td>\n",
       "    </tr>\n",
       "    <tr>\n",
       "      <th>3</th>\n",
       "      <td>344280948527967603</td>\n",
       "      <td>310515487419366995</td>\n",
       "      <td>51.394456</td>\n",
       "      <td>1537</td>\n",
       "      <td>974</td>\n",
       "    </tr>\n",
       "    <tr>\n",
       "      <th>4</th>\n",
       "      <td>-445337111692715325</td>\n",
       "      <td>-7820640624231356730</td>\n",
       "      <td>1.183774</td>\n",
       "      <td>246</td>\n",
       "      <td>887</td>\n",
       "    </tr>\n",
       "  </tbody>\n",
       "</table>\n",
       "</div>"
      ],
      "text/plain": [
       "           consumer_id              item_id     rating  news_id  user_id\n",
       "0 -8845298781299428018 -3499919498720038879   1.183774      933       33\n",
       "1 -1032019229384696495  8890720798209849691   1.183774     2933      831\n",
       "2 -1130272294246983140   310515487419366995   1.183774     1537      826\n",
       "3   344280948527967603   310515487419366995  51.394456     1537      974\n",
       "4  -445337111692715325 -7820640624231356730   1.183774      246      887"
      ]
     },
     "execution_count": 287,
     "metadata": {},
     "output_type": "execute_result"
    }
   ],
   "source": [
    "consumer_rating.head()"
   ]
  },
  {
   "cell_type": "code",
   "execution_count": 288,
   "metadata": {},
   "outputs": [
    {
     "data": {
      "text/plain": [
       "(50938, 5)"
      ]
     },
     "execution_count": 288,
     "metadata": {},
     "output_type": "execute_result"
    }
   ],
   "source": [
    "consumer_rating.shape"
   ]
  },
  {
   "cell_type": "code",
   "execution_count": null,
   "metadata": {},
   "outputs": [],
   "source": []
  },
  {
   "cell_type": "markdown",
   "metadata": {},
   "source": [
    "## Create Sparse User-Item Matrix"
   ]
  },
  {
   "cell_type": "code",
   "execution_count": null,
   "metadata": {},
   "outputs": [],
   "source": []
  },
  {
   "cell_type": "code",
   "execution_count": 289,
   "metadata": {
    "id": "rIo7-1Lb6Mb-"
   },
   "outputs": [],
   "source": [
    "alpha = 40"
   ]
  },
  {
   "cell_type": "code",
   "execution_count": 290,
   "metadata": {},
   "outputs": [
    {
     "data": {
      "text/plain": [
       "50938"
      ]
     },
     "execution_count": 290,
     "metadata": {},
     "output_type": "execute_result"
    }
   ],
   "source": [
    "ratings.shape[0]"
   ]
  },
  {
   "cell_type": "code",
   "execution_count": null,
   "metadata": {},
   "outputs": [],
   "source": []
  },
  {
   "cell_type": "code",
   "execution_count": 291,
   "metadata": {},
   "outputs": [],
   "source": [
    "sparse_user_item = csr_matrix( ([alpha]*consumer_rating.shape[0], (consumer_rating['user_id'], consumer_rating['news_id']) ))"
   ]
  },
  {
   "cell_type": "code",
   "execution_count": 292,
   "metadata": {},
   "outputs": [
    {
     "data": {
      "text/plain": [
       "<1895x2987 sparse matrix of type '<class 'numpy.int64'>'\n",
       "\twith 40710 stored elements in Compressed Sparse Row format>"
      ]
     },
     "execution_count": 292,
     "metadata": {},
     "output_type": "execute_result"
    }
   ],
   "source": [
    "sparse_user_item"
   ]
  },
  {
   "cell_type": "code",
   "execution_count": null,
   "metadata": {},
   "outputs": [],
   "source": []
  },
  {
   "cell_type": "code",
   "execution_count": null,
   "metadata": {},
   "outputs": [],
   "source": []
  },
  {
   "cell_type": "code",
   "execution_count": null,
   "metadata": {},
   "outputs": [],
   "source": []
  },
  {
   "cell_type": "code",
   "execution_count": null,
   "metadata": {},
   "outputs": [],
   "source": []
  },
  {
   "cell_type": "code",
   "execution_count": null,
   "metadata": {},
   "outputs": [],
   "source": []
  },
  {
   "cell_type": "markdown",
   "metadata": {},
   "source": [
    "### shape : 1895x2987.  since Total No of users = 1895, No of News = 2987"
   ]
  },
  {
   "cell_type": "code",
   "execution_count": null,
   "metadata": {},
   "outputs": [],
   "source": []
  },
  {
   "cell_type": "markdown",
   "metadata": {},
   "source": [
    "### Convert to Array"
   ]
  },
  {
   "cell_type": "code",
   "execution_count": 295,
   "metadata": {},
   "outputs": [],
   "source": [
    "csr_user_array = sparse_user_item.toarray()"
   ]
  },
  {
   "cell_type": "code",
   "execution_count": 296,
   "metadata": {},
   "outputs": [
    {
     "data": {
      "text/plain": [
       "array([[ 0,  0,  0, ...,  0,  0,  0],\n",
       "       [ 0,  0,  0, ...,  0,  0,  0],\n",
       "       [ 0, 80,  0, ...,  0,  0,  0],\n",
       "       ...,\n",
       "       [ 0,  0,  0, ...,  0,  0,  0],\n",
       "       [ 0,  0,  0, ...,  0,  0,  0],\n",
       "       [ 0,  0,  0, ...,  0,  0,  0]])"
      ]
     },
     "execution_count": 296,
     "metadata": {},
     "output_type": "execute_result"
    }
   ],
   "source": [
    "csr_user_array"
   ]
  },
  {
   "cell_type": "code",
   "execution_count": null,
   "metadata": {},
   "outputs": [],
   "source": []
  },
  {
   "cell_type": "code",
   "execution_count": 297,
   "metadata": {},
   "outputs": [
    {
     "data": {
      "text/plain": [
       "(1895, 2987, 0)"
      ]
     },
     "execution_count": 297,
     "metadata": {},
     "output_type": "execute_result"
    }
   ],
   "source": [
    "len(csr_user_array), len(csr_user_array[0]), csr_user_array[1][1]"
   ]
  },
  {
   "cell_type": "code",
   "execution_count": 298,
   "metadata": {},
   "outputs": [
    {
     "data": {
      "text/plain": [
       "80"
      ]
     },
     "execution_count": 298,
     "metadata": {},
     "output_type": "execute_result"
    }
   ],
   "source": [
    "max(csr_user_array[1])"
   ]
  },
  {
   "cell_type": "code",
   "execution_count": null,
   "metadata": {},
   "outputs": [],
   "source": []
  },
  {
   "cell_type": "markdown",
   "metadata": {},
   "source": [
    "### Create item-user sparse matrix"
   ]
  },
  {
   "cell_type": "code",
   "execution_count": null,
   "metadata": {},
   "outputs": [],
   "source": []
  },
  {
   "cell_type": "code",
   "execution_count": 299,
   "metadata": {
    "id": "ujvHzBa96cF7"
   },
   "outputs": [],
   "source": [
    "sparse_item_user = sparse_user_item.T.tocsr()"
   ]
  },
  {
   "cell_type": "code",
   "execution_count": 300,
   "metadata": {},
   "outputs": [
    {
     "data": {
      "text/plain": [
       "<2987x1895 sparse matrix of type '<class 'numpy.int64'>'\n",
       "\twith 40710 stored elements in Compressed Sparse Row format>"
      ]
     },
     "execution_count": 300,
     "metadata": {},
     "output_type": "execute_result"
    }
   ],
   "source": [
    "sparse_item_user"
   ]
  },
  {
   "cell_type": "code",
   "execution_count": null,
   "metadata": {},
   "outputs": [],
   "source": []
  },
  {
   "cell_type": "code",
   "execution_count": 301,
   "metadata": {},
   "outputs": [],
   "source": [
    "csr_item_array = sparse_item_user.toarray()"
   ]
  },
  {
   "cell_type": "code",
   "execution_count": 302,
   "metadata": {},
   "outputs": [
    {
     "data": {
      "text/plain": [
       "array([[ 0,  0,  0, ...,  0,  0,  0],\n",
       "       [ 0,  0, 80, ...,  0,  0,  0],\n",
       "       [ 0,  0,  0, ...,  0,  0,  0],\n",
       "       ...,\n",
       "       [ 0,  0,  0, ...,  0,  0,  0],\n",
       "       [ 0,  0,  0, ...,  0,  0,  0],\n",
       "       [ 0,  0,  0, ...,  0,  0,  0]])"
      ]
     },
     "execution_count": 302,
     "metadata": {},
     "output_type": "execute_result"
    }
   ],
   "source": [
    "csr_item_array"
   ]
  },
  {
   "cell_type": "code",
   "execution_count": 303,
   "metadata": {},
   "outputs": [
    {
     "data": {
      "text/plain": [
       "(2987, 1895, 0)"
      ]
     },
     "execution_count": 303,
     "metadata": {},
     "output_type": "execute_result"
    }
   ],
   "source": [
    "len(csr_item_array), len(csr_item_array[0]), csr_item_array[1][1]"
   ]
  },
  {
   "cell_type": "code",
   "execution_count": null,
   "metadata": {},
   "outputs": [],
   "source": []
  },
  {
   "cell_type": "markdown",
   "metadata": {},
   "source": [
    "## Create train, test data"
   ]
  },
  {
   "cell_type": "code",
   "execution_count": 304,
   "metadata": {
    "id": "b2mBHqgA6xTA"
   },
   "outputs": [],
   "source": [
    "\n",
    "train, test = train_test_split(sparse_item_user, train_percentage=0.8)"
   ]
  },
  {
   "cell_type": "code",
   "execution_count": null,
   "metadata": {},
   "outputs": [],
   "source": []
  },
  {
   "cell_type": "markdown",
   "metadata": {},
   "source": [
    "## Building ALS Model"
   ]
  },
  {
   "cell_type": "code",
   "execution_count": null,
   "metadata": {},
   "outputs": [],
   "source": []
  },
  {
   "cell_type": "code",
   "execution_count": 306,
   "metadata": {
    "colab": {
     "base_uri": "https://localhost:8080/",
     "height": 122,
     "referenced_widgets": [
      "b81d05f703514b96844225f7abbc7240",
      "1ff5b3089f4946a1a43345c88fee2605",
      "9b28ef50a68043d58c8c6f48ba6d27a7",
      "a39a0c94c7814c6a8516586c2533aac6",
      "ad7e3cb6c1ce4302b77388a69844405e",
      "64c8032b9bd74ccea89032893b36d63c",
      "18816df9d37642459d45a3b97a548976",
      "84b39401fef341a8ac7f82b756ab989f"
     ]
    },
    "id": "2o6d_n7P-NBZ",
    "outputId": "1e5f4b62-dac1-4ad5-c71a-ae30114c8730"
   },
   "outputs": [
    {
     "name": "stderr",
     "output_type": "stream",
     "text": [
      "WARNING:root:Intel MKL BLAS detected. Its highly recommend to set the environment variable 'export MKL_NUM_THREADS=1' to disable its internal multithreading\n"
     ]
    }
   ],
   "source": [
    "\n",
    "model = implicit.als.AlternatingLeastSquares(factors=100, regularization=0.1, iterations=20, calculate_training_loss=False)\n"
   ]
  },
  {
   "cell_type": "code",
   "execution_count": 307,
   "metadata": {},
   "outputs": [
    {
     "data": {
      "text/plain": [
       "<implicit.als.AlternatingLeastSquares at 0x7f8626fc5250>"
      ]
     },
     "execution_count": 307,
     "metadata": {},
     "output_type": "execute_result"
    }
   ],
   "source": [
    "model"
   ]
  },
  {
   "cell_type": "code",
   "execution_count": null,
   "metadata": {},
   "outputs": [],
   "source": []
  },
  {
   "cell_type": "markdown",
   "metadata": {},
   "source": [
    "### Train the Model"
   ]
  },
  {
   "cell_type": "code",
   "execution_count": null,
   "metadata": {},
   "outputs": [],
   "source": []
  },
  {
   "cell_type": "code",
   "execution_count": 308,
   "metadata": {},
   "outputs": [
    {
     "data": {
      "application/vnd.jupyter.widget-view+json": {
       "model_id": "18de5c5024d4401fb2a414db3e21cd06",
       "version_major": 2,
       "version_minor": 0
      },
      "text/plain": [
       "HBox(children=(HTML(value=''), FloatProgress(value=0.0, max=20.0), HTML(value='')))"
      ]
     },
     "metadata": {},
     "output_type": "display_data"
    },
    {
     "name": "stdout",
     "output_type": "stream",
     "text": [
      "\n"
     ]
    }
   ],
   "source": [
    "model.fit(train)"
   ]
  },
  {
   "cell_type": "markdown",
   "metadata": {},
   "source": [
    "## Generating recommendations for a user_id"
   ]
  },
  {
   "cell_type": "code",
   "execution_count": null,
   "metadata": {},
   "outputs": [],
   "source": []
  },
  {
   "cell_type": "code",
   "execution_count": 309,
   "metadata": {},
   "outputs": [],
   "source": [
    "user_id = 17"
   ]
  },
  {
   "cell_type": "code",
   "execution_count": 310,
   "metadata": {},
   "outputs": [
    {
     "data": {
      "text/plain": [
       "[(2095, 1.1180236),\n",
       " (1859, 0.97055596),\n",
       " (1812, 0.92142296),\n",
       " (1764, 0.89671445),\n",
       " (969, 0.86402196),\n",
       " (546, 0.8416943),\n",
       " (2245, 0.84089375),\n",
       " (2650, 0.8385402),\n",
       " (2071, 0.8225815),\n",
       " (1228, 0.80994636),\n",
       " (314, 0.8027643),\n",
       " (2689, 0.7767871),\n",
       " (682, 0.7580234),\n",
       " (1594, 0.74516565),\n",
       " (2138, 0.7288252),\n",
       " (626, 0.7085894),\n",
       " (2110, 0.7005021),\n",
       " (386, 0.69956434),\n",
       " (2970, 0.69156647),\n",
       " (468, 0.6800369),\n",
       " (916, 0.67637646),\n",
       " (1076, 0.6740222),\n",
       " (1298, 0.66555846),\n",
       " (340, 0.6622706),\n",
       " (2624, 0.66125107),\n",
       " (2571, 0.6551273),\n",
       " (1645, 0.6487565),\n",
       " (1843, 0.644398),\n",
       " (1486, 0.64010483),\n",
       " (1836, 0.6322924),\n",
       " (2581, 0.63199145),\n",
       " (2296, 0.62744236),\n",
       " (1778, 0.62217593),\n",
       " (945, 0.6206732),\n",
       " (2258, 0.5977069),\n",
       " (935, 0.5768297),\n",
       " (2120, 0.5731971),\n",
       " (1347, 0.57228017),\n",
       " (2893, 0.5661924),\n",
       " (2411, 0.560154),\n",
       " (263, 0.5582083),\n",
       " (160, 0.5542729),\n",
       " (899, 0.552049),\n",
       " (1326, 0.55155784),\n",
       " (1801, 0.5494796),\n",
       " (536, 0.5417277),\n",
       " (75, 0.5404142),\n",
       " (684, 0.5314739),\n",
       " (609, 0.5299421),\n",
       " (1403, 0.5294862),\n",
       " (2190, 0.52897114),\n",
       " (1108, 0.5275843),\n",
       " (2163, 0.51950985),\n",
       " (2324, 0.5166427),\n",
       " (2925, 0.5133066),\n",
       " (348, 0.5113734),\n",
       " (886, 0.5074938),\n",
       " (766, 0.506279),\n",
       " (1187, 0.5060532),\n",
       " (758, 0.5014478),\n",
       " (60, 0.49899277),\n",
       " (938, 0.49835187),\n",
       " (1399, 0.49602926),\n",
       " (1926, 0.49520874),\n",
       " (1071, 0.48927876),\n",
       " (98, 0.4866489),\n",
       " (634, 0.4851216),\n",
       " (2113, 0.48170564),\n",
       " (2565, 0.4798885),\n",
       " (197, 0.47916806),\n",
       " (485, 0.47585547),\n",
       " (2068, 0.47474837),\n",
       " (2977, 0.473593),\n",
       " (2009, 0.47177702),\n",
       " (162, 0.47046047),\n",
       " (128, 0.47017324),\n",
       " (2574, 0.46774122),\n",
       " (2593, 0.46766096),\n",
       " (539, 0.46644166),\n",
       " (2646, 0.4661922),\n",
       " (1658, 0.46460184),\n",
       " (1810, 0.46434718),\n",
       " (2800, 0.45957863),\n",
       " (2282, 0.4578752),\n",
       " (577, 0.4560241),\n",
       " (167, 0.45563427),\n",
       " (2688, 0.45129603),\n",
       " (629, 0.45033848),\n",
       " (2535, 0.4494329),\n",
       " (2771, 0.4474958),\n",
       " (2730, 0.44144392),\n",
       " (574, 0.4412529),\n",
       " (1766, 0.44021052),\n",
       " (1728, 0.4399444),\n",
       " (1765, 0.439444),\n",
       " (433, 0.43938905),\n",
       " (1994, 0.43705246),\n",
       " (1339, 0.4366924),\n",
       " (200, 0.43620926),\n",
       " (1175, 0.43612316),\n",
       " (291, 0.43297398),\n",
       " (765, 0.43190825),\n",
       " (1912, 0.43020862),\n",
       " (1354, 0.4300584),\n",
       " (884, 0.42774308),\n",
       " (2701, 0.4276384),\n",
       " (2821, 0.42552093),\n",
       " (2832, 0.42138094),\n",
       " (1633, 0.4192489),\n",
       " (183, 0.41799456),\n",
       " (1481, 0.41775084),\n",
       " (922, 0.41632253),\n",
       " (956, 0.41459814),\n",
       " (1721, 0.41342208),\n",
       " (1745, 0.41236115),\n",
       " (1238, 0.4113002),\n",
       " (2320, 0.4106682),\n",
       " (269, 0.40911013),\n",
       " (2547, 0.40832064),\n",
       " (591, 0.40749377),\n",
       " (407, 0.4074195),\n",
       " (2217, 0.4070313),\n",
       " (2277, 0.40651926),\n",
       " (1505, 0.4056641),\n",
       " (403, 0.40482372),\n",
       " (87, 0.40307873),\n",
       " (1523, 0.40283236),\n",
       " (2322, 0.40122625),\n",
       " (2936, 0.39996898),\n",
       " (438, 0.39919722),\n",
       " (202, 0.398862),\n",
       " (2634, 0.39806765),\n",
       " (1199, 0.39631516),\n",
       " (1055, 0.3960473),\n",
       " (2649, 0.39447838),\n",
       " (2590, 0.393816),\n",
       " (1973, 0.39370143),\n",
       " (1213, 0.39367953),\n",
       " (2722, 0.3933994),\n",
       " (942, 0.39338255),\n",
       " (1150, 0.39323336),\n",
       " (2210, 0.39182273),\n",
       " (876, 0.38943684),\n",
       " (32, 0.387245),\n",
       " (1999, 0.38709155),\n",
       " (2755, 0.3861553),\n",
       " (1310, 0.386118),\n",
       " (2798, 0.3856396),\n",
       " (484, 0.38446164),\n",
       " (2129, 0.382865),\n",
       " (2454, 0.38138402),\n",
       " (1500, 0.38131902),\n",
       " (2257, 0.38004914),\n",
       " (1464, 0.3787721),\n",
       " (2272, 0.3780835),\n",
       " (2567, 0.3774486),\n",
       " (1549, 0.37547567),\n",
       " (73, 0.37521183),\n",
       " (1180, 0.37413967),\n",
       " (377, 0.37376767),\n",
       " (1393, 0.37352398),\n",
       " (2594, 0.3722598),\n",
       " (2981, 0.37204373),\n",
       " (1039, 0.37104556),\n",
       " (724, 0.36758786),\n",
       " (1782, 0.3668455),\n",
       " (2753, 0.36670262),\n",
       " (1958, 0.36667907),\n",
       " (1537, 0.36586863),\n",
       " (1410, 0.36546952),\n",
       " (2404, 0.36411262),\n",
       " (471, 0.3637771),\n",
       " (1788, 0.36351362),\n",
       " (920, 0.36269805),\n",
       " (2911, 0.36148602),\n",
       " (1822, 0.3612052),\n",
       " (2220, 0.35966474),\n",
       " (2625, 0.35965568),\n",
       " (1397, 0.3585762),\n",
       " (550, 0.35805047),\n",
       " (2557, 0.35796696),\n",
       " (2148, 0.35771963),\n",
       " (1400, 0.35626605),\n",
       " (692, 0.35601842),\n",
       " (2714, 0.3557074),\n",
       " (2667, 0.3550204),\n",
       " (1920, 0.35417283),\n",
       " (1370, 0.3514843),\n",
       " (2146, 0.35066837),\n",
       " (2094, 0.34926492),\n",
       " (2007, 0.34782377),\n",
       " (2259, 0.34664196),\n",
       " (1951, 0.3463124),\n",
       " (597, 0.34560782),\n",
       " (821, 0.34531212),\n",
       " (2874, 0.3448621),\n",
       " (1928, 0.34380144),\n",
       " (1348, 0.34297064),\n",
       " (525, 0.3428687),\n",
       " (1635, 0.34270132),\n",
       " (2420, 0.34241825),\n",
       " (1984, 0.3405534),\n",
       " (2875, 0.3403148),\n",
       " (1197, 0.33979368),\n",
       " (401, 0.33977202),\n",
       " (2241, 0.33897132),\n",
       " (2750, 0.33826235),\n",
       " (1423, 0.33700502),\n",
       " (2026, 0.3366032),\n",
       " (187, 0.33505937),\n",
       " (1086, 0.3347115),\n",
       " (949, 0.33452737),\n",
       " (1916, 0.33353978),\n",
       " (2745, 0.33348072),\n",
       " (1893, 0.3332725),\n",
       " (1330, 0.33298326),\n",
       " (1378, 0.3327391),\n",
       " (97, 0.33265),\n",
       " (795, 0.3312297),\n",
       " (1886, 0.3306616),\n",
       " (2225, 0.3305723),\n",
       " (1867, 0.32986394),\n",
       " (570, 0.3288975),\n",
       " (1063, 0.32889503),\n",
       " (2151, 0.32867336),\n",
       " (858, 0.326199),\n",
       " (2610, 0.32608977),\n",
       " (2452, 0.32554668),\n",
       " (1654, 0.325455),\n",
       " (1236, 0.3253071),\n",
       " (278, 0.32525426),\n",
       " (1587, 0.32470804),\n",
       " (1008, 0.32380193),\n",
       " (2021, 0.3237518),\n",
       " (2003, 0.3235533),\n",
       " (2378, 0.32267264),\n",
       " (1046, 0.32139835),\n",
       " (2015, 0.3210334),\n",
       " (2239, 0.3205687),\n",
       " (1630, 0.3205496),\n",
       " (1868, 0.31907314),\n",
       " (367, 0.31867296),\n",
       " (2295, 0.31790978),\n",
       " (1982, 0.31770444),\n",
       " (1796, 0.3159115),\n",
       " (552, 0.3155323),\n",
       " (442, 0.31553113),\n",
       " (1022, 0.3152763),\n",
       " (759, 0.31497443),\n",
       " (683, 0.3143506),\n",
       " (2408, 0.31402892),\n",
       " (1574, 0.31400967),\n",
       " (885, 0.31383157),\n",
       " (1174, 0.3131586),\n",
       " (2118, 0.31301212),\n",
       " (1295, 0.31238067),\n",
       " (2109, 0.31024987),\n",
       " (39, 0.30992228),\n",
       " (2622, 0.30950737),\n",
       " (1200, 0.30942386),\n",
       " (1285, 0.30868223),\n",
       " (2206, 0.3080601),\n",
       " (972, 0.30766663),\n",
       " (1552, 0.30671078),\n",
       " (1981, 0.3059445),\n",
       " (2249, 0.3040508),\n",
       " (1114, 0.30377966),\n",
       " (186, 0.3035126),\n",
       " (2080, 0.30324608),\n",
       " (2962, 0.30293593),\n",
       " (669, 0.3022514),\n",
       " (2982, 0.30190235),\n",
       " (612, 0.30139166),\n",
       " (1644, 0.30130213),\n",
       " (2078, 0.29899916),\n",
       " (2464, 0.29872927),\n",
       " (1032, 0.2984879),\n",
       " (2285, 0.29844612),\n",
       " (460, 0.2965892),\n",
       " (2359, 0.2961971),\n",
       " (1991, 0.2945141),\n",
       " (867, 0.29301256),\n",
       " (2824, 0.29035223),\n",
       " (2329, 0.29032046),\n",
       " (2772, 0.28995386),\n",
       " (1060, 0.28874707),\n",
       " (2851, 0.2883953),\n",
       " (524, 0.28777122),\n",
       " (1279, 0.28681433),\n",
       " (2178, 0.28650784),\n",
       " (2484, 0.2861225),\n",
       " (457, 0.28546244),\n",
       " (286, 0.28494233),\n",
       " (2098, 0.2849242),\n",
       " (1406, 0.28338057),\n",
       " (414, 0.28274426),\n",
       " (1828, 0.28267092),\n",
       " (2922, 0.28229827),\n",
       " (676, 0.28215355),\n",
       " (921, 0.28076565),\n",
       " (2765, 0.2787807),\n",
       " (1534, 0.27871108),\n",
       " (666, 0.27838355),\n",
       " (1945, 0.27829903),\n",
       " (1977, 0.27786782),\n",
       " (1009, 0.27687794),\n",
       " (2612, 0.2759595),\n",
       " (1328, 0.27583954),\n",
       " (2122, 0.27525085),\n",
       " (1854, 0.2751259),\n",
       " (2157, 0.274687),\n",
       " (1748, 0.27452397),\n",
       " (1709, 0.2743985),\n",
       " (2027, 0.2742131),\n",
       " (2902, 0.27356738),\n",
       " (1855, 0.27330106),\n",
       " (1618, 0.2732358),\n",
       " (2865, 0.27252835),\n",
       " (1966, 0.27188897),\n",
       " (1147, 0.27128994),\n",
       " (1309, 0.2712133),\n",
       " (664, 0.27117908),\n",
       " (264, 0.27075037),\n",
       " (218, 0.27034244),\n",
       " (730, 0.27011728),\n",
       " (701, 0.27008528),\n",
       " (888, 0.2700304),\n",
       " (2402, 0.26924783),\n",
       " (2814, 0.26899824),\n",
       " (748, 0.26889962),\n",
       " (359, 0.26865804),\n",
       " (339, 0.26739702),\n",
       " (2669, 0.26736945),\n",
       " (2539, 0.26650017),\n",
       " (2395, 0.26633298),\n",
       " (1670, 0.26563147),\n",
       " (1628, 0.26555285),\n",
       " (673, 0.2655374),\n",
       " (1562, 0.2655291),\n",
       " (1479, 0.26550943),\n",
       " (2516, 0.2652594),\n",
       " (2012, 0.26486456),\n",
       " (2215, 0.2648053),\n",
       " (689, 0.26466873),\n",
       " (1034, 0.264458),\n",
       " (217, 0.26346606),\n",
       " (2169, 0.2628489),\n",
       " (1930, 0.2621118),\n",
       " (2658, 0.26193756),\n",
       " (2728, 0.26124793),\n",
       " (1130, 0.26099288),\n",
       " (779, 0.26045543),\n",
       " (663, 0.26028264),\n",
       " (473, 0.25974798),\n",
       " (797, 0.25822923),\n",
       " (1002, 0.2581597),\n",
       " (1120, 0.25761947),\n",
       " (492, 0.25691655),\n",
       " (2497, 0.2566622),\n",
       " (284, 0.25617173),\n",
       " (1731, 0.2552664),\n",
       " (327, 0.2551268),\n",
       " (1376, 0.254435),\n",
       " (1718, 0.25417575),\n",
       " (61, 0.25373325),\n",
       " (1509, 0.25371903),\n",
       " (1661, 0.2535364),\n",
       " (1300, 0.25273943),\n",
       " (1201, 0.25229996),\n",
       " (1463, 0.25218174),\n",
       " (2300, 0.25128034),\n",
       " (1030, 0.24924667),\n",
       " (1632, 0.2485889),\n",
       " (2116, 0.2484387),\n",
       " (1364, 0.24786004),\n",
       " (2876, 0.24761887),\n",
       " (725, 0.247352),\n",
       " (1278, 0.2472914),\n",
       " (2803, 0.24654992),\n",
       " (620, 0.24640703),\n",
       " (209, 0.2454102),\n",
       " (1329, 0.24514285),\n",
       " (1371, 0.24438712),\n",
       " (555, 0.24416375),\n",
       " (1044, 0.24414411),\n",
       " (482, 0.24283051),\n",
       " (1301, 0.24255185),\n",
       " (2029, 0.24203354),\n",
       " (185, 0.24144047),\n",
       " (419, 0.24101129),\n",
       " (301, 0.24093473),\n",
       " (1384, 0.24066277),\n",
       " (2263, 0.2403442),\n",
       " (931, 0.2396795),\n",
       " (2576, 0.23944366),\n",
       " (1023, 0.23911723),\n",
       " (2775, 0.23845676),\n",
       " (2788, 0.23780115),\n",
       " (1727, 0.23778483),\n",
       " (293, 0.23767671),\n",
       " (280, 0.23766144),\n",
       " (2871, 0.23704672),\n",
       " (660, 0.23637158),\n",
       " (1695, 0.23615393),\n",
       " (1964, 0.23598021),\n",
       " (2754, 0.23597772),\n",
       " (1733, 0.23537694),\n",
       " (1510, 0.23501517),\n",
       " (1028, 0.23500225),\n",
       " (194, 0.23384336),\n",
       " (119, 0.23281547),\n",
       " (2553, 0.23254447),\n",
       " (2924, 0.23227406),\n",
       " (1043, 0.23216636),\n",
       " (2570, 0.23209205),\n",
       " (480, 0.23194198),\n",
       " (1367, 0.2317147),\n",
       " (2779, 0.23158994),\n",
       " (1012, 0.23158836),\n",
       " (313, 0.23113091),\n",
       " (2426, 0.23102602),\n",
       " (425, 0.23091105),\n",
       " (2660, 0.23066312),\n",
       " (1895, 0.2306006),\n",
       " (373, 0.22986339),\n",
       " (1716, 0.22980924),\n",
       " (1596, 0.22964203),\n",
       " (2945, 0.22939153),\n",
       " (760, 0.22889555),\n",
       " (94, 0.22810869),\n",
       " (1520, 0.22778597),\n",
       " (2947, 0.22755942),\n",
       " (860, 0.22753383),\n",
       " (964, 0.22751155),\n",
       " (2504, 0.22715887),\n",
       " (2558, 0.2270722),\n",
       " (793, 0.22693565),\n",
       " (490, 0.22688487),\n",
       " (2381, 0.22576727),\n",
       " (1229, 0.2256585),\n",
       " (709, 0.22563338),\n",
       " (68, 0.22559908),\n",
       " (241, 0.22557881),\n",
       " (2882, 0.22549035),\n",
       " (1666, 0.22456956),\n",
       " (516, 0.22377858),\n",
       " (2910, 0.22346671),\n",
       " (1834, 0.22338852),\n",
       " (1415, 0.2233794),\n",
       " (2884, 0.22238645),\n",
       " (646, 0.22219087),\n",
       " (2184, 0.2219919),\n",
       " (478, 0.22180824),\n",
       " (891, 0.22130136),\n",
       " (1451, 0.22122745),\n",
       " (1568, 0.2209005),\n",
       " (1969, 0.22030535),\n",
       " (933, 0.22019385),\n",
       " (104, 0.21987368),\n",
       " (1662, 0.21985017),\n",
       " (1095, 0.21922374),\n",
       " (783, 0.21871449),\n",
       " (1853, 0.21811298),\n",
       " (1614, 0.21768658),\n",
       " (1861, 0.21755578),\n",
       " (819, 0.21700643),\n",
       " (1700, 0.2161445),\n",
       " (596, 0.21585687),\n",
       " (2963, 0.21565741),\n",
       " (919, 0.21504794),\n",
       " (1918, 0.21497428),\n",
       " (66, 0.2149249),\n",
       " (2145, 0.21487778),\n",
       " (2371, 0.21478406),\n",
       " (1887, 0.21473765),\n",
       " (562, 0.2144493),\n",
       " (249, 0.21419398),\n",
       " (2345, 0.21394645),\n",
       " (80, 0.2133071),\n",
       " (749, 0.21302027),\n",
       " (2447, 0.21235284),\n",
       " (838, 0.21200745),\n",
       " (1528, 0.21185054),\n",
       " (2703, 0.21139094),\n",
       " (2926, 0.21122909),\n",
       " (169, 0.21104121),\n",
       " (1770, 0.21062055),\n",
       " (2105, 0.21042418),\n",
       " (503, 0.2102967),\n",
       " (1432, 0.21028869),\n",
       " (1369, 0.20993856),\n",
       " (531, 0.2092565),\n",
       " (2954, 0.20922416),\n",
       " (883, 0.20889816),\n",
       " (1003, 0.20859596),\n",
       " (895, 0.20857567),\n",
       " (2809, 0.20853667),\n",
       " (1634, 0.20847309),\n",
       " (2030, 0.20846327),\n",
       " (2538, 0.20838597),\n",
       " (720, 0.20835811),\n",
       " (2495, 0.20833205),\n",
       " (1235, 0.20741872),\n",
       " (2284, 0.20725036),\n",
       " (542, 0.20694272),\n",
       " (864, 0.20694038),\n",
       " (1412, 0.20679492),\n",
       " (1306, 0.20543817),\n",
       " (2732, 0.20541131),\n",
       " (828, 0.205293),\n",
       " (623, 0.20520847),\n",
       " (2869, 0.20516783),\n",
       " (2921, 0.20456311),\n",
       " (761, 0.20420153),\n",
       " (881, 0.2041355),\n",
       " (2880, 0.20344104),\n",
       " (2733, 0.20337233),\n",
       " (1365, 0.2031205),\n",
       " (1996, 0.20194967),\n",
       " (1880, 0.20137095),\n",
       " (1551, 0.20127104),\n",
       " (495, 0.20096833),\n",
       " (1776, 0.20091413),\n",
       " (2644, 0.20064445),\n",
       " (2049, 0.20062),\n",
       " (82, 0.20060314),\n",
       " (251, 0.20051157),\n",
       " (657, 0.20048445),\n",
       " (2294, 0.200337),\n",
       " (17, 0.20009315),\n",
       " (863, 0.20003153),\n",
       " (237, 0.19997616),\n",
       " (30, 0.19956101),\n",
       " (351, 0.1995427),\n",
       " (1950, 0.1994122),\n",
       " (1191, 0.19934969),\n",
       " (228, 0.19933465),\n",
       " (1477, 0.19911101),\n",
       " (1536, 0.19890663),\n",
       " (2024, 0.19867098),\n",
       " (2153, 0.19847938),\n",
       " (2443, 0.19819134),\n",
       " (2506, 0.19768046),\n",
       " (2281, 0.19724357),\n",
       " (618, 0.19694427),\n",
       " (624, 0.19677007),\n",
       " (514, 0.19663827),\n",
       " (2503, 0.19648123),\n",
       " (764, 0.19608673),\n",
       " (1844, 0.195886),\n",
       " (543, 0.1958076),\n",
       " (1469, 0.19525263),\n",
       " (1440, 0.19481425),\n",
       " (1106, 0.19472048),\n",
       " (47, 0.19418518),\n",
       " (2261, 0.1934549),\n",
       " (2572, 0.19319904),\n",
       " (1216, 0.1931705),\n",
       " (2859, 0.19291458),\n",
       " (2724, 0.1927342),\n",
       " (861, 0.19235095),\n",
       " (672, 0.1921073),\n",
       " (325, 0.19203505),\n",
       " (1624, 0.19188654),\n",
       " (1672, 0.19143187),\n",
       " (818, 0.1910411),\n",
       " (1322, 0.19104004),\n",
       " (1749, 0.19101688),\n",
       " (1226, 0.19070874),\n",
       " (1006, 0.19037278),\n",
       " (2881, 0.19004427),\n",
       " (788, 0.18977052),\n",
       " (2175, 0.18960956),\n",
       " (1492, 0.18943024),\n",
       " (2158, 0.18942438),\n",
       " (1244, 0.18938512),\n",
       " (2510, 0.18916719),\n",
       " (2227, 0.18916538),\n",
       " (173, 0.18916015),\n",
       " (989, 0.18874158),\n",
       " (1380, 0.18830173),\n",
       " (826, 0.18690383),\n",
       " (1131, 0.18686002),\n",
       " (499, 0.18643019),\n",
       " (2384, 0.18619299),\n",
       " (2083, 0.18612064),\n",
       " (55, 0.18606642),\n",
       " (2152, 0.18580979),\n",
       " (2392, 0.18579271),\n",
       " (181, 0.18560362),\n",
       " (2232, 0.18540624),\n",
       " (1608, 0.18521294),\n",
       " (163, 0.1848691),\n",
       " (1031, 0.18480897),\n",
       " (659, 0.18357518),\n",
       " (1813, 0.18331544),\n",
       " (1649, 0.18326628),\n",
       " (2489, 0.18313327),\n",
       " (2154, 0.18300907),\n",
       " (2480, 0.18282172),\n",
       " (980, 0.182648),\n",
       " (2797, 0.18262716),\n",
       " (9, 0.18233821),\n",
       " (74, 0.18228263),\n",
       " (12, 0.1814915),\n",
       " (305, 0.1805732),\n",
       " (124, 0.1804493),\n",
       " (2335, 0.18038213),\n",
       " (148, 0.18020889),\n",
       " (1651, 0.18001395),\n",
       " (1125, 0.17929083),\n",
       " (2599, 0.17928669),\n",
       " (1276, 0.17859653),\n",
       " (2837, 0.17855169),\n",
       " (773, 0.17819372),\n",
       " (2493, 0.17803921),\n",
       " (912, 0.17778951),\n",
       " (260, 0.17772153),\n",
       " (1531, 0.17744008),\n",
       " (242, 0.17681205),\n",
       " (358, 0.17668638),\n",
       " (1045, 0.17652795),\n",
       " (990, 0.1763025),\n",
       " (869, 0.17614585),\n",
       " (2816, 0.17604533),\n",
       " (1692, 0.17534739),\n",
       " (461, 0.17516318),\n",
       " (1914, 0.17513877),\n",
       " (2796, 0.1750386),\n",
       " (1978, 0.17449056),\n",
       " (331, 0.1737591),\n",
       " (549, 0.17331997),\n",
       " (750, 0.17306733),\n",
       " (2731, 0.17212825),\n",
       " (986, 0.17162535),\n",
       " (1113, 0.17156664),\n",
       " (206, 0.17071219),\n",
       " (741, 0.17019993),\n",
       " (1194, 0.17005813),\n",
       " (2769, 0.16997704),\n",
       " (1366, 0.16979685),\n",
       " (165, 0.16954347),\n",
       " (374, 0.1694026),\n",
       " (1871, 0.16867524),\n",
       " (2185, 0.16796485),\n",
       " (2000, 0.16772896),\n",
       " (323, 0.16758603),\n",
       " (2197, 0.16725183),\n",
       " (85, 0.16654882),\n",
       " (244, 0.16648379),\n",
       " (1025, 0.16641924),\n",
       " (299, 0.16641474),\n",
       " (1890, 0.16638637),\n",
       " (2780, 0.16632998),\n",
       " (1938, 0.16621605),\n",
       " (1247, 0.16607781),\n",
       " (1694, 0.16568813),\n",
       " (1083, 0.16525066),\n",
       " (1697, 0.16474812),\n",
       " (1315, 0.16470194),\n",
       " (1387, 0.16402619),\n",
       " (429, 0.16299105),\n",
       " (1627, 0.1628578),\n",
       " (1038, 0.1627224),\n",
       " (246, 0.16267206),\n",
       " (853, 0.16251138),\n",
       " (2783, 0.16230702),\n",
       " (1948, 0.16226277),\n",
       " (2348, 0.16218981),\n",
       " (791, 0.16196889),\n",
       " (1586, 0.16191725),\n",
       " (2711, 0.16187423),\n",
       " (2541, 0.16151343),\n",
       " (2860, 0.16116302),\n",
       " (2738, 0.1604441),\n",
       " (2053, 0.16020264),\n",
       " (2097, 0.16020024),\n",
       " (201, 0.15983899),\n",
       " (1740, 0.15957694),\n",
       " (346, 0.15949994),\n",
       " (2405, 0.15933883),\n",
       " (640, 0.15932289),\n",
       " (1243, 0.15930828),\n",
       " (2, 0.15905832),\n",
       " (1458, 0.15890774),\n",
       " (375, 0.1584764),\n",
       " (1997, 0.15845017),\n",
       " (923, 0.15830499),\n",
       " (2183, 0.15793926),\n",
       " (769, 0.1577211),\n",
       " (2691, 0.15761885),\n",
       " (1219, 0.15760487),\n",
       " (1392, 0.15719752),\n",
       " (601, 0.1571351),\n",
       " (1823, 0.1570352),\n",
       " (1506, 0.15682651),\n",
       " (965, 0.15666118),\n",
       " (2034, 0.15615818),\n",
       " (2228, 0.15602699),\n",
       " (551, 0.15595526),\n",
       " (1449, 0.15588473),\n",
       " (2117, 0.15562749),\n",
       " (2511, 0.15495026),\n",
       " (2428, 0.15445903),\n",
       " (1233, 0.1541784),\n",
       " (114, 0.15405768),\n",
       " (1963, 0.15400682),\n",
       " (985, 0.15384106),\n",
       " (1975, 0.15371718),\n",
       " (137, 0.15357417),\n",
       " (1785, 0.15346628),\n",
       " (2903, 0.15299103),\n",
       " (2774, 0.1528449),\n",
       " (195, 0.15282331),\n",
       " (387, 0.15132752),\n",
       " (295, 0.15117511),\n",
       " (1870, 0.15112938),\n",
       " (2546, 0.1510978),\n",
       " (648, 0.15101661),\n",
       " (2108, 0.15096489),\n",
       " (882, 0.15092745),\n",
       " (2813, 0.15089297),\n",
       " (1014, 0.15074784),\n",
       " (803, 0.15062113),\n",
       " (2366, 0.150578),\n",
       " (653, 0.15054254),\n",
       " (1342, 0.15026832),\n",
       " (2561, 0.15021518),\n",
       " (1983, 0.15000212),\n",
       " (1826, 0.14966877),\n",
       " (303, 0.14943323),\n",
       " (707, 0.14932823),\n",
       " (1794, 0.14930761),\n",
       " (226, 0.14913861),\n",
       " (1647, 0.1489498),\n",
       " (642, 0.1488916),\n",
       " (2720, 0.1487554),\n",
       " (330, 0.14868546),\n",
       " (1943, 0.14843115),\n",
       " (2651, 0.14837718),\n",
       " (1588, 0.14827904),\n",
       " (1572, 0.14819393),\n",
       " (1184, 0.14809664),\n",
       " (831, 0.14787436),\n",
       " (844, 0.14769556),\n",
       " (470, 0.14735815),\n",
       " (2150, 0.1472828),\n",
       " (2704, 0.147246),\n",
       " (2304, 0.14698532),\n",
       " (2900, 0.14694709),\n",
       " (1205, 0.14683239),\n",
       " (2344, 0.14678417),\n",
       " (1262, 0.14668179),\n",
       " (2186, 0.14641851),\n",
       " (1863, 0.14640382),\n",
       " (782, 0.14605457),\n",
       " (1142, 0.14583397),\n",
       " (1001, 0.14566049),\n",
       " (10, 0.14555156),\n",
       " (326, 0.14545661),\n",
       " (1141, 0.14531702),\n",
       " (2299, 0.14520575),\n",
       " (2695, 0.14489079),\n",
       " (794, 0.14483237),\n",
       " (388, 0.14439318),\n",
       " (410, 0.1442696),\n",
       " (77, 0.14425254),\n",
       " (2697, 0.14405629),\n",
       " (1487, 0.1440314),\n",
       " (4, 0.14391434),\n",
       " (1841, 0.14376979),\n",
       " (2787, 0.14338645),\n",
       " (827, 0.14300728),\n",
       " (2652, 0.14283448),\n",
       " (2235, 0.14257593),\n",
       " (2827, 0.14255673),\n",
       " (686, 0.142515),\n",
       " (21, 0.1424654),\n",
       " (1865, 0.14245331),\n",
       " (136, 0.14209488),\n",
       " (79, 0.14155695),\n",
       " (13, 0.14154576),\n",
       " (2364, 0.14148195),\n",
       " (2438, 0.14125746),\n",
       " (674, 0.14109795),\n",
       " (2680, 0.14104638),\n",
       " (822, 0.14079045),\n",
       " (1124, 0.14065367),\n",
       " (2717, 0.1404933),\n",
       " (2972, 0.14034781),\n",
       " (812, 0.14023325),\n",
       " (1564, 0.14008924),\n",
       " (2983, 0.14004555),\n",
       " (2455, 0.14002615),\n",
       " (469, 0.13987663),\n",
       " (1704, 0.1397878),\n",
       " (65, 0.13954437),\n",
       " (2792, 0.13937747),\n",
       " (913, 0.13926731),\n",
       " (1049, 0.13925739),\n",
       " (2355, 0.13900231),\n",
       " (1732, 0.13895133),\n",
       " (2729, 0.13876),\n",
       " (382, 0.13853252),\n",
       " (1707, 0.13831523),\n",
       " (738, 0.1379869),\n",
       " (1361, 0.13789834),\n",
       " (940, 0.13727975),\n",
       " (2417, 0.1371378),\n",
       " (2588, 0.13693275),\n",
       " (1629, 0.13688508),\n",
       " (742, 0.13681588),\n",
       " (2306, 0.13651642),\n",
       " (1617, 0.13650432),\n",
       " (1875, 0.13607596),\n",
       " (1793, 0.13601254),\n",
       " (1170, 0.1359676),\n",
       " (1837, 0.13593864),\n",
       " (1743, 0.13563508),\n",
       " (1931, 0.1352975),\n",
       " (649, 0.1352731),\n",
       " (2414, 0.13485788),\n",
       " (464, 0.13471596),\n",
       " (2975, 0.1346695),\n",
       " (50, 0.13461387),\n",
       " (2726, 0.13459927),\n",
       " (2522, 0.13439298),\n",
       " (2799, 0.13411275),\n",
       " (1102, 0.13374707),\n",
       " (917, 0.13312066),\n",
       " (1021, 0.13297136),\n",
       " (2791, 0.13256253),\n",
       " (1015, 0.13228941),\n",
       " (2471, 0.13228846),\n",
       " (1093, 0.13228366),\n",
       " (46, 0.13227493),\n",
       " (1578, 0.13221383),\n",
       " (2980, 0.13137321),\n",
       " (2308, 0.13103612),\n",
       " (275, 0.1306366),\n",
       " (1860, 0.13062213),\n",
       " (1744, 0.13002281),\n",
       " (2100, 0.13001446),\n",
       " (578, 0.12996955),\n",
       " (1065, 0.12989834),\n",
       " (695, 0.12965739),\n",
       " (2339, 0.12959829),\n",
       " (2303, 0.12956712),\n",
       " (1959, 0.12905298),\n",
       " (2079, 0.12905207),\n",
       " (2141, 0.12896052),\n",
       " (2292, 0.1289551),\n",
       " (557, 0.1285714),\n",
       " (1156, 0.12817025),\n",
       " (1625, 0.12815365),\n",
       " (2600, 0.12806039),\n",
       " (175, 0.12797615),\n",
       " (84, 0.1279298),\n",
       " (2394, 0.12755217),\n",
       " (2102, 0.12725276),\n",
       " (2410, 0.12698755),\n",
       " (2944, 0.1269546),\n",
       " (561, 0.12692522),\n",
       " (1935, 0.12691133),\n",
       " (1202, 0.12690473),\n",
       " (1132, 0.12690365),\n",
       " (2817, 0.12689702),\n",
       " (2115, 0.12689573),\n",
       " (1057, 0.12689511),\n",
       " (1265, 0.12688404),\n",
       " (801, 0.12677827),\n",
       " (1491, 0.12673049),\n",
       " (2840, 0.1266718),\n",
       " (141, 0.12664792),\n",
       " (356, 0.12640464),\n",
       " (2762, 0.12609339),\n",
       " (501, 0.1255518),\n",
       " (19, 0.12548673),\n",
       " (1099, 0.12539065),\n",
       " (792, 0.12531918),\n",
       " (877, 0.12528552),\n",
       " (1942, 0.1252647),\n",
       " (2626, 0.12513787),\n",
       " (5, 0.124928236),\n",
       " (1096, 0.12491998),\n",
       " (1955, 0.12483531),\n",
       " (859, 0.12469658),\n",
       " (2440, 0.12458283),\n",
       " (1408, 0.12398486),\n",
       " (2545, 0.123932384),\n",
       " (347, 0.123853415),\n",
       " (1687, 0.12378286),\n",
       " (694, 0.12360415),\n",
       " (1840, 0.12314258),\n",
       " (2354, 0.12310125),\n",
       " (595, 0.12274995),\n",
       " (1452, 0.12268136),\n",
       " (1163, 0.12212146),\n",
       " (2121, 0.12207985),\n",
       " (1784, 0.121492274),\n",
       " (594, 0.120714515),\n",
       " (2657, 0.12008849),\n",
       " (1317, 0.119905055),\n",
       " (204, 0.1198861),\n",
       " (829, 0.11979753),\n",
       " (164, 0.11935583),\n",
       " (1472, 0.119284),\n",
       " (1941, 0.11915983),\n",
       " (15, 0.118894815),\n",
       " (2712, 0.11887504),\n",
       " (628, 0.11886379),\n",
       " (2209, 0.11868741),\n",
       " (579, 0.11850094),\n",
       " (1307, 0.11829691),\n",
       " (2077, 0.11808695),\n",
       " (2965, 0.11805916),\n",
       " (1900, 0.118030824),\n",
       " (1540, 0.117907),\n",
       " (2603, 0.117871955),\n",
       " (1466, 0.117458574),\n",
       " (2889, 0.11745477),\n",
       " (2961, 0.11692466),\n",
       " (2888, 0.11681234),\n",
       " (2834, 0.11619298),\n",
       " (118, 0.11609861),\n",
       " (1949, 0.115186155),\n",
       " (583, 0.11511275),\n",
       " (740, 0.114335775),\n",
       " (2920, 0.11418125),\n",
       " (170, 0.114052795),\n",
       " (2700, 0.11399296),\n",
       " (977, 0.11397529),\n",
       " (1962, 0.11383119),\n",
       " (929, 0.11376371),\n",
       " (1283, 0.11298737),\n",
       " (2014, 0.11276825),\n",
       " (2854, 0.11231625),\n",
       " (151, 0.11223945),\n",
       " (1934, 0.11223636),\n",
       " (835, 0.1122353),\n",
       " (150, 0.11223496),\n",
       " (107, 0.11216352),\n",
       " (820, 0.11212121),\n",
       " (2311, 0.11209836),\n",
       " (199, 0.11178666),\n",
       " (2451, 0.11176382),\n",
       " (1260, 0.111707345),\n",
       " (2524, 0.11159603),\n",
       " (976, 0.1115293),\n",
       " (1789, 0.111418754),\n",
       " (1684, 0.111181185),\n",
       " (376, 0.11035523),\n",
       " (1078, 0.10988929),\n",
       " (254, 0.1098163),\n",
       " (658, 0.10978836),\n",
       " (616, 0.10952111),\n",
       " (2580, 0.10928276),\n",
       " (144, 0.10923313),\n",
       " (1799, 0.109063655),\n",
       " (239, 0.109013066),\n",
       " (1183, 0.10870717),\n",
       " (1439, 0.108212575),\n",
       " (1359, 0.108135216),\n",
       " (338, 0.10775827),\n",
       " (1903, 0.10754049),\n",
       " (1758, 0.10749244),\n",
       " (2614, 0.10735628),\n",
       " (312, 0.107289344),\n",
       " (2663, 0.107249565),\n",
       " (2262, 0.107172966),\n",
       " (2807, 0.10716982),\n",
       " (1668, 0.1070905),\n",
       " (717, 0.106980056),\n",
       " (1293, 0.106451645),\n",
       " (38, 0.10620022),\n",
       " (2419, 0.106169336),\n",
       " (156, 0.10538028),\n",
       " (1137, 0.10537597),\n",
       " (1098, 0.10536307),\n",
       " (2934, 0.104845405),\n",
       " (2367, 0.104766145),\n",
       " (2093, 0.104239956),\n",
       " (2904, 0.103308976),\n",
       " (0, 0.10326472),\n",
       " (379, 0.10320845),\n",
       " (1446, 0.10290007),\n",
       " (1712, 0.10260492),\n",
       " (2465, 0.102495864),\n",
       " (1203, 0.10240063),\n",
       " (1902, 0.10239392),\n",
       " (2340, 0.102338344),\n",
       " (1029, 0.10203129),\n",
       " (2943, 0.10186519),\n",
       " (424, 0.101807795),\n",
       " (2343, 0.10180566),\n",
       " (1593, 0.101795316),\n",
       " (344, 0.101482004),\n",
       " (1193, 0.1014529),\n",
       " (2205, 0.101421095),\n",
       " (2353, 0.10122749),\n",
       " ...]"
      ]
     },
     "execution_count": 310,
     "metadata": {},
     "output_type": "execute_result"
    }
   ],
   "source": [
    "model.recommend(user_id, sparse_user_item, N=3000)"
   ]
  },
  {
   "cell_type": "code",
   "execution_count": null,
   "metadata": {},
   "outputs": [],
   "source": []
  },
  {
   "cell_type": "code",
   "execution_count": null,
   "metadata": {},
   "outputs": [],
   "source": []
  },
  {
   "cell_type": "code",
   "execution_count": 311,
   "metadata": {},
   "outputs": [
    {
     "data": {
      "text/plain": [
       "[(2095, 1.1180236),\n",
       " (1859, 0.97055596),\n",
       " (1812, 0.92142296),\n",
       " (1764, 0.89671445),\n",
       " (969, 0.86402196),\n",
       " (546, 0.8416943),\n",
       " (2245, 0.84089375),\n",
       " (2650, 0.8385402),\n",
       " (2071, 0.8225815),\n",
       " (1228, 0.80994636)]"
      ]
     },
     "execution_count": 311,
     "metadata": {},
     "output_type": "execute_result"
    }
   ],
   "source": [
    "model.recommend(user_id, sparse_user_item, N=10)"
   ]
  },
  {
   "cell_type": "code",
   "execution_count": null,
   "metadata": {},
   "outputs": [],
   "source": []
  },
  {
   "cell_type": "code",
   "execution_count": null,
   "metadata": {},
   "outputs": [],
   "source": []
  },
  {
   "cell_type": "markdown",
   "metadata": {},
   "source": [
    "## Generating recommendations for News_id"
   ]
  },
  {
   "cell_type": "code",
   "execution_count": 342,
   "metadata": {},
   "outputs": [],
   "source": [
    "\n",
    "item_id = 20\n",
    "n_similar = 2987"
   ]
  },
  {
   "cell_type": "code",
   "execution_count": null,
   "metadata": {},
   "outputs": [],
   "source": []
  },
  {
   "cell_type": "code",
   "execution_count": 343,
   "metadata": {},
   "outputs": [],
   "source": [
    "\n",
    "similar = model.similar_items(item_id, n_similar)\n"
   ]
  },
  {
   "cell_type": "code",
   "execution_count": 344,
   "metadata": {},
   "outputs": [
    {
     "data": {
      "text/plain": [
       "[(20, 0.9999999),\n",
       " (1905, 0.9025069),\n",
       " (1752, 0.89276063),\n",
       " (620, 0.80205363),\n",
       " (1424, 0.78178257),\n",
       " (968, 0.7816864),\n",
       " (2560, 0.7815305),\n",
       " (22, 0.7815304),\n",
       " (874, 0.7815303),\n",
       " (2203, 0.78153026),\n",
       " (2670, 0.78153026),\n",
       " (787, 0.7815302),\n",
       " (172, 0.78153014),\n",
       " (1637, 0.78153014),\n",
       " (1638, 0.78153014),\n",
       " (232, 0.7815301),\n",
       " (2347, 0.76812327),\n",
       " (896, 0.69816107),\n",
       " (58, 0.69780415),\n",
       " (2856, 0.6974792),\n",
       " (2427, 0.6974713),\n",
       " (809, 0.69016695),\n",
       " (824, 0.68794584),\n",
       " (1197, 0.68600065),\n",
       " (1473, 0.66033334),\n",
       " (110, 0.627705),\n",
       " (2746, 0.6197701),\n",
       " (220, 0.60290647),\n",
       " (2781, 0.6029021),\n",
       " (2785, 0.6028944),\n",
       " (2032, 0.60147834),\n",
       " (1845, 0.6001562),\n",
       " (2114, 0.5994292),\n",
       " (1417, 0.59660244),\n",
       " (452, 0.59656614),\n",
       " (492, 0.59402233),\n",
       " (800, 0.5937528),\n",
       " (1723, 0.59320414),\n",
       " (1942, 0.59188396),\n",
       " (925, 0.59067965),\n",
       " (2935, 0.5905999),\n",
       " (436, 0.5833349),\n",
       " (2662, 0.5785215),\n",
       " (558, 0.57790166),\n",
       " (1760, 0.57778364),\n",
       " (1610, 0.5717476),\n",
       " (1989, 0.56989753),\n",
       " (1636, 0.5687604),\n",
       " (338, 0.5671617),\n",
       " (2939, 0.5653514),\n",
       " (16, 0.56406605),\n",
       " (149, 0.5575335),\n",
       " (341, 0.5574167),\n",
       " (2930, 0.551246),\n",
       " (2533, 0.55117106),\n",
       " (41, 0.55045104),\n",
       " (2131, 0.5482102),\n",
       " (774, 0.54814965),\n",
       " (2685, 0.5423965),\n",
       " (2210, 0.53934354),\n",
       " (926, 0.5384697),\n",
       " (2194, 0.5380693),\n",
       " (342, 0.53411853),\n",
       " (1171, 0.5329892),\n",
       " (296, 0.53230155),\n",
       " (319, 0.5280955),\n",
       " (2263, 0.52722234),\n",
       " (1245, 0.52647537),\n",
       " (790, 0.5254034),\n",
       " (178, 0.52477217),\n",
       " (1947, 0.5235333),\n",
       " (2612, 0.51970434),\n",
       " (488, 0.5108049),\n",
       " (2278, 0.50845444),\n",
       " (2312, 0.5081619),\n",
       " (1589, 0.50745785),\n",
       " (2465, 0.50579387),\n",
       " (2140, 0.5057904),\n",
       " (1429, 0.5036856),\n",
       " (1814, 0.50328404),\n",
       " (1649, 0.50311375),\n",
       " (1962, 0.5018815),\n",
       " (646, 0.49809304),\n",
       " (1738, 0.4974353),\n",
       " (2537, 0.49539664),\n",
       " (2511, 0.4937324),\n",
       " (2121, 0.48911235),\n",
       " (2892, 0.4887607),\n",
       " (2256, 0.48857182),\n",
       " (1088, 0.48812932),\n",
       " (2329, 0.4865012),\n",
       " (1615, 0.4860733),\n",
       " (1264, 0.48493707),\n",
       " (1710, 0.4847304),\n",
       " (698, 0.48444283),\n",
       " (1785, 0.4745135),\n",
       " (1902, 0.47349378),\n",
       " (519, 0.47348604),\n",
       " (2249, 0.47311524),\n",
       " (1499, 0.47200936),\n",
       " (2375, 0.47190773),\n",
       " (639, 0.47163838),\n",
       " (1869, 0.47112277),\n",
       " (2276, 0.46974164),\n",
       " (930, 0.46966985),\n",
       " (2908, 0.46963835),\n",
       " (2754, 0.4683925),\n",
       " (1561, 0.4682026),\n",
       " (1432, 0.46679574),\n",
       " (1854, 0.4620925),\n",
       " (1066, 0.46131468),\n",
       " (2429, 0.46052223),\n",
       " (272, 0.46035922),\n",
       " (2028, 0.459938),\n",
       " (384, 0.4565083),\n",
       " (1327, 0.45576555),\n",
       " (1997, 0.45537385),\n",
       " (424, 0.45260873),\n",
       " (387, 0.4525087),\n",
       " (769, 0.45223317),\n",
       " (2969, 0.45190784),\n",
       " (2952, 0.4516987),\n",
       " (966, 0.45106545),\n",
       " (360, 0.44833514),\n",
       " (1250, 0.4471215),\n",
       " (265, 0.4469127),\n",
       " (2096, 0.44659653),\n",
       " (1629, 0.44610128),\n",
       " (2793, 0.44572267),\n",
       " (501, 0.44548583),\n",
       " (703, 0.44530573),\n",
       " (2021, 0.4451993),\n",
       " (1802, 0.44254294),\n",
       " (1546, 0.4387957),\n",
       " (870, 0.43782547),\n",
       " (320, 0.43694448),\n",
       " (1588, 0.436928),\n",
       " (2838, 0.435543),\n",
       " (901, 0.43359226),\n",
       " (1643, 0.43267176),\n",
       " (2008, 0.42904568),\n",
       " (803, 0.42893606),\n",
       " (2111, 0.4288075),\n",
       " (739, 0.42786285),\n",
       " (1123, 0.42713705),\n",
       " (1218, 0.42607683),\n",
       " (209, 0.42458618),\n",
       " (267, 0.42286837),\n",
       " (1741, 0.4211749),\n",
       " (1133, 0.41987404),\n",
       " (1284, 0.41964626),\n",
       " (246, 0.4195798),\n",
       " (1571, 0.4190694),\n",
       " (2926, 0.41874394),\n",
       " (1370, 0.41847757),\n",
       " (2845, 0.4184176),\n",
       " (2233, 0.41752243),\n",
       " (2082, 0.41662094),\n",
       " (224, 0.41558054),\n",
       " (1641, 0.4141609),\n",
       " (199, 0.4130257),\n",
       " (1076, 0.41291967),\n",
       " (2390, 0.41186637),\n",
       " (1672, 0.41077623),\n",
       " (19, 0.41034287),\n",
       " (1175, 0.40735817),\n",
       " (2937, 0.40672258),\n",
       " (2438, 0.40589035),\n",
       " (2645, 0.40504697),\n",
       " (1047, 0.4048879),\n",
       " (541, 0.40453604),\n",
       " (1342, 0.40438685),\n",
       " (1661, 0.40266913),\n",
       " (2724, 0.40263188),\n",
       " (1002, 0.4022057),\n",
       " (1125, 0.4010795),\n",
       " (1214, 0.40076312),\n",
       " (42, 0.4006447),\n",
       " (2907, 0.40054747),\n",
       " (1514, 0.39870533),\n",
       " (945, 0.39815965),\n",
       " (571, 0.3973886),\n",
       " (2628, 0.39711833),\n",
       " (689, 0.39550108),\n",
       " (2743, 0.39292768),\n",
       " (861, 0.3923869),\n",
       " (1225, 0.3921186),\n",
       " (2510, 0.39114353),\n",
       " (2644, 0.39100707),\n",
       " (1377, 0.38933057),\n",
       " (271, 0.38896796),\n",
       " (759, 0.38896054),\n",
       " (1898, 0.3874639),\n",
       " (2318, 0.3867038),\n",
       " (102, 0.38580185),\n",
       " (2053, 0.38542914),\n",
       " (1136, 0.3818543),\n",
       " (1911, 0.3817085),\n",
       " (802, 0.38076222),\n",
       " (2015, 0.3795681),\n",
       " (37, 0.37902457),\n",
       " (337, 0.3777778),\n",
       " (2735, 0.37758026),\n",
       " (1475, 0.37700984),\n",
       " (2092, 0.37688252),\n",
       " (214, 0.37649232),\n",
       " (312, 0.37625134),\n",
       " (1772, 0.37621382),\n",
       " (2702, 0.37458867),\n",
       " (1667, 0.37326786),\n",
       " (2298, 0.3729492),\n",
       " (2542, 0.37285504),\n",
       " (1089, 0.37213296),\n",
       " (1769, 0.37209255),\n",
       " (928, 0.37200806),\n",
       " (1103, 0.37200335),\n",
       " (705, 0.37159875),\n",
       " (1091, 0.37144202),\n",
       " (1421, 0.37098652),\n",
       " (2218, 0.37060282),\n",
       " (1455, 0.37014914),\n",
       " (28, 0.37005553),\n",
       " (32, 0.3690703),\n",
       " (1196, 0.36830428),\n",
       " (2903, 0.36819047),\n",
       " (1105, 0.36816773),\n",
       " (389, 0.36801794),\n",
       " (855, 0.3665171),\n",
       " (2676, 0.36601618),\n",
       " (2476, 0.36533555),\n",
       " (1305, 0.3646182),\n",
       " (944, 0.36414987),\n",
       " (714, 0.3639185),\n",
       " (1754, 0.36350542),\n",
       " (1850, 0.36344206),\n",
       " (139, 0.3633241),\n",
       " (2250, 0.36244655),\n",
       " (1584, 0.36128867),\n",
       " (2215, 0.36045378),\n",
       " (2552, 0.3601237),\n",
       " (1552, 0.3590464),\n",
       " (660, 0.35822892),\n",
       " (2303, 0.35761243),\n",
       " (1037, 0.3564394),\n",
       " (580, 0.3546897),\n",
       " (661, 0.3541685),\n",
       " (2169, 0.35362223),\n",
       " (614, 0.35351264),\n",
       " (913, 0.3521459),\n",
       " (2896, 0.3517604),\n",
       " (1716, 0.35152775),\n",
       " (1907, 0.3513334),\n",
       " (1889, 0.35085464),\n",
       " (828, 0.3501572),\n",
       " (1526, 0.3498004),\n",
       " (2005, 0.34936458),\n",
       " (2563, 0.3489432),\n",
       " (1130, 0.3480072),\n",
       " (2153, 0.3469325),\n",
       " (393, 0.3463818),\n",
       " (2740, 0.34549767),\n",
       " (665, 0.3453564),\n",
       " (1974, 0.34525847),\n",
       " (634, 0.34497258),\n",
       " (760, 0.34452885),\n",
       " (1784, 0.34437388),\n",
       " (2978, 0.34391284),\n",
       " (1498, 0.34384775),\n",
       " (54, 0.34363234),\n",
       " (2790, 0.34348014),\n",
       " (2407, 0.34345853),\n",
       " (965, 0.34319293),\n",
       " (1244, 0.34163228),\n",
       " (2941, 0.34114015),\n",
       " (798, 0.34086147),\n",
       " (79, 0.3396727),\n",
       " (81, 0.33841386),\n",
       " (1471, 0.33835107),\n",
       " (437, 0.33805788),\n",
       " (1249, 0.3380056),\n",
       " (2472, 0.33796668),\n",
       " (834, 0.3379182),\n",
       " (1337, 0.33759046),\n",
       " (2166, 0.3372782),\n",
       " (1062, 0.3372252),\n",
       " (419, 0.33702362),\n",
       " (1288, 0.33613878),\n",
       " (128, 0.33613846),\n",
       " (537, 0.33602974),\n",
       " (857, 0.33464396),\n",
       " (2562, 0.33451578),\n",
       " (1253, 0.33394396),\n",
       " (2048, 0.3331906),\n",
       " (2590, 0.3328654),\n",
       " (2760, 0.3322959),\n",
       " (713, 0.33187228),\n",
       " (1603, 0.33168453),\n",
       " (750, 0.33125848),\n",
       " (307, 0.33103102),\n",
       " (2938, 0.33022785),\n",
       " (508, 0.3279518),\n",
       " (200, 0.3278364),\n",
       " (303, 0.32725936),\n",
       " (414, 0.3271028),\n",
       " (1646, 0.32608142),\n",
       " (696, 0.3259541),\n",
       " (1233, 0.32512566),\n",
       " (763, 0.32494742),\n",
       " (1226, 0.32415956),\n",
       " (748, 0.3240141),\n",
       " (1821, 0.32302928),\n",
       " (991, 0.32279882),\n",
       " (1392, 0.32247818),\n",
       " (2458, 0.32164833),\n",
       " (2970, 0.32146257),\n",
       " (390, 0.32145968),\n",
       " (478, 0.3212583),\n",
       " (1435, 0.32121652),\n",
       " (1781, 0.32089812),\n",
       " (534, 0.32086924),\n",
       " (1726, 0.31985876),\n",
       " (566, 0.31956235),\n",
       " (1836, 0.31906214),\n",
       " (1396, 0.3184972),\n",
       " (34, 0.31789532),\n",
       " (2234, 0.3172101),\n",
       " (2358, 0.31689692),\n",
       " (2795, 0.31642592),\n",
       " (941, 0.31631482),\n",
       " (2812, 0.31535372),\n",
       " (1038, 0.3153177),\n",
       " (2588, 0.315308),\n",
       " (902, 0.3150804),\n",
       " (2036, 0.3148202),\n",
       " (1324, 0.3147121),\n",
       " (1957, 0.31463853),\n",
       " (85, 0.31344733),\n",
       " (2424, 0.3132057),\n",
       " (310, 0.3131466),\n",
       " (2841, 0.31185165),\n",
       " (2620, 0.3111948),\n",
       " (293, 0.31111124),\n",
       " (2404, 0.31102666),\n",
       " (1279, 0.3104033),\n",
       " (1340, 0.31024912),\n",
       " (791, 0.3100049),\n",
       " (2706, 0.30989316),\n",
       " (1847, 0.3094418),\n",
       " (1704, 0.3092771),\n",
       " (1254, 0.3088853),\n",
       " (940, 0.30884036),\n",
       " (2556, 0.30838335),\n",
       " (2617, 0.30603823),\n",
       " (648, 0.30574626),\n",
       " (2950, 0.30547047),\n",
       " (1671, 0.30540717),\n",
       " (2771, 0.30520922),\n",
       " (2306, 0.30513504),\n",
       " (1969, 0.3050198),\n",
       " (1751, 0.30475035),\n",
       " (2285, 0.3041688),\n",
       " (1563, 0.30388376),\n",
       " (1518, 0.30337104),\n",
       " (410, 0.30326688),\n",
       " (1861, 0.3018525),\n",
       " (1208, 0.30122396),\n",
       " (1139, 0.30111456),\n",
       " (2959, 0.3003787),\n",
       " (1126, 0.30022758),\n",
       " (1992, 0.29979634),\n",
       " (2848, 0.2993357),\n",
       " (1593, 0.29928613),\n",
       " (2495, 0.29876843),\n",
       " (2034, 0.29832673),\n",
       " (180, 0.2970366),\n",
       " (498, 0.2965837),\n",
       " (1490, 0.29627424),\n",
       " (2182, 0.29598796),\n",
       " (2231, 0.29596132),\n",
       " (2332, 0.29578784),\n",
       " (1664, 0.29559585),\n",
       " (258, 0.29535583),\n",
       " (1444, 0.29459342),\n",
       " (978, 0.2931218),\n",
       " (2091, 0.29206917),\n",
       " (78, 0.29195288),\n",
       " (2504, 0.29131708),\n",
       " (563, 0.29065567),\n",
       " (1161, 0.2905773),\n",
       " (1616, 0.2903502),\n",
       " (1364, 0.29032812),\n",
       " (1882, 0.29023466),\n",
       " (1035, 0.29023266),\n",
       " (1292, 0.2895897),\n",
       " (1376, 0.2891338),\n",
       " (83, 0.28900465),\n",
       " (2522, 0.28806898),\n",
       " (278, 0.28778416),\n",
       " (932, 0.2877627),\n",
       " (2178, 0.28737018),\n",
       " (1703, 0.28727436),\n",
       " (971, 0.2872113),\n",
       " (2051, 0.28691134),\n",
       " (2173, 0.28632507),\n",
       " (1652, 0.28591308),\n",
       " (1943, 0.28578648),\n",
       " (1053, 0.28566095),\n",
       " (1043, 0.285567),\n",
       " (92, 0.2845082),\n",
       " (1897, 0.28385982),\n",
       " (181, 0.28223303),\n",
       " (1187, 0.2820797),\n",
       " (385, 0.28205597),\n",
       " (106, 0.28194904),\n",
       " (586, 0.28179145),\n",
       " (1064, 0.2816646),\n",
       " (74, 0.28069472),\n",
       " (2513, 0.2798463),\n",
       " (2368, 0.27900603),\n",
       " (2439, 0.2788645),\n",
       " (2626, 0.27849776),\n",
       " (82, 0.2782916),\n",
       " (2301, 0.27820048),\n",
       " (1895, 0.27811453),\n",
       " (1963, 0.277977),\n",
       " (306, 0.2779377),\n",
       " (2116, 0.2771619),\n",
       " (640, 0.27701655),\n",
       " (1867, 0.2766015),\n",
       " (2657, 0.2761851),\n",
       " (2371, 0.27545393),\n",
       " (427, 0.27544075),\n",
       " (468, 0.27531633),\n",
       " (2415, 0.2751895),\n",
       " (527, 0.2749055),\n",
       " (304, 0.27434236),\n",
       " (2007, 0.27307108),\n",
       " (2473, 0.27249),\n",
       " (177, 0.2719065),\n",
       " (1443, 0.27176574),\n",
       " (1338, 0.27161512),\n",
       " (2293, 0.27120194),\n",
       " (607, 0.2708927),\n",
       " (359, 0.2706577),\n",
       " (291, 0.27019837),\n",
       " (1262, 0.26983836),\n",
       " (57, 0.26978225),\n",
       " (974, 0.26923645),\n",
       " (2613, 0.26879382),\n",
       " (347, 0.26807743),\n",
       " (2499, 0.2677814),\n",
       " (1459, 0.267748),\n",
       " (2137, 0.26759005),\n",
       " (402, 0.2671743),\n",
       " (169, 0.26705274),\n",
       " (2566, 0.2662661),\n",
       " (2780, 0.26547313),\n",
       " (548, 0.2652899),\n",
       " (1677, 0.26516312),\n",
       " (2554, 0.26487356),\n",
       " (2625, 0.26478323),\n",
       " (2192, 0.26433593),\n",
       " (2107, 0.26425394),\n",
       " (1231, 0.2639538),\n",
       " (564, 0.26394895),\n",
       " (1301, 0.26386073),\n",
       " (2607, 0.26346612),\n",
       " (2146, 0.26335037),\n",
       " (195, 0.26330036),\n",
       " (1547, 0.26269466),\n",
       " (685, 0.262601),\n",
       " (2877, 0.26253584),\n",
       " (1753, 0.26250938),\n",
       " (717, 0.26238284),\n",
       " (49, 0.2622453),\n",
       " (1404, 0.26222613),\n",
       " (1592, 0.26200187),\n",
       " (2514, 0.2618672),\n",
       " (862, 0.26063308),\n",
       " (1834, 0.26034844),\n",
       " (247, 0.25981924),\n",
       " (1879, 0.25931835),\n",
       " (895, 0.25893462),\n",
       " (1445, 0.25842202),\n",
       " (2450, 0.258284),\n",
       " (761, 0.2578294),\n",
       " (1307, 0.25742996),\n",
       " (405, 0.25714648),\n",
       " (1210, 0.25684515),\n",
       " (1877, 0.25672725),\n",
       " (942, 0.25653034),\n",
       " (1919, 0.2562121),\n",
       " (1988, 0.25576368),\n",
       " (2093, 0.25544775),\n",
       " (2893, 0.25422177),\n",
       " (2406, 0.25332582),\n",
       " (821, 0.253181),\n",
       " (1022, 0.25316137),\n",
       " (2221, 0.25303614),\n",
       " (170, 0.25238433),\n",
       " (176, 0.25199237),\n",
       " (2050, 0.25175145),\n",
       " (61, 0.25141948),\n",
       " (2366, 0.2511989),\n",
       " (1976, 0.25068906),\n",
       " (2824, 0.25016937),\n",
       " (2736, 0.24993739),\n",
       " (2165, 0.24979663),\n",
       " (1117, 0.24968144),\n",
       " (1964, 0.2494923),\n",
       " (2393, 0.24949025),\n",
       " (1564, 0.24943879),\n",
       " (309, 0.24914858),\n",
       " (502, 0.24898954),\n",
       " (206, 0.2487122),\n",
       " (418, 0.24856947),\n",
       " (1539, 0.24847035),\n",
       " (526, 0.24844353),\n",
       " (1362, 0.24844149),\n",
       " (2039, 0.2484373),\n",
       " (2076, 0.24843322),\n",
       " (1824, 0.24840395),\n",
       " (2664, 0.24832991),\n",
       " (2188, 0.24832721),\n",
       " (1186, 0.24832086),\n",
       " (1189, 0.24827474),\n",
       " (1013, 0.248267),\n",
       " (2314, 0.24825287),\n",
       " (758, 0.24821179),\n",
       " (2725, 0.24816887),\n",
       " (1696, 0.24806821),\n",
       " (777, 0.24804641),\n",
       " (807, 0.24800919),\n",
       " (816, 0.24799705),\n",
       " (462, 0.24793477),\n",
       " (210, 0.2476646),\n",
       " (970, 0.24753545),\n",
       " (2728, 0.24742585),\n",
       " (2326, 0.24723125),\n",
       " (2230, 0.24722306),\n",
       " (2428, 0.24679649),\n",
       " (1020, 0.24663031),\n",
       " (2684, 0.2463153),\n",
       " (2062, 0.24526133),\n",
       " (635, 0.24468099),\n",
       " (313, 0.24462996),\n",
       " (2009, 0.24454367),\n",
       " (1982, 0.2442737),\n",
       " (84, 0.24388158),\n",
       " (118, 0.24333283),\n",
       " (1131, 0.2428664),\n",
       " (2699, 0.24281299),\n",
       " (1543, 0.24254754),\n",
       " (29, 0.24217887),\n",
       " (725, 0.24198878),\n",
       " (237, 0.24191588),\n",
       " (2025, 0.2416039),\n",
       " (2454, 0.24155056),\n",
       " (2054, 0.24108022),\n",
       " (875, 0.23995218),\n",
       " (1551, 0.23989691),\n",
       " (140, 0.23971911),\n",
       " (1961, 0.23907761),\n",
       " (542, 0.23876175),\n",
       " (2509, 0.23862466),\n",
       " (398, 0.23838486),\n",
       " (2205, 0.23809102),\n",
       " (491, 0.23803368),\n",
       " (2420, 0.23735976),\n",
       " (2364, 0.23667815),\n",
       " (1881, 0.23651989),\n",
       " (872, 0.23649646),\n",
       " (2370, 0.23639017),\n",
       " (2945, 0.23635677),\n",
       " (1660, 0.23633665),\n",
       " (217, 0.23601653),\n",
       " (1023, 0.23573314),\n",
       " (1399, 0.23566623),\n",
       " (2261, 0.23565336),\n",
       " (2973, 0.23559092),\n",
       " (1986, 0.23541102),\n",
       " (127, 0.2349259),\n",
       " (2578, 0.2347749),\n",
       " (2490, 0.23476002),\n",
       " (365, 0.23470864),\n",
       " (2243, 0.23461553),\n",
       " (667, 0.23438795),\n",
       " (671, 0.2340426),\n",
       " (2912, 0.23403765),\n",
       " (397, 0.23374926),\n",
       " (1657, 0.23323686),\n",
       " (2135, 0.23284131),\n",
       " (773, 0.23215874),\n",
       " (1311, 0.23170197),\n",
       " (1973, 0.23104495),\n",
       " (1890, 0.23037386),\n",
       " (1559, 0.2298635),\n",
       " (1310, 0.2298301),\n",
       " (2254, 0.22980873),\n",
       " (1841, 0.22976252),\n",
       " (2405, 0.2295947),\n",
       " (2755, 0.22900206),\n",
       " (1395, 0.22886127),\n",
       " (1838, 0.22878072),\n",
       " (262, 0.22866677),\n",
       " (2742, 0.22833703),\n",
       " (2099, 0.22817318),\n",
       " (2707, 0.22811444),\n",
       " (1206, 0.22787015),\n",
       " (1172, 0.22779287),\n",
       " (976, 0.22729047),\n",
       " (2242, 0.22714418),\n",
       " (2382, 0.22638546),\n",
       " (1627, 0.22600037),\n",
       " (1374, 0.22563095),\n",
       " (939, 0.22537304),\n",
       " (1804, 0.22464284),\n",
       " (1451, 0.22431082),\n",
       " (249, 0.22423553),\n",
       " (2919, 0.22392535),\n",
       " (2789, 0.22363907),\n",
       " (1929, 0.22334155),\n",
       " (1304, 0.22332372),\n",
       " (168, 0.22328502),\n",
       " (1788, 0.2230203),\n",
       " (1950, 0.22258483),\n",
       " (240, 0.22234212),\n",
       " (2949, 0.22221717),\n",
       " (1594, 0.22143519),\n",
       " (2807, 0.22093067),\n",
       " (2663, 0.22090705),\n",
       " (2262, 0.22090292),\n",
       " (2614, 0.22083919),\n",
       " (1903, 0.22078052),\n",
       " (18, 0.22075823),\n",
       " (1758, 0.2207571),\n",
       " (1224, 0.22056109),\n",
       " (516, 0.22022912),\n",
       " (1728, 0.21991673),\n",
       " (994, 0.21962486),\n",
       " (474, 0.21950248),\n",
       " (1756, 0.21904719),\n",
       " (1052, 0.21892907),\n",
       " (733, 0.21836492),\n",
       " (383, 0.21826524),\n",
       " (984, 0.2176525),\n",
       " (1467, 0.21741042),\n",
       " (2, 0.21712056),\n",
       " (1805, 0.21703604),\n",
       " (682, 0.21635872),\n",
       " (1159, 0.21623547),\n",
       " (340, 0.21589747),\n",
       " (2659, 0.21556553),\n",
       " (2591, 0.21546209),\n",
       " (949, 0.21468431),\n",
       " (26, 0.21425222),\n",
       " (1761, 0.2138131),\n",
       " (657, 0.2129446),\n",
       " (2671, 0.21276389),\n",
       " (1595, 0.21274658),\n",
       " (693, 0.21256153),\n",
       " (1734, 0.21249513),\n",
       " (2727, 0.21207018),\n",
       " (2886, 0.21196872),\n",
       " (2984, 0.21171366),\n",
       " (2737, 0.2116243),\n",
       " (284, 0.211292),\n",
       " (1500, 0.21124066),\n",
       " (1932, 0.21073231),\n",
       " (936, 0.21053414),\n",
       " (222, 0.21028018),\n",
       " (2000, 0.20943008),\n",
       " (381, 0.20902434),\n",
       " (1718, 0.20900339),\n",
       " (868, 0.20850451),\n",
       " (2305, 0.20815884),\n",
       " (2209, 0.20785765),\n",
       " (1697, 0.20751043),\n",
       " (1766, 0.20750795),\n",
       " (980, 0.20733665),\n",
       " (1831, 0.20639962),\n",
       " (845, 0.2061636),\n",
       " (2388, 0.20606619),\n",
       " (2292, 0.20579736),\n",
       " (1027, 0.20550542),\n",
       " (191, 0.20542088),\n",
       " (407, 0.20502949),\n",
       " (837, 0.20471163),\n",
       " (2531, 0.20468405),\n",
       " (1586, 0.20456913),\n",
       " (2605, 0.20448194),\n",
       " (2475, 0.20445858),\n",
       " (1019, 0.2031601),\n",
       " (1144, 0.20307146),\n",
       " (242, 0.20187399),\n",
       " (443, 0.20167917),\n",
       " (1415, 0.20150298),\n",
       " (2753, 0.20138884),\n",
       " (990, 0.20138031),\n",
       " (1101, 0.20133726),\n",
       " (2666, 0.20114528),\n",
       " (599, 0.20109122),\n",
       " (2852, 0.20094417),\n",
       " (1550, 0.20089391),\n",
       " (2401, 0.20085163),\n",
       " (2719, 0.20055579),\n",
       " (2545, 0.19991216),\n",
       " (947, 0.19973214),\n",
       " (1991, 0.199344),\n",
       " (1721, 0.19908217),\n",
       " (1433, 0.19889389),\n",
       " (1107, 0.19864905),\n",
       " (2516, 0.19843118),\n",
       " (1049, 0.1983145),\n",
       " (1084, 0.1982729),\n",
       " (2695, 0.19784065),\n",
       " (1041, 0.19741778),\n",
       " (1216, 0.19721399),\n",
       " (799, 0.19687174),\n",
       " (1267, 0.19681379),\n",
       " (957, 0.19679618),\n",
       " (2797, 0.19628596),\n",
       " (1308, 0.19617164),\n",
       " (2045, 0.19604242),\n",
       " (2128, 0.19601838),\n",
       " (1575, 0.19595875),\n",
       " (2948, 0.19580893),\n",
       " (2189, 0.19572362),\n",
       " (2572, 0.19541201),\n",
       " (730, 0.19507681),\n",
       " (1725, 0.19496344),\n",
       " (2686, 0.19489132),\n",
       " (1714, 0.19484167),\n",
       " (1135, 0.1947455),\n",
       " (352, 0.19469845),\n",
       " (1124, 0.1944913),\n",
       " (2692, 0.19334091),\n",
       " (1729, 0.19333358),\n",
       " (757, 0.19333082),\n",
       " (2870, 0.19324377),\n",
       " (223, 0.1932433),\n",
       " (2847, 0.19324113),\n",
       " (2204, 0.1932251),\n",
       " (2971, 0.19320841),\n",
       " (134, 0.19318905),\n",
       " (324, 0.19318855),\n",
       " (1081, 0.19317646),\n",
       " (1287, 0.19317631),\n",
       " (823, 0.19312206),\n",
       " (2820, 0.1930866),\n",
       " (1503, 0.19304734),\n",
       " (1270, 0.19297674),\n",
       " (201, 0.19297512),\n",
       " (518, 0.19296314),\n",
       " (1407, 0.19294272),\n",
       " (1394, 0.19287206),\n",
       " (1705, 0.19282915),\n",
       " (2201, 0.19263221),\n",
       " (1036, 0.19242184),\n",
       " (958, 0.19192243),\n",
       " (167, 0.19189698),\n",
       " (2968, 0.19189672),\n",
       " (795, 0.19169538),\n",
       " (1021, 0.19139716),\n",
       " (1829, 0.19131784),\n",
       " (165, 0.19108175),\n",
       " (2981, 0.19097352),\n",
       " (1517, 0.19091421),\n",
       " (2004, 0.19087115),\n",
       " (1437, 0.19078678),\n",
       " (1811, 0.19067384),\n",
       " (2518, 0.19040927),\n",
       " (603, 0.19036913),\n",
       " (1735, 0.19014826),\n",
       " (1297, 0.18990003),\n",
       " (550, 0.1896646),\n",
       " (2486, 0.18901542),\n",
       " (2452, 0.18898532),\n",
       " (473, 0.18860713),\n",
       " (1528, 0.1882138),\n",
       " (2766, 0.18805957),\n",
       " (202, 0.18786907),\n",
       " (520, 0.1876566),\n",
       " (2392, 0.18728623),\n",
       " (1478, 0.18720967),\n",
       " (1509, 0.18703786),\n",
       " (684, 0.18690972),\n",
       " (2606, 0.18678725),\n",
       " (43, 0.18650168),\n",
       " (1928, 0.18621893),\n",
       " (2580, 0.1860656),\n",
       " (1286, 0.18575902),\n",
       " (1613, 0.18563117),\n",
       " (2402, 0.18562856),\n",
       " (2143, 0.18552938),\n",
       " (434, 0.18548831),\n",
       " (2667, 0.18523106),\n",
       " (2497, 0.18491596),\n",
       " (2167, 0.18487762),\n",
       " (2253, 0.184868),\n",
       " (2539, 0.18480165),\n",
       " (160, 0.18387775),\n",
       " (1153, 0.18374287),\n",
       " (103, 0.18335696),\n",
       " (2417, 0.18305476),\n",
       " (218, 0.18267997),\n",
       " (625, 0.1821093),\n",
       " (416, 0.1816171),\n",
       " (243, 0.1811149),\n",
       " (184, 0.18080905),\n",
       " (1318, 0.1805691),\n",
       " (2120, 0.17968424),\n",
       " (1072, 0.17968065),\n",
       " (1843, 0.17967957),\n",
       " (2461, 0.17967053),\n",
       " (1441, 0.1796265),\n",
       " (1393, 0.17957278),\n",
       " (2637, 0.17955443),\n",
       " (2320, 0.17917742),\n",
       " (2118, 0.17892824),\n",
       " (2413, 0.17832157),\n",
       " (1937, 0.17824453),\n",
       " (2805, 0.17786466),\n",
       " (2003, 0.17751601),\n",
       " (623, 0.17749481),\n",
       " (2764, 0.17740536),\n",
       " (173, 0.17740388),\n",
       " (358, 0.17704618),\n",
       " (1422, 0.17701128),\n",
       " (899, 0.17696834),\n",
       " (2246, 0.17664735),\n",
       " (1656, 0.17662866),\n",
       " (1024, 0.17660974),\n",
       " (1908, 0.17659512),\n",
       " (1408, 0.176095),\n",
       " (1647, 0.17609143),\n",
       " (59, 0.17574678),\n",
       " (716, 0.17560078),\n",
       " (592, 0.17506436),\n",
       " (2443, 0.17505346),\n",
       " (906, 0.17499393),\n",
       " (2055, 0.17496924),\n",
       " (287, 0.17493989),\n",
       " (851, 0.17440481),\n",
       " (1856, 0.17428225),\n",
       " (2124, 0.17407595),\n",
       " (2294, 0.17383869),\n",
       " (2846, 0.17338838),\n",
       " (2655, 0.17320374),\n",
       " (2081, 0.17304361),\n",
       " (2788, 0.17280139),\n",
       " (776, 0.17265178),\n",
       " (2377, 0.17244512),\n",
       " (1494, 0.17237411),\n",
       " (1639, 0.17203571),\n",
       " (259, 0.17178151),\n",
       " (129, 0.17163743),\n",
       " (2112, 0.17152733),\n",
       " (47, 0.17150189),\n",
       " (1147, 0.17144555),\n",
       " (2880, 0.17092763),\n",
       " (94, 0.17047967),\n",
       " (2344, 0.17045614),\n",
       " (331, 0.17036924),\n",
       " (1100, 0.17036271),\n",
       " (46, 0.1701411),\n",
       " (1093, 0.17012672),\n",
       " (1015, 0.17008902),\n",
       " (2471, 0.17007804),\n",
       " (346, 0.16969581),\n",
       " (378, 0.16949008),\n",
       " (2729, 0.16938876),\n",
       " (409, 0.1693295),\n",
       " (2335, 0.16890466),\n",
       " (2940, 0.16866212),\n",
       " (2882, 0.16843016),\n",
       " (465, 0.16833448),\n",
       " (2334, 0.16829292),\n",
       " (2083, 0.16809075),\n",
       " (2726, 0.16710776),\n",
       " (179, 0.1667613),\n",
       " (401, 0.16673794),\n",
       " (1458, 0.16663371),\n",
       " (853, 0.16631474),\n",
       " (1360, 0.16572566),\n",
       " (2986, 0.16566707),\n",
       " (2435, 0.16557705),\n",
       " (60, 0.1654579),\n",
       " (136, 0.16523261),\n",
       " (914, 0.16500992),\n",
       " (1368, 0.16454075),\n",
       " (463, 0.16418289),\n",
       " (1354, 0.16369912),\n",
       " (574, 0.16366212),\n",
       " (1205, 0.16309708),\n",
       " (318, 0.16281153),\n",
       " (316, 0.16260648),\n",
       " (1071, 0.16231138),\n",
       " (1713, 0.16227329),\n",
       " (2985, 0.16202264),\n",
       " (448, 0.16190007),\n",
       " (1102, 0.1614438),\n",
       " (275, 0.16139413),\n",
       " (1630, 0.16108888),\n",
       " (2911, 0.1603541),\n",
       " (2641, 0.16034144),\n",
       " (658, 0.16003862),\n",
       " (1493, 0.15975492),\n",
       " (1985, 0.15943566),\n",
       " (2013, 0.15883464),\n",
       " (893, 0.15873156),\n",
       " (477, 0.15859604),\n",
       " (86, 0.15829684),\n",
       " (2649, 0.15827142),\n",
       " (817, 0.15821141),\n",
       " (396, 0.15804972),\n",
       " (2206, 0.15787168),\n",
       " (2861, 0.15779813),\n",
       " (2386, 0.1576237),\n",
       " (2682, 0.15755947),\n",
       " (2017, 0.15752955),\n",
       " (1680, 0.15743321),\n",
       " (2030, 0.15722679),\n",
       " (2543, 0.15717986),\n",
       " (2897, 0.15716329),\n",
       " (2144, 0.15705055),\n",
       " (1398, 0.1562116),\n",
       " (2506, 0.15587398),\n",
       " (1983, 0.15548798),\n",
       " (1876, 0.15543447),\n",
       " (546, 0.15524116),\n",
       " (619, 0.15463533),\n",
       " (227, 0.15454097),\n",
       " (848, 0.154407),\n",
       " (2089, 0.1543844),\n",
       " (1042, 0.15428996),\n",
       " (2193, 0.15411955),\n",
       " (610, 0.1541127),\n",
       " (1702, 0.154111),\n",
       " (1676, 0.15409604),\n",
       " (1176, 0.15404539),\n",
       " (2020, 0.15398052),\n",
       " (235, 0.15391578),\n",
       " (35, 0.1538782),\n",
       " (2349, 0.1537589),\n",
       " (832, 0.15338649),\n",
       " (2041, 0.1530653),\n",
       " (1511, 0.1530067),\n",
       " (48, 0.15269949),\n",
       " (2623, 0.15214056),\n",
       " (2350, 0.15199314),\n",
       " (952, 0.15188739),\n",
       " (2818, 0.15167196),\n",
       " (1317, 0.15164089),\n",
       " (2701, 0.15145819),\n",
       " (1742, 0.15108122),\n",
       " (2865, 0.15095752),\n",
       " (2914, 0.15047741),\n",
       " (323, 0.15035002),\n",
       " (827, 0.15029906),\n",
       " (1401, 0.14983499),\n",
       " (1237, 0.149676),\n",
       " (1556, 0.14967541),\n",
       " (815, 0.14943975),\n",
       " (2962, 0.14930278),\n",
       " (225, 0.14929959),\n",
       " (1822, 0.14902289),\n",
       " (1683, 0.14897542),\n",
       " (1954, 0.14866813),\n",
       " (2157, 0.14856727),\n",
       " (1239, 0.14848931),\n",
       " (1931, 0.14821512),\n",
       " (2863, 0.14814515),\n",
       " (2765, 0.14814286),\n",
       " (1566, 0.14804271),\n",
       " (380, 0.14799829),\n",
       " (2814, 0.14741226),\n",
       " (2345, 0.14727953),\n",
       " (2014, 0.1469558),\n",
       " (2395, 0.14695226),\n",
       " (632, 0.14689787),\n",
       " (2418, 0.14669508),\n",
       " (1025, 0.14662841),\n",
       " (299, 0.14645825),\n",
       " (391, 0.14617272),\n",
       " (2119, 0.14602786),\n",
       " (2823, 0.14602494),\n",
       " (2369, 0.14600314),\n",
       " (33, 0.14553596),\n",
       " (2362, 0.14540946),\n",
       " (2723, 0.14539285),\n",
       " (2868, 0.14523771),\n",
       " (442, 0.14520119),\n",
       " (2367, 0.14515725),\n",
       " (2442, 0.14499873),\n",
       " (192, 0.14498694),\n",
       " (486, 0.14492129),\n",
       " (611, 0.14487875),\n",
       " (833, 0.1447162),\n",
       " (238, 0.14440128),\n",
       " ...]"
      ]
     },
     "execution_count": 344,
     "metadata": {},
     "output_type": "execute_result"
    }
   ],
   "source": [
    "similar"
   ]
  },
  {
   "cell_type": "code",
   "execution_count": null,
   "metadata": {},
   "outputs": [],
   "source": []
  },
  {
   "cell_type": "code",
   "execution_count": 345,
   "metadata": {},
   "outputs": [],
   "source": [
    "output = pd.DataFrame(similar, columns=['news_id', 'als_score'])"
   ]
  },
  {
   "cell_type": "code",
   "execution_count": 346,
   "metadata": {},
   "outputs": [
    {
     "data": {
      "text/html": [
       "<div>\n",
       "<style scoped>\n",
       "    .dataframe tbody tr th:only-of-type {\n",
       "        vertical-align: middle;\n",
       "    }\n",
       "\n",
       "    .dataframe tbody tr th {\n",
       "        vertical-align: top;\n",
       "    }\n",
       "\n",
       "    .dataframe thead th {\n",
       "        text-align: right;\n",
       "    }\n",
       "</style>\n",
       "<table border=\"1\" class=\"dataframe\">\n",
       "  <thead>\n",
       "    <tr style=\"text-align: right;\">\n",
       "      <th></th>\n",
       "      <th>news_id</th>\n",
       "      <th>als_score</th>\n",
       "    </tr>\n",
       "  </thead>\n",
       "  <tbody>\n",
       "    <tr>\n",
       "      <th>0</th>\n",
       "      <td>20</td>\n",
       "      <td>1.000000</td>\n",
       "    </tr>\n",
       "    <tr>\n",
       "      <th>1</th>\n",
       "      <td>1905</td>\n",
       "      <td>0.902507</td>\n",
       "    </tr>\n",
       "    <tr>\n",
       "      <th>2</th>\n",
       "      <td>1752</td>\n",
       "      <td>0.892761</td>\n",
       "    </tr>\n",
       "    <tr>\n",
       "      <th>3</th>\n",
       "      <td>620</td>\n",
       "      <td>0.802054</td>\n",
       "    </tr>\n",
       "    <tr>\n",
       "      <th>4</th>\n",
       "      <td>1424</td>\n",
       "      <td>0.781783</td>\n",
       "    </tr>\n",
       "  </tbody>\n",
       "</table>\n",
       "</div>"
      ],
      "text/plain": [
       "   news_id  als_score\n",
       "0       20   1.000000\n",
       "1     1905   0.902507\n",
       "2     1752   0.892761\n",
       "3      620   0.802054\n",
       "4     1424   0.781783"
      ]
     },
     "execution_count": 346,
     "metadata": {},
     "output_type": "execute_result"
    }
   ],
   "source": [
    "output.head()"
   ]
  },
  {
   "cell_type": "code",
   "execution_count": null,
   "metadata": {},
   "outputs": [],
   "source": []
  },
  {
   "cell_type": "code",
   "execution_count": null,
   "metadata": {},
   "outputs": [],
   "source": []
  },
  {
   "cell_type": "code",
   "execution_count": 347,
   "metadata": {},
   "outputs": [
    {
     "data": {
      "text/plain": [
       "(2987, 2)"
      ]
     },
     "execution_count": 347,
     "metadata": {},
     "output_type": "execute_result"
    }
   ],
   "source": [
    "output.shape"
   ]
  },
  {
   "cell_type": "code",
   "execution_count": 348,
   "metadata": {},
   "outputs": [
    {
     "data": {
      "text/html": [
       "<div>\n",
       "<style scoped>\n",
       "    .dataframe tbody tr th:only-of-type {\n",
       "        vertical-align: middle;\n",
       "    }\n",
       "\n",
       "    .dataframe tbody tr th {\n",
       "        vertical-align: top;\n",
       "    }\n",
       "\n",
       "    .dataframe thead th {\n",
       "        text-align: right;\n",
       "    }\n",
       "</style>\n",
       "<table border=\"1\" class=\"dataframe\">\n",
       "  <thead>\n",
       "    <tr style=\"text-align: right;\">\n",
       "      <th></th>\n",
       "      <th>item_id</th>\n",
       "      <th>news_id</th>\n",
       "    </tr>\n",
       "  </thead>\n",
       "  <tbody>\n",
       "    <tr>\n",
       "      <th>0</th>\n",
       "      <td>-3499919498720038879</td>\n",
       "      <td>933</td>\n",
       "    </tr>\n",
       "    <tr>\n",
       "      <th>1</th>\n",
       "      <td>8890720798209849691</td>\n",
       "      <td>2933</td>\n",
       "    </tr>\n",
       "    <tr>\n",
       "      <th>2</th>\n",
       "      <td>310515487419366995</td>\n",
       "      <td>1537</td>\n",
       "    </tr>\n",
       "    <tr>\n",
       "      <th>4</th>\n",
       "      <td>-7820640624231356730</td>\n",
       "      <td>246</td>\n",
       "    </tr>\n",
       "    <tr>\n",
       "      <th>6</th>\n",
       "      <td>-8864073373672512525</td>\n",
       "      <td>82</td>\n",
       "    </tr>\n",
       "  </tbody>\n",
       "</table>\n",
       "</div>"
      ],
      "text/plain": [
       "               item_id  news_id\n",
       "0 -3499919498720038879      933\n",
       "1  8890720798209849691     2933\n",
       "2   310515487419366995     1537\n",
       "4 -7820640624231356730      246\n",
       "6 -8864073373672512525       82"
      ]
     },
     "execution_count": 348,
     "metadata": {},
     "output_type": "execute_result"
    }
   ],
   "source": [
    "item_mapping_final.head()"
   ]
  },
  {
   "cell_type": "code",
   "execution_count": null,
   "metadata": {},
   "outputs": [],
   "source": []
  },
  {
   "cell_type": "code",
   "execution_count": 349,
   "metadata": {},
   "outputs": [],
   "source": [
    "als_output = pd.merge(output, item_mapping_final, on='news_id', how='left')"
   ]
  },
  {
   "cell_type": "code",
   "execution_count": 350,
   "metadata": {},
   "outputs": [
    {
     "data": {
      "text/html": [
       "<div>\n",
       "<style scoped>\n",
       "    .dataframe tbody tr th:only-of-type {\n",
       "        vertical-align: middle;\n",
       "    }\n",
       "\n",
       "    .dataframe tbody tr th {\n",
       "        vertical-align: top;\n",
       "    }\n",
       "\n",
       "    .dataframe thead th {\n",
       "        text-align: right;\n",
       "    }\n",
       "</style>\n",
       "<table border=\"1\" class=\"dataframe\">\n",
       "  <thead>\n",
       "    <tr style=\"text-align: right;\">\n",
       "      <th></th>\n",
       "      <th>news_id</th>\n",
       "      <th>als_score</th>\n",
       "      <th>item_id</th>\n",
       "    </tr>\n",
       "  </thead>\n",
       "  <tbody>\n",
       "    <tr>\n",
       "      <th>0</th>\n",
       "      <td>20</td>\n",
       "      <td>1.000000</td>\n",
       "      <td>-9107331682787867601</td>\n",
       "    </tr>\n",
       "    <tr>\n",
       "      <th>1</th>\n",
       "      <td>1905</td>\n",
       "      <td>0.902507</td>\n",
       "      <td>2668307045795933565</td>\n",
       "    </tr>\n",
       "    <tr>\n",
       "      <th>2</th>\n",
       "      <td>1752</td>\n",
       "      <td>0.892761</td>\n",
       "      <td>1665726676688122621</td>\n",
       "    </tr>\n",
       "    <tr>\n",
       "      <th>3</th>\n",
       "      <td>620</td>\n",
       "      <td>0.802054</td>\n",
       "      <td>-5522643017727334716</td>\n",
       "    </tr>\n",
       "    <tr>\n",
       "      <th>4</th>\n",
       "      <td>1424</td>\n",
       "      <td>0.781783</td>\n",
       "      <td>-340541651592032197</td>\n",
       "    </tr>\n",
       "  </tbody>\n",
       "</table>\n",
       "</div>"
      ],
      "text/plain": [
       "   news_id  als_score              item_id\n",
       "0       20   1.000000 -9107331682787867601\n",
       "1     1905   0.902507  2668307045795933565\n",
       "2     1752   0.892761  1665726676688122621\n",
       "3      620   0.802054 -5522643017727334716\n",
       "4     1424   0.781783  -340541651592032197"
      ]
     },
     "execution_count": 350,
     "metadata": {},
     "output_type": "execute_result"
    }
   ],
   "source": [
    "als_output.head()"
   ]
  },
  {
   "cell_type": "code",
   "execution_count": null,
   "metadata": {},
   "outputs": [],
   "source": []
  },
  {
   "cell_type": "code",
   "execution_count": 351,
   "metadata": {
    "scrolled": true
   },
   "outputs": [
    {
     "data": {
      "text/html": [
       "<div>\n",
       "<style scoped>\n",
       "    .dataframe tbody tr th:only-of-type {\n",
       "        vertical-align: middle;\n",
       "    }\n",
       "\n",
       "    .dataframe tbody tr th {\n",
       "        vertical-align: top;\n",
       "    }\n",
       "\n",
       "    .dataframe thead th {\n",
       "        text-align: right;\n",
       "    }\n",
       "</style>\n",
       "<table border=\"1\" class=\"dataframe\">\n",
       "  <thead>\n",
       "    <tr style=\"text-align: right;\">\n",
       "      <th></th>\n",
       "      <th>item_id</th>\n",
       "      <th>title</th>\n",
       "    </tr>\n",
       "  </thead>\n",
       "  <tbody>\n",
       "    <tr>\n",
       "      <th>0</th>\n",
       "      <td>-6451309518266745024</td>\n",
       "      <td>Ethereum, a Virtual Currency, Enables Transactions That Rival Bitcoin's</td>\n",
       "    </tr>\n",
       "    <tr>\n",
       "      <th>1</th>\n",
       "      <td>-4110354420726924665</td>\n",
       "      <td>Ethereum, a Virtual Currency, Enables Transactions That Rival Bitcoin's</td>\n",
       "    </tr>\n",
       "    <tr>\n",
       "      <th>2</th>\n",
       "      <td>-7292285110016212249</td>\n",
       "      <td>Bitcoin Future: When GBPcoin of Branson Wins Over USDcoin of Trump</td>\n",
       "    </tr>\n",
       "    <tr>\n",
       "      <th>3</th>\n",
       "      <td>-6151852268067518688</td>\n",
       "      <td>Google Data Center 360° Tour</td>\n",
       "    </tr>\n",
       "    <tr>\n",
       "      <th>4</th>\n",
       "      <td>2448026894306402386</td>\n",
       "      <td>IBM Wants to \"Evolve the Internet\" With Blockchain Technology</td>\n",
       "    </tr>\n",
       "  </tbody>\n",
       "</table>\n",
       "</div>"
      ],
      "text/plain": [
       "               item_id  \\\n",
       "0 -6451309518266745024   \n",
       "1 -4110354420726924665   \n",
       "2 -7292285110016212249   \n",
       "3 -6151852268067518688   \n",
       "4  2448026894306402386   \n",
       "\n",
       "                                                                     title  \n",
       "0  Ethereum, a Virtual Currency, Enables Transactions That Rival Bitcoin's  \n",
       "1  Ethereum, a Virtual Currency, Enables Transactions That Rival Bitcoin's  \n",
       "2       Bitcoin Future: When GBPcoin of Branson Wins Over USDcoin of Trump  \n",
       "3                                             Google Data Center 360° Tour  \n",
       "4            IBM Wants to \"Evolve the Internet\" With Blockchain Technology  "
      ]
     },
     "execution_count": 351,
     "metadata": {},
     "output_type": "execute_result"
    }
   ],
   "source": [
    "news_title.head()"
   ]
  },
  {
   "cell_type": "code",
   "execution_count": null,
   "metadata": {},
   "outputs": [],
   "source": []
  },
  {
   "cell_type": "code",
   "execution_count": 352,
   "metadata": {},
   "outputs": [],
   "source": [
    "als_output_title = pd.merge(als_output, news_title, on='item_id', how='left')"
   ]
  },
  {
   "cell_type": "code",
   "execution_count": 353,
   "metadata": {},
   "outputs": [
    {
     "data": {
      "text/html": [
       "<div>\n",
       "<style scoped>\n",
       "    .dataframe tbody tr th:only-of-type {\n",
       "        vertical-align: middle;\n",
       "    }\n",
       "\n",
       "    .dataframe tbody tr th {\n",
       "        vertical-align: top;\n",
       "    }\n",
       "\n",
       "    .dataframe thead th {\n",
       "        text-align: right;\n",
       "    }\n",
       "</style>\n",
       "<table border=\"1\" class=\"dataframe\">\n",
       "  <thead>\n",
       "    <tr style=\"text-align: right;\">\n",
       "      <th></th>\n",
       "      <th>news_id</th>\n",
       "      <th>als_score</th>\n",
       "      <th>item_id</th>\n",
       "      <th>title</th>\n",
       "    </tr>\n",
       "  </thead>\n",
       "  <tbody>\n",
       "    <tr>\n",
       "      <th>0</th>\n",
       "      <td>20</td>\n",
       "      <td>1.000000</td>\n",
       "      <td>-9107331682787867601</td>\n",
       "      <td>Hopper raises $16 million for a travel app that tells you the best time to fly</td>\n",
       "    </tr>\n",
       "    <tr>\n",
       "      <th>1</th>\n",
       "      <td>1905</td>\n",
       "      <td>0.902507</td>\n",
       "      <td>2668307045795933565</td>\n",
       "      <td>Blab shuts down, but founders promise new product on the way</td>\n",
       "    </tr>\n",
       "    <tr>\n",
       "      <th>2</th>\n",
       "      <td>1752</td>\n",
       "      <td>0.892761</td>\n",
       "      <td>1665726676688122621</td>\n",
       "      <td>Inatel lança seu Smart Campus, um laboratório vivo para demonstração de projetos na área de IoT - Startupi</td>\n",
       "    </tr>\n",
       "    <tr>\n",
       "      <th>3</th>\n",
       "      <td>620</td>\n",
       "      <td>0.802054</td>\n",
       "      <td>-5522643017727334716</td>\n",
       "      <td>Introducing the Startup Battlefield companies of Disrupt NY 2016</td>\n",
       "    </tr>\n",
       "    <tr>\n",
       "      <th>4</th>\n",
       "      <td>1424</td>\n",
       "      <td>0.781783</td>\n",
       "      <td>-340541651592032197</td>\n",
       "      <td>Relating a Problem Definition to IoT Architecture | Intel® Software</td>\n",
       "    </tr>\n",
       "  </tbody>\n",
       "</table>\n",
       "</div>"
      ],
      "text/plain": [
       "   news_id  als_score              item_id  \\\n",
       "0       20   1.000000 -9107331682787867601   \n",
       "1     1905   0.902507  2668307045795933565   \n",
       "2     1752   0.892761  1665726676688122621   \n",
       "3      620   0.802054 -5522643017727334716   \n",
       "4     1424   0.781783  -340541651592032197   \n",
       "\n",
       "                                                                                                        title  \n",
       "0                              Hopper raises $16 million for a travel app that tells you the best time to fly  \n",
       "1                                                Blab shuts down, but founders promise new product on the way  \n",
       "2  Inatel lança seu Smart Campus, um laboratório vivo para demonstração de projetos na área de IoT - Startupi  \n",
       "3                                            Introducing the Startup Battlefield companies of Disrupt NY 2016  \n",
       "4                                         Relating a Problem Definition to IoT Architecture | Intel® Software  "
      ]
     },
     "execution_count": 353,
     "metadata": {},
     "output_type": "execute_result"
    }
   ],
   "source": [
    "als_output_title.head()"
   ]
  },
  {
   "cell_type": "code",
   "execution_count": null,
   "metadata": {},
   "outputs": [],
   "source": []
  },
  {
   "cell_type": "code",
   "execution_count": 354,
   "metadata": {},
   "outputs": [
    {
     "data": {
      "text/html": [
       "<div>\n",
       "<style scoped>\n",
       "    .dataframe tbody tr th:only-of-type {\n",
       "        vertical-align: middle;\n",
       "    }\n",
       "\n",
       "    .dataframe tbody tr th {\n",
       "        vertical-align: top;\n",
       "    }\n",
       "\n",
       "    .dataframe thead th {\n",
       "        text-align: right;\n",
       "    }\n",
       "</style>\n",
       "<table border=\"1\" class=\"dataframe\">\n",
       "  <thead>\n",
       "    <tr style=\"text-align: right;\">\n",
       "      <th></th>\n",
       "      <th>news_id</th>\n",
       "      <th>als_score</th>\n",
       "      <th>item_id</th>\n",
       "      <th>title</th>\n",
       "    </tr>\n",
       "  </thead>\n",
       "  <tbody>\n",
       "    <tr>\n",
       "      <th>0</th>\n",
       "      <td>20</td>\n",
       "      <td>1.000000</td>\n",
       "      <td>-9107331682787867601</td>\n",
       "      <td>Hopper raises $16 million for a travel app that tells you the best time to fly</td>\n",
       "    </tr>\n",
       "    <tr>\n",
       "      <th>1</th>\n",
       "      <td>1905</td>\n",
       "      <td>0.902507</td>\n",
       "      <td>2668307045795933565</td>\n",
       "      <td>Blab shuts down, but founders promise new product on the way</td>\n",
       "    </tr>\n",
       "    <tr>\n",
       "      <th>2</th>\n",
       "      <td>1752</td>\n",
       "      <td>0.892761</td>\n",
       "      <td>1665726676688122621</td>\n",
       "      <td>Inatel lança seu Smart Campus, um laboratório vivo para demonstração de projetos na área de IoT - Startupi</td>\n",
       "    </tr>\n",
       "    <tr>\n",
       "      <th>3</th>\n",
       "      <td>620</td>\n",
       "      <td>0.802054</td>\n",
       "      <td>-5522643017727334716</td>\n",
       "      <td>Introducing the Startup Battlefield companies of Disrupt NY 2016</td>\n",
       "    </tr>\n",
       "    <tr>\n",
       "      <th>4</th>\n",
       "      <td>1424</td>\n",
       "      <td>0.781783</td>\n",
       "      <td>-340541651592032197</td>\n",
       "      <td>Relating a Problem Definition to IoT Architecture | Intel® Software</td>\n",
       "    </tr>\n",
       "    <tr>\n",
       "      <th>...</th>\n",
       "      <td>...</td>\n",
       "      <td>...</td>\n",
       "      <td>...</td>\n",
       "      <td>...</td>\n",
       "    </tr>\n",
       "    <tr>\n",
       "      <th>3044</th>\n",
       "      <td>2444</td>\n",
       "      <td>-0.249086</td>\n",
       "      <td>5937899505996968869</td>\n",
       "      <td>The web is Doom - mobiForge</td>\n",
       "    </tr>\n",
       "    <tr>\n",
       "      <th>3045</th>\n",
       "      <td>2575</td>\n",
       "      <td>-0.249547</td>\n",
       "      <td>6765368095966422513</td>\n",
       "      <td>What is Affective Computing And How Could Emotional Machines Change Our Lives?</td>\n",
       "    </tr>\n",
       "    <tr>\n",
       "      <th>3046</th>\n",
       "      <td>1098</td>\n",
       "      <td>-0.249952</td>\n",
       "      <td>-2355230755276061204</td>\n",
       "      <td>Lançado 1º E-commerce de Mão de Obra Operacional do Brasil</td>\n",
       "    </tr>\n",
       "    <tr>\n",
       "      <th>3047</th>\n",
       "      <td>2066</td>\n",
       "      <td>-0.252071</td>\n",
       "      <td>3611701510490148233</td>\n",
       "      <td>The Biggest Crowdfunding Project Ever Was Supposed to Create Manager-free Companies. But It's a Mess</td>\n",
       "    </tr>\n",
       "    <tr>\n",
       "      <th>3048</th>\n",
       "      <td>2455</td>\n",
       "      <td>-0.270580</td>\n",
       "      <td>6006800146436649545</td>\n",
       "      <td>​Kubernetes 1.4: One DevOps tool to rule all the containers | ZDNet</td>\n",
       "    </tr>\n",
       "  </tbody>\n",
       "</table>\n",
       "<p>3049 rows × 4 columns</p>\n",
       "</div>"
      ],
      "text/plain": [
       "      news_id  als_score              item_id  \\\n",
       "0          20   1.000000 -9107331682787867601   \n",
       "1        1905   0.902507  2668307045795933565   \n",
       "2        1752   0.892761  1665726676688122621   \n",
       "3         620   0.802054 -5522643017727334716   \n",
       "4        1424   0.781783  -340541651592032197   \n",
       "...       ...        ...                  ...   \n",
       "3044     2444  -0.249086  5937899505996968869   \n",
       "3045     2575  -0.249547  6765368095966422513   \n",
       "3046     1098  -0.249952 -2355230755276061204   \n",
       "3047     2066  -0.252071  3611701510490148233   \n",
       "3048     2455  -0.270580  6006800146436649545   \n",
       "\n",
       "                                                                                                           title  \n",
       "0                                 Hopper raises $16 million for a travel app that tells you the best time to fly  \n",
       "1                                                   Blab shuts down, but founders promise new product on the way  \n",
       "2     Inatel lança seu Smart Campus, um laboratório vivo para demonstração de projetos na área de IoT - Startupi  \n",
       "3                                               Introducing the Startup Battlefield companies of Disrupt NY 2016  \n",
       "4                                            Relating a Problem Definition to IoT Architecture | Intel® Software  \n",
       "...                                                                                                          ...  \n",
       "3044                                                                                 The web is Doom - mobiForge  \n",
       "3045                              What is Affective Computing And How Could Emotional Machines Change Our Lives?  \n",
       "3046                                                  Lançado 1º E-commerce de Mão de Obra Operacional do Brasil  \n",
       "3047        The Biggest Crowdfunding Project Ever Was Supposed to Create Manager-free Companies. But It's a Mess  \n",
       "3048                                         ​Kubernetes 1.4: One DevOps tool to rule all the containers | ZDNet  \n",
       "\n",
       "[3049 rows x 4 columns]"
      ]
     },
     "execution_count": 354,
     "metadata": {},
     "output_type": "execute_result"
    }
   ],
   "source": [
    "als_output_title"
   ]
  },
  {
   "cell_type": "code",
   "execution_count": null,
   "metadata": {},
   "outputs": [],
   "source": []
  },
  {
   "cell_type": "code",
   "execution_count": 355,
   "metadata": {},
   "outputs": [],
   "source": [
    "als_output_title['als_score_normalized'] = (als_output_title['als_score']-min(als_output_title['als_score'])) / (max(als_output_title['als_score']) - min(als_output_title['als_score']))"
   ]
  },
  {
   "cell_type": "code",
   "execution_count": 356,
   "metadata": {},
   "outputs": [
    {
     "data": {
      "text/html": [
       "<div>\n",
       "<style scoped>\n",
       "    .dataframe tbody tr th:only-of-type {\n",
       "        vertical-align: middle;\n",
       "    }\n",
       "\n",
       "    .dataframe tbody tr th {\n",
       "        vertical-align: top;\n",
       "    }\n",
       "\n",
       "    .dataframe thead th {\n",
       "        text-align: right;\n",
       "    }\n",
       "</style>\n",
       "<table border=\"1\" class=\"dataframe\">\n",
       "  <thead>\n",
       "    <tr style=\"text-align: right;\">\n",
       "      <th></th>\n",
       "      <th>news_id</th>\n",
       "      <th>als_score</th>\n",
       "      <th>item_id</th>\n",
       "      <th>title</th>\n",
       "      <th>als_score_normalized</th>\n",
       "    </tr>\n",
       "  </thead>\n",
       "  <tbody>\n",
       "    <tr>\n",
       "      <th>0</th>\n",
       "      <td>20</td>\n",
       "      <td>1.000000</td>\n",
       "      <td>-9107331682787867601</td>\n",
       "      <td>Hopper raises $16 million for a travel app that tells you the best time to fly</td>\n",
       "      <td>1.000000</td>\n",
       "    </tr>\n",
       "    <tr>\n",
       "      <th>1</th>\n",
       "      <td>1905</td>\n",
       "      <td>0.902507</td>\n",
       "      <td>2668307045795933565</td>\n",
       "      <td>Blab shuts down, but founders promise new product on the way</td>\n",
       "      <td>0.923269</td>\n",
       "    </tr>\n",
       "    <tr>\n",
       "      <th>2</th>\n",
       "      <td>1752</td>\n",
       "      <td>0.892761</td>\n",
       "      <td>1665726676688122621</td>\n",
       "      <td>Inatel lança seu Smart Campus, um laboratório vivo para demonstração de projetos na área de IoT - Startupi</td>\n",
       "      <td>0.915598</td>\n",
       "    </tr>\n",
       "    <tr>\n",
       "      <th>3</th>\n",
       "      <td>620</td>\n",
       "      <td>0.802054</td>\n",
       "      <td>-5522643017727334716</td>\n",
       "      <td>Introducing the Startup Battlefield companies of Disrupt NY 2016</td>\n",
       "      <td>0.844208</td>\n",
       "    </tr>\n",
       "    <tr>\n",
       "      <th>4</th>\n",
       "      <td>1424</td>\n",
       "      <td>0.781783</td>\n",
       "      <td>-340541651592032197</td>\n",
       "      <td>Relating a Problem Definition to IoT Architecture | Intel® Software</td>\n",
       "      <td>0.828254</td>\n",
       "    </tr>\n",
       "    <tr>\n",
       "      <th>...</th>\n",
       "      <td>...</td>\n",
       "      <td>...</td>\n",
       "      <td>...</td>\n",
       "      <td>...</td>\n",
       "      <td>...</td>\n",
       "    </tr>\n",
       "    <tr>\n",
       "      <th>3044</th>\n",
       "      <td>2444</td>\n",
       "      <td>-0.249086</td>\n",
       "      <td>5937899505996968869</td>\n",
       "      <td>The web is Doom - mobiForge</td>\n",
       "      <td>0.016917</td>\n",
       "    </tr>\n",
       "    <tr>\n",
       "      <th>3045</th>\n",
       "      <td>2575</td>\n",
       "      <td>-0.249547</td>\n",
       "      <td>6765368095966422513</td>\n",
       "      <td>What is Affective Computing And How Could Emotional Machines Change Our Lives?</td>\n",
       "      <td>0.016554</td>\n",
       "    </tr>\n",
       "    <tr>\n",
       "      <th>3046</th>\n",
       "      <td>1098</td>\n",
       "      <td>-0.249952</td>\n",
       "      <td>-2355230755276061204</td>\n",
       "      <td>Lançado 1º E-commerce de Mão de Obra Operacional do Brasil</td>\n",
       "      <td>0.016235</td>\n",
       "    </tr>\n",
       "    <tr>\n",
       "      <th>3047</th>\n",
       "      <td>2066</td>\n",
       "      <td>-0.252071</td>\n",
       "      <td>3611701510490148233</td>\n",
       "      <td>The Biggest Crowdfunding Project Ever Was Supposed to Create Manager-free Companies. But It's a Mess</td>\n",
       "      <td>0.014567</td>\n",
       "    </tr>\n",
       "    <tr>\n",
       "      <th>3048</th>\n",
       "      <td>2455</td>\n",
       "      <td>-0.270580</td>\n",
       "      <td>6006800146436649545</td>\n",
       "      <td>​Kubernetes 1.4: One DevOps tool to rule all the containers | ZDNet</td>\n",
       "      <td>0.000000</td>\n",
       "    </tr>\n",
       "  </tbody>\n",
       "</table>\n",
       "<p>3049 rows × 5 columns</p>\n",
       "</div>"
      ],
      "text/plain": [
       "      news_id  als_score              item_id  \\\n",
       "0          20   1.000000 -9107331682787867601   \n",
       "1        1905   0.902507  2668307045795933565   \n",
       "2        1752   0.892761  1665726676688122621   \n",
       "3         620   0.802054 -5522643017727334716   \n",
       "4        1424   0.781783  -340541651592032197   \n",
       "...       ...        ...                  ...   \n",
       "3044     2444  -0.249086  5937899505996968869   \n",
       "3045     2575  -0.249547  6765368095966422513   \n",
       "3046     1098  -0.249952 -2355230755276061204   \n",
       "3047     2066  -0.252071  3611701510490148233   \n",
       "3048     2455  -0.270580  6006800146436649545   \n",
       "\n",
       "                                                                                                           title  \\\n",
       "0                                 Hopper raises $16 million for a travel app that tells you the best time to fly   \n",
       "1                                                   Blab shuts down, but founders promise new product on the way   \n",
       "2     Inatel lança seu Smart Campus, um laboratório vivo para demonstração de projetos na área de IoT - Startupi   \n",
       "3                                               Introducing the Startup Battlefield companies of Disrupt NY 2016   \n",
       "4                                            Relating a Problem Definition to IoT Architecture | Intel® Software   \n",
       "...                                                                                                          ...   \n",
       "3044                                                                                 The web is Doom - mobiForge   \n",
       "3045                              What is Affective Computing And How Could Emotional Machines Change Our Lives?   \n",
       "3046                                                  Lançado 1º E-commerce de Mão de Obra Operacional do Brasil   \n",
       "3047        The Biggest Crowdfunding Project Ever Was Supposed to Create Manager-free Companies. But It's a Mess   \n",
       "3048                                         ​Kubernetes 1.4: One DevOps tool to rule all the containers | ZDNet   \n",
       "\n",
       "      als_score_normalized  \n",
       "0                 1.000000  \n",
       "1                 0.923269  \n",
       "2                 0.915598  \n",
       "3                 0.844208  \n",
       "4                 0.828254  \n",
       "...                    ...  \n",
       "3044              0.016917  \n",
       "3045              0.016554  \n",
       "3046              0.016235  \n",
       "3047              0.014567  \n",
       "3048              0.000000  \n",
       "\n",
       "[3049 rows x 5 columns]"
      ]
     },
     "execution_count": 356,
     "metadata": {},
     "output_type": "execute_result"
    }
   ],
   "source": [
    "als_output_title"
   ]
  },
  {
   "cell_type": "code",
   "execution_count": null,
   "metadata": {},
   "outputs": [],
   "source": []
  },
  {
   "cell_type": "code",
   "execution_count": null,
   "metadata": {},
   "outputs": [],
   "source": []
  },
  {
   "cell_type": "markdown",
   "metadata": {},
   "source": [
    "# Hybrid: [ALS + Item Based Collaborative Filtering]"
   ]
  },
  {
   "cell_type": "code",
   "execution_count": 357,
   "metadata": {},
   "outputs": [],
   "source": [
    "hybrid_als = pd.merge(collab_output, als_output_title, how='left', on='title')"
   ]
  },
  {
   "cell_type": "code",
   "execution_count": null,
   "metadata": {},
   "outputs": [],
   "source": []
  },
  {
   "cell_type": "code",
   "execution_count": 358,
   "metadata": {},
   "outputs": [
    {
     "data": {
      "text/html": [
       "<div>\n",
       "<style scoped>\n",
       "    .dataframe tbody tr th:only-of-type {\n",
       "        vertical-align: middle;\n",
       "    }\n",
       "\n",
       "    .dataframe tbody tr th {\n",
       "        vertical-align: top;\n",
       "    }\n",
       "\n",
       "    .dataframe thead th {\n",
       "        text-align: right;\n",
       "    }\n",
       "</style>\n",
       "<table border=\"1\" class=\"dataframe\">\n",
       "  <thead>\n",
       "    <tr style=\"text-align: right;\">\n",
       "      <th></th>\n",
       "      <th>news_id_x</th>\n",
       "      <th>item_id_x</th>\n",
       "      <th>title</th>\n",
       "      <th>score</th>\n",
       "      <th>collaborative_score_normalized</th>\n",
       "      <th>news_id_y</th>\n",
       "      <th>als_score</th>\n",
       "      <th>item_id_y</th>\n",
       "      <th>als_score_normalized</th>\n",
       "    </tr>\n",
       "  </thead>\n",
       "  <tbody>\n",
       "    <tr>\n",
       "      <th>0</th>\n",
       "      <td>20</td>\n",
       "      <td>-9107331682787867601</td>\n",
       "      <td>Hopper raises $16 million for a travel app that tells you the best time to fly</td>\n",
       "      <td>1.000000</td>\n",
       "      <td>1.000000</td>\n",
       "      <td>20</td>\n",
       "      <td>1.000000</td>\n",
       "      <td>-9107331682787867601</td>\n",
       "      <td>1.000000</td>\n",
       "    </tr>\n",
       "    <tr>\n",
       "      <th>1</th>\n",
       "      <td>2892</td>\n",
       "      <td>8659918766210334195</td>\n",
       "      <td>5 Latin Trends for 2017 | TrendWatching</td>\n",
       "      <td>0.520117</td>\n",
       "      <td>0.520117</td>\n",
       "      <td>2892</td>\n",
       "      <td>0.488761</td>\n",
       "      <td>8659918766210334195</td>\n",
       "      <td>0.597633</td>\n",
       "    </tr>\n",
       "    <tr>\n",
       "      <th>2</th>\n",
       "      <td>955</td>\n",
       "      <td>-3351990231604537690</td>\n",
       "      <td>Carrinho de criança carrega seu smartphone usando geradores instalados nas rodas</td>\n",
       "      <td>0.518050</td>\n",
       "      <td>0.518050</td>\n",
       "      <td>955</td>\n",
       "      <td>0.000000</td>\n",
       "      <td>-3351990231604537690</td>\n",
       "      <td>0.212958</td>\n",
       "    </tr>\n",
       "    <tr>\n",
       "      <th>3</th>\n",
       "      <td>1028</td>\n",
       "      <td>-2860224288374811338</td>\n",
       "      <td>How I Passed the AWS Solutions Architect Professional Exam</td>\n",
       "      <td>0.508072</td>\n",
       "      <td>0.508072</td>\n",
       "      <td>1028</td>\n",
       "      <td>0.102753</td>\n",
       "      <td>-2860224288374811338</td>\n",
       "      <td>0.293829</td>\n",
       "    </tr>\n",
       "    <tr>\n",
       "      <th>4</th>\n",
       "      <td>2501</td>\n",
       "      <td>6237714845306489877</td>\n",
       "      <td>How CEOs Can Keep Their Analytics Programs from Being a Waste of Time</td>\n",
       "      <td>0.500000</td>\n",
       "      <td>0.500000</td>\n",
       "      <td>2501</td>\n",
       "      <td>-0.148019</td>\n",
       "      <td>6237714845306489877</td>\n",
       "      <td>0.096461</td>\n",
       "    </tr>\n",
       "  </tbody>\n",
       "</table>\n",
       "</div>"
      ],
      "text/plain": [
       "   news_id_x            item_id_x  \\\n",
       "0         20 -9107331682787867601   \n",
       "1       2892  8659918766210334195   \n",
       "2        955 -3351990231604537690   \n",
       "3       1028 -2860224288374811338   \n",
       "4       2501  6237714845306489877   \n",
       "\n",
       "                                                                              title  \\\n",
       "0    Hopper raises $16 million for a travel app that tells you the best time to fly   \n",
       "1                                           5 Latin Trends for 2017 | TrendWatching   \n",
       "2  Carrinho de criança carrega seu smartphone usando geradores instalados nas rodas   \n",
       "3                        How I Passed the AWS Solutions Architect Professional Exam   \n",
       "4             How CEOs Can Keep Their Analytics Programs from Being a Waste of Time   \n",
       "\n",
       "      score  collaborative_score_normalized  news_id_y  als_score  \\\n",
       "0  1.000000                        1.000000         20   1.000000   \n",
       "1  0.520117                        0.520117       2892   0.488761   \n",
       "2  0.518050                        0.518050        955   0.000000   \n",
       "3  0.508072                        0.508072       1028   0.102753   \n",
       "4  0.500000                        0.500000       2501  -0.148019   \n",
       "\n",
       "             item_id_y  als_score_normalized  \n",
       "0 -9107331682787867601              1.000000  \n",
       "1  8659918766210334195              0.597633  \n",
       "2 -3351990231604537690              0.212958  \n",
       "3 -2860224288374811338              0.293829  \n",
       "4  6237714845306489877              0.096461  "
      ]
     },
     "execution_count": 358,
     "metadata": {},
     "output_type": "execute_result"
    }
   ],
   "source": [
    "hybrid_als.head()"
   ]
  },
  {
   "cell_type": "code",
   "execution_count": 359,
   "metadata": {},
   "outputs": [
    {
     "data": {
      "text/plain": [
       "(3387, 9)"
      ]
     },
     "execution_count": 359,
     "metadata": {},
     "output_type": "execute_result"
    }
   ],
   "source": [
    "hybrid_als.shape"
   ]
  },
  {
   "cell_type": "code",
   "execution_count": null,
   "metadata": {},
   "outputs": [],
   "source": []
  },
  {
   "cell_type": "code",
   "execution_count": 360,
   "metadata": {},
   "outputs": [],
   "source": [
    "hybrid_als['final_score'] = (hybrid_als['collaborative_score_normalized'] + hybrid_als['als_score_normalized'])/2"
   ]
  },
  {
   "cell_type": "code",
   "execution_count": 361,
   "metadata": {},
   "outputs": [
    {
     "data": {
      "text/html": [
       "<div>\n",
       "<style scoped>\n",
       "    .dataframe tbody tr th:only-of-type {\n",
       "        vertical-align: middle;\n",
       "    }\n",
       "\n",
       "    .dataframe tbody tr th {\n",
       "        vertical-align: top;\n",
       "    }\n",
       "\n",
       "    .dataframe thead th {\n",
       "        text-align: right;\n",
       "    }\n",
       "</style>\n",
       "<table border=\"1\" class=\"dataframe\">\n",
       "  <thead>\n",
       "    <tr style=\"text-align: right;\">\n",
       "      <th></th>\n",
       "      <th>news_id_x</th>\n",
       "      <th>item_id_x</th>\n",
       "      <th>title</th>\n",
       "      <th>score</th>\n",
       "      <th>collaborative_score_normalized</th>\n",
       "      <th>news_id_y</th>\n",
       "      <th>als_score</th>\n",
       "      <th>item_id_y</th>\n",
       "      <th>als_score_normalized</th>\n",
       "      <th>final_score</th>\n",
       "    </tr>\n",
       "  </thead>\n",
       "  <tbody>\n",
       "    <tr>\n",
       "      <th>0</th>\n",
       "      <td>20</td>\n",
       "      <td>-9107331682787867601</td>\n",
       "      <td>Hopper raises $16 million for a travel app that tells you the best time to fly</td>\n",
       "      <td>1.000000</td>\n",
       "      <td>1.000000</td>\n",
       "      <td>20</td>\n",
       "      <td>1.000000</td>\n",
       "      <td>-9107331682787867601</td>\n",
       "      <td>1.000000</td>\n",
       "      <td>1.000000</td>\n",
       "    </tr>\n",
       "    <tr>\n",
       "      <th>1</th>\n",
       "      <td>2892</td>\n",
       "      <td>8659918766210334195</td>\n",
       "      <td>5 Latin Trends for 2017 | TrendWatching</td>\n",
       "      <td>0.520117</td>\n",
       "      <td>0.520117</td>\n",
       "      <td>2892</td>\n",
       "      <td>0.488761</td>\n",
       "      <td>8659918766210334195</td>\n",
       "      <td>0.597633</td>\n",
       "      <td>0.558875</td>\n",
       "    </tr>\n",
       "    <tr>\n",
       "      <th>2</th>\n",
       "      <td>955</td>\n",
       "      <td>-3351990231604537690</td>\n",
       "      <td>Carrinho de criança carrega seu smartphone usando geradores instalados nas rodas</td>\n",
       "      <td>0.518050</td>\n",
       "      <td>0.518050</td>\n",
       "      <td>955</td>\n",
       "      <td>0.000000</td>\n",
       "      <td>-3351990231604537690</td>\n",
       "      <td>0.212958</td>\n",
       "      <td>0.365504</td>\n",
       "    </tr>\n",
       "    <tr>\n",
       "      <th>3</th>\n",
       "      <td>1028</td>\n",
       "      <td>-2860224288374811338</td>\n",
       "      <td>How I Passed the AWS Solutions Architect Professional Exam</td>\n",
       "      <td>0.508072</td>\n",
       "      <td>0.508072</td>\n",
       "      <td>1028</td>\n",
       "      <td>0.102753</td>\n",
       "      <td>-2860224288374811338</td>\n",
       "      <td>0.293829</td>\n",
       "      <td>0.400950</td>\n",
       "    </tr>\n",
       "    <tr>\n",
       "      <th>4</th>\n",
       "      <td>2501</td>\n",
       "      <td>6237714845306489877</td>\n",
       "      <td>How CEOs Can Keep Their Analytics Programs from Being a Waste of Time</td>\n",
       "      <td>0.500000</td>\n",
       "      <td>0.500000</td>\n",
       "      <td>2501</td>\n",
       "      <td>-0.148019</td>\n",
       "      <td>6237714845306489877</td>\n",
       "      <td>0.096461</td>\n",
       "      <td>0.298230</td>\n",
       "    </tr>\n",
       "  </tbody>\n",
       "</table>\n",
       "</div>"
      ],
      "text/plain": [
       "   news_id_x            item_id_x  \\\n",
       "0         20 -9107331682787867601   \n",
       "1       2892  8659918766210334195   \n",
       "2        955 -3351990231604537690   \n",
       "3       1028 -2860224288374811338   \n",
       "4       2501  6237714845306489877   \n",
       "\n",
       "                                                                              title  \\\n",
       "0    Hopper raises $16 million for a travel app that tells you the best time to fly   \n",
       "1                                           5 Latin Trends for 2017 | TrendWatching   \n",
       "2  Carrinho de criança carrega seu smartphone usando geradores instalados nas rodas   \n",
       "3                        How I Passed the AWS Solutions Architect Professional Exam   \n",
       "4             How CEOs Can Keep Their Analytics Programs from Being a Waste of Time   \n",
       "\n",
       "      score  collaborative_score_normalized  news_id_y  als_score  \\\n",
       "0  1.000000                        1.000000         20   1.000000   \n",
       "1  0.520117                        0.520117       2892   0.488761   \n",
       "2  0.518050                        0.518050        955   0.000000   \n",
       "3  0.508072                        0.508072       1028   0.102753   \n",
       "4  0.500000                        0.500000       2501  -0.148019   \n",
       "\n",
       "             item_id_y  als_score_normalized  final_score  \n",
       "0 -9107331682787867601              1.000000     1.000000  \n",
       "1  8659918766210334195              0.597633     0.558875  \n",
       "2 -3351990231604537690              0.212958     0.365504  \n",
       "3 -2860224288374811338              0.293829     0.400950  \n",
       "4  6237714845306489877              0.096461     0.298230  "
      ]
     },
     "execution_count": 361,
     "metadata": {},
     "output_type": "execute_result"
    }
   ],
   "source": [
    "hybrid_als.head()"
   ]
  },
  {
   "cell_type": "code",
   "execution_count": null,
   "metadata": {},
   "outputs": [],
   "source": []
  },
  {
   "cell_type": "code",
   "execution_count": 363,
   "metadata": {},
   "outputs": [],
   "source": [
    "hybrid_als = hybrid_als[['title','final_score']]"
   ]
  },
  {
   "cell_type": "code",
   "execution_count": 364,
   "metadata": {},
   "outputs": [
    {
     "data": {
      "text/html": [
       "<div>\n",
       "<style scoped>\n",
       "    .dataframe tbody tr th:only-of-type {\n",
       "        vertical-align: middle;\n",
       "    }\n",
       "\n",
       "    .dataframe tbody tr th {\n",
       "        vertical-align: top;\n",
       "    }\n",
       "\n",
       "    .dataframe thead th {\n",
       "        text-align: right;\n",
       "    }\n",
       "</style>\n",
       "<table border=\"1\" class=\"dataframe\">\n",
       "  <thead>\n",
       "    <tr style=\"text-align: right;\">\n",
       "      <th></th>\n",
       "      <th>title</th>\n",
       "      <th>final_score</th>\n",
       "    </tr>\n",
       "  </thead>\n",
       "  <tbody>\n",
       "    <tr>\n",
       "      <th>0</th>\n",
       "      <td>Hopper raises $16 million for a travel app that tells you the best time to fly</td>\n",
       "      <td>1.000000</td>\n",
       "    </tr>\n",
       "    <tr>\n",
       "      <th>1</th>\n",
       "      <td>5 Latin Trends for 2017 | TrendWatching</td>\n",
       "      <td>0.558875</td>\n",
       "    </tr>\n",
       "    <tr>\n",
       "      <th>2</th>\n",
       "      <td>Carrinho de criança carrega seu smartphone usando geradores instalados nas rodas</td>\n",
       "      <td>0.365504</td>\n",
       "    </tr>\n",
       "    <tr>\n",
       "      <th>3</th>\n",
       "      <td>How I Passed the AWS Solutions Architect Professional Exam</td>\n",
       "      <td>0.400950</td>\n",
       "    </tr>\n",
       "    <tr>\n",
       "      <th>4</th>\n",
       "      <td>How CEOs Can Keep Their Analytics Programs from Being a Waste of Time</td>\n",
       "      <td>0.298230</td>\n",
       "    </tr>\n",
       "  </tbody>\n",
       "</table>\n",
       "</div>"
      ],
      "text/plain": [
       "                                                                              title  \\\n",
       "0    Hopper raises $16 million for a travel app that tells you the best time to fly   \n",
       "1                                           5 Latin Trends for 2017 | TrendWatching   \n",
       "2  Carrinho de criança carrega seu smartphone usando geradores instalados nas rodas   \n",
       "3                        How I Passed the AWS Solutions Architect Professional Exam   \n",
       "4             How CEOs Can Keep Their Analytics Programs from Being a Waste of Time   \n",
       "\n",
       "   final_score  \n",
       "0     1.000000  \n",
       "1     0.558875  \n",
       "2     0.365504  \n",
       "3     0.400950  \n",
       "4     0.298230  "
      ]
     },
     "execution_count": 364,
     "metadata": {},
     "output_type": "execute_result"
    }
   ],
   "source": [
    "hybrid_als.head()"
   ]
  },
  {
   "cell_type": "code",
   "execution_count": null,
   "metadata": {},
   "outputs": [],
   "source": []
  },
  {
   "cell_type": "code",
   "execution_count": 365,
   "metadata": {},
   "outputs": [
    {
     "data": {
      "text/html": [
       "<div>\n",
       "<style scoped>\n",
       "    .dataframe tbody tr th:only-of-type {\n",
       "        vertical-align: middle;\n",
       "    }\n",
       "\n",
       "    .dataframe tbody tr th {\n",
       "        vertical-align: top;\n",
       "    }\n",
       "\n",
       "    .dataframe thead th {\n",
       "        text-align: right;\n",
       "    }\n",
       "</style>\n",
       "<table border=\"1\" class=\"dataframe\">\n",
       "  <thead>\n",
       "    <tr style=\"text-align: right;\">\n",
       "      <th></th>\n",
       "      <th>title</th>\n",
       "      <th>final_score</th>\n",
       "    </tr>\n",
       "  </thead>\n",
       "  <tbody>\n",
       "    <tr>\n",
       "      <th>0</th>\n",
       "      <td>Hopper raises $16 million for a travel app that tells you the best time to fly</td>\n",
       "      <td>1.000000</td>\n",
       "    </tr>\n",
       "    <tr>\n",
       "      <th>7</th>\n",
       "      <td>Ebay's mobile Craigslist competitor Close5 has quietly grown to 7 million downloads</td>\n",
       "      <td>0.603494</td>\n",
       "    </tr>\n",
       "    <tr>\n",
       "      <th>114</th>\n",
       "      <td>Blab shuts down, but founders promise new product on the way</td>\n",
       "      <td>0.586634</td>\n",
       "    </tr>\n",
       "    <tr>\n",
       "      <th>28</th>\n",
       "      <td>Siga o líder</td>\n",
       "      <td>0.559060</td>\n",
       "    </tr>\n",
       "    <tr>\n",
       "      <th>1</th>\n",
       "      <td>5 Latin Trends for 2017 | TrendWatching</td>\n",
       "      <td>0.558875</td>\n",
       "    </tr>\n",
       "    <tr>\n",
       "      <th>19</th>\n",
       "      <td>Google isn't abandoning Hangouts for its new chat apps</td>\n",
       "      <td>0.551211</td>\n",
       "    </tr>\n",
       "    <tr>\n",
       "      <th>71</th>\n",
       "      <td>Platforms are the real powerhouses in Silicon Valley's business landscape</td>\n",
       "      <td>0.542357</td>\n",
       "    </tr>\n",
       "    <tr>\n",
       "      <th>38</th>\n",
       "      <td>Why Steve Jobs Was Proud to Steal Ideas</td>\n",
       "      <td>0.535598</td>\n",
       "    </tr>\n",
       "    <tr>\n",
       "      <th>142</th>\n",
       "      <td>Relating a Problem Definition to IoT Architecture | Intel® Software</td>\n",
       "      <td>0.516189</td>\n",
       "    </tr>\n",
       "    <tr>\n",
       "      <th>25</th>\n",
       "      <td>O que é benchmarking? Veja quando um concorrente se torna inspiração!</td>\n",
       "      <td>0.504880</td>\n",
       "    </tr>\n",
       "  </tbody>\n",
       "</table>\n",
       "</div>"
      ],
      "text/plain": [
       "                                                                                   title  \\\n",
       "0         Hopper raises $16 million for a travel app that tells you the best time to fly   \n",
       "7    Ebay's mobile Craigslist competitor Close5 has quietly grown to 7 million downloads   \n",
       "114                         Blab shuts down, but founders promise new product on the way   \n",
       "28                                                                          Siga o líder   \n",
       "1                                                5 Latin Trends for 2017 | TrendWatching   \n",
       "19                                Google isn't abandoning Hangouts for its new chat apps   \n",
       "71             Platforms are the real powerhouses in Silicon Valley's business landscape   \n",
       "38                                               Why Steve Jobs Was Proud to Steal Ideas   \n",
       "142                  Relating a Problem Definition to IoT Architecture | Intel® Software   \n",
       "25                 O que é benchmarking? Veja quando um concorrente se torna inspiração!   \n",
       "\n",
       "     final_score  \n",
       "0       1.000000  \n",
       "7       0.603494  \n",
       "114     0.586634  \n",
       "28      0.559060  \n",
       "1       0.558875  \n",
       "19      0.551211  \n",
       "71      0.542357  \n",
       "38      0.535598  \n",
       "142     0.516189  \n",
       "25      0.504880  "
      ]
     },
     "execution_count": 365,
     "metadata": {},
     "output_type": "execute_result"
    }
   ],
   "source": [
    "hybrid_als.sort_values(by='final_score', ascending=False)[:10]"
   ]
  },
  {
   "cell_type": "code",
   "execution_count": null,
   "metadata": {},
   "outputs": [],
   "source": []
  },
  {
   "cell_type": "code",
   "execution_count": null,
   "metadata": {},
   "outputs": [],
   "source": []
  },
  {
   "cell_type": "code",
   "execution_count": null,
   "metadata": {},
   "outputs": [],
   "source": []
  },
  {
   "cell_type": "code",
   "execution_count": null,
   "metadata": {},
   "outputs": [],
   "source": []
  },
  {
   "cell_type": "code",
   "execution_count": null,
   "metadata": {},
   "outputs": [],
   "source": []
  },
  {
   "cell_type": "code",
   "execution_count": null,
   "metadata": {},
   "outputs": [],
   "source": []
  },
  {
   "cell_type": "code",
   "execution_count": null,
   "metadata": {},
   "outputs": [],
   "source": []
  }
 ],
 "metadata": {
  "kernelspec": {
   "display_name": "Python 3",
   "language": "python",
   "name": "python3"
  },
  "language_info": {
   "codemirror_mode": {
    "name": "ipython",
    "version": 3
   },
   "file_extension": ".py",
   "mimetype": "text/x-python",
   "name": "python",
   "nbconvert_exporter": "python",
   "pygments_lexer": "ipython3",
   "version": "3.8.5"
  }
 },
 "nbformat": 4,
 "nbformat_minor": 4
}
